{
 "cells": [
  {
   "cell_type": "markdown",
   "metadata": {
    "tags": []
   },
   "source": [
    "<a href=\"datacamp.com/workspacecompetition\" target=\"_blank\">![banner](banner.png)</a>\n",
    "\n",
    "# Loan Data\n",
    "\n",
    "Ready to put your coding skills to the test? Join us for our Workspace Competition.  \n",
    "For more information, visit [datacamp.com/workspacecompetition](https://datacamp.com/workspacecompetition) "
   ]
  },
  {
   "cell_type": "markdown",
   "metadata": {},
   "source": [
    "## Context\n",
    "This dataset ([source](https://www.kaggle.com/itssuru/loan-data)) consists of data from almost 10,000 borrowers that took loans - with some paid back and others still in progress. It was extracted from lendingclub.com which is an organization that connects borrowers with investors. We've included a few suggested questions at the end of this template to help you get started."
   ]
  },
  {
   "cell_type": "code",
   "execution_count": 1,
   "metadata": {},
   "outputs": [],
   "source": [
    "# Load packages\n",
    "import numpy as np \n",
    "import pandas as pd "
   ]
  },
  {
   "cell_type": "markdown",
   "metadata": {},
   "source": [
    "## Load your data"
   ]
  },
  {
   "cell_type": "code",
   "execution_count": 2,
   "metadata": {},
   "outputs": [
    {
     "name": "stdout",
     "output_type": "stream",
     "text": [
      "Number of rows/records: 9578\n",
      "Number of columns/variables: 14\n"
     ]
    },
    {
     "data": {
      "text/html": [
       "<div>\n",
       "<style scoped>\n",
       "    .dataframe tbody tr th:only-of-type {\n",
       "        vertical-align: middle;\n",
       "    }\n",
       "\n",
       "    .dataframe tbody tr th {\n",
       "        vertical-align: top;\n",
       "    }\n",
       "\n",
       "    .dataframe thead th {\n",
       "        text-align: right;\n",
       "    }\n",
       "</style>\n",
       "<table border=\"1\" class=\"dataframe\">\n",
       "  <thead>\n",
       "    <tr style=\"text-align: right;\">\n",
       "      <th></th>\n",
       "      <th>credit_policy</th>\n",
       "      <th>purpose</th>\n",
       "      <th>int_rate</th>\n",
       "      <th>installment</th>\n",
       "      <th>log_annual_inc</th>\n",
       "      <th>dti</th>\n",
       "      <th>fico</th>\n",
       "      <th>days_with_cr_line</th>\n",
       "      <th>revol_bal</th>\n",
       "      <th>revol_util</th>\n",
       "      <th>inq_last_6mths</th>\n",
       "      <th>delinq_2yrs</th>\n",
       "      <th>pub_rec</th>\n",
       "      <th>not_fully_paid</th>\n",
       "    </tr>\n",
       "  </thead>\n",
       "  <tbody>\n",
       "    <tr>\n",
       "      <th>0</th>\n",
       "      <td>1</td>\n",
       "      <td>debt_consolidation</td>\n",
       "      <td>0.1189</td>\n",
       "      <td>829.10</td>\n",
       "      <td>11.350407</td>\n",
       "      <td>19.48</td>\n",
       "      <td>737</td>\n",
       "      <td>5639.958333</td>\n",
       "      <td>28854</td>\n",
       "      <td>52.1</td>\n",
       "      <td>0</td>\n",
       "      <td>0</td>\n",
       "      <td>0</td>\n",
       "      <td>0</td>\n",
       "    </tr>\n",
       "    <tr>\n",
       "      <th>1</th>\n",
       "      <td>1</td>\n",
       "      <td>credit_card</td>\n",
       "      <td>0.1071</td>\n",
       "      <td>228.22</td>\n",
       "      <td>11.082143</td>\n",
       "      <td>14.29</td>\n",
       "      <td>707</td>\n",
       "      <td>2760.000000</td>\n",
       "      <td>33623</td>\n",
       "      <td>76.7</td>\n",
       "      <td>0</td>\n",
       "      <td>0</td>\n",
       "      <td>0</td>\n",
       "      <td>0</td>\n",
       "    </tr>\n",
       "    <tr>\n",
       "      <th>2</th>\n",
       "      <td>1</td>\n",
       "      <td>debt_consolidation</td>\n",
       "      <td>0.1357</td>\n",
       "      <td>366.86</td>\n",
       "      <td>10.373491</td>\n",
       "      <td>11.63</td>\n",
       "      <td>682</td>\n",
       "      <td>4710.000000</td>\n",
       "      <td>3511</td>\n",
       "      <td>25.6</td>\n",
       "      <td>1</td>\n",
       "      <td>0</td>\n",
       "      <td>0</td>\n",
       "      <td>0</td>\n",
       "    </tr>\n",
       "    <tr>\n",
       "      <th>3</th>\n",
       "      <td>1</td>\n",
       "      <td>debt_consolidation</td>\n",
       "      <td>0.1008</td>\n",
       "      <td>162.34</td>\n",
       "      <td>11.350407</td>\n",
       "      <td>8.10</td>\n",
       "      <td>712</td>\n",
       "      <td>2699.958333</td>\n",
       "      <td>33667</td>\n",
       "      <td>73.2</td>\n",
       "      <td>1</td>\n",
       "      <td>0</td>\n",
       "      <td>0</td>\n",
       "      <td>0</td>\n",
       "    </tr>\n",
       "    <tr>\n",
       "      <th>4</th>\n",
       "      <td>1</td>\n",
       "      <td>credit_card</td>\n",
       "      <td>0.1426</td>\n",
       "      <td>102.92</td>\n",
       "      <td>11.299732</td>\n",
       "      <td>14.97</td>\n",
       "      <td>667</td>\n",
       "      <td>4066.000000</td>\n",
       "      <td>4740</td>\n",
       "      <td>39.5</td>\n",
       "      <td>0</td>\n",
       "      <td>1</td>\n",
       "      <td>0</td>\n",
       "      <td>0</td>\n",
       "    </tr>\n",
       "  </tbody>\n",
       "</table>\n",
       "</div>"
      ],
      "text/plain": [
       "   credit_policy             purpose  int_rate  installment  log_annual_inc  \\\n",
       "0              1  debt_consolidation    0.1189       829.10       11.350407   \n",
       "1              1         credit_card    0.1071       228.22       11.082143   \n",
       "2              1  debt_consolidation    0.1357       366.86       10.373491   \n",
       "3              1  debt_consolidation    0.1008       162.34       11.350407   \n",
       "4              1         credit_card    0.1426       102.92       11.299732   \n",
       "\n",
       "     dti  fico  days_with_cr_line  revol_bal  revol_util  inq_last_6mths  \\\n",
       "0  19.48   737        5639.958333      28854        52.1               0   \n",
       "1  14.29   707        2760.000000      33623        76.7               0   \n",
       "2  11.63   682        4710.000000       3511        25.6               1   \n",
       "3   8.10   712        2699.958333      33667        73.2               1   \n",
       "4  14.97   667        4066.000000       4740        39.5               0   \n",
       "\n",
       "   delinq_2yrs  pub_rec  not_fully_paid  \n",
       "0            0        0               0  \n",
       "1            0        0               0  \n",
       "2            0        0               0  \n",
       "3            0        0               0  \n",
       "4            1        0               0  "
      ]
     },
     "execution_count": 2,
     "metadata": {},
     "output_type": "execute_result"
    }
   ],
   "source": [
    "# Load data from the csv file\n",
    "df = pd.read_csv('loan_data1.csv', index_col=None)\n",
    "\n",
    "# Change the dots in the column names to underscores\n",
    "df.columns = [c.replace(\".\", \"_\") for c in df.columns]\n",
    "print(f\"Number of rows/records: {df.shape[0]}\")\n",
    "print(f\"Number of columns/variables: {df.shape[1]}\")\n",
    "df.head()"
   ]
  },
  {
   "cell_type": "code",
   "execution_count": 3,
   "metadata": {},
   "outputs": [
    {
     "data": {
      "text/html": [
       "<div>\n",
       "<style scoped>\n",
       "    .dataframe tbody tr th:only-of-type {\n",
       "        vertical-align: middle;\n",
       "    }\n",
       "\n",
       "    .dataframe tbody tr th {\n",
       "        vertical-align: top;\n",
       "    }\n",
       "\n",
       "    .dataframe thead th {\n",
       "        text-align: right;\n",
       "    }\n",
       "</style>\n",
       "<table border=\"1\" class=\"dataframe\">\n",
       "  <thead>\n",
       "    <tr style=\"text-align: right;\">\n",
       "      <th></th>\n",
       "      <th>Variable</th>\n",
       "      <th>Number of unique values</th>\n",
       "      <th>Values</th>\n",
       "    </tr>\n",
       "  </thead>\n",
       "  <tbody>\n",
       "    <tr>\n",
       "      <th>0</th>\n",
       "      <td>credit_policy</td>\n",
       "      <td>2</td>\n",
       "      <td>[1, 0]</td>\n",
       "    </tr>\n",
       "    <tr>\n",
       "      <th>1</th>\n",
       "      <td>purpose</td>\n",
       "      <td>7</td>\n",
       "      <td>[debt_consolidation, credit_card, all_other, h...</td>\n",
       "    </tr>\n",
       "    <tr>\n",
       "      <th>2</th>\n",
       "      <td>int_rate</td>\n",
       "      <td>249</td>\n",
       "      <td>[0.1189, 0.1071, 0.1357, 0.1008, 0.1426, 0.078...</td>\n",
       "    </tr>\n",
       "    <tr>\n",
       "      <th>3</th>\n",
       "      <td>installment</td>\n",
       "      <td>4788</td>\n",
       "      <td>[829.1, 228.22, 366.86, 162.34, 102.92, 125.13...</td>\n",
       "    </tr>\n",
       "    <tr>\n",
       "      <th>4</th>\n",
       "      <td>log_annual_inc</td>\n",
       "      <td>1987</td>\n",
       "      <td>[11.35040654, 11.08214255, 10.37349118, 11.299...</td>\n",
       "    </tr>\n",
       "  </tbody>\n",
       "</table>\n",
       "</div>"
      ],
      "text/plain": [
       "         Variable Number of unique values  \\\n",
       "0   credit_policy                       2   \n",
       "1         purpose                       7   \n",
       "2        int_rate                     249   \n",
       "3     installment                    4788   \n",
       "4  log_annual_inc                    1987   \n",
       "\n",
       "                                              Values  \n",
       "0                                             [1, 0]  \n",
       "1  [debt_consolidation, credit_card, all_other, h...  \n",
       "2  [0.1189, 0.1071, 0.1357, 0.1008, 0.1426, 0.078...  \n",
       "3  [829.1, 228.22, 366.86, 162.34, 102.92, 125.13...  \n",
       "4  [11.35040654, 11.08214255, 10.37349118, 11.299...  "
      ]
     },
     "execution_count": 3,
     "metadata": {},
     "output_type": "execute_result"
    }
   ],
   "source": [
    "variables = pd.DataFrame(columns=['Variable','Number of unique values','Values'])\n",
    "for i, var in enumerate(df.columns):\n",
    "    variables.loc[i] = [var, df[var].nunique(), df[var].unique().tolist()]\n",
    "variables.head()"
   ]
  },
  {
   "cell_type": "code",
   "execution_count": 4,
   "metadata": {},
   "outputs": [
    {
     "data": {
      "text/html": [
       "<div>\n",
       "<style scoped>\n",
       "    .dataframe tbody tr th:only-of-type {\n",
       "        vertical-align: middle;\n",
       "    }\n",
       "\n",
       "    .dataframe tbody tr th {\n",
       "        vertical-align: top;\n",
       "    }\n",
       "\n",
       "    .dataframe thead th {\n",
       "        text-align: right;\n",
       "    }\n",
       "</style>\n",
       "<table border=\"1\" class=\"dataframe\">\n",
       "  <thead>\n",
       "    <tr style=\"text-align: right;\">\n",
       "      <th></th>\n",
       "      <th>Explanation</th>\n",
       "    </tr>\n",
       "    <tr>\n",
       "      <th>Variable</th>\n",
       "      <th></th>\n",
       "    </tr>\n",
       "  </thead>\n",
       "  <tbody>\n",
       "    <tr>\n",
       "      <th>credit_policy</th>\n",
       "      <td>1 if the customer meets the credit underwriting criteria; 0 otherwise.</td>\n",
       "    </tr>\n",
       "    <tr>\n",
       "      <th>purpose</th>\n",
       "      <td>The purpose of the loan.</td>\n",
       "    </tr>\n",
       "    <tr>\n",
       "      <th>int_rate</th>\n",
       "      <td>The interest rate of the loan (more risky borrowers are assigned higher interest rates).</td>\n",
       "    </tr>\n",
       "    <tr>\n",
       "      <th>installment</th>\n",
       "      <td>The monthly installments owed by the borrower if the loan is funded.</td>\n",
       "    </tr>\n",
       "    <tr>\n",
       "      <th>log_annual_inc</th>\n",
       "      <td>The natural log of the self-reported annual income of the borrower.</td>\n",
       "    </tr>\n",
       "    <tr>\n",
       "      <th>dti</th>\n",
       "      <td>The debt-to-income ratio of the borrower (amount of debt divided by annual income).</td>\n",
       "    </tr>\n",
       "    <tr>\n",
       "      <th>fico</th>\n",
       "      <td>The FICO credit score of the borrower.</td>\n",
       "    </tr>\n",
       "    <tr>\n",
       "      <th>days_with_cr_line</th>\n",
       "      <td>The number of days the borrower has had a credit line.</td>\n",
       "    </tr>\n",
       "    <tr>\n",
       "      <th>revol_bal</th>\n",
       "      <td>The borrower's revolving balance (amount unpaid at the end of the credit card billing cycle).</td>\n",
       "    </tr>\n",
       "    <tr>\n",
       "      <th>revol_util</th>\n",
       "      <td>The borrower's revolving line utilization rate (the amount of the credit line used relative to total credit available).</td>\n",
       "    </tr>\n",
       "    <tr>\n",
       "      <th>inq_last_6mths</th>\n",
       "      <td>The borrower's number of inquiries by creditors in the last 6 months.</td>\n",
       "    </tr>\n",
       "    <tr>\n",
       "      <th>delinq_2yrs</th>\n",
       "      <td>The number of times the borrower had been 30+ days past due on a payment in the past 2 years.</td>\n",
       "    </tr>\n",
       "    <tr>\n",
       "      <th>pub_rec</th>\n",
       "      <td>The borrower's number of derogatory public records.</td>\n",
       "    </tr>\n",
       "    <tr>\n",
       "      <th>not_fully_paid</th>\n",
       "      <td>1 if the loan is not fully paid; 0 otherwise.</td>\n",
       "    </tr>\n",
       "  </tbody>\n",
       "</table>\n",
       "</div>"
      ],
      "text/plain": [
       "                                                                                                                               Explanation\n",
       "Variable                                                                                                                                  \n",
       "credit_policy                                                       1 if the customer meets the credit underwriting criteria; 0 otherwise.\n",
       "purpose                                                                                                           The purpose of the loan.\n",
       "int_rate                                          The interest rate of the loan (more risky borrowers are assigned higher interest rates).\n",
       "installment                                                           The monthly installments owed by the borrower if the loan is funded.\n",
       "log_annual_inc                                                         The natural log of the self-reported annual income of the borrower.\n",
       "dti                                                    The debt-to-income ratio of the borrower (amount of debt divided by annual income).\n",
       "fico                                                                                                The FICO credit score of the borrower.\n",
       "days_with_cr_line                                                                   The number of days the borrower has had a credit line.\n",
       "revol_bal                                    The borrower's revolving balance (amount unpaid at the end of the credit card billing cycle).\n",
       "revol_util         The borrower's revolving line utilization rate (the amount of the credit line used relative to total credit available).\n",
       "inq_last_6mths                                                       The borrower's number of inquiries by creditors in the last 6 months.\n",
       "delinq_2yrs                                  The number of times the borrower had been 30+ days past due on a payment in the past 2 years.\n",
       "pub_rec                                                                                The borrower's number of derogatory public records.\n",
       "not_fully_paid                                                                               1 if the loan is not fully paid; 0 otherwise."
      ]
     },
     "metadata": {},
     "output_type": "display_data"
    }
   ],
   "source": [
    "from pandas import option_context\n",
    "var_dict = pd.read_csv('variable_explanation.csv', index_col=0)\n",
    "\n",
    "with option_context('display.max_colwidth', 400):\n",
    "    display(var_dict)"
   ]
  },
  {
   "cell_type": "markdown",
   "metadata": {},
   "source": [
    "## Understand your variables"
   ]
  },
  {
   "cell_type": "code",
   "execution_count": 3,
   "metadata": {},
   "outputs": [
    {
     "data": {
      "text/html": [
       "<div>\n",
       "<style scoped>\n",
       "    .dataframe tbody tr th:only-of-type {\n",
       "        vertical-align: middle;\n",
       "    }\n",
       "\n",
       "    .dataframe tbody tr th {\n",
       "        vertical-align: top;\n",
       "    }\n",
       "\n",
       "    .dataframe thead th {\n",
       "        text-align: right;\n",
       "    }\n",
       "</style>\n",
       "<table border=\"1\" class=\"dataframe\">\n",
       "  <thead>\n",
       "    <tr style=\"text-align: right;\">\n",
       "      <th></th>\n",
       "      <th>Number of unique values</th>\n",
       "      <th>Number of nulls</th>\n",
       "      <th>Values</th>\n",
       "      <th>Explanation</th>\n",
       "    </tr>\n",
       "    <tr>\n",
       "      <th>Variable</th>\n",
       "      <th></th>\n",
       "      <th></th>\n",
       "      <th></th>\n",
       "      <th></th>\n",
       "    </tr>\n",
       "  </thead>\n",
       "  <tbody>\n",
       "    <tr>\n",
       "      <th>credit_policy</th>\n",
       "      <td>2</td>\n",
       "      <td>0</td>\n",
       "      <td>[1, 0]</td>\n",
       "      <td>1 if the customer meets the credit underwritin...</td>\n",
       "    </tr>\n",
       "    <tr>\n",
       "      <th>purpose</th>\n",
       "      <td>7</td>\n",
       "      <td>0</td>\n",
       "      <td>[debt_consolidation, credit_card, all_other, h...</td>\n",
       "      <td>The purpose of the loan.</td>\n",
       "    </tr>\n",
       "    <tr>\n",
       "      <th>int_rate</th>\n",
       "      <td>249</td>\n",
       "      <td>0</td>\n",
       "      <td>[0.1189, 0.1071, 0.1357, 0.1008, 0.1426, 0.078...</td>\n",
       "      <td>The interest rate of the loan (more risky borr...</td>\n",
       "    </tr>\n",
       "    <tr>\n",
       "      <th>installment</th>\n",
       "      <td>4788</td>\n",
       "      <td>0</td>\n",
       "      <td>[829.1, 228.22, 366.86, 162.34, 102.92, 125.13...</td>\n",
       "      <td>The monthly installments owed by the borrower ...</td>\n",
       "    </tr>\n",
       "    <tr>\n",
       "      <th>log_annual_inc</th>\n",
       "      <td>1987</td>\n",
       "      <td>0</td>\n",
       "      <td>[11.35040654, 11.08214255, 10.37349118, 11.299...</td>\n",
       "      <td>The natural log of the self-reported annual in...</td>\n",
       "    </tr>\n",
       "    <tr>\n",
       "      <th>dti</th>\n",
       "      <td>2529</td>\n",
       "      <td>0</td>\n",
       "      <td>[19.48, 14.29, 11.63, 8.1, 14.97, 16.98, 4.0, ...</td>\n",
       "      <td>The debt-to-income ratio of the borrower (amou...</td>\n",
       "    </tr>\n",
       "    <tr>\n",
       "      <th>fico</th>\n",
       "      <td>44</td>\n",
       "      <td>0</td>\n",
       "      <td>[737, 707, 682, 712, 667, 727, 722, 677, 662, ...</td>\n",
       "      <td>The FICO credit score of the borrower.</td>\n",
       "    </tr>\n",
       "    <tr>\n",
       "      <th>days_with_cr_line</th>\n",
       "      <td>2687</td>\n",
       "      <td>0</td>\n",
       "      <td>[5639.958333, 2760.0, 4710.0, 2699.958333, 406...</td>\n",
       "      <td>The number of days the borrower has had a cred...</td>\n",
       "    </tr>\n",
       "    <tr>\n",
       "      <th>revol_bal</th>\n",
       "      <td>7869</td>\n",
       "      <td>0</td>\n",
       "      <td>[28854, 33623, 3511, 33667, 4740, 50807, 3839,...</td>\n",
       "      <td>The borrower's revolving balance (amount unpai...</td>\n",
       "    </tr>\n",
       "    <tr>\n",
       "      <th>revol_util</th>\n",
       "      <td>1035</td>\n",
       "      <td>0</td>\n",
       "      <td>[52.1, 76.7, 25.6, 73.2, 39.5, 51.0, 76.8, 68....</td>\n",
       "      <td>The borrower's revolving line utilization rate...</td>\n",
       "    </tr>\n",
       "    <tr>\n",
       "      <th>inq_last_6mths</th>\n",
       "      <td>28</td>\n",
       "      <td>0</td>\n",
       "      <td>[0, 1, 2, 3, 4, 5, 6, 8, 7, 33, 9, 18, 14, 15,...</td>\n",
       "      <td>The borrower's number of inquiries by creditor...</td>\n",
       "    </tr>\n",
       "    <tr>\n",
       "      <th>delinq_2yrs</th>\n",
       "      <td>11</td>\n",
       "      <td>0</td>\n",
       "      <td>[0, 1, 2, 4, 3, 5, 6, 13, 7, 8, 11]</td>\n",
       "      <td>The number of times the borrower had been 30+ ...</td>\n",
       "    </tr>\n",
       "    <tr>\n",
       "      <th>pub_rec</th>\n",
       "      <td>6</td>\n",
       "      <td>0</td>\n",
       "      <td>[0, 1, 2, 3, 4, 5]</td>\n",
       "      <td>The borrower's number of derogatory public rec...</td>\n",
       "    </tr>\n",
       "    <tr>\n",
       "      <th>not_fully_paid</th>\n",
       "      <td>2</td>\n",
       "      <td>0</td>\n",
       "      <td>[0, 1]</td>\n",
       "      <td>1 if the loan is not fully paid; 0 otherwise.</td>\n",
       "    </tr>\n",
       "  </tbody>\n",
       "</table>\n",
       "</div>"
      ],
      "text/plain": [
       "                  Number of unique values Number of nulls  \\\n",
       "Variable                                                    \n",
       "credit_policy                           2               0   \n",
       "purpose                                 7               0   \n",
       "int_rate                              249               0   \n",
       "installment                          4788               0   \n",
       "log_annual_inc                       1987               0   \n",
       "dti                                  2529               0   \n",
       "fico                                   44               0   \n",
       "days_with_cr_line                    2687               0   \n",
       "revol_bal                            7869               0   \n",
       "revol_util                           1035               0   \n",
       "inq_last_6mths                         28               0   \n",
       "delinq_2yrs                            11               0   \n",
       "pub_rec                                 6               0   \n",
       "not_fully_paid                          2               0   \n",
       "\n",
       "                                                              Values  \\\n",
       "Variable                                                               \n",
       "credit_policy                                                 [1, 0]   \n",
       "purpose            [debt_consolidation, credit_card, all_other, h...   \n",
       "int_rate           [0.1189, 0.1071, 0.1357, 0.1008, 0.1426, 0.078...   \n",
       "installment        [829.1, 228.22, 366.86, 162.34, 102.92, 125.13...   \n",
       "log_annual_inc     [11.35040654, 11.08214255, 10.37349118, 11.299...   \n",
       "dti                [19.48, 14.29, 11.63, 8.1, 14.97, 16.98, 4.0, ...   \n",
       "fico               [737, 707, 682, 712, 667, 727, 722, 677, 662, ...   \n",
       "days_with_cr_line  [5639.958333, 2760.0, 4710.0, 2699.958333, 406...   \n",
       "revol_bal          [28854, 33623, 3511, 33667, 4740, 50807, 3839,...   \n",
       "revol_util         [52.1, 76.7, 25.6, 73.2, 39.5, 51.0, 76.8, 68....   \n",
       "inq_last_6mths     [0, 1, 2, 3, 4, 5, 6, 8, 7, 33, 9, 18, 14, 15,...   \n",
       "delinq_2yrs                      [0, 1, 2, 4, 3, 5, 6, 13, 7, 8, 11]   \n",
       "pub_rec                                           [0, 1, 2, 3, 4, 5]   \n",
       "not_fully_paid                                                [0, 1]   \n",
       "\n",
       "                                                         Explanation  \n",
       "Variable                                                              \n",
       "credit_policy      1 if the customer meets the credit underwritin...  \n",
       "purpose                                     The purpose of the loan.  \n",
       "int_rate           The interest rate of the loan (more risky borr...  \n",
       "installment        The monthly installments owed by the borrower ...  \n",
       "log_annual_inc     The natural log of the self-reported annual in...  \n",
       "dti                The debt-to-income ratio of the borrower (amou...  \n",
       "fico                          The FICO credit score of the borrower.  \n",
       "days_with_cr_line  The number of days the borrower has had a cred...  \n",
       "revol_bal          The borrower's revolving balance (amount unpai...  \n",
       "revol_util         The borrower's revolving line utilization rate...  \n",
       "inq_last_6mths     The borrower's number of inquiries by creditor...  \n",
       "delinq_2yrs        The number of times the borrower had been 30+ ...  \n",
       "pub_rec            The borrower's number of derogatory public rec...  \n",
       "not_fully_paid         1 if the loan is not fully paid; 0 otherwise.  "
      ]
     },
     "execution_count": 3,
     "metadata": {},
     "output_type": "execute_result"
    }
   ],
   "source": [
    "# Understand your variables\n",
    "variables = pd.DataFrame(columns=['Variable','Number of unique values','Number of nulls','Values'])\n",
    "\n",
    "for i, var in enumerate(df.columns):\n",
    "    variables.loc[i] = [var, df[var].nunique(),df[var].isnull().sum(), df[var].unique().tolist()]\n",
    "    \n",
    "# Join with the variables dataframe\n",
    "var_dict = pd.read_csv('variable_explanation.csv', index_col=0)\n",
    "variables.set_index('Variable').join(var_dict)"
   ]
  },
  {
   "cell_type": "code",
   "execution_count": 9,
   "metadata": {},
   "outputs": [
    {
     "data": {
      "text/plain": [
       "Index(['credit_policy', 'purpose', 'int_rate', 'installment', 'log_annual_inc',\n",
       "       'dti', 'fico', 'days_with_cr_line', 'revol_bal', 'revol_util',\n",
       "       'inq_last_6mths', 'delinq_2yrs', 'pub_rec', 'not_fully_paid'],\n",
       "      dtype='object')"
      ]
     },
     "execution_count": 9,
     "metadata": {},
     "output_type": "execute_result"
    }
   ],
   "source": [
    "df.columns"
   ]
  },
  {
   "cell_type": "markdown",
   "metadata": {},
   "source": [
    "Now you can start to explore this dataset with the chance to win incredible prices! Can't think of where to start? Try your hand at these suggestions:\n",
    "\n",
    "- Extract useful insights and visualize them in the most interesting way possible.\n",
    "- Find out how long it takes for users to pay back their loan.\n",
    "- Build a model that can predict the probability a user will be able to pay back their loan within a certain period.\n",
    "- Find out what kind of people take a loan for what purposes."
   ]
  },
  {
   "cell_type": "markdown",
   "metadata": {},
   "source": [
    "# My solution will consist of the following:\n",
    "###      1. Initial data exploration and pre-processiong\n",
    "###      2. EDA: Visualising data\n",
    "###      3. Feature selection\n",
    "###      5. Correlation and PCA Analysis\n",
    "###      6. Modelling the loan payoff\n",
    "###      7. Predicting the loan payoff\n"
   ]
  },
  {
   "cell_type": "markdown",
   "metadata": {},
   "source": [
    "# 1. Initial data exploration"
   ]
  },
  {
   "cell_type": "code",
   "execution_count": 59,
   "metadata": {},
   "outputs": [
    {
     "data": {
      "text/html": [
       "<div>\n",
       "<style scoped>\n",
       "    .dataframe tbody tr th:only-of-type {\n",
       "        vertical-align: middle;\n",
       "    }\n",
       "\n",
       "    .dataframe tbody tr th {\n",
       "        vertical-align: top;\n",
       "    }\n",
       "\n",
       "    .dataframe thead th {\n",
       "        text-align: right;\n",
       "    }\n",
       "</style>\n",
       "<table border=\"1\" class=\"dataframe\">\n",
       "  <thead>\n",
       "    <tr style=\"text-align: right;\">\n",
       "      <th></th>\n",
       "      <th>credit_policy</th>\n",
       "      <th>purpose</th>\n",
       "      <th>int_rate</th>\n",
       "      <th>installment</th>\n",
       "      <th>log_annual_inc</th>\n",
       "      <th>dti</th>\n",
       "      <th>fico</th>\n",
       "      <th>days_with_cr_line</th>\n",
       "      <th>revol_bal</th>\n",
       "      <th>revol_util</th>\n",
       "      <th>inq_last_6mths</th>\n",
       "      <th>delinq_2yrs</th>\n",
       "      <th>pub_rec</th>\n",
       "      <th>not_fully_paid</th>\n",
       "    </tr>\n",
       "  </thead>\n",
       "  <tbody>\n",
       "    <tr>\n",
       "      <th>0</th>\n",
       "      <td>1</td>\n",
       "      <td>debt_consolidation</td>\n",
       "      <td>0.1189</td>\n",
       "      <td>829.10</td>\n",
       "      <td>11.350407</td>\n",
       "      <td>19.48</td>\n",
       "      <td>737</td>\n",
       "      <td>5639.958333</td>\n",
       "      <td>28854</td>\n",
       "      <td>52.1</td>\n",
       "      <td>0</td>\n",
       "      <td>0</td>\n",
       "      <td>0</td>\n",
       "      <td>0</td>\n",
       "    </tr>\n",
       "    <tr>\n",
       "      <th>1</th>\n",
       "      <td>1</td>\n",
       "      <td>credit_card</td>\n",
       "      <td>0.1071</td>\n",
       "      <td>228.22</td>\n",
       "      <td>11.082143</td>\n",
       "      <td>14.29</td>\n",
       "      <td>707</td>\n",
       "      <td>2760.000000</td>\n",
       "      <td>33623</td>\n",
       "      <td>76.7</td>\n",
       "      <td>0</td>\n",
       "      <td>0</td>\n",
       "      <td>0</td>\n",
       "      <td>0</td>\n",
       "    </tr>\n",
       "    <tr>\n",
       "      <th>2</th>\n",
       "      <td>1</td>\n",
       "      <td>debt_consolidation</td>\n",
       "      <td>0.1357</td>\n",
       "      <td>366.86</td>\n",
       "      <td>10.373491</td>\n",
       "      <td>11.63</td>\n",
       "      <td>682</td>\n",
       "      <td>4710.000000</td>\n",
       "      <td>3511</td>\n",
       "      <td>25.6</td>\n",
       "      <td>1</td>\n",
       "      <td>0</td>\n",
       "      <td>0</td>\n",
       "      <td>0</td>\n",
       "    </tr>\n",
       "    <tr>\n",
       "      <th>3</th>\n",
       "      <td>1</td>\n",
       "      <td>debt_consolidation</td>\n",
       "      <td>0.1008</td>\n",
       "      <td>162.34</td>\n",
       "      <td>11.350407</td>\n",
       "      <td>8.10</td>\n",
       "      <td>712</td>\n",
       "      <td>2699.958333</td>\n",
       "      <td>33667</td>\n",
       "      <td>73.2</td>\n",
       "      <td>1</td>\n",
       "      <td>0</td>\n",
       "      <td>0</td>\n",
       "      <td>0</td>\n",
       "    </tr>\n",
       "    <tr>\n",
       "      <th>4</th>\n",
       "      <td>1</td>\n",
       "      <td>credit_card</td>\n",
       "      <td>0.1426</td>\n",
       "      <td>102.92</td>\n",
       "      <td>11.299732</td>\n",
       "      <td>14.97</td>\n",
       "      <td>667</td>\n",
       "      <td>4066.000000</td>\n",
       "      <td>4740</td>\n",
       "      <td>39.5</td>\n",
       "      <td>0</td>\n",
       "      <td>1</td>\n",
       "      <td>0</td>\n",
       "      <td>0</td>\n",
       "    </tr>\n",
       "  </tbody>\n",
       "</table>\n",
       "</div>"
      ],
      "text/plain": [
       "   credit_policy             purpose  int_rate  installment  log_annual_inc  \\\n",
       "0              1  debt_consolidation    0.1189       829.10       11.350407   \n",
       "1              1         credit_card    0.1071       228.22       11.082143   \n",
       "2              1  debt_consolidation    0.1357       366.86       10.373491   \n",
       "3              1  debt_consolidation    0.1008       162.34       11.350407   \n",
       "4              1         credit_card    0.1426       102.92       11.299732   \n",
       "\n",
       "     dti  fico  days_with_cr_line  revol_bal  revol_util  inq_last_6mths  \\\n",
       "0  19.48   737        5639.958333      28854        52.1               0   \n",
       "1  14.29   707        2760.000000      33623        76.7               0   \n",
       "2  11.63   682        4710.000000       3511        25.6               1   \n",
       "3   8.10   712        2699.958333      33667        73.2               1   \n",
       "4  14.97   667        4066.000000       4740        39.5               0   \n",
       "\n",
       "   delinq_2yrs  pub_rec  not_fully_paid  \n",
       "0            0        0               0  \n",
       "1            0        0               0  \n",
       "2            0        0               0  \n",
       "3            0        0               0  \n",
       "4            1        0               0  "
      ]
     },
     "execution_count": 59,
     "metadata": {},
     "output_type": "execute_result"
    }
   ],
   "source": [
    "df.head()"
   ]
  },
  {
   "cell_type": "code",
   "execution_count": 60,
   "metadata": {},
   "outputs": [
    {
     "name": "stdout",
     "output_type": "stream",
     "text": [
      "<class 'pandas.core.frame.DataFrame'>\n",
      "RangeIndex: 9578 entries, 0 to 9577\n",
      "Data columns (total 14 columns):\n",
      " #   Column             Non-Null Count  Dtype  \n",
      "---  ------             --------------  -----  \n",
      " 0   credit_policy      9578 non-null   int64  \n",
      " 1   purpose            9578 non-null   object \n",
      " 2   int_rate           9578 non-null   float64\n",
      " 3   installment        9578 non-null   float64\n",
      " 4   log_annual_inc     9578 non-null   float64\n",
      " 5   dti                9578 non-null   float64\n",
      " 6   fico               9578 non-null   int64  \n",
      " 7   days_with_cr_line  9578 non-null   float64\n",
      " 8   revol_bal          9578 non-null   int64  \n",
      " 9   revol_util         9578 non-null   float64\n",
      " 10  inq_last_6mths     9578 non-null   int64  \n",
      " 11  delinq_2yrs        9578 non-null   int64  \n",
      " 12  pub_rec            9578 non-null   int64  \n",
      " 13  not_fully_paid     9578 non-null   int64  \n",
      "dtypes: float64(6), int64(7), object(1)\n",
      "memory usage: 1.0+ MB\n"
     ]
    }
   ],
   "source": [
    "df.info()"
   ]
  },
  {
   "cell_type": "code",
   "execution_count": 3,
   "metadata": {},
   "outputs": [],
   "source": [
    "df.days_with_cr_line = df.days_with_cr_line.astype(int).round() # rounding up days"
   ]
  },
  {
   "cell_type": "code",
   "execution_count": 4,
   "metadata": {},
   "outputs": [
    {
     "data": {
      "text/html": [
       "<div>\n",
       "<style scoped>\n",
       "    .dataframe tbody tr th:only-of-type {\n",
       "        vertical-align: middle;\n",
       "    }\n",
       "\n",
       "    .dataframe tbody tr th {\n",
       "        vertical-align: top;\n",
       "    }\n",
       "\n",
       "    .dataframe thead th {\n",
       "        text-align: right;\n",
       "    }\n",
       "</style>\n",
       "<table border=\"1\" class=\"dataframe\">\n",
       "  <thead>\n",
       "    <tr style=\"text-align: right;\">\n",
       "      <th></th>\n",
       "      <th>credit_policy</th>\n",
       "      <th>purpose</th>\n",
       "      <th>int_rate</th>\n",
       "      <th>installment</th>\n",
       "      <th>log_annual_inc</th>\n",
       "      <th>dti</th>\n",
       "      <th>fico</th>\n",
       "      <th>days_with_cr_line</th>\n",
       "      <th>revol_bal</th>\n",
       "      <th>revol_util</th>\n",
       "      <th>inq_last_6mths</th>\n",
       "      <th>delinq_2yrs</th>\n",
       "      <th>pub_rec</th>\n",
       "      <th>fully_paid</th>\n",
       "    </tr>\n",
       "  </thead>\n",
       "  <tbody>\n",
       "    <tr>\n",
       "      <th>0</th>\n",
       "      <td>1</td>\n",
       "      <td>debt_consolidation</td>\n",
       "      <td>0.1189</td>\n",
       "      <td>829.10</td>\n",
       "      <td>11.350407</td>\n",
       "      <td>19.48</td>\n",
       "      <td>737</td>\n",
       "      <td>5639</td>\n",
       "      <td>28854</td>\n",
       "      <td>52.1</td>\n",
       "      <td>0</td>\n",
       "      <td>0</td>\n",
       "      <td>0</td>\n",
       "      <td>1</td>\n",
       "    </tr>\n",
       "    <tr>\n",
       "      <th>1</th>\n",
       "      <td>1</td>\n",
       "      <td>credit_card</td>\n",
       "      <td>0.1071</td>\n",
       "      <td>228.22</td>\n",
       "      <td>11.082143</td>\n",
       "      <td>14.29</td>\n",
       "      <td>707</td>\n",
       "      <td>2760</td>\n",
       "      <td>33623</td>\n",
       "      <td>76.7</td>\n",
       "      <td>0</td>\n",
       "      <td>0</td>\n",
       "      <td>0</td>\n",
       "      <td>1</td>\n",
       "    </tr>\n",
       "    <tr>\n",
       "      <th>2</th>\n",
       "      <td>1</td>\n",
       "      <td>debt_consolidation</td>\n",
       "      <td>0.1357</td>\n",
       "      <td>366.86</td>\n",
       "      <td>10.373491</td>\n",
       "      <td>11.63</td>\n",
       "      <td>682</td>\n",
       "      <td>4710</td>\n",
       "      <td>3511</td>\n",
       "      <td>25.6</td>\n",
       "      <td>1</td>\n",
       "      <td>0</td>\n",
       "      <td>0</td>\n",
       "      <td>1</td>\n",
       "    </tr>\n",
       "    <tr>\n",
       "      <th>3</th>\n",
       "      <td>1</td>\n",
       "      <td>debt_consolidation</td>\n",
       "      <td>0.1008</td>\n",
       "      <td>162.34</td>\n",
       "      <td>11.350407</td>\n",
       "      <td>8.10</td>\n",
       "      <td>712</td>\n",
       "      <td>2699</td>\n",
       "      <td>33667</td>\n",
       "      <td>73.2</td>\n",
       "      <td>1</td>\n",
       "      <td>0</td>\n",
       "      <td>0</td>\n",
       "      <td>1</td>\n",
       "    </tr>\n",
       "    <tr>\n",
       "      <th>4</th>\n",
       "      <td>1</td>\n",
       "      <td>credit_card</td>\n",
       "      <td>0.1426</td>\n",
       "      <td>102.92</td>\n",
       "      <td>11.299732</td>\n",
       "      <td>14.97</td>\n",
       "      <td>667</td>\n",
       "      <td>4066</td>\n",
       "      <td>4740</td>\n",
       "      <td>39.5</td>\n",
       "      <td>0</td>\n",
       "      <td>1</td>\n",
       "      <td>0</td>\n",
       "      <td>1</td>\n",
       "    </tr>\n",
       "  </tbody>\n",
       "</table>\n",
       "</div>"
      ],
      "text/plain": [
       "   credit_policy             purpose  int_rate  installment  log_annual_inc  \\\n",
       "0              1  debt_consolidation    0.1189       829.10       11.350407   \n",
       "1              1         credit_card    0.1071       228.22       11.082143   \n",
       "2              1  debt_consolidation    0.1357       366.86       10.373491   \n",
       "3              1  debt_consolidation    0.1008       162.34       11.350407   \n",
       "4              1         credit_card    0.1426       102.92       11.299732   \n",
       "\n",
       "     dti  fico  days_with_cr_line  revol_bal  revol_util  inq_last_6mths  \\\n",
       "0  19.48   737               5639      28854        52.1               0   \n",
       "1  14.29   707               2760      33623        76.7               0   \n",
       "2  11.63   682               4710       3511        25.6               1   \n",
       "3   8.10   712               2699      33667        73.2               1   \n",
       "4  14.97   667               4066       4740        39.5               0   \n",
       "\n",
       "   delinq_2yrs  pub_rec  fully_paid  \n",
       "0            0        0           1  \n",
       "1            0        0           1  \n",
       "2            0        0           1  \n",
       "3            0        0           1  \n",
       "4            1        0           1  "
      ]
     },
     "execution_count": 4,
     "metadata": {},
     "output_type": "execute_result"
    }
   ],
   "source": [
    "df['not_fully_paid'].replace({0:1,1:0},inplace=True)    # swap values\n",
    "df.rename(columns={'not_fully_paid':'fully_paid'},inplace=True)\n",
    "df.head()"
   ]
  },
  {
   "cell_type": "code",
   "execution_count": 7,
   "metadata": {},
   "outputs": [
    {
     "data": {
      "text/plain": [
       "1    8045\n",
       "0    1533\n",
       "Name: fully_paid, dtype: int64"
      ]
     },
     "execution_count": 7,
     "metadata": {},
     "output_type": "execute_result"
    }
   ],
   "source": [
    "df['fully_paid'].value_counts()"
   ]
  },
  {
   "cell_type": "markdown",
   "metadata": {},
   "source": [
    "#### Splitting features into numeric and non-numeric"
   ]
  },
  {
   "cell_type": "code",
   "execution_count": 5,
   "metadata": {},
   "outputs": [],
   "source": [
    "numfeatures = ['credit_policy', 'int_rate', 'installment', 'log_annual_inc', 'dti', 'fico', 'days_with_cr_line', 'revol_bal', 'revol_util', 'inq_last_6mths', 'delinq_2yrs', 'pub_rec']\n",
    "non_numfeatures = ['purpose']"
   ]
  },
  {
   "cell_type": "code",
   "execution_count": 6,
   "metadata": {},
   "outputs": [
    {
     "data": {
      "text/html": [
       "<div>\n",
       "<style scoped>\n",
       "    .dataframe tbody tr th:only-of-type {\n",
       "        vertical-align: middle;\n",
       "    }\n",
       "\n",
       "    .dataframe tbody tr th {\n",
       "        vertical-align: top;\n",
       "    }\n",
       "\n",
       "    .dataframe thead th {\n",
       "        text-align: right;\n",
       "    }\n",
       "</style>\n",
       "<table border=\"1\" class=\"dataframe\">\n",
       "  <thead>\n",
       "    <tr style=\"text-align: right;\">\n",
       "      <th></th>\n",
       "      <th>credit_policy</th>\n",
       "      <th>int_rate</th>\n",
       "      <th>installment</th>\n",
       "      <th>log_annual_inc</th>\n",
       "      <th>dti</th>\n",
       "      <th>fico</th>\n",
       "      <th>days_with_cr_line</th>\n",
       "      <th>revol_bal</th>\n",
       "      <th>revol_util</th>\n",
       "      <th>inq_last_6mths</th>\n",
       "      <th>delinq_2yrs</th>\n",
       "      <th>pub_rec</th>\n",
       "    </tr>\n",
       "  </thead>\n",
       "  <tbody>\n",
       "    <tr>\n",
       "      <th>0</th>\n",
       "      <td>1</td>\n",
       "      <td>0.1189</td>\n",
       "      <td>829.10</td>\n",
       "      <td>11.350407</td>\n",
       "      <td>19.48</td>\n",
       "      <td>737</td>\n",
       "      <td>5639</td>\n",
       "      <td>28854</td>\n",
       "      <td>52.1</td>\n",
       "      <td>0</td>\n",
       "      <td>0</td>\n",
       "      <td>0</td>\n",
       "    </tr>\n",
       "    <tr>\n",
       "      <th>1</th>\n",
       "      <td>1</td>\n",
       "      <td>0.1071</td>\n",
       "      <td>228.22</td>\n",
       "      <td>11.082143</td>\n",
       "      <td>14.29</td>\n",
       "      <td>707</td>\n",
       "      <td>2760</td>\n",
       "      <td>33623</td>\n",
       "      <td>76.7</td>\n",
       "      <td>0</td>\n",
       "      <td>0</td>\n",
       "      <td>0</td>\n",
       "    </tr>\n",
       "    <tr>\n",
       "      <th>2</th>\n",
       "      <td>1</td>\n",
       "      <td>0.1357</td>\n",
       "      <td>366.86</td>\n",
       "      <td>10.373491</td>\n",
       "      <td>11.63</td>\n",
       "      <td>682</td>\n",
       "      <td>4710</td>\n",
       "      <td>3511</td>\n",
       "      <td>25.6</td>\n",
       "      <td>1</td>\n",
       "      <td>0</td>\n",
       "      <td>0</td>\n",
       "    </tr>\n",
       "    <tr>\n",
       "      <th>3</th>\n",
       "      <td>1</td>\n",
       "      <td>0.1008</td>\n",
       "      <td>162.34</td>\n",
       "      <td>11.350407</td>\n",
       "      <td>8.10</td>\n",
       "      <td>712</td>\n",
       "      <td>2699</td>\n",
       "      <td>33667</td>\n",
       "      <td>73.2</td>\n",
       "      <td>1</td>\n",
       "      <td>0</td>\n",
       "      <td>0</td>\n",
       "    </tr>\n",
       "    <tr>\n",
       "      <th>4</th>\n",
       "      <td>1</td>\n",
       "      <td>0.1426</td>\n",
       "      <td>102.92</td>\n",
       "      <td>11.299732</td>\n",
       "      <td>14.97</td>\n",
       "      <td>667</td>\n",
       "      <td>4066</td>\n",
       "      <td>4740</td>\n",
       "      <td>39.5</td>\n",
       "      <td>0</td>\n",
       "      <td>1</td>\n",
       "      <td>0</td>\n",
       "    </tr>\n",
       "  </tbody>\n",
       "</table>\n",
       "</div>"
      ],
      "text/plain": [
       "   credit_policy  int_rate  installment  log_annual_inc    dti  fico  \\\n",
       "0              1    0.1189       829.10       11.350407  19.48   737   \n",
       "1              1    0.1071       228.22       11.082143  14.29   707   \n",
       "2              1    0.1357       366.86       10.373491  11.63   682   \n",
       "3              1    0.1008       162.34       11.350407   8.10   712   \n",
       "4              1    0.1426       102.92       11.299732  14.97   667   \n",
       "\n",
       "   days_with_cr_line  revol_bal  revol_util  inq_last_6mths  delinq_2yrs  \\\n",
       "0               5639      28854        52.1               0            0   \n",
       "1               2760      33623        76.7               0            0   \n",
       "2               4710       3511        25.6               1            0   \n",
       "3               2699      33667        73.2               1            0   \n",
       "4               4066       4740        39.5               0            1   \n",
       "\n",
       "   pub_rec  \n",
       "0        0  \n",
       "1        0  \n",
       "2        0  \n",
       "3        0  \n",
       "4        0  "
      ]
     },
     "execution_count": 6,
     "metadata": {},
     "output_type": "execute_result"
    }
   ],
   "source": [
    "df_num = df[numfeatures]\n",
    "df_num.head()"
   ]
  },
  {
   "cell_type": "markdown",
   "metadata": {},
   "source": [
    "# 2. Visualising data "
   ]
  },
  {
   "cell_type": "code",
   "execution_count": 7,
   "metadata": {},
   "outputs": [],
   "source": [
    "import seaborn as sns\n",
    "import matplotlib.pyplot as plt\n",
    "import warnings\n",
    "warnings.filterwarnings('ignore')\n",
    "#sns.set_theme(style=\"whitegrid\")"
   ]
  },
  {
   "cell_type": "code",
   "execution_count": 13,
   "metadata": {},
   "outputs": [
    {
     "name": "stdout",
     "output_type": "stream",
     "text": [
      " -Distribution of numeric features- \n"
     ]
    },
    {
     "data": {
      "image/png": "[encoded data removed]",
      "text/plain": [
       "<Figure size 1080x1296 with 12 Axes>"
      ]
     },
     "metadata": {
      "needs_background": "light"
     },
     "output_type": "display_data"
    }
   ],
   "source": [
    "print(f' -Distribution of numeric features- ')\n",
    "plt.figure(figsize=(15, 18))\n",
    "for i, col in enumerate(numfeatures):\n",
    "    # Plot distribution \n",
    "    plt.subplot(4,3,i+1); sns.distplot(df_num[col], color='#810F7C')\n",
    "    plt.title(f'Distribution of {col}')\n",
    "# Show the plot\n",
    "plt.tight_layout()\n",
    "plt.show()"
   ]
  },
  {
   "cell_type": "markdown",
   "metadata": {},
   "source": [
    "\n",
    "<span style=\"color:black; font-size:20px\" > Some features like **log_annual_inc, fico and days_with_cr_line** appear while all the other features are highly skewed.\n",
    "This can pose a problem when modelling as most machine learning models require features to be normally distributed. Therefore I will perform scaling before using these features. </span>\n"
   ]
  },
  {
   "cell_type": "markdown",
   "metadata": {},
   "source": [
    " ### Does a loan purpose affect is repayment?\n",
    " \n",
    "\n",
    "\n",
    "<span style=\"color:black; font-size:20px\" > Lets look at the loan purposes. Most people take loans for debt consolidation, credit card debt or other purposes.\n",
    "Meanwhile, paid and not paid loans do not seem to differ much by purpose i.e. a purpose does not seem to be a useful prediction feature. </span>"
   ]
  },
  {
   "cell_type": "code",
   "execution_count": 8,
   "metadata": {},
   "outputs": [
    {
     "data": {
      "text/html": [
       "<div>\n",
       "<style scoped>\n",
       "    .dataframe tbody tr th:only-of-type {\n",
       "        vertical-align: middle;\n",
       "    }\n",
       "\n",
       "    .dataframe tbody tr th {\n",
       "        vertical-align: top;\n",
       "    }\n",
       "\n",
       "    .dataframe thead th {\n",
       "        text-align: right;\n",
       "    }\n",
       "</style>\n",
       "<table border=\"1\" class=\"dataframe\">\n",
       "  <thead>\n",
       "    <tr style=\"text-align: right;\">\n",
       "      <th></th>\n",
       "      <th>purpose</th>\n",
       "      <th>loan_status</th>\n",
       "      <th>count_purpose</th>\n",
       "    </tr>\n",
       "  </thead>\n",
       "  <tbody>\n",
       "    <tr>\n",
       "      <th>4</th>\n",
       "      <td>debt_consolidation</td>\n",
       "      <td>Fully paid</td>\n",
       "      <td>3354</td>\n",
       "    </tr>\n",
       "    <tr>\n",
       "      <th>0</th>\n",
       "      <td>all_other</td>\n",
       "      <td>Fully paid</td>\n",
       "      <td>1944</td>\n",
       "    </tr>\n",
       "    <tr>\n",
       "      <th>2</th>\n",
       "      <td>credit_card</td>\n",
       "      <td>Fully paid</td>\n",
       "      <td>1116</td>\n",
       "    </tr>\n",
       "    <tr>\n",
       "      <th>5</th>\n",
       "      <td>debt_consolidation</td>\n",
       "      <td>Not fully paid</td>\n",
       "      <td>603</td>\n",
       "    </tr>\n",
       "    <tr>\n",
       "      <th>8</th>\n",
       "      <td>home_improvement</td>\n",
       "      <td>Fully paid</td>\n",
       "      <td>522</td>\n",
       "    </tr>\n",
       "  </tbody>\n",
       "</table>\n",
       "</div>"
      ],
      "text/plain": [
       "              purpose     loan_status  count_purpose\n",
       "4  debt_consolidation      Fully paid           3354\n",
       "0           all_other      Fully paid           1944\n",
       "2         credit_card      Fully paid           1116\n",
       "5  debt_consolidation  Not fully paid            603\n",
       "8    home_improvement      Fully paid            522"
      ]
     },
     "execution_count": 8,
     "metadata": {},
     "output_type": "execute_result"
    }
   ],
   "source": [
    "s_sort= df.groupby('purpose')['fully_paid'].value_counts()\n",
    "df_sort = s_sort.to_frame()\n",
    "\n",
    "df_sort.rename(columns={'fully_paid':'count_purpose'},inplace=True)\n",
    "\n",
    "df_sort.reset_index(inplace=True)\n",
    "df_sort.rename(columns={'fully_paid':'loan_status'},inplace=True)\n",
    "df_sort['loan_status'].replace({1:'Fully paid',0:'Not fully paid'},inplace=True)  \n",
    "df_sort.sort_values(by=['count_purpose'], ascending=False, inplace=True)\n",
    "df_sort.head()"
   ]
  },
  {
   "cell_type": "code",
   "execution_count": 9,
   "metadata": {},
   "outputs": [
    {
     "data": {
      "text/html": [
       "<div>\n",
       "<style scoped>\n",
       "    .dataframe tbody tr th:only-of-type {\n",
       "        vertical-align: middle;\n",
       "    }\n",
       "\n",
       "    .dataframe tbody tr th {\n",
       "        vertical-align: top;\n",
       "    }\n",
       "\n",
       "    .dataframe thead th {\n",
       "        text-align: right;\n",
       "    }\n",
       "</style>\n",
       "<table border=\"1\" class=\"dataframe\">\n",
       "  <thead>\n",
       "    <tr style=\"text-align: right;\">\n",
       "      <th>loan_status</th>\n",
       "      <th>Fully paid</th>\n",
       "      <th>Not fully paid</th>\n",
       "    </tr>\n",
       "  </thead>\n",
       "  <tbody>\n",
       "    <tr>\n",
       "      <th></th>\n",
       "      <td>8045</td>\n",
       "      <td>1533</td>\n",
       "    </tr>\n",
       "  </tbody>\n",
       "</table>\n",
       "</div>"
      ],
      "text/plain": [
       "loan_status  Fully paid  Not fully paid\n",
       "                   8045            1533"
      ]
     },
     "execution_count": 9,
     "metadata": {},
     "output_type": "execute_result"
    }
   ],
   "source": [
    "df_ = df_sort.groupby(by = 'loan_status').sum().T\n",
    "dfn = df_.rename(index={'count_purpose': ''})\n",
    "dfn"
   ]
  },
  {
   "cell_type": "code",
   "execution_count": 10,
   "metadata": {},
   "outputs": [
    {
     "data": {
      "text/plain": [
       "<seaborn.axisgrid.FacetGrid at 0x51bc9e8>"
      ]
     },
     "execution_count": 10,
     "metadata": {},
     "output_type": "execute_result"
    },
    {
     "data": {
      "image/png": "[encoded data removed]",
      "text/plain": [
       "<Figure size 462.875x360 with 1 Axes>"
      ]
     },
     "metadata": {
      "needs_background": "light"
     },
     "output_type": "display_data"
    }
   ],
   "source": [
    "# Lets plot the loan purpose data.\n",
    "plot = sns.catplot(data=df_sort, kind=\"bar\",x=\"purpose\", y=\"count_purpose\", palette=['#8856a7', '#f03b20'], hue=\"loan_status\" )\n",
    "\n",
    "plot.legend.set_title(\"\")\n",
    "plot.set_axis_labels(\"\", \"Count\")\n",
    "            \n",
    "for axes in plot.axes.flat:\n",
    "    _ = axes.set_xticklabels(axes.get_xticklabels(), rotation=90)#.set(title='Title of Plot')\n",
    "\n",
    "plot.fig.suptitle('Loan count by purpose', y=1.05, fontsize=14)\n",
    "\n",
    "plot.despine(left=True)"
   ]
  },
  {
   "cell_type": "markdown",
   "metadata": {},
   "source": [
    "<span style=\"color:black; font-size:20px\" > **Small business** is the purpose with the highest proportion of unpaid loans. </span>"
   ]
  },
  {
   "cell_type": "code",
   "execution_count": 11,
   "metadata": {},
   "outputs": [
    {
     "data": {
      "text/html": [
       "<div>\n",
       "<style scoped>\n",
       "    .dataframe tbody tr th:only-of-type {\n",
       "        vertical-align: middle;\n",
       "    }\n",
       "\n",
       "    .dataframe tbody tr th {\n",
       "        vertical-align: top;\n",
       "    }\n",
       "\n",
       "    .dataframe thead th {\n",
       "        text-align: right;\n",
       "    }\n",
       "</style>\n",
       "<table border=\"1\" class=\"dataframe\">\n",
       "  <thead>\n",
       "    <tr style=\"text-align: right;\">\n",
       "      <th></th>\n",
       "      <th>credit_policy</th>\n",
       "      <th>purpose</th>\n",
       "      <th>int_rate</th>\n",
       "      <th>installment</th>\n",
       "      <th>log_annual_inc</th>\n",
       "      <th>dti</th>\n",
       "      <th>fico</th>\n",
       "      <th>days_with_cr_line</th>\n",
       "      <th>revol_bal</th>\n",
       "      <th>revol_util</th>\n",
       "      <th>inq_last_6mths</th>\n",
       "      <th>delinq_2yrs</th>\n",
       "      <th>pub_rec</th>\n",
       "      <th>fully_paid</th>\n",
       "    </tr>\n",
       "  </thead>\n",
       "  <tbody>\n",
       "    <tr>\n",
       "      <th>0</th>\n",
       "      <td>1</td>\n",
       "      <td>debt_consolidation</td>\n",
       "      <td>0.1189</td>\n",
       "      <td>829.10</td>\n",
       "      <td>11.350407</td>\n",
       "      <td>19.48</td>\n",
       "      <td>737</td>\n",
       "      <td>5639</td>\n",
       "      <td>28854</td>\n",
       "      <td>52.1</td>\n",
       "      <td>0</td>\n",
       "      <td>0</td>\n",
       "      <td>0</td>\n",
       "      <td>Fully paid</td>\n",
       "    </tr>\n",
       "    <tr>\n",
       "      <th>1</th>\n",
       "      <td>1</td>\n",
       "      <td>credit_card</td>\n",
       "      <td>0.1071</td>\n",
       "      <td>228.22</td>\n",
       "      <td>11.082143</td>\n",
       "      <td>14.29</td>\n",
       "      <td>707</td>\n",
       "      <td>2760</td>\n",
       "      <td>33623</td>\n",
       "      <td>76.7</td>\n",
       "      <td>0</td>\n",
       "      <td>0</td>\n",
       "      <td>0</td>\n",
       "      <td>Fully paid</td>\n",
       "    </tr>\n",
       "    <tr>\n",
       "      <th>2</th>\n",
       "      <td>1</td>\n",
       "      <td>debt_consolidation</td>\n",
       "      <td>0.1357</td>\n",
       "      <td>366.86</td>\n",
       "      <td>10.373491</td>\n",
       "      <td>11.63</td>\n",
       "      <td>682</td>\n",
       "      <td>4710</td>\n",
       "      <td>3511</td>\n",
       "      <td>25.6</td>\n",
       "      <td>1</td>\n",
       "      <td>0</td>\n",
       "      <td>0</td>\n",
       "      <td>Fully paid</td>\n",
       "    </tr>\n",
       "    <tr>\n",
       "      <th>3</th>\n",
       "      <td>1</td>\n",
       "      <td>debt_consolidation</td>\n",
       "      <td>0.1008</td>\n",
       "      <td>162.34</td>\n",
       "      <td>11.350407</td>\n",
       "      <td>8.10</td>\n",
       "      <td>712</td>\n",
       "      <td>2699</td>\n",
       "      <td>33667</td>\n",
       "      <td>73.2</td>\n",
       "      <td>1</td>\n",
       "      <td>0</td>\n",
       "      <td>0</td>\n",
       "      <td>Fully paid</td>\n",
       "    </tr>\n",
       "    <tr>\n",
       "      <th>4</th>\n",
       "      <td>1</td>\n",
       "      <td>credit_card</td>\n",
       "      <td>0.1426</td>\n",
       "      <td>102.92</td>\n",
       "      <td>11.299732</td>\n",
       "      <td>14.97</td>\n",
       "      <td>667</td>\n",
       "      <td>4066</td>\n",
       "      <td>4740</td>\n",
       "      <td>39.5</td>\n",
       "      <td>0</td>\n",
       "      <td>1</td>\n",
       "      <td>0</td>\n",
       "      <td>Fully paid</td>\n",
       "    </tr>\n",
       "  </tbody>\n",
       "</table>\n",
       "</div>"
      ],
      "text/plain": [
       "   credit_policy             purpose  int_rate  installment  log_annual_inc  \\\n",
       "0              1  debt_consolidation    0.1189       829.10       11.350407   \n",
       "1              1         credit_card    0.1071       228.22       11.082143   \n",
       "2              1  debt_consolidation    0.1357       366.86       10.373491   \n",
       "3              1  debt_consolidation    0.1008       162.34       11.350407   \n",
       "4              1         credit_card    0.1426       102.92       11.299732   \n",
       "\n",
       "     dti  fico  days_with_cr_line  revol_bal  revol_util  inq_last_6mths  \\\n",
       "0  19.48   737               5639      28854        52.1               0   \n",
       "1  14.29   707               2760      33623        76.7               0   \n",
       "2  11.63   682               4710       3511        25.6               1   \n",
       "3   8.10   712               2699      33667        73.2               1   \n",
       "4  14.97   667               4066       4740        39.5               0   \n",
       "\n",
       "   delinq_2yrs  pub_rec  fully_paid  \n",
       "0            0        0  Fully paid  \n",
       "1            0        0  Fully paid  \n",
       "2            0        0  Fully paid  \n",
       "3            0        0  Fully paid  \n",
       "4            1        0  Fully paid  "
      ]
     },
     "execution_count": 11,
     "metadata": {},
     "output_type": "execute_result"
    }
   ],
   "source": [
    "df1 = df.copy()\n",
    "df1['fully_paid'].replace({0:'Not fully paid',1: 'Fully paid'}, inplace=True)\n",
    "df1.head()"
   ]
  },
  {
   "cell_type": "code",
   "execution_count": 112,
   "metadata": {},
   "outputs": [
    {
     "data": {
      "text/plain": [
       "Fully paid        0.84\n",
       "Not fully paid    0.16\n",
       "Name: fully_paid, dtype: float64"
      ]
     },
     "execution_count": 112,
     "metadata": {},
     "output_type": "execute_result"
    }
   ],
   "source": [
    "df.fully_paid.value_counts(normalize=True).round(2)"
   ]
  },
  {
   "cell_type": "code",
   "execution_count": 13,
   "metadata": {},
   "outputs": [
    {
     "data": {
      "text/html": [
       "<div>\n",
       "<style scoped>\n",
       "    .dataframe tbody tr th:only-of-type {\n",
       "        vertical-align: middle;\n",
       "    }\n",
       "\n",
       "    .dataframe tbody tr th {\n",
       "        vertical-align: top;\n",
       "    }\n",
       "\n",
       "    .dataframe thead th {\n",
       "        text-align: right;\n",
       "    }\n",
       "</style>\n",
       "<table border=\"1\" class=\"dataframe\">\n",
       "  <thead>\n",
       "    <tr style=\"text-align: right;\">\n",
       "      <th>loan_status</th>\n",
       "      <th>Fully paid</th>\n",
       "      <th>Not fully paid</th>\n",
       "      <th>total</th>\n",
       "    </tr>\n",
       "  </thead>\n",
       "  <tbody>\n",
       "    <tr>\n",
       "      <th></th>\n",
       "      <td>8045</td>\n",
       "      <td>1533</td>\n",
       "      <td>9578</td>\n",
       "    </tr>\n",
       "  </tbody>\n",
       "</table>\n",
       "</div>"
      ],
      "text/plain": [
       "loan_status  Fully paid  Not fully paid  total\n",
       "                   8045            1533   9578"
      ]
     },
     "execution_count": 13,
     "metadata": {},
     "output_type": "execute_result"
    }
   ],
   "source": [
    "dfn['total'] = dfn['Fully paid']+dfn['Not fully paid']\n",
    "dfn"
   ]
  },
  {
   "cell_type": "code",
   "execution_count": 14,
   "metadata": {},
   "outputs": [
    {
     "name": "stdout",
     "output_type": "stream",
     "text": [
      "<class 'pandas.core.frame.DataFrame'>\n",
      "Index: 1 entries,  to \n",
      "Data columns (total 2 columns):\n",
      " #   Column          Non-Null Count  Dtype  \n",
      "---  ------          --------------  -----  \n",
      " 0   Fully paid      1 non-null      float64\n",
      " 1   Not fully paid  1 non-null      float64\n",
      "dtypes: float64(2)\n",
      "memory usage: 24.0+ bytes\n"
     ]
    }
   ],
   "source": [
    "df_rel = (dfn[dfn.columns[0:2]].div(dfn.iloc[0, 2])*100).round(2)\n",
    "df_rel.info()"
   ]
  },
  {
   "cell_type": "code",
   "execution_count": 32,
   "metadata": {},
   "outputs": [
    {
     "data": {
      "image/png": "[encoded data removed]",
      "text/plain": [
       "<Figure size 432x288 with 1 Axes>"
      ]
     },
     "metadata": {
      "needs_background": "light"
     },
     "output_type": "display_data"
    }
   ],
   "source": [
    "myplot = df_rel.plot( kind='bar',stacked = True,color= ['#8856a7', '#f03b20'], title=\"Total number of loans\") # this is ok\n",
    "h = 0\n",
    "for col in df_rel:\n",
    "    #h += (p := df_rel[col].iat[0])      # calculate current bar height\n",
    "    p = df_rel[col].iloc[0]\n",
    "    h += p\n",
    "    plt.text(0, h - p / 2, f'{p}%', va='center', ha='center')\n",
    "myplot.legend(bbox_to_anchor=(1.0, 0.8))\n",
    "plt.show()"
   ]
  },
  {
   "cell_type": "markdown",
   "metadata": {},
   "source": [
    "<span style=\"color:black; font-size:20px\" > We can see that around 16% of loans are not fully paid, so this is an imbalanced dataset. </span>"
   ]
  },
  {
   "cell_type": "markdown",
   "metadata": {},
   "source": [
    "### How long it takes for users to pay back their loans?\n",
    "I assume this could be measured by the number of days a successful borrower has had a credit line for."
   ]
  },
  {
   "cell_type": "code",
   "execution_count": 16,
   "metadata": {},
   "outputs": [],
   "source": [
    "df_paid = df.loc[df.fully_paid ==1].head()\n",
    "\n",
    "#df_paid.days_with_cr_line.describe()"
   ]
  },
  {
   "cell_type": "code",
   "execution_count": 17,
   "metadata": {},
   "outputs": [
    {
     "name": "stdout",
     "output_type": "stream",
     "text": [
      "How many days on average the users had a credit line: 3975 days\n",
      "Most users had a credit line for: 2699 days\n",
      "The users had a credit line from 2699 to 5639 days\n"
     ]
    }
   ],
   "source": [
    "print('How many days on average the users had a credit line: {:.0f} days'.format(df_paid.days_with_cr_line.mean()))\n",
    "print('Most users had a credit line for: {:.0f} days'.format(df_paid.days_with_cr_line.mode().round()[0]))\n",
    "print('The users had a credit line from {:.0f} to {:.0f} days'.format(df_paid.days_with_cr_line.min().round(), df_paid.days_with_cr_line.max().round()))"
   ]
  },
  {
   "cell_type": "code",
   "execution_count": null,
   "metadata": {},
   "outputs": [],
   "source": []
  },
  {
   "cell_type": "markdown",
   "metadata": {},
   "source": [
    "## Exploring features by visualisation"
   ]
  },
  {
   "cell_type": "code",
   "execution_count": 14,
   "metadata": {},
   "outputs": [
    {
     "data": {
      "text/html": [
       "<div>\n",
       "<style scoped>\n",
       "    .dataframe tbody tr th:only-of-type {\n",
       "        vertical-align: middle;\n",
       "    }\n",
       "\n",
       "    .dataframe tbody tr th {\n",
       "        vertical-align: top;\n",
       "    }\n",
       "\n",
       "    .dataframe thead th {\n",
       "        text-align: right;\n",
       "    }\n",
       "</style>\n",
       "<table border=\"1\" class=\"dataframe\">\n",
       "  <thead>\n",
       "    <tr style=\"text-align: right;\">\n",
       "      <th></th>\n",
       "      <th>purpose</th>\n",
       "      <th>loan_status</th>\n",
       "      <th>count_purpose</th>\n",
       "    </tr>\n",
       "  </thead>\n",
       "  <tbody>\n",
       "    <tr>\n",
       "      <th>4</th>\n",
       "      <td>debt_consolidation</td>\n",
       "      <td>Fully paid</td>\n",
       "      <td>3354</td>\n",
       "    </tr>\n",
       "    <tr>\n",
       "      <th>0</th>\n",
       "      <td>all_other</td>\n",
       "      <td>Fully paid</td>\n",
       "      <td>1944</td>\n",
       "    </tr>\n",
       "    <tr>\n",
       "      <th>2</th>\n",
       "      <td>credit_card</td>\n",
       "      <td>Fully paid</td>\n",
       "      <td>1116</td>\n",
       "    </tr>\n",
       "    <tr>\n",
       "      <th>5</th>\n",
       "      <td>debt_consolidation</td>\n",
       "      <td>Not fully paid</td>\n",
       "      <td>603</td>\n",
       "    </tr>\n",
       "    <tr>\n",
       "      <th>8</th>\n",
       "      <td>home_improvement</td>\n",
       "      <td>Fully paid</td>\n",
       "      <td>522</td>\n",
       "    </tr>\n",
       "    <tr>\n",
       "      <th>12</th>\n",
       "      <td>small_business</td>\n",
       "      <td>Fully paid</td>\n",
       "      <td>447</td>\n",
       "    </tr>\n",
       "    <tr>\n",
       "      <th>10</th>\n",
       "      <td>major_purchase</td>\n",
       "      <td>Fully paid</td>\n",
       "      <td>388</td>\n",
       "    </tr>\n",
       "    <tr>\n",
       "      <th>1</th>\n",
       "      <td>all_other</td>\n",
       "      <td>Not fully paid</td>\n",
       "      <td>387</td>\n",
       "    </tr>\n",
       "    <tr>\n",
       "      <th>6</th>\n",
       "      <td>educational</td>\n",
       "      <td>Fully paid</td>\n",
       "      <td>274</td>\n",
       "    </tr>\n",
       "    <tr>\n",
       "      <th>13</th>\n",
       "      <td>small_business</td>\n",
       "      <td>Not fully paid</td>\n",
       "      <td>172</td>\n",
       "    </tr>\n",
       "    <tr>\n",
       "      <th>3</th>\n",
       "      <td>credit_card</td>\n",
       "      <td>Not fully paid</td>\n",
       "      <td>146</td>\n",
       "    </tr>\n",
       "    <tr>\n",
       "      <th>9</th>\n",
       "      <td>home_improvement</td>\n",
       "      <td>Not fully paid</td>\n",
       "      <td>107</td>\n",
       "    </tr>\n",
       "    <tr>\n",
       "      <th>7</th>\n",
       "      <td>educational</td>\n",
       "      <td>Not fully paid</td>\n",
       "      <td>69</td>\n",
       "    </tr>\n",
       "    <tr>\n",
       "      <th>11</th>\n",
       "      <td>major_purchase</td>\n",
       "      <td>Not fully paid</td>\n",
       "      <td>49</td>\n",
       "    </tr>\n",
       "  </tbody>\n",
       "</table>\n",
       "</div>"
      ],
      "text/plain": [
       "               purpose     loan_status  count_purpose\n",
       "4   debt_consolidation      Fully paid           3354\n",
       "0            all_other      Fully paid           1944\n",
       "2          credit_card      Fully paid           1116\n",
       "5   debt_consolidation  Not fully paid            603\n",
       "8     home_improvement      Fully paid            522\n",
       "12      small_business      Fully paid            447\n",
       "10      major_purchase      Fully paid            388\n",
       "1            all_other  Not fully paid            387\n",
       "6          educational      Fully paid            274\n",
       "13      small_business  Not fully paid            172\n",
       "3          credit_card  Not fully paid            146\n",
       "9     home_improvement  Not fully paid            107\n",
       "7          educational  Not fully paid             69\n",
       "11      major_purchase  Not fully paid             49"
      ]
     },
     "execution_count": 14,
     "metadata": {},
     "output_type": "execute_result"
    }
   ],
   "source": [
    "s_sort= df.groupby('purpose')['fully_paid'].value_counts()\n",
    "df_sort = s_sort.to_frame()\n",
    "\n",
    "df_sort.rename(columns={'fully_paid':'count_purpose'},inplace=True)\n",
    "\n",
    "df_sort.reset_index(inplace=True)\n",
    "df_sort.rename(columns={'fully_paid':'loan_status'},inplace=True)\n",
    "df_sort['loan_status'].replace({1:'Fully paid',0:'Not fully paid'},inplace=True)  \n",
    "df_sort.sort_values(by=['count_purpose'], ascending=False, inplace=True)\n",
    "df_sort"
   ]
  },
  {
   "cell_type": "code",
   "execution_count": 18,
   "metadata": {},
   "outputs": [
    {
     "data": {
      "text/html": [
       "<div>\n",
       "<style scoped>\n",
       "    .dataframe tbody tr th:only-of-type {\n",
       "        vertical-align: middle;\n",
       "    }\n",
       "\n",
       "    .dataframe tbody tr th {\n",
       "        vertical-align: top;\n",
       "    }\n",
       "\n",
       "    .dataframe thead th {\n",
       "        text-align: right;\n",
       "    }\n",
       "</style>\n",
       "<table border=\"1\" class=\"dataframe\">\n",
       "  <thead>\n",
       "    <tr style=\"text-align: right;\">\n",
       "      <th></th>\n",
       "      <th>int_rate</th>\n",
       "      <th>loan_status</th>\n",
       "      <th>count_intrate</th>\n",
       "    </tr>\n",
       "  </thead>\n",
       "  <tbody>\n",
       "    <tr>\n",
       "      <th>171</th>\n",
       "      <td>0.1253</td>\n",
       "      <td>Fully paid</td>\n",
       "      <td>302</td>\n",
       "    </tr>\n",
       "    <tr>\n",
       "      <th>38</th>\n",
       "      <td>0.0894</td>\n",
       "      <td>Fully paid</td>\n",
       "      <td>275</td>\n",
       "    </tr>\n",
       "    <tr>\n",
       "      <th>141</th>\n",
       "      <td>0.1183</td>\n",
       "      <td>Fully paid</td>\n",
       "      <td>218</td>\n",
       "    </tr>\n",
       "    <tr>\n",
       "      <th>24</th>\n",
       "      <td>0.0800</td>\n",
       "      <td>Fully paid</td>\n",
       "      <td>188</td>\n",
       "    </tr>\n",
       "    <tr>\n",
       "      <th>56</th>\n",
       "      <td>0.0963</td>\n",
       "      <td>Fully paid</td>\n",
       "      <td>186</td>\n",
       "    </tr>\n",
       "    <tr>\n",
       "      <th>...</th>\n",
       "      <td>...</td>\n",
       "      <td>...</td>\n",
       "      <td>...</td>\n",
       "    </tr>\n",
       "    <tr>\n",
       "      <th>314</th>\n",
       "      <td>0.1551</td>\n",
       "      <td>Not fully paid</td>\n",
       "      <td>1</td>\n",
       "    </tr>\n",
       "    <tr>\n",
       "      <th>316</th>\n",
       "      <td>0.1557</td>\n",
       "      <td>Not fully paid</td>\n",
       "      <td>1</td>\n",
       "    </tr>\n",
       "    <tr>\n",
       "      <th>413</th>\n",
       "      <td>0.1793</td>\n",
       "      <td>Not fully paid</td>\n",
       "      <td>1</td>\n",
       "    </tr>\n",
       "    <tr>\n",
       "      <th>68</th>\n",
       "      <td>0.1001</td>\n",
       "      <td>Not fully paid</td>\n",
       "      <td>1</td>\n",
       "    </tr>\n",
       "    <tr>\n",
       "      <th>346</th>\n",
       "      <td>0.1633</td>\n",
       "      <td>Fully paid</td>\n",
       "      <td>1</td>\n",
       "    </tr>\n",
       "  </tbody>\n",
       "</table>\n",
       "<p>471 rows × 3 columns</p>\n",
       "</div>"
      ],
      "text/plain": [
       "     int_rate     loan_status  count_intrate\n",
       "171    0.1253      Fully paid            302\n",
       "38     0.0894      Fully paid            275\n",
       "141    0.1183      Fully paid            218\n",
       "24     0.0800      Fully paid            188\n",
       "56     0.0963      Fully paid            186\n",
       "..        ...             ...            ...\n",
       "314    0.1551  Not fully paid              1\n",
       "316    0.1557  Not fully paid              1\n",
       "413    0.1793  Not fully paid              1\n",
       "68     0.1001  Not fully paid              1\n",
       "346    0.1633      Fully paid              1\n",
       "\n",
       "[471 rows x 3 columns]"
      ]
     },
     "execution_count": 18,
     "metadata": {},
     "output_type": "execute_result"
    }
   ],
   "source": [
    "s_sort_i= df.groupby('int_rate')['fully_paid'].value_counts()\n",
    "df_sort_i = s_sort_i.to_frame()\n",
    "\n",
    "df_sort_i.rename(columns={'fully_paid':'count_intrate'},inplace=True)\n",
    "\n",
    "df_sort_i.reset_index(inplace=True)\n",
    "df_sort_i.rename(columns={'fully_paid':'loan_status'},inplace=True)\n",
    "df_sort_i['loan_status'].replace({1:'Fully paid',0:'Not fully paid'},inplace=True)  \n",
    "df_sort_i.sort_values(by=['count_intrate'], ascending=False, inplace=True)\n",
    "df_sort_i\n",
    "\n",
    "# 'int_rate','days_with_cr_line','log_annual_inc','fico'"
   ]
  },
  {
   "cell_type": "code",
   "execution_count": 19,
   "metadata": {},
   "outputs": [
    {
     "data": {
      "image/png": "[encoded data removed]",
      "text/plain": [
       "<Figure size 432x216 with 2 Axes>"
      ]
     },
     "metadata": {},
     "output_type": "display_data"
    }
   ],
   "source": [
    "# similar\n",
    "bins = np.linspace(df_sort_i.int_rate.min(), df_sort_i.int_rate.max(), 25)\n",
    "\n",
    "g = sns.FacetGrid(df_sort_i, col=\"loan_status\", hue=\"loan_status\", palette=['#8856a7', '#f03b20'], col_wrap=2)\n",
    "g.map(plt.hist, 'int_rate', bins=bins, ec=\"k\")\n",
    "\n",
    "\n",
    "plt.show()"
   ]
  },
  {
   "cell_type": "code",
   "execution_count": 20,
   "metadata": {},
   "outputs": [],
   "source": [
    "s_sort_d= df.groupby('days_with_cr_line')['fully_paid'].value_counts()\n",
    "df_sort_d = s_sort_d.to_frame()\n",
    "\n",
    "df_sort_d.rename(columns={'fully_paid':'count_days'},inplace=True)\n",
    "\n",
    "df_sort_d.reset_index(inplace=True)\n",
    "df_sort_d.rename(columns={'fully_paid':'loan_status'},inplace=True)\n",
    "df_sort_d['loan_status'].replace({1:'Fully paid',0:'Not fully paid'},inplace=True)  \n",
    "df_sort_d.sort_values(by=['count_days'], ascending=False, inplace=True)\n",
    "#df_sort_d"
   ]
  },
  {
   "cell_type": "code",
   "execution_count": 21,
   "metadata": {},
   "outputs": [
    {
     "data": {
      "image/png": "[encoded data removed]",
      "text/plain": [
       "<Figure size 432x216 with 2 Axes>"
      ]
     },
     "metadata": {},
     "output_type": "display_data"
    }
   ],
   "source": [
    "# more peaked and left-skewed for paid loans.\n",
    "bins = np.linspace(df_sort_d.days_with_cr_line.min(), df_sort_d.days_with_cr_line.max(), 35)\n",
    "\n",
    "g = sns.FacetGrid(df_sort_d, col=\"loan_status\", hue=\"loan_status\", palette=['#8856a7', '#f03b20'], col_wrap=2)\n",
    "g.map(plt.hist, 'days_with_cr_line', bins=bins, ec=\"k\")\n",
    "\n",
    "g.set(xticks=np.arange(0,17500,1000))\n",
    "g.set_xticklabels(np.arange(0,17500,1000), fontsize=8, rotation=90)\n",
    "plt.show()"
   ]
  },
  {
   "cell_type": "code",
   "execution_count": 22,
   "metadata": {},
   "outputs": [],
   "source": [
    "s_sort_in= df.groupby('log_annual_inc')['fully_paid'].value_counts()\n",
    "df_sort_in = s_sort_in.to_frame()\n",
    "\n",
    "df_sort_in.rename(columns={'fully_paid':'count_in'},inplace=True)\n",
    "\n",
    "df_sort_in.reset_index(inplace=True)\n",
    "df_sort_in.rename(columns={'fully_paid':'loan_status'},inplace=True)\n",
    "df_sort_in['loan_status'].replace({1:'Fully paid',0:'Not fully paid'},inplace=True)  \n",
    "df_sort_in.sort_values(by=['count_in'], ascending=False, inplace=True)\n",
    "#df_sort_in"
   ]
  },
  {
   "cell_type": "code",
   "execution_count": 23,
   "metadata": {},
   "outputs": [
    {
     "data": {
      "image/png": "[encoded data removed]",
      "text/plain": [
       "<Figure size 432x216 with 2 Axes>"
      ]
     },
     "metadata": {},
     "output_type": "display_data"
    }
   ],
   "source": [
    "# more peaked for paid loans\n",
    "bins = np.linspace(df_sort_in.log_annual_inc.min(), df_sort_in.log_annual_inc.max(), 32)\n",
    "\n",
    "g = sns.FacetGrid(df_sort_in, col=\"loan_status\", hue=\"loan_status\", palette=['#8856a7', '#f03b20'], col_wrap=2)\n",
    "g.map(plt.hist, 'log_annual_inc', bins=bins, ec=\"k\")\n",
    "\n",
    "plt.show()"
   ]
  },
  {
   "cell_type": "code",
   "execution_count": 24,
   "metadata": {},
   "outputs": [],
   "source": [
    "s_sort_dti= df.groupby('dti')['fully_paid'].value_counts()\n",
    "df_sort_dti = s_sort_dti.to_frame()\n",
    "\n",
    "df_sort_dti.rename(columns={'fully_paid':'count_in'},inplace=True)\n",
    "\n",
    "df_sort_dti.reset_index(inplace=True)\n",
    "df_sort_dti.rename(columns={'fully_paid':'loan_status'},inplace=True)\n",
    "df_sort_dti['loan_status'].replace({1:'Fully paid',0:'Not fully paid'},inplace=True)  \n",
    "df_sort_dti.sort_values(by=['count_in'], ascending=False, inplace=True)\n",
    "#df_sort_in"
   ]
  },
  {
   "cell_type": "code",
   "execution_count": 25,
   "metadata": {},
   "outputs": [
    {
     "data": {
      "image/png": "[encoded data removed]",
      "text/plain": [
       "<Figure size 432x216 with 2 Axes>"
      ]
     },
     "metadata": {},
     "output_type": "display_data"
    }
   ],
   "source": [
    "# more normal for not paid loans.\n",
    "bins = np.linspace(df_sort_dti.dti.min(), df_sort_dti.dti.max(), 28)\n",
    "\n",
    "g = sns.FacetGrid(df_sort_dti, col=\"loan_status\", hue=\"loan_status\", palette=['#8856a7', '#f03b20'], col_wrap=2)\n",
    "g.map(plt.hist, 'dti', bins=bins, ec=\"k\")\n",
    "\n",
    "plt.show()"
   ]
  },
  {
   "cell_type": "code",
   "execution_count": 26,
   "metadata": {},
   "outputs": [],
   "source": [
    "s_sort_fi= df.groupby('fico')['fully_paid'].value_counts()\n",
    "df_sort_fi = s_sort_fi.to_frame()\n",
    "\n",
    "df_sort_fi.rename(columns={'fully_paid':'count_in'},inplace=True)\n",
    "\n",
    "df_sort_fi.reset_index(inplace=True)\n",
    "df_sort_fi.rename(columns={'fully_paid':'loan_status'},inplace=True)\n",
    "df_sort_fi['loan_status'].replace({1:'Fully paid',0:'Not fully paid'},inplace=True)  \n",
    "df_sort_fi.sort_values(by=['count_in'], ascending=False, inplace=True)"
   ]
  },
  {
   "cell_type": "code",
   "execution_count": 27,
   "metadata": {},
   "outputs": [
    {
     "data": {
      "image/png": "[encoded data removed]",
      "text/plain": [
       "<Figure size 432x216 with 2 Axes>"
      ]
     },
     "metadata": {},
     "output_type": "display_data"
    }
   ],
   "source": [
    "# seems similar\n",
    "bins = np.linspace(df_sort_fi.fico.min(), df_sort_fi.fico.max(), 28)\n",
    "\n",
    "g = sns.FacetGrid(df_sort_fi, col=\"loan_status\", hue=\"loan_status\", palette=['#8856a7', '#f03b20'], col_wrap=2)\n",
    "g.map(plt.hist, 'fico', bins=bins, ec=\"k\")\n",
    "\n",
    "plt.show()"
   ]
  },
  {
   "cell_type": "code",
   "execution_count": 28,
   "metadata": {},
   "outputs": [],
   "source": [
    "s_sort_ins= df.groupby('installment')['fully_paid'].value_counts()\n",
    "df_sort_ins = s_sort_ins.to_frame()\n",
    "\n",
    "df_sort_ins.rename(columns={'fully_paid':'count_in'},inplace=True)\n",
    "\n",
    "df_sort_ins.reset_index(inplace=True)\n",
    "df_sort_ins.rename(columns={'fully_paid':'loan_status'},inplace=True)\n",
    "df_sort_ins['loan_status'].replace({1:'Fully paid',0:'Not fully paid'},inplace=True)  \n",
    "df_sort_ins.sort_values(by=['count_in'], ascending=False, inplace=True)"
   ]
  },
  {
   "cell_type": "code",
   "execution_count": 29,
   "metadata": {},
   "outputs": [
    {
     "data": {
      "image/png": "[encoded data removed]",
      "text/plain": [
       "<Figure size 432x216 with 2 Axes>"
      ]
     },
     "metadata": {},
     "output_type": "display_data"
    }
   ],
   "source": [
    "# more left skewed for paid loans\n",
    "bins = np.linspace(df_sort_ins.installment.min(), df_sort_ins.installment.max(), 33)\n",
    "\n",
    "g = sns.FacetGrid(df_sort_ins, col=\"loan_status\", hue=\"loan_status\", palette=['#8856a7', '#f03b20'], col_wrap=2)\n",
    "g.map(plt.hist, 'installment', bins=bins, ec=\"k\")\n",
    "\n",
    "plt.show()"
   ]
  },
  {
   "cell_type": "code",
   "execution_count": 30,
   "metadata": {},
   "outputs": [
    {
     "data": {
      "text/html": [
       "<div>\n",
       "<style scoped>\n",
       "    .dataframe tbody tr th:only-of-type {\n",
       "        vertical-align: middle;\n",
       "    }\n",
       "\n",
       "    .dataframe tbody tr th {\n",
       "        vertical-align: top;\n",
       "    }\n",
       "\n",
       "    .dataframe thead th {\n",
       "        text-align: right;\n",
       "    }\n",
       "</style>\n",
       "<table border=\"1\" class=\"dataframe\">\n",
       "  <thead>\n",
       "    <tr style=\"text-align: right;\">\n",
       "      <th></th>\n",
       "      <th>revol_bal</th>\n",
       "      <th>loan_status</th>\n",
       "      <th>count_in</th>\n",
       "    </tr>\n",
       "  </thead>\n",
       "  <tbody>\n",
       "    <tr>\n",
       "      <th>8182</th>\n",
       "      <td>275925</td>\n",
       "      <td>Fully paid</td>\n",
       "      <td>2</td>\n",
       "    </tr>\n",
       "    <tr>\n",
       "      <th>8099</th>\n",
       "      <td>150786</td>\n",
       "      <td>Fully paid</td>\n",
       "      <td>2</td>\n",
       "    </tr>\n",
       "    <tr>\n",
       "      <th>8143</th>\n",
       "      <td>205347</td>\n",
       "      <td>Fully paid</td>\n",
       "      <td>2</td>\n",
       "    </tr>\n",
       "    <tr>\n",
       "      <th>8000</th>\n",
       "      <td>101022</td>\n",
       "      <td>Fully paid</td>\n",
       "      <td>1</td>\n",
       "    </tr>\n",
       "    <tr>\n",
       "      <th>7994</th>\n",
       "      <td>95564</td>\n",
       "      <td>Not fully paid</td>\n",
       "      <td>1</td>\n",
       "    </tr>\n",
       "    <tr>\n",
       "      <th>...</th>\n",
       "      <td>...</td>\n",
       "      <td>...</td>\n",
       "      <td>...</td>\n",
       "    </tr>\n",
       "    <tr>\n",
       "      <th>7800</th>\n",
       "      <td>63861</td>\n",
       "      <td>Not fully paid</td>\n",
       "      <td>1</td>\n",
       "    </tr>\n",
       "    <tr>\n",
       "      <th>7801</th>\n",
       "      <td>64266</td>\n",
       "      <td>Fully paid</td>\n",
       "      <td>1</td>\n",
       "    </tr>\n",
       "    <tr>\n",
       "      <th>7802</th>\n",
       "      <td>64362</td>\n",
       "      <td>Fully paid</td>\n",
       "      <td>1</td>\n",
       "    </tr>\n",
       "    <tr>\n",
       "      <th>7803</th>\n",
       "      <td>64394</td>\n",
       "      <td>Fully paid</td>\n",
       "      <td>1</td>\n",
       "    </tr>\n",
       "    <tr>\n",
       "      <th>8199</th>\n",
       "      <td>1207359</td>\n",
       "      <td>Not fully paid</td>\n",
       "      <td>1</td>\n",
       "    </tr>\n",
       "  </tbody>\n",
       "</table>\n",
       "<p>601 rows × 3 columns</p>\n",
       "</div>"
      ],
      "text/plain": [
       "      revol_bal     loan_status  count_in\n",
       "8182     275925      Fully paid         2\n",
       "8099     150786      Fully paid         2\n",
       "8143     205347      Fully paid         2\n",
       "8000     101022      Fully paid         1\n",
       "7994      95564  Not fully paid         1\n",
       "...         ...             ...       ...\n",
       "7800      63861  Not fully paid         1\n",
       "7801      64266      Fully paid         1\n",
       "7802      64362      Fully paid         1\n",
       "7803      64394      Fully paid         1\n",
       "8199    1207359  Not fully paid         1\n",
       "\n",
       "[601 rows x 3 columns]"
      ]
     },
     "execution_count": 30,
     "metadata": {},
     "output_type": "execute_result"
    }
   ],
   "source": [
    "s_sort_revb= df.groupby('revol_bal')['fully_paid'].value_counts()\n",
    "df_sort_revb = s_sort_revb.to_frame()\n",
    "df_sort_revb.rename(columns={'fully_paid':'count_in'},inplace=True)\n",
    "\n",
    "df_sort_revb.reset_index(inplace=True)\n",
    "df_sort_revb.rename(columns={'fully_paid':'loan_status'},inplace=True)\n",
    "df_sort_revb['loan_status'].replace({1:'Fully paid',0:'Not fully paid'},inplace=True)\n",
    "df_sort_revb1 = df_sort_revb.loc[df_sort_revb['revol_bal'] >=50000]\n",
    "df_sort_revb1.sort_values(by=['count_in'], ascending=False, inplace=True)\n",
    "df_sort_revb1"
   ]
  },
  {
   "cell_type": "code",
   "execution_count": 31,
   "metadata": {},
   "outputs": [
    {
     "data": {
      "image/png": "[encoded data removed]",
      "text/plain": [
       "<Figure size 432x216 with 2 Axes>"
      ]
     },
     "metadata": {},
     "output_type": "display_data"
    }
   ],
   "source": [
    "# similar\n",
    "bins = np.linspace(df_sort_revb1.revol_bal.min(), df_sort_revb1.revol_bal.max(), 33)\n",
    "\n",
    "g = sns.FacetGrid(df_sort_revb1, col=\"loan_status\", hue=\"loan_status\", palette=['#8856a7', '#f03b20'])\n",
    "g.map(plt.hist, 'revol_bal', bins=bins, ec=\"k\")\n",
    "\n",
    "plt.show()"
   ]
  },
  {
   "cell_type": "code",
   "execution_count": 32,
   "metadata": {},
   "outputs": [
    {
     "data": {
      "text/html": [
       "<div>\n",
       "<style scoped>\n",
       "    .dataframe tbody tr th:only-of-type {\n",
       "        vertical-align: middle;\n",
       "    }\n",
       "\n",
       "    .dataframe tbody tr th {\n",
       "        vertical-align: top;\n",
       "    }\n",
       "\n",
       "    .dataframe thead th {\n",
       "        text-align: right;\n",
       "    }\n",
       "</style>\n",
       "<table border=\"1\" class=\"dataframe\">\n",
       "  <thead>\n",
       "    <tr style=\"text-align: right;\">\n",
       "      <th></th>\n",
       "      <th>revol_bal</th>\n",
       "      <th>loan_status</th>\n",
       "      <th>count_in</th>\n",
       "    </tr>\n",
       "  </thead>\n",
       "  <tbody>\n",
       "    <tr>\n",
       "      <th>0</th>\n",
       "      <td>0</td>\n",
       "      <td>Fully paid</td>\n",
       "      <td>262</td>\n",
       "    </tr>\n",
       "    <tr>\n",
       "      <th>1</th>\n",
       "      <td>0</td>\n",
       "      <td>Not fully paid</td>\n",
       "      <td>59</td>\n",
       "    </tr>\n",
       "    <tr>\n",
       "      <th>2</th>\n",
       "      <td>1</td>\n",
       "      <td>Fully paid</td>\n",
       "      <td>4</td>\n",
       "    </tr>\n",
       "    <tr>\n",
       "      <th>3</th>\n",
       "      <td>1</td>\n",
       "      <td>Not fully paid</td>\n",
       "      <td>1</td>\n",
       "    </tr>\n",
       "    <tr>\n",
       "      <th>4</th>\n",
       "      <td>2</td>\n",
       "      <td>Fully paid</td>\n",
       "      <td>2</td>\n",
       "    </tr>\n",
       "    <tr>\n",
       "      <th>...</th>\n",
       "      <td>...</td>\n",
       "      <td>...</td>\n",
       "      <td>...</td>\n",
       "    </tr>\n",
       "    <tr>\n",
       "      <th>8195</th>\n",
       "      <td>407794</td>\n",
       "      <td>Not fully paid</td>\n",
       "      <td>1</td>\n",
       "    </tr>\n",
       "    <tr>\n",
       "      <th>8196</th>\n",
       "      <td>508961</td>\n",
       "      <td>Not fully paid</td>\n",
       "      <td>1</td>\n",
       "    </tr>\n",
       "    <tr>\n",
       "      <th>8197</th>\n",
       "      <td>602519</td>\n",
       "      <td>Fully paid</td>\n",
       "      <td>1</td>\n",
       "    </tr>\n",
       "    <tr>\n",
       "      <th>8198</th>\n",
       "      <td>952013</td>\n",
       "      <td>Fully paid</td>\n",
       "      <td>1</td>\n",
       "    </tr>\n",
       "    <tr>\n",
       "      <th>8199</th>\n",
       "      <td>1207359</td>\n",
       "      <td>Not fully paid</td>\n",
       "      <td>1</td>\n",
       "    </tr>\n",
       "  </tbody>\n",
       "</table>\n",
       "<p>8200 rows × 3 columns</p>\n",
       "</div>"
      ],
      "text/plain": [
       "      revol_bal     loan_status  count_in\n",
       "0             0      Fully paid       262\n",
       "1             0  Not fully paid        59\n",
       "2             1      Fully paid         4\n",
       "3             1  Not fully paid         1\n",
       "4             2      Fully paid         2\n",
       "...         ...             ...       ...\n",
       "8195     407794  Not fully paid         1\n",
       "8196     508961  Not fully paid         1\n",
       "8197     602519      Fully paid         1\n",
       "8198     952013      Fully paid         1\n",
       "8199    1207359  Not fully paid         1\n",
       "\n",
       "[8200 rows x 3 columns]"
      ]
     },
     "execution_count": 32,
     "metadata": {},
     "output_type": "execute_result"
    }
   ],
   "source": [
    "df_sort_revb"
   ]
  },
  {
   "cell_type": "code",
   "execution_count": 33,
   "metadata": {},
   "outputs": [],
   "source": [
    "s_sort_revu= df.groupby('revol_util')['fully_paid'].value_counts()\n",
    "df_sort_revu = s_sort_revu.to_frame()\n",
    "\n",
    "df_sort_revu.rename(columns={'fully_paid':'count_in'},inplace=True)\n",
    "\n",
    "df_sort_revu.reset_index(inplace=True)\n",
    "df_sort_revu.rename(columns={'fully_paid':'loan_status'},inplace=True)\n",
    "df_sort_revu['loan_status'].replace({1:'Fully paid',0:'Not fully paid'},inplace=True)  \n",
    "df_sort_revu.sort_values(by=['count_in'], ascending=False, inplace=True)"
   ]
  },
  {
   "cell_type": "code",
   "execution_count": 34,
   "metadata": {},
   "outputs": [
    {
     "data": {
      "image/png": "[encoded data removed]",
      "text/plain": [
       "<Figure size 432x216 with 2 Axes>"
      ]
     },
     "metadata": {},
     "output_type": "display_data"
    }
   ],
   "source": [
    "# more even for paid loans\n",
    "bins = np.linspace(df_sort_revu.revol_util.min(), df_sort_revu.revol_util.max(), 33)\n",
    "\n",
    "g = sns.FacetGrid(df_sort_revu, col=\"loan_status\", hue=\"loan_status\", palette=['#8856a7', '#f03b20'])\n",
    "g.map(plt.hist, 'revol_util', bins=bins, ec=\"k\")\n",
    "\n",
    "plt.show()"
   ]
  },
  {
   "cell_type": "code",
   "execution_count": 35,
   "metadata": {},
   "outputs": [],
   "source": [
    "s_sort_inq= df.groupby('inq_last_6mths')['fully_paid'].value_counts()\n",
    "df_sort_inq = s_sort_inq.to_frame()\n",
    "\n",
    "df_sort_inq.rename(columns={'fully_paid':'count_in'},inplace=True)\n",
    "\n",
    "df_sort_inq.reset_index(inplace=True)\n",
    "df_sort_inq.rename(columns={'fully_paid':'loan_status'},inplace=True)\n",
    "df_sort_inq['loan_status'].replace({1:'Fully paid',0:'Not fully paid'},inplace=True)  \n",
    "df_sort_inq.sort_values(by=['count_in'], ascending=False, inplace=True)"
   ]
  },
  {
   "cell_type": "code",
   "execution_count": 36,
   "metadata": {},
   "outputs": [
    {
     "data": {
      "image/png": "[encoded data removed]",
      "text/plain": [
       "<Figure size 432x216 with 2 Axes>"
      ]
     },
     "metadata": {},
     "output_type": "display_data"
    }
   ],
   "source": [
    "bins = np.linspace(df_sort_inq.inq_last_6mths.min(), df_sort_inq.inq_last_6mths.max(), 45)\n",
    "\n",
    "g = sns.FacetGrid(df_sort_inq, col=\"loan_status\", hue=\"loan_status\", palette=['#8856a7', '#f03b20'])\n",
    "g.map(plt.hist, 'inq_last_6mths', bins=bins, ec=\"k\")\n",
    "\n",
    "plt.show()"
   ]
  },
  {
   "cell_type": "code",
   "execution_count": 37,
   "metadata": {},
   "outputs": [],
   "source": [
    "s_sort_dlq= df.groupby('delinq_2yrs')['fully_paid'].value_counts()\n",
    "df_sort_dlq = s_sort_dlq.to_frame()\n",
    "\n",
    "df_sort_dlq.rename(columns={'fully_paid':'count_in'},inplace=True)\n",
    "\n",
    "df_sort_dlq.reset_index(inplace=True)\n",
    "df_sort_dlq.rename(columns={'fully_paid':'loan_status'},inplace=True)\n",
    "df_sort_dlq['loan_status'].replace({1:'Fully paid',0:'Not fully paid'},inplace=True)  \n",
    "df_sort_dlq.sort_values(by=['count_in'], ascending=False, inplace=True)"
   ]
  },
  {
   "cell_type": "code",
   "execution_count": 38,
   "metadata": {},
   "outputs": [
    {
     "data": {
      "image/png": "[encoded data removed]",
      "text/plain": [
       "<Figure size 432x216 with 2 Axes>"
      ]
     },
     "metadata": {},
     "output_type": "display_data"
    }
   ],
   "source": [
    "# similar\n",
    "bins = np.linspace(df_sort_dlq.delinq_2yrs.min(), df_sort_dlq.delinq_2yrs.max(), 33)\n",
    "\n",
    "g = sns.FacetGrid(df_sort_dlq, col=\"loan_status\", hue=\"loan_status\", palette=['#8856a7', '#f03b20'])\n",
    "g.map(plt.hist, 'delinq_2yrs', bins=bins, ec=\"k\")\n",
    "\n",
    "plt.show()"
   ]
  },
  {
   "cell_type": "code",
   "execution_count": 39,
   "metadata": {},
   "outputs": [],
   "source": [
    "s_sort_rec= df.groupby('pub_rec')['fully_paid'].value_counts()\n",
    "df_sort_rec = s_sort_rec.to_frame()\n",
    "\n",
    "df_sort_rec.rename(columns={'fully_paid':'count_in'},inplace=True)\n",
    "\n",
    "df_sort_rec.reset_index(inplace=True)\n",
    "df_sort_rec.rename(columns={'fully_paid':'loan_status'},inplace=True)\n",
    "df_sort_rec['loan_status'].replace({1:'Fully paid',0:'Not fully paid'},inplace=True)  \n",
    "df_sort_rec.sort_values(by=['count_in'], ascending=False, inplace=True)"
   ]
  },
  {
   "cell_type": "code",
   "execution_count": 40,
   "metadata": {},
   "outputs": [
    {
     "data": {
      "image/png": "[encoded data removed]",
      "text/plain": [
       "<Figure size 432x216 with 2 Axes>"
      ]
     },
     "metadata": {},
     "output_type": "display_data"
    }
   ],
   "source": [
    "# similar\n",
    "bins = np.linspace(df_sort_rec.pub_rec.min(), df_sort_rec.pub_rec.max(), 33)\n",
    "\n",
    "g = sns.FacetGrid(df_sort_rec, col=\"loan_status\", hue=\"loan_status\", palette=['#8856a7', '#f03b20'])\n",
    "g.map(plt.hist, 'pub_rec', bins=bins, ec=\"k\")\n",
    "\n",
    "plt.show()"
   ]
  },
  {
   "cell_type": "markdown",
   "metadata": {},
   "source": [
    "\n",
    "\n",
    "<span style=\"color:black; font-size:20px\" > Features such as **'days_with_cr_line', 'log_annual_inc', 'installment', 'dti', 'revol_util'**   seem to differ between the fully paid and not paid loans, as seen by comparing of the shapes and values of frequency distribution for each feature. </span>"
   ]
  },
  {
   "cell_type": "markdown",
   "metadata": {},
   "source": [
    "# 2. Feature selection\n",
    "\n",
    "For the first feature set, I select 'credit_policy','installment', 'log_annual_inc', 'dti', 'days_with_cr_line','revol_util' from the visualisations above.\n",
    "For the second feature set, feature selection is performed with the SelectKBest() method and ANOVA-f measure from the scikit-learn library.\n"
   ]
  },
  {
   "cell_type": "code",
   "execution_count": 41,
   "metadata": {},
   "outputs": [],
   "source": [
    "# from the visualisations above plus 1 categorical feature, credit_policy\n",
    "\n",
    "all_features0 = df[['credit_policy','installment', 'log_annual_inc', 'dti', 'days_with_cr_line','revol_util']]"
   ]
  },
  {
   "cell_type": "code",
   "execution_count": 42,
   "metadata": {},
   "outputs": [],
   "source": [
    "# KBest\n",
    "\n",
    "from sklearn.datasets import load_digits\n",
    "from sklearn.feature_selection import SelectKBest,f_classif\n"
   ]
  },
  {
   "cell_type": "code",
   "execution_count": 43,
   "metadata": {},
   "outputs": [],
   "source": [
    "flist = ['int_rate', 'installment', 'log_annual_inc','dti', 'fico', 'days_with_cr_line', 'revol_bal', 'revol_util', \\\n",
    "       'inq_last_6mths','pub_rec']"
   ]
  },
  {
   "cell_type": "code",
   "execution_count": 44,
   "metadata": {},
   "outputs": [
    {
     "data": {
      "text/plain": [
       "(9578, 10)"
      ]
     },
     "execution_count": 44,
     "metadata": {},
     "output_type": "execute_result"
    }
   ],
   "source": [
    "features = df[flist].values\n",
    "features.shape"
   ]
  },
  {
   "cell_type": "code",
   "execution_count": 45,
   "metadata": {},
   "outputs": [],
   "source": [
    "Y = df['fully_paid'].values\n"
   ]
  },
  {
   "cell_type": "code",
   "execution_count": 46,
   "metadata": {},
   "outputs": [
    {
     "data": {
      "text/plain": [
       "SelectKBest(k=4)"
      ]
     },
     "execution_count": 46,
     "metadata": {},
     "output_type": "execute_result"
    }
   ],
   "source": [
    "fs = SelectKBest(score_func=f_classif, k=4)  # choose 4 features\n",
    "fit_selected = fs.fit(features, Y)\n",
    "fit_selected"
   ]
  },
  {
   "cell_type": "code",
   "execution_count": 47,
   "metadata": {},
   "outputs": [],
   "source": [
    "fimportance = fit_selected.scores_"
   ]
  },
  {
   "cell_type": "code",
   "execution_count": 48,
   "metadata": {},
   "outputs": [
    {
     "data": {
      "text/plain": [
       "numpy.ndarray"
      ]
     },
     "execution_count": 48,
     "metadata": {},
     "output_type": "execute_result"
    }
   ],
   "source": [
    "type(fimportance)"
   ]
  },
  {
   "cell_type": "code",
   "execution_count": 49,
   "metadata": {},
   "outputs": [
    {
     "name": "stdout",
     "output_type": "stream",
     "text": [
      "[250.14120228  23.95686725  10.71979245  13.38566487 219.41737141\n",
      "   8.19261323  27.69341779  64.96469182 218.77495366  22.7037686 ]\n"
     ]
    }
   ],
   "source": [
    "print(fimportance)"
   ]
  },
  {
   "cell_type": "code",
   "execution_count": 50,
   "metadata": {},
   "outputs": [
    {
     "data": {
      "text/plain": [
       "array([5, 2, 3, 9, 1, 6, 7, 8, 4, 0])"
      ]
     },
     "execution_count": 50,
     "metadata": {},
     "output_type": "execute_result"
    }
   ],
   "source": [
    "idx = np.argsort(fimportance)\n",
    "idx"
   ]
  },
  {
   "cell_type": "code",
   "execution_count": 51,
   "metadata": {},
   "outputs": [
    {
     "data": {
      "text/plain": [
       "array(['days_with_cr_line', 'log_annual_inc', 'dti', 'pub_rec',\n",
       "       'installment', 'revol_bal', 'revol_util', 'inq_last_6mths', 'fico',\n",
       "       'int_rate'], dtype='<U17')"
      ]
     },
     "execution_count": 51,
     "metadata": {},
     "output_type": "execute_result"
    }
   ],
   "source": [
    "arr_i = np.array(flist)[idx]\n",
    "arr_i"
   ]
  },
  {
   "cell_type": "code",
   "execution_count": 52,
   "metadata": {},
   "outputs": [
    {
     "data": {
      "text/plain": [
       "array([  8.19261323,  10.71979245,  13.38566487,  22.7037686 ,\n",
       "        23.95686725,  27.69341779,  64.96469182, 218.77495366,\n",
       "       219.41737141, 250.14120228])"
      ]
     },
     "execution_count": 52,
     "metadata": {},
     "output_type": "execute_result"
    }
   ],
   "source": [
    "fimportance[idx]"
   ]
  },
  {
   "cell_type": "code",
   "execution_count": 53,
   "metadata": {},
   "outputs": [
    {
     "data": {
      "image/png": "[encoded data removed]",
      "text/plain": [
       "<Figure size 432x288 with 1 Axes>"
      ]
     },
     "metadata": {},
     "output_type": "display_data"
    }
   ],
   "source": [
    "plt.barh(arr_i, fimportance[idx])\n",
    "plt.suptitle('Features ranked by ANOVA F-values', fontsize=14)\n",
    "plt.show()\n"
   ]
  },
  {
   "cell_type": "markdown",
   "metadata": {},
   "source": [
    "##### Best 4 features are 'int_rate', 'fico', 'revol_util', 'inq_last_6mths'."
   ]
  },
  {
   "cell_type": "code",
   "execution_count": null,
   "metadata": {},
   "outputs": [],
   "source": []
  },
  {
   "cell_type": "code",
   "execution_count": 54,
   "metadata": {},
   "outputs": [],
   "source": [
    "# taking these 4 best features plus a credit policy\n",
    "all_features1 = df[['credit_policy','int_rate', 'fico', 'revol_util', 'inq_last_6mths']]"
   ]
  },
  {
   "cell_type": "code",
   "execution_count": 55,
   "metadata": {},
   "outputs": [
    {
     "data": {
      "text/plain": [
       "array([[ 0.49222226, -0.13931753,  0.68882488,  0.18270369, -0.71698894],\n",
       "       [ 0.49222226, -0.57886837, -0.10130263,  1.03060231, -0.71698894],\n",
       "       [ 0.49222226,  0.48648368, -0.75974223, -0.73068304, -0.26247044],\n",
       "       ...,\n",
       "       [-2.03160257, -0.57886837, -0.62805431,  1.24430034,  2.91915909],\n",
       "       [-2.03160257,  1.39166043, -0.49636639, -1.50275334,  1.55560358],\n",
       "       [-2.03160257,  0.61685894,  0.55713697,  0.35159406,  2.01012208]])"
      ]
     },
     "execution_count": 55,
     "metadata": {},
     "output_type": "execute_result"
    }
   ],
   "source": [
    "# Normalizing data\n",
    "from sklearn import preprocessing\n",
    "\n",
    "scaler = preprocessing.StandardScaler()\n",
    "all_features_scaled0 = scaler.fit_transform(all_features0)\n",
    "all_features_scaled0\n",
    "\n",
    "all_features_scaled1 = scaler.fit_transform(all_features1)\n",
    "all_features_scaled1"
   ]
  },
  {
   "cell_type": "markdown",
   "metadata": {},
   "source": [
    "# 3. Correlation and PCA analysis"
   ]
  },
  {
   "cell_type": "code",
   "execution_count": 56,
   "metadata": {},
   "outputs": [
    {
     "data": {
      "text/plain": [
       "Index(['credit_policy', 'purpose', 'int_rate', 'installment', 'log_annual_inc',\n",
       "       'dti', 'fico', 'days_with_cr_line', 'revol_bal', 'revol_util',\n",
       "       'inq_last_6mths', 'delinq_2yrs', 'pub_rec', 'fully_paid'],\n",
       "      dtype='object')"
      ]
     },
     "execution_count": 56,
     "metadata": {},
     "output_type": "execute_result"
    }
   ],
   "source": [
    "df.columns"
   ]
  },
  {
   "cell_type": "code",
   "execution_count": 106,
   "metadata": {},
   "outputs": [
    {
     "data": {
      "text/html": [
       "<div>\n",
       "<style scoped>\n",
       "    .dataframe tbody tr th:only-of-type {\n",
       "        vertical-align: middle;\n",
       "    }\n",
       "\n",
       "    .dataframe tbody tr th {\n",
       "        vertical-align: top;\n",
       "    }\n",
       "\n",
       "    .dataframe thead th {\n",
       "        text-align: right;\n",
       "    }\n",
       "</style>\n",
       "<table border=\"1\" class=\"dataframe\">\n",
       "  <thead>\n",
       "    <tr style=\"text-align: right;\">\n",
       "      <th></th>\n",
       "      <th>int_rate</th>\n",
       "      <th>installment</th>\n",
       "      <th>log_annual_inc</th>\n",
       "      <th>dti</th>\n",
       "      <th>fico</th>\n",
       "      <th>days_with_cr_line</th>\n",
       "      <th>revol_bal</th>\n",
       "      <th>revol_util</th>\n",
       "      <th>inq_last_6mths</th>\n",
       "      <th>pub_rec</th>\n",
       "    </tr>\n",
       "  </thead>\n",
       "  <tbody>\n",
       "    <tr>\n",
       "      <th>int_rate</th>\n",
       "      <td>1.000000</td>\n",
       "      <td>0.276140</td>\n",
       "      <td>0.056383</td>\n",
       "      <td>0.220006</td>\n",
       "      <td>-0.714821</td>\n",
       "      <td>-0.124023</td>\n",
       "      <td>0.092527</td>\n",
       "      <td>0.464837</td>\n",
       "      <td>0.202780</td>\n",
       "      <td>0.098162</td>\n",
       "    </tr>\n",
       "    <tr>\n",
       "      <th>installment</th>\n",
       "      <td>0.276140</td>\n",
       "      <td>1.000000</td>\n",
       "      <td>0.448102</td>\n",
       "      <td>0.050202</td>\n",
       "      <td>0.086039</td>\n",
       "      <td>0.183305</td>\n",
       "      <td>0.233625</td>\n",
       "      <td>0.081356</td>\n",
       "      <td>-0.010419</td>\n",
       "      <td>-0.032760</td>\n",
       "    </tr>\n",
       "    <tr>\n",
       "      <th>log_annual_inc</th>\n",
       "      <td>0.056383</td>\n",
       "      <td>0.448102</td>\n",
       "      <td>1.000000</td>\n",
       "      <td>-0.054065</td>\n",
       "      <td>0.114576</td>\n",
       "      <td>0.336895</td>\n",
       "      <td>0.372140</td>\n",
       "      <td>0.054881</td>\n",
       "      <td>0.029171</td>\n",
       "      <td>0.016506</td>\n",
       "    </tr>\n",
       "    <tr>\n",
       "      <th>dti</th>\n",
       "      <td>0.220006</td>\n",
       "      <td>0.050202</td>\n",
       "      <td>-0.054065</td>\n",
       "      <td>1.000000</td>\n",
       "      <td>-0.241191</td>\n",
       "      <td>0.060101</td>\n",
       "      <td>0.188748</td>\n",
       "      <td>0.337109</td>\n",
       "      <td>0.029189</td>\n",
       "      <td>0.006209</td>\n",
       "    </tr>\n",
       "    <tr>\n",
       "      <th>fico</th>\n",
       "      <td>-0.714821</td>\n",
       "      <td>0.086039</td>\n",
       "      <td>0.114576</td>\n",
       "      <td>-0.241191</td>\n",
       "      <td>1.000000</td>\n",
       "      <td>0.263879</td>\n",
       "      <td>-0.015553</td>\n",
       "      <td>-0.541289</td>\n",
       "      <td>-0.185293</td>\n",
       "      <td>-0.147592</td>\n",
       "    </tr>\n",
       "    <tr>\n",
       "      <th>days_with_cr_line</th>\n",
       "      <td>-0.124023</td>\n",
       "      <td>0.183305</td>\n",
       "      <td>0.336895</td>\n",
       "      <td>0.060101</td>\n",
       "      <td>0.263879</td>\n",
       "      <td>1.000000</td>\n",
       "      <td>0.229346</td>\n",
       "      <td>-0.024240</td>\n",
       "      <td>-0.041737</td>\n",
       "      <td>0.071829</td>\n",
       "    </tr>\n",
       "    <tr>\n",
       "      <th>revol_bal</th>\n",
       "      <td>0.092527</td>\n",
       "      <td>0.233625</td>\n",
       "      <td>0.372140</td>\n",
       "      <td>0.188748</td>\n",
       "      <td>-0.015553</td>\n",
       "      <td>0.229346</td>\n",
       "      <td>1.000000</td>\n",
       "      <td>0.203779</td>\n",
       "      <td>0.022394</td>\n",
       "      <td>-0.031010</td>\n",
       "    </tr>\n",
       "    <tr>\n",
       "      <th>revol_util</th>\n",
       "      <td>0.464837</td>\n",
       "      <td>0.081356</td>\n",
       "      <td>0.054881</td>\n",
       "      <td>0.337109</td>\n",
       "      <td>-0.541289</td>\n",
       "      <td>-0.024240</td>\n",
       "      <td>0.203779</td>\n",
       "      <td>1.000000</td>\n",
       "      <td>-0.013880</td>\n",
       "      <td>0.066717</td>\n",
       "    </tr>\n",
       "    <tr>\n",
       "      <th>inq_last_6mths</th>\n",
       "      <td>0.202780</td>\n",
       "      <td>-0.010419</td>\n",
       "      <td>0.029171</td>\n",
       "      <td>0.029189</td>\n",
       "      <td>-0.185293</td>\n",
       "      <td>-0.041737</td>\n",
       "      <td>0.022394</td>\n",
       "      <td>-0.013880</td>\n",
       "      <td>1.000000</td>\n",
       "      <td>0.072673</td>\n",
       "    </tr>\n",
       "    <tr>\n",
       "      <th>pub_rec</th>\n",
       "      <td>0.098162</td>\n",
       "      <td>-0.032760</td>\n",
       "      <td>0.016506</td>\n",
       "      <td>0.006209</td>\n",
       "      <td>-0.147592</td>\n",
       "      <td>0.071829</td>\n",
       "      <td>-0.031010</td>\n",
       "      <td>0.066717</td>\n",
       "      <td>0.072673</td>\n",
       "      <td>1.000000</td>\n",
       "    </tr>\n",
       "  </tbody>\n",
       "</table>\n",
       "</div>"
      ],
      "text/plain": [
       "                   int_rate  installment  log_annual_inc       dti      fico  \\\n",
       "int_rate           1.000000     0.276140        0.056383  0.220006 -0.714821   \n",
       "installment        0.276140     1.000000        0.448102  0.050202  0.086039   \n",
       "log_annual_inc     0.056383     0.448102        1.000000 -0.054065  0.114576   \n",
       "dti                0.220006     0.050202       -0.054065  1.000000 -0.241191   \n",
       "fico              -0.714821     0.086039        0.114576 -0.241191  1.000000   \n",
       "days_with_cr_line -0.124023     0.183305        0.336895  0.060101  0.263879   \n",
       "revol_bal          0.092527     0.233625        0.372140  0.188748 -0.015553   \n",
       "revol_util         0.464837     0.081356        0.054881  0.337109 -0.541289   \n",
       "inq_last_6mths     0.202780    -0.010419        0.029171  0.029189 -0.185293   \n",
       "pub_rec            0.098162    -0.032760        0.016506  0.006209 -0.147592   \n",
       "\n",
       "                   days_with_cr_line  revol_bal  revol_util  inq_last_6mths  \\\n",
       "int_rate                   -0.124023   0.092527    0.464837        0.202780   \n",
       "installment                 0.183305   0.233625    0.081356       -0.010419   \n",
       "log_annual_inc              0.336895   0.372140    0.054881        0.029171   \n",
       "dti                         0.060101   0.188748    0.337109        0.029189   \n",
       "fico                        0.263879  -0.015553   -0.541289       -0.185293   \n",
       "days_with_cr_line           1.000000   0.229346   -0.024240       -0.041737   \n",
       "revol_bal                   0.229346   1.000000    0.203779        0.022394   \n",
       "revol_util                 -0.024240   0.203779    1.000000       -0.013880   \n",
       "inq_last_6mths             -0.041737   0.022394   -0.013880        1.000000   \n",
       "pub_rec                     0.071829  -0.031010    0.066717        0.072673   \n",
       "\n",
       "                    pub_rec  \n",
       "int_rate           0.098162  \n",
       "installment       -0.032760  \n",
       "log_annual_inc     0.016506  \n",
       "dti                0.006209  \n",
       "fico              -0.147592  \n",
       "days_with_cr_line  0.071829  \n",
       "revol_bal         -0.031010  \n",
       "revol_util         0.066717  \n",
       "inq_last_6mths     0.072673  \n",
       "pub_rec            1.000000  "
      ]
     },
     "execution_count": 106,
     "metadata": {},
     "output_type": "execute_result"
    }
   ],
   "source": [
    "numeric_cols = ['int_rate', 'installment', 'log_annual_inc',\n",
    "       'dti', 'fico', 'days_with_cr_line', 'revol_bal', 'revol_util',\n",
    "       'inq_last_6mths','pub_rec']\n",
    "df_num = df[numeric_cols]\n",
    "df_corr = df_num.corr()\n",
    "df_corr"
   ]
  },
  {
   "cell_type": "code",
   "execution_count": 107,
   "metadata": {},
   "outputs": [
    {
     "data": {
      "text/html": [
       "<div>\n",
       "<style scoped>\n",
       "    .dataframe tbody tr th:only-of-type {\n",
       "        vertical-align: middle;\n",
       "    }\n",
       "\n",
       "    .dataframe tbody tr th {\n",
       "        vertical-align: top;\n",
       "    }\n",
       "\n",
       "    .dataframe thead th {\n",
       "        text-align: right;\n",
       "    }\n",
       "</style>\n",
       "<table border=\"1\" class=\"dataframe\">\n",
       "  <thead>\n",
       "    <tr style=\"text-align: right;\">\n",
       "      <th></th>\n",
       "      <th>int_rate</th>\n",
       "      <th>installment</th>\n",
       "      <th>log_annual_inc</th>\n",
       "      <th>dti</th>\n",
       "      <th>fico</th>\n",
       "      <th>days_with_cr_line</th>\n",
       "      <th>revol_bal</th>\n",
       "      <th>revol_util</th>\n",
       "      <th>inq_last_6mths</th>\n",
       "      <th>pub_rec</th>\n",
       "    </tr>\n",
       "  </thead>\n",
       "  <tbody>\n",
       "    <tr>\n",
       "      <th>int_rate</th>\n",
       "      <td>1</td>\n",
       "      <td>less</td>\n",
       "      <td>less</td>\n",
       "      <td>less</td>\n",
       "      <td>-0.714821</td>\n",
       "      <td>less</td>\n",
       "      <td>less</td>\n",
       "      <td>0.464837</td>\n",
       "      <td>less</td>\n",
       "      <td>less</td>\n",
       "    </tr>\n",
       "    <tr>\n",
       "      <th>installment</th>\n",
       "      <td>less</td>\n",
       "      <td>1</td>\n",
       "      <td>0.448102</td>\n",
       "      <td>less</td>\n",
       "      <td>less</td>\n",
       "      <td>less</td>\n",
       "      <td>less</td>\n",
       "      <td>less</td>\n",
       "      <td>less</td>\n",
       "      <td>less</td>\n",
       "    </tr>\n",
       "    <tr>\n",
       "      <th>log_annual_inc</th>\n",
       "      <td>less</td>\n",
       "      <td>0.448102</td>\n",
       "      <td>1</td>\n",
       "      <td>less</td>\n",
       "      <td>less</td>\n",
       "      <td>less</td>\n",
       "      <td>0.37214</td>\n",
       "      <td>less</td>\n",
       "      <td>less</td>\n",
       "      <td>less</td>\n",
       "    </tr>\n",
       "    <tr>\n",
       "      <th>dti</th>\n",
       "      <td>less</td>\n",
       "      <td>less</td>\n",
       "      <td>less</td>\n",
       "      <td>1</td>\n",
       "      <td>less</td>\n",
       "      <td>less</td>\n",
       "      <td>less</td>\n",
       "      <td>less</td>\n",
       "      <td>less</td>\n",
       "      <td>less</td>\n",
       "    </tr>\n",
       "    <tr>\n",
       "      <th>fico</th>\n",
       "      <td>-0.714821</td>\n",
       "      <td>less</td>\n",
       "      <td>less</td>\n",
       "      <td>less</td>\n",
       "      <td>1</td>\n",
       "      <td>less</td>\n",
       "      <td>less</td>\n",
       "      <td>-0.541289</td>\n",
       "      <td>less</td>\n",
       "      <td>less</td>\n",
       "    </tr>\n",
       "    <tr>\n",
       "      <th>days_with_cr_line</th>\n",
       "      <td>less</td>\n",
       "      <td>less</td>\n",
       "      <td>less</td>\n",
       "      <td>less</td>\n",
       "      <td>less</td>\n",
       "      <td>1</td>\n",
       "      <td>less</td>\n",
       "      <td>less</td>\n",
       "      <td>less</td>\n",
       "      <td>less</td>\n",
       "    </tr>\n",
       "    <tr>\n",
       "      <th>revol_bal</th>\n",
       "      <td>less</td>\n",
       "      <td>less</td>\n",
       "      <td>0.37214</td>\n",
       "      <td>less</td>\n",
       "      <td>less</td>\n",
       "      <td>less</td>\n",
       "      <td>1</td>\n",
       "      <td>less</td>\n",
       "      <td>less</td>\n",
       "      <td>less</td>\n",
       "    </tr>\n",
       "    <tr>\n",
       "      <th>revol_util</th>\n",
       "      <td>0.464837</td>\n",
       "      <td>less</td>\n",
       "      <td>less</td>\n",
       "      <td>less</td>\n",
       "      <td>-0.541289</td>\n",
       "      <td>less</td>\n",
       "      <td>less</td>\n",
       "      <td>1</td>\n",
       "      <td>less</td>\n",
       "      <td>less</td>\n",
       "    </tr>\n",
       "    <tr>\n",
       "      <th>inq_last_6mths</th>\n",
       "      <td>less</td>\n",
       "      <td>less</td>\n",
       "      <td>less</td>\n",
       "      <td>less</td>\n",
       "      <td>less</td>\n",
       "      <td>less</td>\n",
       "      <td>less</td>\n",
       "      <td>less</td>\n",
       "      <td>1</td>\n",
       "      <td>less</td>\n",
       "    </tr>\n",
       "    <tr>\n",
       "      <th>pub_rec</th>\n",
       "      <td>less</td>\n",
       "      <td>less</td>\n",
       "      <td>less</td>\n",
       "      <td>less</td>\n",
       "      <td>less</td>\n",
       "      <td>less</td>\n",
       "      <td>less</td>\n",
       "      <td>less</td>\n",
       "      <td>less</td>\n",
       "      <td>1</td>\n",
       "    </tr>\n",
       "  </tbody>\n",
       "</table>\n",
       "</div>"
      ],
      "text/plain": [
       "                   int_rate installment log_annual_inc   dti      fico  \\\n",
       "int_rate                  1        less           less  less -0.714821   \n",
       "installment            less           1       0.448102  less      less   \n",
       "log_annual_inc         less    0.448102              1  less      less   \n",
       "dti                    less        less           less     1      less   \n",
       "fico              -0.714821        less           less  less         1   \n",
       "days_with_cr_line      less        less           less  less      less   \n",
       "revol_bal              less        less        0.37214  less      less   \n",
       "revol_util         0.464837        less           less  less -0.541289   \n",
       "inq_last_6mths         less        less           less  less      less   \n",
       "pub_rec                less        less           less  less      less   \n",
       "\n",
       "                  days_with_cr_line revol_bal revol_util inq_last_6mths  \\\n",
       "int_rate                       less      less   0.464837           less   \n",
       "installment                    less      less       less           less   \n",
       "log_annual_inc                 less   0.37214       less           less   \n",
       "dti                            less      less       less           less   \n",
       "fico                           less      less  -0.541289           less   \n",
       "days_with_cr_line                 1      less       less           less   \n",
       "revol_bal                      less         1       less           less   \n",
       "revol_util                     less      less          1           less   \n",
       "inq_last_6mths                 less      less       less              1   \n",
       "pub_rec                        less      less       less           less   \n",
       "\n",
       "                  pub_rec  \n",
       "int_rate             less  \n",
       "installment          less  \n",
       "log_annual_inc       less  \n",
       "dti                  less  \n",
       "fico                 less  \n",
       "days_with_cr_line    less  \n",
       "revol_bal            less  \n",
       "revol_util           less  \n",
       "inq_last_6mths       less  \n",
       "pub_rec                 1  "
      ]
     },
     "execution_count": 107,
     "metadata": {},
     "output_type": "execute_result"
    }
   ],
   "source": [
    "# int_rate/fico, revol_util/fico, int_rate/revol_util, log_annual_inc/installment, log_annual_inc/revol_bal seem to be significantly correlated.\n",
    "df_big_corr = df_corr.apply(lambda x: [y if abs(y) >= 0.35 else 'less' for y in x])\n",
    "df_big_corr"
   ]
  },
  {
   "cell_type": "code",
   "execution_count": 110,
   "metadata": {},
   "outputs": [
    {
     "data": {
      "text/plain": [
       "(array([0.5, 1.5, 2.5, 3.5, 4.5, 5.5, 6.5, 7.5, 8.5, 9.5]),\n",
       " [Text(0.5, 0, 'int_rate'),\n",
       "  Text(1.5, 0, 'installment'),\n",
       "  Text(2.5, 0, 'log_annual_inc'),\n",
       "  Text(3.5, 0, 'dti'),\n",
       "  Text(4.5, 0, 'fico'),\n",
       "  Text(5.5, 0, 'days_with_cr_line'),\n",
       "  Text(6.5, 0, 'revol_bal'),\n",
       "  Text(7.5, 0, 'revol_util'),\n",
       "  Text(8.5, 0, 'inq_last_6mths'),\n",
       "  Text(9.5, 0, 'pub_rec')])"
      ]
     },
     "execution_count": 110,
     "metadata": {},
     "output_type": "execute_result"
    },
    {
     "data": {
      "image/png": "[encoded data removed]",
      "text/plain": [
       "<Figure size 864x576 with 2 Axes>"
      ]
     },
     "metadata": {
      "needs_background": "light"
     },
     "output_type": "display_data"
    }
   ],
   "source": [
    "fig,ax = plt.subplots (figsize =(12,8))\n",
    "sns.heatmap(df_corr, square=True, vmin =-1, vmax=1, cmap='RdYlBu')\n",
    "plt.xticks(rotation=90)"
   ]
  },
  {
   "cell_type": "markdown",
   "metadata": {},
   "source": [
    "### Principle Component Analysis"
   ]
  },
  {
   "cell_type": "code",
   "execution_count": 60,
   "metadata": {},
   "outputs": [
    {
     "data": {
      "text/plain": [
       "(9578, 11)"
      ]
     },
     "execution_count": 60,
     "metadata": {},
     "output_type": "execute_result"
    }
   ],
   "source": [
    "all_features2 = df[['credit_policy' ,'int_rate', 'installment', 'log_annual_inc',\n",
    "       'dti', 'fico', 'days_with_cr_line', 'revol_bal', 'revol_util',\n",
    "       'inq_last_6mths','pub_rec']]\n",
    "all_features2.shape\n"
   ]
  },
  {
   "cell_type": "code",
   "execution_count": 61,
   "metadata": {},
   "outputs": [
    {
     "data": {
      "text/plain": [
       "(9578, 10)"
      ]
     },
     "execution_count": 61,
     "metadata": {},
     "output_type": "execute_result"
    }
   ],
   "source": [
    "# features excluding 'fico' as a feature due to 2 highly correlated pairs, fico/int_rate and fico/revol_util\n",
    "\n",
    "all_features3 = df[['credit_policy' ,'int_rate', 'installment', 'log_annual_inc',\n",
    "       'dti', 'days_with_cr_line', 'revol_bal', 'revol_util',\n",
    "       'inq_last_6mths','pub_rec']]\n",
    "all_features3.shape"
   ]
  },
  {
   "cell_type": "code",
   "execution_count": null,
   "metadata": {},
   "outputs": [],
   "source": []
  },
  {
   "cell_type": "code",
   "execution_count": 62,
   "metadata": {},
   "outputs": [
    {
     "data": {
      "text/plain": [
       "array([[ 0.49222226, -0.13931753,  2.46309947, ...,  0.18270369,\n",
       "        -0.71698894, -0.23700318],\n",
       "       [ 0.49222226, -0.57886837, -0.43885443, ...,  1.03060231,\n",
       "        -0.71698894, -0.23700318],\n",
       "       [ 0.49222226,  0.48648368,  0.23070836, ..., -0.73068304,\n",
       "        -0.26247044, -0.23700318],\n",
       "       ...,\n",
       "       [-2.03160257, -0.57886837, -1.06867038, ...,  1.24430034,\n",
       "         2.91915909, -0.23700318],\n",
       "       [-2.03160257,  1.39166043,  0.1569135 , ..., -1.50275334,\n",
       "         1.55560358, -0.23700318],\n",
       "       [-2.03160257,  0.61685894,  2.58060136, ...,  0.35159406,\n",
       "         2.01012208, -0.23700318]])"
      ]
     },
     "execution_count": 62,
     "metadata": {},
     "output_type": "execute_result"
    }
   ],
   "source": [
    "# Normalizing data\n",
    "from sklearn import preprocessing\n",
    "\n",
    "scaler = preprocessing.StandardScaler()\n",
    "all_features_scaled2 = scaler.fit_transform(all_features2)\n",
    "all_features_scaled2\n",
    "\n",
    "all_features_scaled3 = scaler.fit_transform(all_features3)\n",
    "all_features_scaled3"
   ]
  },
  {
   "cell_type": "code",
   "execution_count": 63,
   "metadata": {},
   "outputs": [
    {
     "data": {
      "text/plain": [
       "(9578,)"
      ]
     },
     "execution_count": 63,
     "metadata": {},
     "output_type": "execute_result"
    }
   ],
   "source": [
    "y = df['fully_paid']\n",
    "y.shape"
   ]
  },
  {
   "cell_type": "code",
   "execution_count": 64,
   "metadata": {},
   "outputs": [],
   "source": [
    "from sklearn.model_selection import train_test_split\n",
    "X_train, X_test, y_train, y_test = train_test_split(all_features_scaled2, y, test_size = 0.2, random_state=18)"
   ]
  },
  {
   "cell_type": "code",
   "execution_count": 65,
   "metadata": {},
   "outputs": [
    {
     "data": {
      "image/png": "[encoded data removed]",
      "text/plain": [
       "<Figure size 432x288 with 1 Axes>"
      ]
     },
     "metadata": {},
     "output_type": "display_data"
    }
   ],
   "source": [
    "# Choosing the number of PCA components: it looks like each of the first 3 PCA components explain over 10% of varience.\n",
    "from sklearn.decomposition import PCA\n",
    "pca = PCA()\n",
    "X_train_pca = pca.fit_transform(X_train)\n",
    "per_var = np.round(pca.explained_variance_ratio_* 100, decimals=1)\n",
    "labels = ['PC' + str(x) for x in range(1, len(per_var)+1)]\n",
    " \n",
    "import matplotlib.pyplot as plt    \n",
    "plt.bar(x=range(1,len(per_var)+1), height=per_var, tick_label=labels)\n",
    "plt.ylabel('Percentage of Explained Variance')\n",
    "plt.xlabel('Principal Component')\n",
    "plt.title('Scree Plot')\n",
    "plt.show()"
   ]
  },
  {
   "cell_type": "code",
   "execution_count": 66,
   "metadata": {},
   "outputs": [
    {
     "data": {
      "image/png": "[encoded data removed]",
      "text/plain": [
       "<Figure size 432x288 with 1 Axes>"
      ]
     },
     "metadata": {},
     "output_type": "display_data"
    }
   ],
   "source": [
    "# Without fica. the first 5 PCA components are most pronounced.\n",
    "\n",
    "X_train1, X_test1, y_train1, y_test1 = train_test_split(all_features_scaled3, y, test_size = 0.2, random_state=18)\n",
    "\n",
    "\n",
    "from sklearn.decomposition import PCA\n",
    "pca = PCA()\n",
    "X_train_pca = pca.fit_transform(X_train1)\n",
    "per_var = np.round(pca.explained_variance_ratio_* 100, decimals=1)\n",
    "labels = ['PC' + str(x) for x in range(1, len(per_var)+1)]\n",
    " \n",
    "import matplotlib.pyplot as plt    \n",
    "plt.bar(x=range(1,len(per_var)+1), height=per_var, tick_label=labels)\n",
    "plt.ylabel('Percentage of Explained Variance')\n",
    "plt.xlabel('Principal Component')\n",
    "plt.title('Scree Plot')\n",
    "plt.show()"
   ]
  },
  {
   "cell_type": "markdown",
   "metadata": {},
   "source": [
    "# 4. Modelling the loan payoff.\n",
    "\n",
    "I use all features, the features selected from visualisations, and the features selected by KBest. Then I use the features from the PCA analysis and the features including a new designed feature. The Neural Networks model uses all features. I choose the model with the highest accuracy score for prediction.\n"
   ]
  },
  {
   "cell_type": "code",
   "execution_count": 67,
   "metadata": {},
   "outputs": [],
   "source": [
    "from sklearn.metrics import roc_auc_score, roc_curve, auc\n",
    "from sklearn.model_selection import GridSearchCV\n",
    "from sklearn.linear_model import LogisticRegression\n",
    "from sklearn.svm import SVC\n",
    "from sklearn.ensemble import GradientBoostingClassifier\n",
    "from sklearn.tree import DecisionTreeClassifier\n",
    "from sklearn.ensemble import RandomForestClassifier\n",
    "from sklearn.neighbors import KNeighborsClassifier"
   ]
  },
  {
   "cell_type": "markdown",
   "metadata": {},
   "source": [
    "### All features"
   ]
  },
  {
   "cell_type": "markdown",
   "metadata": {},
   "source": [
    "#### Logistic regression"
   ]
  },
  {
   "cell_type": "code",
   "execution_count": 68,
   "metadata": {},
   "outputs": [
    {
     "name": "stdout",
     "output_type": "stream",
     "text": [
      "Accuracy of RF classifier on training set: 0.841425\n",
      "Accuracy of RF classifier on test set: 0.831420\n"
     ]
    }
   ],
   "source": [
    "lr = LogisticRegression(solver = 'sag')\n",
    "lr.fit(X_train, y_train)\n",
    "\n",
    "print('Accuracy of RF classifier on training set: {:.6f}'\n",
    "     .format(lr.score(X_train, y_train)))\n",
    "print('Accuracy of RF classifier on test set: {:.6f}'\n",
    "     .format(lr.score(X_test, y_test)))"
   ]
  },
  {
   "cell_type": "markdown",
   "metadata": {},
   "source": [
    "#### Decision Tree and Random Forest models"
   ]
  },
  {
   "cell_type": "code",
   "execution_count": 69,
   "metadata": {},
   "outputs": [
    {
     "name": "stdout",
     "output_type": "stream",
     "text": [
      "Accuracy of DT classifier on training set: 0.84260\n",
      "Accuracy of DT classifier on test set: 0.83351\n"
     ]
    }
   ],
   "source": [
    "dtc = DecisionTreeClassifier(max_depth = 4, min_samples_leaf = 6, random_state = 0).fit(X_train, y_train)\n",
    "\n",
    "print('Accuracy of DT classifier on training set: {:.5f}'\n",
    "     .format(dtc.score(X_train, y_train)))\n",
    "print('Accuracy of DT classifier on test set: {:.5f}'\n",
    "     .format(dtc.score(X_test, y_test)))\n",
    "\n",
    "# max_depth=4, test acc = 83.3%"
   ]
  },
  {
   "cell_type": "code",
   "execution_count": 70,
   "metadata": {},
   "outputs": [
    {
     "name": "stdout",
     "output_type": "stream",
     "text": [
      "Grid best parameter (max. AUC):  {'max_depth': 3, 'n_estimators': 10}\n",
      "Accuracy of RF classifier on training set: 0.842078\n",
      "Accuracy of RF classifier on test set: 0.835073\n"
     ]
    }
   ],
   "source": [
    "rf = RandomForestClassifier()\n",
    "grid_values = {'max_depth': [3,4,6],'n_estimators': [10,12,14]}\n",
    "grid_rf_auc = GridSearchCV( rf, param_grid = grid_values, cv=3, scoring='roc_auc')\n",
    "grid_rf_auc.fit(X_train, y_train)\n",
    "print('Grid best parameter (max. AUC): ', grid_rf_auc.best_params_)\n",
    "\n",
    "rfc = RandomForestClassifier(n_estimators = 14, max_depth=4, max_features = None, random_state = 4).fit(X_train, y_train)\n",
    "\n",
    "print('Accuracy of RF classifier on training set: {:.6f}'\n",
    "     .format(rfc.score(X_train, y_train)))\n",
    "print('Accuracy of RF classifier on test set: {:.6f}'\n",
    "     .format(rfc.score(X_test, y_test)))"
   ]
  },
  {
   "cell_type": "code",
   "execution_count": 71,
   "metadata": {},
   "outputs": [],
   "source": [
    "# test acc = 83.51%"
   ]
  },
  {
   "cell_type": "markdown",
   "metadata": {},
   "source": [
    "#### Gradient Boosting"
   ]
  },
  {
   "cell_type": "code",
   "execution_count": null,
   "metadata": {},
   "outputs": [],
   "source": [
    "gr = GradientBoostingClassifier()\n",
    "grid_values = {'learning_rate': [0.008,0.009],'n_estimators': [300,320]}\n",
    "grid_grc = GridSearchCV( gr, param_grid = grid_values, cv=5, scoring='roc_auc')\n",
    "grid_grc.fit(X_train, y_train)\n",
    "\n",
    "print('Model best parameter (max. AUC): ', grid_grc.best_params_)\n",
    "print('Model score (AUC): ', grid_grc.best_score_)\n",
    "    \n",
    "grc= GradientBoostingClassifier(learning_rate = 0.009, max_depth = 3, n_estimators=320).fit(X_train, y_train)\n",
    "print('Accuracy of GB classifier on training set: {:.5f}'\n",
    "     .format(grc.score(X_train, y_train)))\n",
    "print('Accuracy of GB classifier on test set: {:.5f}'\n",
    "     .format(grc.score(X_test, y_test)))"
   ]
  },
  {
   "cell_type": "code",
   "execution_count": null,
   "metadata": {},
   "outputs": [],
   "source": [
    "# acc score 83.56%"
   ]
  },
  {
   "cell_type": "markdown",
   "metadata": {},
   "source": [
    "#### Support Vector Classifier"
   ]
  },
  {
   "cell_type": "code",
   "execution_count": null,
   "metadata": {},
   "outputs": [],
   "source": [
    "svm_r = SVC()\n",
    "grid_values = [{'C':[1,10,100],'gamma':[0.001,0.003],'kernel': ['rbf']}]\n",
    "\n",
    "optimal_params = GridSearchCV(svm_r,grid_values,cv=5, verbose=0)\n",
    "\n",
    "optimal_params.fit(X_train, y_train)\n",
    "optimal_params.best_params_"
   ]
  },
  {
   "cell_type": "code",
   "execution_count": null,
   "metadata": {},
   "outputs": [],
   "source": [
    "svm_model = SVC(gamma=0.001, C = 1, kernel = 'rbf').fit(X_train, y_train)\n",
    "\n",
    "print('Accuracy of SV classifier on training set: {:.5f}'\n",
    "     .format(svm_model.score(X_train, y_train)))\n",
    "print('Accuracy of SV classifier on test set: {:.5f}'\n",
    "     .format(svm_model.score(X_test, y_test)))"
   ]
  },
  {
   "cell_type": "code",
   "execution_count": null,
   "metadata": {},
   "outputs": [],
   "source": [
    "svm_l = SVC()\n",
    "grid_values = [{'C':[1,10],'gamma':[0.001,0.005],'kernel': ['linear']}]\n",
    "\n",
    "optimal_params = GridSearchCV(svm_l,grid_values,cv=5, verbose=0)\n",
    "\n",
    "optimal_params.fit(X_train, y_train)\n",
    "optimal_params.best_params_"
   ]
  },
  {
   "cell_type": "code",
   "execution_count": null,
   "metadata": {},
   "outputs": [],
   "source": [
    "svm_model = SVC(gamma=0.001, C = 1, kernel = 'linear').fit(X_train, y_train)\n",
    "\n",
    "print('Accuracy of SV classifier on training set: {:.5f}'\n",
    "     .format(svm_model.score(X_train, y_train)))\n",
    "print('Accuracy of SV classifier on test set: {:.5f}'\n",
    "     .format(svm_model.score(X_test, y_test)))"
   ]
  },
  {
   "cell_type": "markdown",
   "metadata": {},
   "source": [
    "#### Logistic binary classification"
   ]
  },
  {
   "cell_type": "code",
   "execution_count": null,
   "metadata": {},
   "outputs": [],
   "source": [
    "lr = LogisticRegression(solver = 'sag')\n",
    "lr.fit(X_train, y_train)\n",
    "lr.score(X_test, y_test)\n"
   ]
  },
  {
   "cell_type": "markdown",
   "metadata": {},
   "source": [
    "#### KNN"
   ]
  },
  {
   "cell_type": "code",
   "execution_count": null,
   "metadata": {},
   "outputs": [],
   "source": [
    "from sklearn.neighbors import KNeighborsClassifier\n",
    "k = 15\n",
    "\n",
    "knn_model = KNeighborsClassifier(n_neighbors=k).fit(X_train,y_train)\n",
    "\n",
    "print('Accuracy of KN classifier on training set: {:.5f}'\n",
    "     .format(knn_model.score(X_train, y_train)))\n",
    "print('Accuracy of KN classifier on test set: {:.5f}'\n",
    "     .format(knn_model.score(X_test, y_test)))"
   ]
  },
  {
   "cell_type": "code",
   "execution_count": null,
   "metadata": {},
   "outputs": [],
   "source": [
    "# Best k\n",
    "Ks=18\n",
    "mean_acc=np.zeros((Ks-1))\n",
    "std_acc=np.zeros((Ks-1))\n",
    "ConfustionMx=[];\n",
    "for n in range(1,Ks):\n",
    "    \n",
    "    #Train Model and Predict  \n",
    "    kNN_model = KNeighborsClassifier(n_neighbors=n).fit(X_train,y_train)\n",
    "    yhat = kNN_model.predict(X_test)\n",
    "    \n",
    "    \n",
    "    mean_acc[n-1]=np.mean(yhat==y_test);\n",
    "    \n",
    "    std_acc[n-1]=np.std(yhat==y_test)/np.sqrt(yhat.shape[0])\n",
    "mean_acc"
   ]
  },
  {
   "cell_type": "markdown",
   "metadata": {},
   "source": [
    " ### 6 features - 'credit_policy','installment', 'log_annual_inc', 'dti', 'days_with_cr_line','revol_util'"
   ]
  },
  {
   "cell_type": "code",
   "execution_count": null,
   "metadata": {},
   "outputs": [],
   "source": [
    "X_train0, X_test0, y_train0, y_test0 = train_test_split(all_features_scaled0, y, test_size = 0.2, random_state=18)"
   ]
  },
  {
   "cell_type": "markdown",
   "metadata": {},
   "source": [
    "#### Random Forest"
   ]
  },
  {
   "cell_type": "code",
   "execution_count": null,
   "metadata": {},
   "outputs": [],
   "source": [
    "rf = RandomForestClassifier()\n",
    "grid_values = {'max_depth': [3,4,6],'n_estimators': [14,16,20]}\n",
    "grid_rf_auc = GridSearchCV( rf, param_grid = grid_values, cv=3, scoring='roc_auc')\n",
    "grid_rf_auc.fit(X_train0, y_train0)\n",
    "print('Grid best parameter (max. AUC): ', grid_rf_auc.best_params_)\n",
    "\n",
    "rfc = RandomForestClassifier(n_estimators = 14, max_depth=4, max_features = None, random_state = 4).fit(X_train0, y_train0)\n",
    "\n",
    "print('Accuracy of RF classifier on training set: {:.6f}'\n",
    "     .format(rfc.score(X_train0, y_train0)))\n",
    "print('Accuracy of RF classifier on test set: {:.6f}'\n",
    "     .format(rfc.score(X_test0, y_test0)))"
   ]
  },
  {
   "cell_type": "markdown",
   "metadata": {},
   "source": [
    "#### Gradient Boosting"
   ]
  },
  {
   "cell_type": "code",
   "execution_count": null,
   "metadata": {},
   "outputs": [],
   "source": [
    "gr = GradientBoostingClassifier()\n",
    "grid_values = {'learning_rate': [0.009,0.1, 0.2],'n_estimators': [300,320]}\n",
    "grid_grc = GridSearchCV( gr, param_grid = grid_values, cv=5, scoring='roc_auc')\n",
    "grid_grc.fit(X_train0, y_train0)\n",
    "\n",
    "print('Model best parameter (max. AUC): ', grid_grc.best_params_)\n",
    "print('Model score (AUC): ', grid_grc.best_score_)\n",
    "    \n",
    "grc= GradientBoostingClassifier(learning_rate = 0.009, max_depth = 4, n_estimators=300).fit(X_train0, y_train0)\n",
    "print('Accuracy of GB classifier on training set: {:.5f}'\n",
    "     .format(grc.score(X_train0, y_train0)))\n",
    "print('Accuracy of GB classifier on test set: {:.5f}'\n",
    "     .format(grc.score(X_test0, y_test0)))"
   ]
  },
  {
   "cell_type": "markdown",
   "metadata": {},
   "source": [
    "#### Support Vector"
   ]
  },
  {
   "cell_type": "code",
   "execution_count": null,
   "metadata": {},
   "outputs": [],
   "source": [
    "svm_l = SVC()\n",
    "grid_values = [{'C':[1,10],'gamma':[0.001,0.005],'kernel': ['linear']}]\n",
    "\n",
    "optimal_params = GridSearchCV(svm_l,grid_values,cv=5, verbose=0)\n",
    "\n",
    "optimal_params.fit(X_train0, y_train0)\n",
    "optimal_params.best_params_\n",
    "\n",
    "svm_model = SVC(gamma=0.001, C = 1, kernel = 'linear').fit(X_train0, y_train0)\n",
    "\n",
    "print('Accuracy of SV classifier on training set: {:.5f}'\n",
    "     .format(svm_model.score(X_train0, y_train0)))\n",
    "print('Accuracy of SV classifier on test set: {:.5f}'\n",
    "     .format(svm_model.score(X_test0, y_test0)))"
   ]
  },
  {
   "cell_type": "markdown",
   "metadata": {},
   "source": [
    "#### Logistic regression"
   ]
  },
  {
   "cell_type": "code",
   "execution_count": null,
   "metadata": {},
   "outputs": [],
   "source": [
    "from sklearn.linear_model import LogisticRegression\n",
    "lr = LogisticRegression(solver = 'sag')\n",
    "lr.fit(X_train0, y_train0)\n",
    "lr.score(X_test0, y_test0)"
   ]
  },
  {
   "cell_type": "markdown",
   "metadata": {},
   "source": [
    "#### KNN"
   ]
  },
  {
   "cell_type": "code",
   "execution_count": null,
   "metadata": {},
   "outputs": [],
   "source": [
    "from sklearn.neighbors import KNeighborsClassifier  \n",
    "k = 13\n",
    "\n",
    "knn_model = KNeighborsClassifier(n_neighbors=k).fit(X_train0,y_train0)\n",
    "\n",
    "print('Accuracy of KN classifier on training set: {:.5f}'\n",
    "     .format(knn_model.score(X_train0, y_train0)))\n",
    "print('Accuracy of KN classifier on test set: {:.5f}'\n",
    "     .format(knn_model.score(X_test0, y_test0)))"
   ]
  },
  {
   "cell_type": "code",
   "execution_count": null,
   "metadata": {},
   "outputs": [],
   "source": [
    "# Best k\n",
    "Ks=18\n",
    "mean_acc=np.zeros((Ks-1))\n",
    "std_acc=np.zeros((Ks-1))\n",
    "ConfustionMx=[];\n",
    "for n in range(1,Ks):\n",
    "    \n",
    "    #Train Model and Predict  \n",
    "    kNN_model = KNeighborsClassifier(n_neighbors=n).fit(X_train0,y_train0)\n",
    "    yhat = kNN_model.predict(X_test0)\n",
    "    \n",
    "    \n",
    "    mean_acc[n-1]=np.mean(yhat==y_test0);\n",
    "    \n",
    "    std_acc[n-1]=np.std(yhat==y_test0)/np.sqrt(yhat.shape[0])\n",
    "mean_acc"
   ]
  },
  {
   "cell_type": "markdown",
   "metadata": {},
   "source": [
    "### 5 features - 'credit_policy','int_rate', 'fico','revol_util', 'inq_last_6mths'"
   ]
  },
  {
   "cell_type": "code",
   "execution_count": null,
   "metadata": {},
   "outputs": [],
   "source": [
    "X_train1, X_test1, y_train1, y_test1 = train_test_split(all_features_scaled1, y, test_size = 0.2, random_state=18)"
   ]
  },
  {
   "cell_type": "markdown",
   "metadata": {},
   "source": [
    "#### Random Forest"
   ]
  },
  {
   "cell_type": "code",
   "execution_count": null,
   "metadata": {},
   "outputs": [],
   "source": [
    "rf = RandomForestClassifier()\n",
    "grid_values = {'max_depth': [4,6],'n_estimators': [24,26,30]}\n",
    "grid_rf_auc = GridSearchCV( rf, param_grid = grid_values, cv=3, scoring='roc_auc')\n",
    "grid_rf_auc.fit(X_train1, y_train1)\n",
    "print('Grid best parameter (max. AUC): ', grid_rf_auc.best_params_)\n",
    "\n",
    "rfc = RandomForestClassifier(n_estimators = 26, max_depth=4, max_features = None, random_state = 4).fit(X_train1, y_train1)\n",
    "\n",
    "print('Accuracy of RF classifier on training set: {:.6f}'\n",
    "     .format(rfc.score(X_train1, y_train1)))\n",
    "print('Accuracy of RF classifier on test set: {:.6f}'\n",
    "     .format(rfc.score(X_test1, y_test1)))"
   ]
  },
  {
   "cell_type": "markdown",
   "metadata": {},
   "source": [
    "#### Gradient Boosting"
   ]
  },
  {
   "cell_type": "code",
   "execution_count": null,
   "metadata": {},
   "outputs": [],
   "source": [
    "gr = GradientBoostingClassifier()\n",
    "grid_values = {'learning_rate': [0.008,0.009],'n_estimators': [300,320]}\n",
    "grid_grc = GridSearchCV( gr, param_grid = grid_values, cv=5, scoring='roc_auc')\n",
    "grid_grc.fit(X_train1, y_train1)\n",
    "\n",
    "print('Model best parameter (max. AUC): ', grid_grc.best_params_)\n",
    "print('Model score (AUC): ', grid_grc.best_score_)\n",
    "    \n",
    "grc= GradientBoostingClassifier(learning_rate = 0.009, max_depth = 4, n_estimators=320).fit(X_train1, y_train1)\n",
    "print('Accuracy of GB classifier on training set: {:.5f}'\n",
    "     .format(grc.score(X_train1, y_train1)))\n",
    "print('Accuracy of GB classifier on test set: {:.5f}'\n",
    "     .format(grc.score(X_test1, y_test1)))"
   ]
  },
  {
   "cell_type": "markdown",
   "metadata": {},
   "source": [
    "#### Support Vector"
   ]
  },
  {
   "cell_type": "code",
   "execution_count": null,
   "metadata": {},
   "outputs": [],
   "source": [
    "svm_l = SVC()\n",
    "grid_values = [{'C':[0.5, 1],'gamma':[0.001,0.005],'kernel': ['linear']}]\n",
    "\n",
    "optimal_params = GridSearchCV(svm_l,grid_values,cv=5, verbose=0)\n",
    "\n",
    "optimal_params.fit(X_train1, y_train1)\n",
    "optimal_params.best_params_\n",
    "\n",
    "svm_model = SVC(gamma=0.001, C = 1, kernel = 'linear').fit(X_train1, y_train1)\n",
    "\n",
    "print('Accuracy of SV classifier on training set: {:.5f}'\n",
    "     .format(svm_model.score(X_train1, y_train1)))\n",
    "print('Accuracy of SV classifier on test set: {:.5f}'\n",
    "     .format(svm_model.score(X_test1, y_test1)))"
   ]
  },
  {
   "cell_type": "markdown",
   "metadata": {},
   "source": [
    "#### Logistic regression"
   ]
  },
  {
   "cell_type": "code",
   "execution_count": null,
   "metadata": {},
   "outputs": [],
   "source": [
    "lr = LogisticRegression(solver = 'sag')\n",
    "lr.fit(X_train1, y_train1)\n",
    "lr.score(X_test1, y_test1)"
   ]
  },
  {
   "cell_type": "markdown",
   "metadata": {},
   "source": [
    "#### KNN"
   ]
  },
  {
   "cell_type": "code",
   "execution_count": null,
   "metadata": {},
   "outputs": [],
   "source": [
    "from sklearn.neighbors import KNeighborsClassifier  \n",
    "k = 13\n",
    "\n",
    "knn_model = KNeighborsClassifier(n_neighbors=k).fit(X_train1,y_train1)\n",
    "\n",
    "print('Accuracy of KN classifier on training set: {:.5f}'\n",
    "     .format(knn_model.score(X_train1, y_train1)))\n",
    "print('Accuracy of KN classifier on test set: {:.5f}'\n",
    "     .format(knn_model.score(X_test1, y_test1)))"
   ]
  },
  {
   "cell_type": "code",
   "execution_count": null,
   "metadata": {},
   "outputs": [],
   "source": [
    "# Best k\n",
    "Ks=18\n",
    "mean_acc=np.zeros((Ks-1))\n",
    "std_acc=np.zeros((Ks-1))\n",
    "ConfustionMx=[];\n",
    "for n in range(1,Ks):\n",
    "    \n",
    "    #Train Model and Predict  \n",
    "    kNN_model = KNeighborsClassifier(n_neighbors=n).fit(X_train1,y_train1)\n",
    "    yhat = kNN_model.predict(X_test1)\n",
    "    \n",
    "    \n",
    "    mean_acc[n-1]=np.mean(yhat==y_test1);\n",
    "    \n",
    "    std_acc[n-1]=np.std(yhat==y_test1)/np.sqrt(yhat.shape[0])\n",
    "mean_acc"
   ]
  },
  {
   "cell_type": "markdown",
   "metadata": {},
   "source": [
    "#### Adding a new feature as multiplication of 3 columns"
   ]
  },
  {
   "cell_type": "code",
   "execution_count": null,
   "metadata": {},
   "outputs": [],
   "source": [
    "df['mult_int_fico'] = df['fico'] * df['int_rate'] * df['revol_util']\n",
    "df"
   ]
  },
  {
   "cell_type": "code",
   "execution_count": null,
   "metadata": {},
   "outputs": [],
   "source": [
    "#int_rate/fico, revol_util/fico"
   ]
  },
  {
   "cell_type": "code",
   "execution_count": null,
   "metadata": {},
   "outputs": [],
   "source": [
    "all_feactures5 = [ 'installment', 'log_annual_inc','dti', 'days_with_cr_line', 'revol_bal', 'revol_util',\n",
    "       'inq_last_6mths','pub_rec','mult_int_fico']\n",
    "df_num = df[all_feactures5]\n",
    "df_corr = df_num.corr()\n",
    "df_corr"
   ]
  },
  {
   "cell_type": "code",
   "execution_count": null,
   "metadata": {},
   "outputs": [],
   "source": [
    "n_features = df[all_feactures5]\n",
    "n_features_scaled = scaler.fit_transform(n_features)\n",
    "n_features_scaled"
   ]
  },
  {
   "cell_type": "code",
   "execution_count": null,
   "metadata": {},
   "outputs": [],
   "source": [
    "X_train5, X_test5, y_train5, y_test5 = train_test_split(n_features_scaled, y, test_size = 0.2, random_state=18)"
   ]
  },
  {
   "cell_type": "markdown",
   "metadata": {},
   "source": [
    "#### Adding 3 new features as multiplication of \n",
    "\n",
    "    -int_rate/fico, revol_util/fico\n",
    "    -log_annual_inc, int_rate\n",
    "    -int_rate, revol_util"
   ]
  },
  {
   "cell_type": "code",
   "execution_count": null,
   "metadata": {},
   "outputs": [],
   "source": [
    "#int_rate/fico, revol_util/fico\n",
    "\n",
    "# log_annual_inc, installment\n",
    "# int_rate, revol_util\n",
    "#df['log_installment'] = np.log(df['installment'])\n",
    "df['mult_inc_inst']  = df['log_annual_inc'] * df['installment'] \n",
    "df['mult_int_re_util'] = df['int_rate'] * df['revol_util']\n",
    "df.columns"
   ]
  },
  {
   "cell_type": "code",
   "execution_count": null,
   "metadata": {},
   "outputs": [],
   "source": [
    "all_feactures6 = ['credit_policy','dti', 'days_with_cr_line', 'revol_bal',\n",
    "       'inq_last_6mths','pub_rec','mult_int_fico','mult_inc_inst','mult_int_re_util']"
   ]
  },
  {
   "cell_type": "code",
   "execution_count": null,
   "metadata": {},
   "outputs": [],
   "source": [
    "n_features6 = df[all_feactures6]\n",
    "n_features_scaled6 = scaler.fit_transform(n_features6)"
   ]
  },
  {
   "cell_type": "code",
   "execution_count": null,
   "metadata": {},
   "outputs": [],
   "source": [
    "X_train6, X_test6, y_train6, y_test6 = train_test_split(n_features_scaled6, y, test_size = 0.2, random_state=18)"
   ]
  },
  {
   "cell_type": "code",
   "execution_count": null,
   "metadata": {},
   "outputs": [],
   "source": []
  },
  {
   "cell_type": "markdown",
   "metadata": {},
   "source": [
    "#### Random Forest Classifier"
   ]
  },
  {
   "cell_type": "code",
   "execution_count": null,
   "metadata": {},
   "outputs": [],
   "source": [
    "# 0.836117 n_est=20, max_depth=6\n",
    "rf = RandomForestClassifier()\n",
    "grid_values = {'max_depth': [4,6],'n_estimators': [18,20,24]}\n",
    "grid_rf_auc = GridSearchCV( rf, param_grid = grid_values, cv=3, scoring='roc_auc')\n",
    "grid_rf_auc.fit(X_train5, y_train5)\n",
    "print('Grid best parameter (max. AUC): ', grid_rf_auc.best_params_)\n",
    "\n",
    "rfc = RandomForestClassifier(n_estimators = 20, max_depth=4, max_features = None, random_state = 4).fit(X_train5, y_train5)\n",
    "\n",
    "print('Accuracy of RF classifier on training set: {:.6f}'\n",
    "     .format(rfc.score(X_train5, y_train5)))\n",
    "print('Accuracy of RF classifier on test set: {:.6f}'\n",
    "     .format(rfc.score(X_test5, y_test5)))"
   ]
  },
  {
   "cell_type": "markdown",
   "metadata": {},
   "source": [
    "#### Gradient Boosting Classifier"
   ]
  },
  {
   "cell_type": "code",
   "execution_count": null,
   "metadata": {},
   "outputs": [],
   "source": [
    "# 0.83455\n",
    "gr = GradientBoostingClassifier()\n",
    "grid_values = {'learning_rate': [0.008,0.009],'n_estimators': [300,320]}\n",
    "grid_grc = GridSearchCV( gr, param_grid = grid_values, cv=5, scoring='roc_auc')\n",
    "grid_grc.fit(X_train5, y_train5)\n",
    "\n",
    "print('Model best parameter (max. AUC): ', grid_grc.best_params_)\n",
    "print('Model score (AUC): ', grid_grc.best_score_)\n",
    "    \n",
    "grc= GradientBoostingClassifier(learning_rate = 0.009, max_depth = 4, n_estimators=320).fit(X_train5, y_train5)\n",
    "print('Accuracy of GB classifier on training set: {:.5f}'\n",
    "     .format(grc.score(X_train5, y_train5)))\n",
    "print('Accuracy of GB classifier on test set: {:.5f}'\n",
    "     .format(grc.score(X_test5, y_test5)))"
   ]
  },
  {
   "cell_type": "code",
   "execution_count": null,
   "metadata": {},
   "outputs": [],
   "source": [
    "# 0.83559"
   ]
  },
  {
   "cell_type": "markdown",
   "metadata": {},
   "source": [
    " #### Support Vector Classifier"
   ]
  },
  {
   "cell_type": "code",
   "execution_count": null,
   "metadata": {},
   "outputs": [],
   "source": [
    "# 0.83507\n",
    "svm_l = SVC()\n",
    "grid_values = [{'C':[0.5,1],'gamma':[0.001,0.005],'kernel': ['linear']}]\n",
    "\n",
    "optimal_params = GridSearchCV(svm_l,grid_values,cv=5, verbose=0)\n",
    "\n",
    "optimal_params.fit(X_train5, y_train5)\n",
    "print(optimal_params.best_params_)\n",
    "\n",
    "svm_model = SVC(gamma=0.001, C = 1, kernel = 'linear').fit(X_train5, y_train5)\n",
    "\n",
    "print('Accuracy of SV classifier on training set: {:.5f}'\n",
    "     .format(svm_model.score(X_train5, y_train5)))\n",
    "print('Accuracy of SV classifier on test set: {:.5f}'\n",
    "     .format(svm_model.score(X_test5, y_test5)))"
   ]
  },
  {
   "cell_type": "markdown",
   "metadata": {},
   "source": [
    "#### KNN"
   ]
  },
  {
   "cell_type": "code",
   "execution_count": null,
   "metadata": {},
   "outputs": [],
   "source": [
    "# 0.83664\n",
    "from sklearn.neighbors import KNeighborsClassifier  \n",
    "k = 13\n",
    "\n",
    "knn_model = KNeighborsClassifier(n_neighbors=k).fit(X_train5,y_train5)\n",
    "\n",
    "print('Accuracy of KN classifier on training set: {:.5f}'\n",
    "     .format(knn_model.score(X_train5, y_train5)))\n",
    "print('Accuracy of KN classifier on test set: {:.5f}'\n",
    "     .format(knn_model.score(X_test5, y_test5)))"
   ]
  },
  {
   "cell_type": "code",
   "execution_count": null,
   "metadata": {},
   "outputs": [],
   "source": [
    "# Best k\n",
    "Ks=18\n",
    "mean_acc=np.zeros((Ks-1))\n",
    "std_acc=np.zeros((Ks-1))\n",
    "ConfustionMx=[];\n",
    "for n in range(1,Ks):\n",
    "    \n",
    "    #Train Model and Predict  \n",
    "    kNN_model = KNeighborsClassifier(n_neighbors=n).fit(X_train5,y_train5)\n",
    "    yhat = kNN_model.predict(X_test5)\n",
    "    \n",
    "    \n",
    "    mean_acc[n-1]=np.mean(yhat==y_test5);\n",
    "    \n",
    "    std_acc[n-1]=np.std(yhat==y_test5)/np.sqrt(yhat.shape[0])\n",
    "mean_acc"
   ]
  },
  {
   "cell_type": "markdown",
   "metadata": {},
   "source": [
    "#### Random Forest Classifier"
   ]
  },
  {
   "cell_type": "code",
   "execution_count": null,
   "metadata": {},
   "outputs": [],
   "source": [
    "rf = RandomForestClassifier()\n",
    "grid_values = {'max_depth': [4,6],'n_estimators': [18,20,24]}\n",
    "grid_rf_auc = GridSearchCV( rf, param_grid = grid_values, cv=3, scoring='roc_auc')\n",
    "grid_rf_auc.fit(X_train6, y_train6)\n",
    "print('Grid best parameter (max. AUC): ', grid_rf_auc.best_params_)\n",
    "\n",
    "rfc = RandomForestClassifier(n_estimators = 20, max_depth=4, max_features = None, random_state = 4).fit(X_train6, y_train6)\n",
    "\n",
    "print('Accuracy of RF classifier on training set: {:.6f}'\n",
    "     .format(rfc.score(X_train6, y_train6)))\n",
    "print('Accuracy of RF classifier on test set: {:.6f}'\n",
    "     .format(rfc.score(X_test6, y_test6)))"
   ]
  },
  {
   "cell_type": "markdown",
   "metadata": {},
   "source": [
    "#### Gradient Boosting Classifier"
   ]
  },
  {
   "cell_type": "code",
   "execution_count": null,
   "metadata": {},
   "outputs": [],
   "source": [
    "gr = GradientBoostingClassifier()\n",
    "grid_values = {'learning_rate': [0.008,0.009],'n_estimators': [300,320]}\n",
    "grid_grc = GridSearchCV( gr, param_grid = grid_values, cv=5, scoring='roc_auc')\n",
    "grid_grc.fit(X_train6, y_train6)\n",
    "\n",
    "print('Model best parameter (max. AUC): ', grid_grc.best_params_)\n",
    "print('Model score (AUC): ', grid_grc.best_score_)\n",
    "    \n",
    "grc= GradientBoostingClassifier(learning_rate = 0.009, max_depth = 4, n_estimators=320).fit(X_train6, y_train6)\n",
    "print('Accuracy of GB classifier on training set: {:.5f}'\n",
    "     .format(grc.score(X_train6, y_train6)))\n",
    "print('Accuracy of GB classifier on test set: {:.5f}'\n",
    "     .format(grc.score(X_test6, y_test6)))"
   ]
  },
  {
   "cell_type": "markdown",
   "metadata": {},
   "source": [
    " #### Support Vector Classifier"
   ]
  },
  {
   "cell_type": "code",
   "execution_count": null,
   "metadata": {},
   "outputs": [],
   "source": [
    "svm_l = SVC()\n",
    "grid_values = [{'C':[0.5,1],'gamma':[0.001,0.005],'kernel': ['linear']}]\n",
    "\n",
    "optimal_params = GridSearchCV(svm_l,grid_values,cv=5, verbose=0)\n",
    "\n",
    "optimal_params.fit(X_train6, y_train6)\n",
    "print(optimal_params.best_params_)\n",
    "\n",
    "svm_model = SVC(gamma=0.001, C = 1, kernel = 'linear').fit(X_train6, y_train6)\n",
    "\n",
    "print('Accuracy of SV classifier on training set: {:.5f}'\n",
    "     .format(svm_model.score(X_train6, y_train6)))\n",
    "print('Accuracy of SV classifier on test set: {:.5f}'\n",
    "     .format(svm_model.score(X_test6, y_test6)))"
   ]
  },
  {
   "cell_type": "markdown",
   "metadata": {},
   "source": [
    "#### KNN"
   ]
  },
  {
   "cell_type": "code",
   "execution_count": null,
   "metadata": {},
   "outputs": [],
   "source": [
    "# 0.83873 k =14\n",
    "\n",
    "from sklearn.neighbors import KNeighborsClassifier  \n",
    "k = 16\n",
    "\n",
    "knn_model = KNeighborsClassifier(n_neighbors=k).fit(X_train6,y_train6)\n",
    "\n",
    "print('Accuracy of KN classifier on training set: {:.5f}'\n",
    "     .format(knn_model.score(X_train6, y_train6)))\n",
    "print('Accuracy of KN classifier on test set: {:.5f}'\n",
    "     .format(knn_model.score(X_test6, y_test6)))"
   ]
  },
  {
   "cell_type": "code",
   "execution_count": null,
   "metadata": {},
   "outputs": [],
   "source": [
    "Ks=18\n",
    "mean_acc=np.zeros((Ks-1))\n",
    "std_acc=np.zeros((Ks-1))\n",
    "ConfustionMx=[];\n",
    "for n in range(1,Ks):\n",
    "    \n",
    "    #Train Model and Predict  \n",
    "    kNN_model = KNeighborsClassifier(n_neighbors=n).fit(X_train6,y_train6)\n",
    "    yhat = kNN_model.predict(X_test6)\n",
    "    \n",
    "    \n",
    "    mean_acc[n-1]=np.mean(yhat==y_test6);\n",
    "    \n",
    "    std_acc[n-1]=np.std(yhat==y_test6)/np.sqrt(yhat.shape[0])\n",
    "mean_acc"
   ]
  },
  {
   "cell_type": "markdown",
   "metadata": {},
   "source": [
    "### PCA Models"
   ]
  },
  {
   "cell_type": "code",
   "execution_count": null,
   "metadata": {},
   "outputs": [],
   "source": [
    "from sklearn.decomposition import PCA\n",
    "from sklearn.preprocessing import StandardScaler\n",
    "X_train_pca, X_test_pca, y_train_pca, y_test_pca = train_test_split(all_features2, y, test_size = 0.2, random_state=18)\n",
    "\n",
    "scaler = StandardScaler()\n",
    "#scaler.fit(X_train_pca)\n",
    "\n",
    "X_train_scpca = scaler.fit_transform(X_train_pca) # do it this way not to leak the data from the test set.\n",
    "X_test_scpca = scaler.transform(X_test_pca)"
   ]
  },
  {
   "cell_type": "code",
   "execution_count": null,
   "metadata": {},
   "outputs": [],
   "source": [
    "# Excluding fica as a feature\n",
    "X_train_pca, X_test_pca, y_train_pca, y_test_pca = train_test_split(all_features2, y, test_size = 0.2, random_state=18)\n",
    "\n",
    "scaler = StandardScaler()\n",
    "\n",
    "X_train_scpca = scaler.fit_transform(X_train_pca) # do it this way not to leak the data from the test set.\n",
    "X_test_scpca = scaler.transform(X_test_pca)"
   ]
  },
  {
   "cell_type": "code",
   "execution_count": null,
   "metadata": {},
   "outputs": [],
   "source": [
    "pca = PCA(n_components = 5).fit(X_train_scpca) # fitting PCA on the training set.\n",
    "\n",
    "Xtrain_pca = pca.transform(X_train_scpca)\n",
    "Xtest_pca = pca.transform(X_test_scpca)"
   ]
  },
  {
   "cell_type": "markdown",
   "metadata": {},
   "source": [
    "#### Gradient Boosting Classifier()"
   ]
  },
  {
   "cell_type": "code",
   "execution_count": null,
   "metadata": {},
   "outputs": [],
   "source": [
    "gr = GradientBoostingClassifier()\n",
    "grid_values = {'learning_rate': [0.008,0.009],'n_estimators': [300,320]}\n",
    "grid_grc = GridSearchCV( gr, param_grid = grid_values, cv=5, scoring='roc_auc')\n",
    "grid_grc.fit(Xtrain_pca, y_train_pca)\n",
    "\n",
    "print('Model best parameter (max. AUC): ', grid_grc.best_params_)\n",
    "print('Model score (AUC): ', grid_grc.best_score_)\n",
    "    \n",
    "grc= GradientBoostingClassifier(learning_rate = 0.008, max_depth = 4, n_estimators=300).fit(Xtrain_pca, y_train_pca)\n",
    "print('Accuracy of GB classifier on training set: {:.5f}'\n",
    "     .format(grc.score(Xtrain_pca, y_train_pca)))\n",
    "print('Accuracy of GB classifier on test set: {:.5f}'\n",
    "     .format(grc.score(Xtest_pca, y_test_pca)))"
   ]
  },
  {
   "cell_type": "code",
   "execution_count": null,
   "metadata": {},
   "outputs": [],
   "source": [
    "# Accuracy of GB classifier on test set: 0.83507"
   ]
  },
  {
   "cell_type": "code",
   "execution_count": null,
   "metadata": {},
   "outputs": [],
   "source": [
    "pred_loan = grc.predict_proba(Xtest_pca)[:, 1].astype(np.float32)\n",
    "answer_gbc = pd.Series(pred_loan)\n",
    "df['fully_paid_prediction'] = answer_gbc\n",
    "answer_gbc"
   ]
  },
  {
   "cell_type": "markdown",
   "metadata": {},
   "source": [
    "#### Support Vector Classifier(SVC)"
   ]
  },
  {
   "cell_type": "code",
   "execution_count": null,
   "metadata": {},
   "outputs": [],
   "source": [
    "svm_r = SVC()\n",
    "grid_values = [{'C':[0.5,1],'gamma':[0.001,0.003],'kernel': ['rbf']}]\n",
    "\n",
    "grid_svc = GridSearchCV(svm_r,grid_values,cv=5, verbose=0)\n",
    "\n",
    "grid_svc.fit(Xtrain_pca, y_train_pca)\n",
    "print('Model best parameter: ', grid_svc.best_params_)\n",
    "\n",
    "svc_model = SVC(gamma=0.001, C = 1, kernel = 'rbf').fit(Xtrain_pca, y_train_pca)\n",
    "\n",
    "print('Accuracy of SV classifier on training set: {:.5f}'\n",
    "     .format(svc_model.score(Xtrain_pca, y_train_pca)))\n",
    "print('Accuracy of SV classifier on test set: {:.5f}'\n",
    "     .format(svc_model.score(Xtest_pca, y_test_pca)))"
   ]
  },
  {
   "cell_type": "markdown",
   "metadata": {},
   "source": [
    "#### KNN"
   ]
  },
  {
   "cell_type": "code",
   "execution_count": null,
   "metadata": {},
   "outputs": [],
   "source": [
    "from sklearn.neighbors import KNeighborsClassifier\n",
    "k = 13\n",
    "\n",
    "knn_model = KNeighborsClassifier(n_neighbors=k).fit(Xtrain_pca, y_train_pca)\n",
    "\n",
    "print('Accuracy of KN classifier on training set: {:.5f}'\n",
    "     .format(knn_model.score(Xtrain_pca, y_train_pca)))\n",
    "print('Accuracy of KN classifier on test set: {:.5f}'\n",
    "     .format(knn_model.score(Xtest_pca, y_test_pca)))"
   ]
  },
  {
   "cell_type": "code",
   "execution_count": null,
   "metadata": {},
   "outputs": [],
   "source": [
    "# Best k\n",
    "Ks=18\n",
    "mean_acc=np.zeros((Ks-1))\n",
    "std_acc=np.zeros((Ks-1))\n",
    "ConfustionMx=[];\n",
    "for n in range(1,Ks):\n",
    "    \n",
    "    #Train Model and Predict  \n",
    "    kNN_model = KNeighborsClassifier(n_neighbors=n).fit(Xtrain_pca, y_train_pca)\n",
    "    yhat = kNN_model.predict(Xtest_pca)\n",
    "    \n",
    "    \n",
    "    mean_acc[n-1]=np.mean(yhat==y_test_pca);\n",
    "    \n",
    "    std_acc[n-1]=np.std(yhat==y_test_pca)/np.sqrt(yhat.shape[0])\n",
    "mean_acc"
   ]
  },
  {
   "cell_type": "markdown",
   "metadata": {},
   "source": [
    "#### Random Forest"
   ]
  },
  {
   "cell_type": "code",
   "execution_count": null,
   "metadata": {},
   "outputs": [],
   "source": [
    "rf = RandomForestClassifier()\n",
    "grid_values = {'max_depth': [3,4,6],'n_estimators': [10,12,14]}\n",
    "grid_rf_auc = GridSearchCV( rf, param_grid = grid_values, cv=3, scoring='roc_auc')\n",
    "grid_rf_auc.fit(Xtrain_pca, y_train_pca)\n",
    "print('Grid best parameter (max. AUC): ', grid_rf_auc.best_params_)\n",
    "\n",
    "rfc = RandomForestClassifier(n_estimators = 10, max_depth=3, max_features = None, random_state = 4).fit(Xtrain_pca, y_train_pca)\n",
    "\n",
    "print('Accuracy of RF classifier on training set: {:.6f}'\n",
    "     .format(rfc.score(Xtrain_pca, y_train_pca)))\n",
    "print('Accuracy of RF classifier on test set: {:.6f}'\n",
    "     .format(rfc.score(Xtest_pca, y_test_pca)))"
   ]
  },
  {
   "cell_type": "code",
   "execution_count": null,
   "metadata": {},
   "outputs": [],
   "source": []
  },
  {
   "cell_type": "markdown",
   "metadata": {},
   "source": [
    "## Neural Networks"
   ]
  },
  {
   "cell_type": "code",
   "execution_count": null,
   "metadata": {},
   "outputs": [],
   "source": [
    "from tensorflow.keras.layers import Dense\n",
    "from tensorflow.keras.models import Sequential\n",
    "#"
   ]
  },
  {
   "cell_type": "code",
   "execution_count": null,
   "metadata": {},
   "outputs": [],
   "source": [
    "\n",
    "model = Sequential()\n",
    " \n",
    "model.add(Dense(6, input_dim=11, kernel_initializer='normal', activation='relu'))\n",
    "\n",
    "model.add(Dense(4, kernel_initializer='normal', activation='relu'))\n",
    "    # Output layer with a binary classification ('paid' or not 'paid')\n",
    "model.add(Dense(1, kernel_initializer='normal', activation='sigmoid'))\n",
    "   \n",
    "model.compile(loss='binary_crossentropy', optimizer='adam', metrics=['accuracy'])\n"
   ]
  },
  {
   "cell_type": "code",
   "execution_count": null,
   "metadata": {},
   "outputs": [],
   "source": [
    "model.fit(X_train, y_train, epochs=20,verbose=2,validation_data=(X_test, y_test))"
   ]
  },
  {
   "cell_type": "code",
   "execution_count": null,
   "metadata": {},
   "outputs": [],
   "source": [
    "score, acc = model.evaluate(X_test, y_test, batch_size=32,  verbose=2)\n",
    "print('NN Test score:', score)\n",
    "print('NN Test accuracy:', acc)\n",
    "\n",
    "# epochs = 5, validation_split =0.2"
   ]
  },
  {
   "cell_type": "code",
   "execution_count": null,
   "metadata": {},
   "outputs": [],
   "source": [
    "# 20 epochs  - accuracy of 83.51%"
   ]
  },
  {
   "cell_type": "code",
   "execution_count": null,
   "metadata": {},
   "outputs": [],
   "source": [
    "# another NN model"
   ]
  },
  {
   "cell_type": "code",
   "execution_count": null,
   "metadata": {},
   "outputs": [],
   "source": [
    "from tensorflow.keras.layers import Dense, Activation, Dropout\n",
    "from tensorflow.keras.optimizers import Adam\n",
    "optimizer = Adam(learning_rate=0.001, beta_1 = 0.9, beta_2 = 0.999, epsilon = 1e-07, amsgrad = False)\n",
    "model2 = Sequential()\n",
    "model2.add(Dense(250, input_dim = 11, kernel_initializer='normal',activation='relu'))\n",
    "model2.add(Dense(500,activation = 'relu'))\n",
    "model2.add(Dropout(0.1))\n",
    "model2.add(Dense(1000, activation = 'relu'))\n",
    "model2.add(Dropout(0.1))\n",
    "model2.add(Dense(1000, activation = 'relu'))\n",
    "model2.add(Dropout(0.1))\n",
    "model2.add(Dense(500, activation = 'relu'))\n",
    "model2.add(Dropout(0.1))\n",
    "model2.add(Dense(250, activation = 'relu'))\n",
    "model2.add(Dropout(0.1))\n",
    "model2.add(Dense(1, activation = 'linear'))\n",
    "model2.compile(loss='binary_crossentropy', optimizer='adam', metrics=['accuracy'])"
   ]
  },
  {
   "cell_type": "code",
   "execution_count": null,
   "metadata": {},
   "outputs": [],
   "source": [
    "model2.fit (X_train, y_train, epochs=20,verbose=2,validation_data=(X_test, y_test))"
   ]
  },
  {
   "cell_type": "code",
   "execution_count": null,
   "metadata": {},
   "outputs": [],
   "source": [
    "score, acc = model2.evaluate(X_test, y_test, batch_size=32,  verbose=2)\n",
    "print('Model_2 Test score:', score)\n",
    "print('Model_2 Test accuracy:', acc)"
   ]
  },
  {
   "cell_type": "markdown",
   "metadata": {},
   "source": [
    "# 5. Predicting the loan payoff.\n",
    "Best performing model is the KNN model with 3 added features giving an accuracy of 0.8398 (84%) on test data."
   ]
  },
  {
   "cell_type": "code",
   "execution_count": null,
   "metadata": {},
   "outputs": [],
   "source": [
    "knn_model = KNeighborsClassifier(n_neighbors=16).fit(X_train6,y_train6)\n",
    "\n",
    "print('Accuracy of KN classifier on test set: {:.5f}'\n",
    "     .format(knn_model.score(X_test6, y_test6)))"
   ]
  },
  {
   "cell_type": "code",
   "execution_count": null,
   "metadata": {},
   "outputs": [],
   "source": [
    "pred_loan = knn_model.predict_proba(X_test6)[:, 1].astype(np.float32)\n",
    "answer = pd.Series(pred_loan)\n",
    "answer\n"
   ]
  },
  {
   "cell_type": "markdown",
   "metadata": {},
   "source": [
    "### Judging Criteria\n",
    "| CATEGORY | WEIGHTAGE | DETAILS                                                              |\n",
    "|:---------|:----------|:---------------------------------------------------------------------|\n",
    "| **Analysis** | 30%       | <ul><li>Documentation on the goal and what was included in the analysis</li><li>How the question was approached</li><li>Visualisation tools and techniques utilized</li></ul>       |\n",
    "| **Results**  | 30%       | <ul><li>How the results derived related to the problem chosen</li><li>The ability to trigger potential further analysis</li></ul> |\n",
    "| **Creativity** | 40% | <ul><li>How \"out of the box\" the analysis conducted is</li><li>Whether the publication is properly motivated and adds value</li></ul> |"
   ]
  },
  {
   "cell_type": "code",
   "execution_count": null,
   "metadata": {},
   "outputs": [],
   "source": []
  }
 ],
 "metadata": {
  "colab": {
   "name": "Welcome to DataCamp Workspaces.ipynb",
   "provenance": []
  },
  "kernelspec": {
   "display_name": "Python 3",
   "language": "python",
   "name": "python3"
  },
  "language_info": {
   "codemirror_mode": {
    "name": "ipython",
    "version": 3
   },
   "file_extension": ".py",
   "mimetype": "text/x-python",
   "name": "python",
   "nbconvert_exporter": "python",
   "pygments_lexer": "ipython3",
   "version": "3.6.13"
  }
 },
 "nbformat": 4,
 "nbformat_minor": 4
}
