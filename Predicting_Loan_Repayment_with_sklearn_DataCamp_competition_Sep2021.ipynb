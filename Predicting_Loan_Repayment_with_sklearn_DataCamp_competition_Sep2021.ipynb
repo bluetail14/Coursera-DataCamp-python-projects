{
 "cells": [
  {
   "cell_type": "markdown",
   "metadata": {
    "tags": []
   },
   "source": [
    "<a href=\"datacamp.com/workspacecompetition\" target=\"_blank\">![banner](banner.png)</a>\n",
    "\n",
    "# Loan Data\n",
    "\n",
    "Ready to put your coding skills to the test? Join us for our Workspace Competition.  \n",
    "For more information, visit [datacamp.com/workspacecompetition](https://datacamp.com/workspacecompetition) "
   ]
  },
  {
   "cell_type": "markdown",
   "metadata": {},
   "source": [
    "## Context\n",
    "This dataset ([source](https://www.kaggle.com/itssuru/loan-data)) consists of data from almost 10,000 borrowers that took loans - with some paid back and others still in progress. It was extracted from lendingclub.com which is an organization that connects borrowers with investors. We've included a few suggested questions at the end of this template to help you get started."
   ]
  },
  {
   "cell_type": "code",
   "execution_count": 1,
   "metadata": {},
   "outputs": [],
   "source": [
    "# Load packages\n",
    "import numpy as np \n",
    "import pandas as pd"
   ]
  },
  {
   "cell_type": "markdown",
   "metadata": {},
   "source": [
    "## Load your data"
   ]
  },
  {
   "cell_type": "code",
   "execution_count": 2,
   "metadata": {},
   "outputs": [
    {
     "name": "stdout",
     "output_type": "stream",
     "text": [
      "Number of rows/records: 9578\n",
      "Number of columns/variables: 14\n"
     ]
    },
    {
     "data": {
      "text/html": [
       "<div>\n",
       "<style scoped>\n",
       "    .dataframe tbody tr th:only-of-type {\n",
       "        vertical-align: middle;\n",
       "    }\n",
       "\n",
       "    .dataframe tbody tr th {\n",
       "        vertical-align: top;\n",
       "    }\n",
       "\n",
       "    .dataframe thead th {\n",
       "        text-align: right;\n",
       "    }\n",
       "</style>\n",
       "<table border=\"1\" class=\"dataframe\">\n",
       "  <thead>\n",
       "    <tr style=\"text-align: right;\">\n",
       "      <th></th>\n",
       "      <th>credit_policy</th>\n",
       "      <th>purpose</th>\n",
       "      <th>int_rate</th>\n",
       "      <th>installment</th>\n",
       "      <th>log_annual_inc</th>\n",
       "      <th>dti</th>\n",
       "      <th>fico</th>\n",
       "      <th>days_with_cr_line</th>\n",
       "      <th>revol_bal</th>\n",
       "      <th>revol_util</th>\n",
       "      <th>inq_last_6mths</th>\n",
       "      <th>delinq_2yrs</th>\n",
       "      <th>pub_rec</th>\n",
       "      <th>not_fully_paid</th>\n",
       "    </tr>\n",
       "  </thead>\n",
       "  <tbody>\n",
       "    <tr>\n",
       "      <th>0</th>\n",
       "      <td>1</td>\n",
       "      <td>debt_consolidation</td>\n",
       "      <td>0.1189</td>\n",
       "      <td>829.10</td>\n",
       "      <td>11.350407</td>\n",
       "      <td>19.48</td>\n",
       "      <td>737</td>\n",
       "      <td>5639.958333</td>\n",
       "      <td>28854</td>\n",
       "      <td>52.1</td>\n",
       "      <td>0</td>\n",
       "      <td>0</td>\n",
       "      <td>0</td>\n",
       "      <td>0</td>\n",
       "    </tr>\n",
       "    <tr>\n",
       "      <th>1</th>\n",
       "      <td>1</td>\n",
       "      <td>credit_card</td>\n",
       "      <td>0.1071</td>\n",
       "      <td>228.22</td>\n",
       "      <td>11.082143</td>\n",
       "      <td>14.29</td>\n",
       "      <td>707</td>\n",
       "      <td>2760.000000</td>\n",
       "      <td>33623</td>\n",
       "      <td>76.7</td>\n",
       "      <td>0</td>\n",
       "      <td>0</td>\n",
       "      <td>0</td>\n",
       "      <td>0</td>\n",
       "    </tr>\n",
       "    <tr>\n",
       "      <th>2</th>\n",
       "      <td>1</td>\n",
       "      <td>debt_consolidation</td>\n",
       "      <td>0.1357</td>\n",
       "      <td>366.86</td>\n",
       "      <td>10.373491</td>\n",
       "      <td>11.63</td>\n",
       "      <td>682</td>\n",
       "      <td>4710.000000</td>\n",
       "      <td>3511</td>\n",
       "      <td>25.6</td>\n",
       "      <td>1</td>\n",
       "      <td>0</td>\n",
       "      <td>0</td>\n",
       "      <td>0</td>\n",
       "    </tr>\n",
       "    <tr>\n",
       "      <th>3</th>\n",
       "      <td>1</td>\n",
       "      <td>debt_consolidation</td>\n",
       "      <td>0.1008</td>\n",
       "      <td>162.34</td>\n",
       "      <td>11.350407</td>\n",
       "      <td>8.10</td>\n",
       "      <td>712</td>\n",
       "      <td>2699.958333</td>\n",
       "      <td>33667</td>\n",
       "      <td>73.2</td>\n",
       "      <td>1</td>\n",
       "      <td>0</td>\n",
       "      <td>0</td>\n",
       "      <td>0</td>\n",
       "    </tr>\n",
       "    <tr>\n",
       "      <th>4</th>\n",
       "      <td>1</td>\n",
       "      <td>credit_card</td>\n",
       "      <td>0.1426</td>\n",
       "      <td>102.92</td>\n",
       "      <td>11.299732</td>\n",
       "      <td>14.97</td>\n",
       "      <td>667</td>\n",
       "      <td>4066.000000</td>\n",
       "      <td>4740</td>\n",
       "      <td>39.5</td>\n",
       "      <td>0</td>\n",
       "      <td>1</td>\n",
       "      <td>0</td>\n",
       "      <td>0</td>\n",
       "    </tr>\n",
       "  </tbody>\n",
       "</table>\n",
       "</div>"
      ],
      "text/plain": [
       "   credit_policy             purpose  int_rate  installment  log_annual_inc  \\\n",
       "0              1  debt_consolidation    0.1189       829.10       11.350407   \n",
       "1              1         credit_card    0.1071       228.22       11.082143   \n",
       "2              1  debt_consolidation    0.1357       366.86       10.373491   \n",
       "3              1  debt_consolidation    0.1008       162.34       11.350407   \n",
       "4              1         credit_card    0.1426       102.92       11.299732   \n",
       "\n",
       "     dti  fico  days_with_cr_line  revol_bal  revol_util  inq_last_6mths  \\\n",
       "0  19.48   737        5639.958333      28854        52.1               0   \n",
       "1  14.29   707        2760.000000      33623        76.7               0   \n",
       "2  11.63   682        4710.000000       3511        25.6               1   \n",
       "3   8.10   712        2699.958333      33667        73.2               1   \n",
       "4  14.97   667        4066.000000       4740        39.5               0   \n",
       "\n",
       "   delinq_2yrs  pub_rec  not_fully_paid  \n",
       "0            0        0               0  \n",
       "1            0        0               0  \n",
       "2            0        0               0  \n",
       "3            0        0               0  \n",
       "4            1        0               0  "
      ]
     },
     "execution_count": 2,
     "metadata": {},
     "output_type": "execute_result"
    }
   ],
   "source": [
    "# Load data from the csv file\n",
    "df = pd.read_csv('loan_data1.csv', index_col=None)\n",
    "\n",
    "# Change the dots in the column names to underscores\n",
    "df.columns = [c.replace(\".\", \"_\") for c in df.columns]\n",
    "print(f\"Number of rows/records: {df.shape[0]}\")\n",
    "print(f\"Number of columns/variables: {df.shape[1]}\")\n",
    "df.head()"
   ]
  },
  {
   "cell_type": "code",
   "execution_count": 3,
   "metadata": {},
   "outputs": [
    {
     "data": {
      "text/html": [
       "<div>\n",
       "<style scoped>\n",
       "    .dataframe tbody tr th:only-of-type {\n",
       "        vertical-align: middle;\n",
       "    }\n",
       "\n",
       "    .dataframe tbody tr th {\n",
       "        vertical-align: top;\n",
       "    }\n",
       "\n",
       "    .dataframe thead th {\n",
       "        text-align: right;\n",
       "    }\n",
       "</style>\n",
       "<table border=\"1\" class=\"dataframe\">\n",
       "  <thead>\n",
       "    <tr style=\"text-align: right;\">\n",
       "      <th></th>\n",
       "      <th>Variable</th>\n",
       "      <th>Number of unique values</th>\n",
       "      <th>Values</th>\n",
       "    </tr>\n",
       "  </thead>\n",
       "  <tbody>\n",
       "    <tr>\n",
       "      <th>0</th>\n",
       "      <td>credit_policy</td>\n",
       "      <td>2</td>\n",
       "      <td>[1, 0]</td>\n",
       "    </tr>\n",
       "    <tr>\n",
       "      <th>1</th>\n",
       "      <td>purpose</td>\n",
       "      <td>7</td>\n",
       "      <td>[debt_consolidation, credit_card, all_other, h...</td>\n",
       "    </tr>\n",
       "    <tr>\n",
       "      <th>2</th>\n",
       "      <td>int_rate</td>\n",
       "      <td>249</td>\n",
       "      <td>[0.1189, 0.1071, 0.1357, 0.1008, 0.1426, 0.078...</td>\n",
       "    </tr>\n",
       "    <tr>\n",
       "      <th>3</th>\n",
       "      <td>installment</td>\n",
       "      <td>4788</td>\n",
       "      <td>[829.1, 228.22, 366.86, 162.34, 102.92, 125.13...</td>\n",
       "    </tr>\n",
       "    <tr>\n",
       "      <th>4</th>\n",
       "      <td>log_annual_inc</td>\n",
       "      <td>1987</td>\n",
       "      <td>[11.35040654, 11.08214255, 10.37349118, 11.299...</td>\n",
       "    </tr>\n",
       "  </tbody>\n",
       "</table>\n",
       "</div>"
      ],
      "text/plain": [
       "         Variable Number of unique values  \\\n",
       "0   credit_policy                       2   \n",
       "1         purpose                       7   \n",
       "2        int_rate                     249   \n",
       "3     installment                    4788   \n",
       "4  log_annual_inc                    1987   \n",
       "\n",
       "                                              Values  \n",
       "0                                             [1, 0]  \n",
       "1  [debt_consolidation, credit_card, all_other, h...  \n",
       "2  [0.1189, 0.1071, 0.1357, 0.1008, 0.1426, 0.078...  \n",
       "3  [829.1, 228.22, 366.86, 162.34, 102.92, 125.13...  \n",
       "4  [11.35040654, 11.08214255, 10.37349118, 11.299...  "
      ]
     },
     "execution_count": 3,
     "metadata": {},
     "output_type": "execute_result"
    }
   ],
   "source": [
    "variables = pd.DataFrame(columns=['Variable','Number of unique values','Values'])\n",
    "for i, var in enumerate(df.columns):\n",
    "    variables.loc[i] = [var, df[var].nunique(), df[var].unique().tolist()]\n",
    "variables.head()"
   ]
  },
  {
   "cell_type": "code",
   "execution_count": 4,
   "metadata": {},
   "outputs": [
    {
     "data": {
      "text/html": [
       "<div>\n",
       "<style scoped>\n",
       "    .dataframe tbody tr th:only-of-type {\n",
       "        vertical-align: middle;\n",
       "    }\n",
       "\n",
       "    .dataframe tbody tr th {\n",
       "        vertical-align: top;\n",
       "    }\n",
       "\n",
       "    .dataframe thead th {\n",
       "        text-align: right;\n",
       "    }\n",
       "</style>\n",
       "<table border=\"1\" class=\"dataframe\">\n",
       "  <thead>\n",
       "    <tr style=\"text-align: right;\">\n",
       "      <th></th>\n",
       "      <th>Explanation</th>\n",
       "    </tr>\n",
       "    <tr>\n",
       "      <th>Variable</th>\n",
       "      <th></th>\n",
       "    </tr>\n",
       "  </thead>\n",
       "  <tbody>\n",
       "    <tr>\n",
       "      <th>credit_policy</th>\n",
       "      <td>1 if the customer meets the credit underwriting criteria; 0 otherwise.</td>\n",
       "    </tr>\n",
       "    <tr>\n",
       "      <th>purpose</th>\n",
       "      <td>The purpose of the loan.</td>\n",
       "    </tr>\n",
       "    <tr>\n",
       "      <th>int_rate</th>\n",
       "      <td>The interest rate of the loan (more risky borrowers are assigned higher interest rates).</td>\n",
       "    </tr>\n",
       "    <tr>\n",
       "      <th>installment</th>\n",
       "      <td>The monthly installments owed by the borrower if the loan is funded.</td>\n",
       "    </tr>\n",
       "    <tr>\n",
       "      <th>log_annual_inc</th>\n",
       "      <td>The natural log of the self-reported annual income of the borrower.</td>\n",
       "    </tr>\n",
       "    <tr>\n",
       "      <th>dti</th>\n",
       "      <td>The debt-to-income ratio of the borrower (amount of debt divided by annual income).</td>\n",
       "    </tr>\n",
       "    <tr>\n",
       "      <th>fico</th>\n",
       "      <td>The FICO credit score of the borrower.</td>\n",
       "    </tr>\n",
       "    <tr>\n",
       "      <th>days_with_cr_line</th>\n",
       "      <td>The number of days the borrower has had a credit line.</td>\n",
       "    </tr>\n",
       "    <tr>\n",
       "      <th>revol_bal</th>\n",
       "      <td>The borrower's revolving balance (amount unpaid at the end of the credit card billing cycle).</td>\n",
       "    </tr>\n",
       "    <tr>\n",
       "      <th>revol_util</th>\n",
       "      <td>The borrower's revolving line utilization rate (the amount of the credit line used relative to total credit available).</td>\n",
       "    </tr>\n",
       "    <tr>\n",
       "      <th>inq_last_6mths</th>\n",
       "      <td>The borrower's number of inquiries by creditors in the last 6 months.</td>\n",
       "    </tr>\n",
       "    <tr>\n",
       "      <th>delinq_2yrs</th>\n",
       "      <td>The number of times the borrower had been 30+ days past due on a payment in the past 2 years.</td>\n",
       "    </tr>\n",
       "    <tr>\n",
       "      <th>pub_rec</th>\n",
       "      <td>The borrower's number of derogatory public records.</td>\n",
       "    </tr>\n",
       "    <tr>\n",
       "      <th>not_fully_paid</th>\n",
       "      <td>1 if the loan is not fully paid; 0 otherwise.</td>\n",
       "    </tr>\n",
       "  </tbody>\n",
       "</table>\n",
       "</div>"
      ],
      "text/plain": [
       "                                                                                                                               Explanation\n",
       "Variable                                                                                                                                  \n",
       "credit_policy                                                       1 if the customer meets the credit underwriting criteria; 0 otherwise.\n",
       "purpose                                                                                                           The purpose of the loan.\n",
       "int_rate                                          The interest rate of the loan (more risky borrowers are assigned higher interest rates).\n",
       "installment                                                           The monthly installments owed by the borrower if the loan is funded.\n",
       "log_annual_inc                                                         The natural log of the self-reported annual income of the borrower.\n",
       "dti                                                    The debt-to-income ratio of the borrower (amount of debt divided by annual income).\n",
       "fico                                                                                                The FICO credit score of the borrower.\n",
       "days_with_cr_line                                                                   The number of days the borrower has had a credit line.\n",
       "revol_bal                                    The borrower's revolving balance (amount unpaid at the end of the credit card billing cycle).\n",
       "revol_util         The borrower's revolving line utilization rate (the amount of the credit line used relative to total credit available).\n",
       "inq_last_6mths                                                       The borrower's number of inquiries by creditors in the last 6 months.\n",
       "delinq_2yrs                                  The number of times the borrower had been 30+ days past due on a payment in the past 2 years.\n",
       "pub_rec                                                                                The borrower's number of derogatory public records.\n",
       "not_fully_paid                                                                               1 if the loan is not fully paid; 0 otherwise."
      ]
     },
     "metadata": {},
     "output_type": "display_data"
    }
   ],
   "source": [
    "from pandas import option_context\n",
    "var_dict = pd.read_csv('variable_explanation.csv', index_col=0)\n",
    "\n",
    "with option_context('display.max_colwidth', 400):\n",
    "    display(var_dict)"
   ]
  },
  {
   "cell_type": "markdown",
   "metadata": {},
   "source": [
    "## Understand your variables"
   ]
  },
  {
   "cell_type": "code",
   "execution_count": 5,
   "metadata": {},
   "outputs": [
    {
     "data": {
      "text/html": [
       "<div>\n",
       "<style scoped>\n",
       "    .dataframe tbody tr th:only-of-type {\n",
       "        vertical-align: middle;\n",
       "    }\n",
       "\n",
       "    .dataframe tbody tr th {\n",
       "        vertical-align: top;\n",
       "    }\n",
       "\n",
       "    .dataframe thead th {\n",
       "        text-align: right;\n",
       "    }\n",
       "</style>\n",
       "<table border=\"1\" class=\"dataframe\">\n",
       "  <thead>\n",
       "    <tr style=\"text-align: right;\">\n",
       "      <th></th>\n",
       "      <th>Number of unique values</th>\n",
       "      <th>Number of nulls</th>\n",
       "      <th>Values</th>\n",
       "      <th>Explanation</th>\n",
       "    </tr>\n",
       "    <tr>\n",
       "      <th>Variable</th>\n",
       "      <th></th>\n",
       "      <th></th>\n",
       "      <th></th>\n",
       "      <th></th>\n",
       "    </tr>\n",
       "  </thead>\n",
       "  <tbody>\n",
       "    <tr>\n",
       "      <th>credit_policy</th>\n",
       "      <td>2</td>\n",
       "      <td>0</td>\n",
       "      <td>[1, 0]</td>\n",
       "      <td>1 if the customer meets the credit underwritin...</td>\n",
       "    </tr>\n",
       "    <tr>\n",
       "      <th>purpose</th>\n",
       "      <td>7</td>\n",
       "      <td>0</td>\n",
       "      <td>[debt_consolidation, credit_card, all_other, h...</td>\n",
       "      <td>The purpose of the loan.</td>\n",
       "    </tr>\n",
       "    <tr>\n",
       "      <th>int_rate</th>\n",
       "      <td>249</td>\n",
       "      <td>0</td>\n",
       "      <td>[0.1189, 0.1071, 0.1357, 0.1008, 0.1426, 0.078...</td>\n",
       "      <td>The interest rate of the loan (more risky borr...</td>\n",
       "    </tr>\n",
       "    <tr>\n",
       "      <th>installment</th>\n",
       "      <td>4788</td>\n",
       "      <td>0</td>\n",
       "      <td>[829.1, 228.22, 366.86, 162.34, 102.92, 125.13...</td>\n",
       "      <td>The monthly installments owed by the borrower ...</td>\n",
       "    </tr>\n",
       "    <tr>\n",
       "      <th>log_annual_inc</th>\n",
       "      <td>1987</td>\n",
       "      <td>0</td>\n",
       "      <td>[11.35040654, 11.08214255, 10.37349118, 11.299...</td>\n",
       "      <td>The natural log of the self-reported annual in...</td>\n",
       "    </tr>\n",
       "    <tr>\n",
       "      <th>dti</th>\n",
       "      <td>2529</td>\n",
       "      <td>0</td>\n",
       "      <td>[19.48, 14.29, 11.63, 8.1, 14.97, 16.98, 4.0, ...</td>\n",
       "      <td>The debt-to-income ratio of the borrower (amou...</td>\n",
       "    </tr>\n",
       "    <tr>\n",
       "      <th>fico</th>\n",
       "      <td>44</td>\n",
       "      <td>0</td>\n",
       "      <td>[737, 707, 682, 712, 667, 727, 722, 677, 662, ...</td>\n",
       "      <td>The FICO credit score of the borrower.</td>\n",
       "    </tr>\n",
       "    <tr>\n",
       "      <th>days_with_cr_line</th>\n",
       "      <td>2687</td>\n",
       "      <td>0</td>\n",
       "      <td>[5639.958333, 2760.0, 4710.0, 2699.958333, 406...</td>\n",
       "      <td>The number of days the borrower has had a cred...</td>\n",
       "    </tr>\n",
       "    <tr>\n",
       "      <th>revol_bal</th>\n",
       "      <td>7869</td>\n",
       "      <td>0</td>\n",
       "      <td>[28854, 33623, 3511, 33667, 4740, 50807, 3839,...</td>\n",
       "      <td>The borrower's revolving balance (amount unpai...</td>\n",
       "    </tr>\n",
       "    <tr>\n",
       "      <th>revol_util</th>\n",
       "      <td>1035</td>\n",
       "      <td>0</td>\n",
       "      <td>[52.1, 76.7, 25.6, 73.2, 39.5, 51.0, 76.8, 68....</td>\n",
       "      <td>The borrower's revolving line utilization rate...</td>\n",
       "    </tr>\n",
       "    <tr>\n",
       "      <th>inq_last_6mths</th>\n",
       "      <td>28</td>\n",
       "      <td>0</td>\n",
       "      <td>[0, 1, 2, 3, 4, 5, 6, 8, 7, 33, 9, 18, 14, 15,...</td>\n",
       "      <td>The borrower's number of inquiries by creditor...</td>\n",
       "    </tr>\n",
       "    <tr>\n",
       "      <th>delinq_2yrs</th>\n",
       "      <td>11</td>\n",
       "      <td>0</td>\n",
       "      <td>[0, 1, 2, 4, 3, 5, 6, 13, 7, 8, 11]</td>\n",
       "      <td>The number of times the borrower had been 30+ ...</td>\n",
       "    </tr>\n",
       "    <tr>\n",
       "      <th>pub_rec</th>\n",
       "      <td>6</td>\n",
       "      <td>0</td>\n",
       "      <td>[0, 1, 2, 3, 4, 5]</td>\n",
       "      <td>The borrower's number of derogatory public rec...</td>\n",
       "    </tr>\n",
       "    <tr>\n",
       "      <th>not_fully_paid</th>\n",
       "      <td>2</td>\n",
       "      <td>0</td>\n",
       "      <td>[0, 1]</td>\n",
       "      <td>1 if the loan is not fully paid; 0 otherwise.</td>\n",
       "    </tr>\n",
       "  </tbody>\n",
       "</table>\n",
       "</div>"
      ],
      "text/plain": [
       "                  Number of unique values Number of nulls  \\\n",
       "Variable                                                    \n",
       "credit_policy                           2               0   \n",
       "purpose                                 7               0   \n",
       "int_rate                              249               0   \n",
       "installment                          4788               0   \n",
       "log_annual_inc                       1987               0   \n",
       "dti                                  2529               0   \n",
       "fico                                   44               0   \n",
       "days_with_cr_line                    2687               0   \n",
       "revol_bal                            7869               0   \n",
       "revol_util                           1035               0   \n",
       "inq_last_6mths                         28               0   \n",
       "delinq_2yrs                            11               0   \n",
       "pub_rec                                 6               0   \n",
       "not_fully_paid                          2               0   \n",
       "\n",
       "                                                              Values  \\\n",
       "Variable                                                               \n",
       "credit_policy                                                 [1, 0]   \n",
       "purpose            [debt_consolidation, credit_card, all_other, h...   \n",
       "int_rate           [0.1189, 0.1071, 0.1357, 0.1008, 0.1426, 0.078...   \n",
       "installment        [829.1, 228.22, 366.86, 162.34, 102.92, 125.13...   \n",
       "log_annual_inc     [11.35040654, 11.08214255, 10.37349118, 11.299...   \n",
       "dti                [19.48, 14.29, 11.63, 8.1, 14.97, 16.98, 4.0, ...   \n",
       "fico               [737, 707, 682, 712, 667, 727, 722, 677, 662, ...   \n",
       "days_with_cr_line  [5639.958333, 2760.0, 4710.0, 2699.958333, 406...   \n",
       "revol_bal          [28854, 33623, 3511, 33667, 4740, 50807, 3839,...   \n",
       "revol_util         [52.1, 76.7, 25.6, 73.2, 39.5, 51.0, 76.8, 68....   \n",
       "inq_last_6mths     [0, 1, 2, 3, 4, 5, 6, 8, 7, 33, 9, 18, 14, 15,...   \n",
       "delinq_2yrs                      [0, 1, 2, 4, 3, 5, 6, 13, 7, 8, 11]   \n",
       "pub_rec                                           [0, 1, 2, 3, 4, 5]   \n",
       "not_fully_paid                                                [0, 1]   \n",
       "\n",
       "                                                         Explanation  \n",
       "Variable                                                              \n",
       "credit_policy      1 if the customer meets the credit underwritin...  \n",
       "purpose                                     The purpose of the loan.  \n",
       "int_rate           The interest rate of the loan (more risky borr...  \n",
       "installment        The monthly installments owed by the borrower ...  \n",
       "log_annual_inc     The natural log of the self-reported annual in...  \n",
       "dti                The debt-to-income ratio of the borrower (amou...  \n",
       "fico                          The FICO credit score of the borrower.  \n",
       "days_with_cr_line  The number of days the borrower has had a cred...  \n",
       "revol_bal          The borrower's revolving balance (amount unpai...  \n",
       "revol_util         The borrower's revolving line utilization rate...  \n",
       "inq_last_6mths     The borrower's number of inquiries by creditor...  \n",
       "delinq_2yrs        The number of times the borrower had been 30+ ...  \n",
       "pub_rec            The borrower's number of derogatory public rec...  \n",
       "not_fully_paid         1 if the loan is not fully paid; 0 otherwise.  "
      ]
     },
     "execution_count": 5,
     "metadata": {},
     "output_type": "execute_result"
    }
   ],
   "source": [
    "# Understand your variables\n",
    "variables = pd.DataFrame(columns=['Variable','Number of unique values','Number of nulls','Values'])\n",
    "\n",
    "for i, var in enumerate(df.columns):\n",
    "    variables.loc[i] = [var, df[var].nunique(),df[var].isnull().sum(), df[var].unique().tolist()]\n",
    "    \n",
    "# Join with the variables dataframe\n",
    "var_dict = pd.read_csv('variable_explanation.csv', index_col=0)\n",
    "variables.set_index('Variable').join(var_dict)"
   ]
  },
  {
   "cell_type": "code",
   "execution_count": 6,
   "metadata": {},
   "outputs": [
    {
     "data": {
      "text/plain": [
       "Index(['credit_policy', 'purpose', 'int_rate', 'installment', 'log_annual_inc',\n",
       "       'dti', 'fico', 'days_with_cr_line', 'revol_bal', 'revol_util',\n",
       "       'inq_last_6mths', 'delinq_2yrs', 'pub_rec', 'not_fully_paid'],\n",
       "      dtype='object')"
      ]
     },
     "execution_count": 6,
     "metadata": {},
     "output_type": "execute_result"
    }
   ],
   "source": [
    "df.columns"
   ]
  },
  {
   "cell_type": "markdown",
   "metadata": {},
   "source": [
    "Now you can start to explore this dataset with the chance to win incredible prices! Can't think of where to start? Try your hand at these suggestions:\n",
    "\n",
    "- Extract useful insights and visualize them in the most interesting way possible.\n",
    "- Find out how long it takes for users to pay back their loan.\n",
    "- Build a model that can predict the probability a user will be able to pay back their loan within a certain period.\n",
    "- Find out what kind of people take a loan for what purposes."
   ]
  },
  {
   "cell_type": "markdown",
   "metadata": {},
   "source": [
    "# My solution will consist of the following:\n",
    "###      1. Initial data exploration and pre-processiong\n",
    "###      2. EDA: Visualising data\n",
    "###      3. Feature selection\n",
    "###      4. Correlation and PCA Analysis\n",
    "###      5. Modelling the loan payoff\n",
    "###      6. Predicting the loan payoff\n"
   ]
  },
  {
   "cell_type": "markdown",
   "metadata": {},
   "source": [
    "# 1. Initial data exploration"
   ]
  },
  {
   "cell_type": "code",
   "execution_count": 7,
   "metadata": {},
   "outputs": [
    {
     "data": {
      "text/html": [
       "<div>\n",
       "<style scoped>\n",
       "    .dataframe tbody tr th:only-of-type {\n",
       "        vertical-align: middle;\n",
       "    }\n",
       "\n",
       "    .dataframe tbody tr th {\n",
       "        vertical-align: top;\n",
       "    }\n",
       "\n",
       "    .dataframe thead th {\n",
       "        text-align: right;\n",
       "    }\n",
       "</style>\n",
       "<table border=\"1\" class=\"dataframe\">\n",
       "  <thead>\n",
       "    <tr style=\"text-align: right;\">\n",
       "      <th></th>\n",
       "      <th>credit_policy</th>\n",
       "      <th>purpose</th>\n",
       "      <th>int_rate</th>\n",
       "      <th>installment</th>\n",
       "      <th>log_annual_inc</th>\n",
       "      <th>dti</th>\n",
       "      <th>fico</th>\n",
       "      <th>days_with_cr_line</th>\n",
       "      <th>revol_bal</th>\n",
       "      <th>revol_util</th>\n",
       "      <th>inq_last_6mths</th>\n",
       "      <th>delinq_2yrs</th>\n",
       "      <th>pub_rec</th>\n",
       "      <th>not_fully_paid</th>\n",
       "    </tr>\n",
       "  </thead>\n",
       "  <tbody>\n",
       "    <tr>\n",
       "      <th>0</th>\n",
       "      <td>1</td>\n",
       "      <td>debt_consolidation</td>\n",
       "      <td>0.1189</td>\n",
       "      <td>829.10</td>\n",
       "      <td>11.350407</td>\n",
       "      <td>19.48</td>\n",
       "      <td>737</td>\n",
       "      <td>5639.958333</td>\n",
       "      <td>28854</td>\n",
       "      <td>52.1</td>\n",
       "      <td>0</td>\n",
       "      <td>0</td>\n",
       "      <td>0</td>\n",
       "      <td>0</td>\n",
       "    </tr>\n",
       "    <tr>\n",
       "      <th>1</th>\n",
       "      <td>1</td>\n",
       "      <td>credit_card</td>\n",
       "      <td>0.1071</td>\n",
       "      <td>228.22</td>\n",
       "      <td>11.082143</td>\n",
       "      <td>14.29</td>\n",
       "      <td>707</td>\n",
       "      <td>2760.000000</td>\n",
       "      <td>33623</td>\n",
       "      <td>76.7</td>\n",
       "      <td>0</td>\n",
       "      <td>0</td>\n",
       "      <td>0</td>\n",
       "      <td>0</td>\n",
       "    </tr>\n",
       "    <tr>\n",
       "      <th>2</th>\n",
       "      <td>1</td>\n",
       "      <td>debt_consolidation</td>\n",
       "      <td>0.1357</td>\n",
       "      <td>366.86</td>\n",
       "      <td>10.373491</td>\n",
       "      <td>11.63</td>\n",
       "      <td>682</td>\n",
       "      <td>4710.000000</td>\n",
       "      <td>3511</td>\n",
       "      <td>25.6</td>\n",
       "      <td>1</td>\n",
       "      <td>0</td>\n",
       "      <td>0</td>\n",
       "      <td>0</td>\n",
       "    </tr>\n",
       "    <tr>\n",
       "      <th>3</th>\n",
       "      <td>1</td>\n",
       "      <td>debt_consolidation</td>\n",
       "      <td>0.1008</td>\n",
       "      <td>162.34</td>\n",
       "      <td>11.350407</td>\n",
       "      <td>8.10</td>\n",
       "      <td>712</td>\n",
       "      <td>2699.958333</td>\n",
       "      <td>33667</td>\n",
       "      <td>73.2</td>\n",
       "      <td>1</td>\n",
       "      <td>0</td>\n",
       "      <td>0</td>\n",
       "      <td>0</td>\n",
       "    </tr>\n",
       "    <tr>\n",
       "      <th>4</th>\n",
       "      <td>1</td>\n",
       "      <td>credit_card</td>\n",
       "      <td>0.1426</td>\n",
       "      <td>102.92</td>\n",
       "      <td>11.299732</td>\n",
       "      <td>14.97</td>\n",
       "      <td>667</td>\n",
       "      <td>4066.000000</td>\n",
       "      <td>4740</td>\n",
       "      <td>39.5</td>\n",
       "      <td>0</td>\n",
       "      <td>1</td>\n",
       "      <td>0</td>\n",
       "      <td>0</td>\n",
       "    </tr>\n",
       "  </tbody>\n",
       "</table>\n",
       "</div>"
      ],
      "text/plain": [
       "   credit_policy             purpose  int_rate  installment  log_annual_inc  \\\n",
       "0              1  debt_consolidation    0.1189       829.10       11.350407   \n",
       "1              1         credit_card    0.1071       228.22       11.082143   \n",
       "2              1  debt_consolidation    0.1357       366.86       10.373491   \n",
       "3              1  debt_consolidation    0.1008       162.34       11.350407   \n",
       "4              1         credit_card    0.1426       102.92       11.299732   \n",
       "\n",
       "     dti  fico  days_with_cr_line  revol_bal  revol_util  inq_last_6mths  \\\n",
       "0  19.48   737        5639.958333      28854        52.1               0   \n",
       "1  14.29   707        2760.000000      33623        76.7               0   \n",
       "2  11.63   682        4710.000000       3511        25.6               1   \n",
       "3   8.10   712        2699.958333      33667        73.2               1   \n",
       "4  14.97   667        4066.000000       4740        39.5               0   \n",
       "\n",
       "   delinq_2yrs  pub_rec  not_fully_paid  \n",
       "0            0        0               0  \n",
       "1            0        0               0  \n",
       "2            0        0               0  \n",
       "3            0        0               0  \n",
       "4            1        0               0  "
      ]
     },
     "execution_count": 7,
     "metadata": {},
     "output_type": "execute_result"
    }
   ],
   "source": [
    "df.head()"
   ]
  },
  {
   "cell_type": "code",
   "execution_count": 8,
   "metadata": {},
   "outputs": [
    {
     "name": "stdout",
     "output_type": "stream",
     "text": [
      "<class 'pandas.core.frame.DataFrame'>\n",
      "RangeIndex: 9578 entries, 0 to 9577\n",
      "Data columns (total 14 columns):\n",
      " #   Column             Non-Null Count  Dtype  \n",
      "---  ------             --------------  -----  \n",
      " 0   credit_policy      9578 non-null   int64  \n",
      " 1   purpose            9578 non-null   object \n",
      " 2   int_rate           9578 non-null   float64\n",
      " 3   installment        9578 non-null   float64\n",
      " 4   log_annual_inc     9578 non-null   float64\n",
      " 5   dti                9578 non-null   float64\n",
      " 6   fico               9578 non-null   int64  \n",
      " 7   days_with_cr_line  9578 non-null   float64\n",
      " 8   revol_bal          9578 non-null   int64  \n",
      " 9   revol_util         9578 non-null   float64\n",
      " 10  inq_last_6mths     9578 non-null   int64  \n",
      " 11  delinq_2yrs        9578 non-null   int64  \n",
      " 12  pub_rec            9578 non-null   int64  \n",
      " 13  not_fully_paid     9578 non-null   int64  \n",
      "dtypes: float64(6), int64(7), object(1)\n",
      "memory usage: 1.0+ MB\n"
     ]
    }
   ],
   "source": [
    "df.info()"
   ]
  },
  {
   "cell_type": "code",
   "execution_count": 9,
   "metadata": {},
   "outputs": [],
   "source": [
    "df.days_with_cr_line = df.days_with_cr_line.astype(int).round() # rounding up days\n"
   ]
  },
  {
   "cell_type": "code",
   "execution_count": 10,
   "metadata": {},
   "outputs": [
    {
     "data": {
      "text/html": [
       "<div>\n",
       "<style scoped>\n",
       "    .dataframe tbody tr th:only-of-type {\n",
       "        vertical-align: middle;\n",
       "    }\n",
       "\n",
       "    .dataframe tbody tr th {\n",
       "        vertical-align: top;\n",
       "    }\n",
       "\n",
       "    .dataframe thead th {\n",
       "        text-align: right;\n",
       "    }\n",
       "</style>\n",
       "<table border=\"1\" class=\"dataframe\">\n",
       "  <thead>\n",
       "    <tr style=\"text-align: right;\">\n",
       "      <th></th>\n",
       "      <th>credit_policy</th>\n",
       "      <th>purpose</th>\n",
       "      <th>int_rate</th>\n",
       "      <th>installment</th>\n",
       "      <th>log_annual_inc</th>\n",
       "      <th>dti</th>\n",
       "      <th>fico</th>\n",
       "      <th>days_with_cr_line</th>\n",
       "      <th>revol_bal</th>\n",
       "      <th>revol_util</th>\n",
       "      <th>inq_last_6mths</th>\n",
       "      <th>delinq_2yrs</th>\n",
       "      <th>pub_rec</th>\n",
       "      <th>fully_paid</th>\n",
       "    </tr>\n",
       "  </thead>\n",
       "  <tbody>\n",
       "    <tr>\n",
       "      <th>0</th>\n",
       "      <td>1</td>\n",
       "      <td>debt_consolidation</td>\n",
       "      <td>0.1189</td>\n",
       "      <td>829.10</td>\n",
       "      <td>11.350407</td>\n",
       "      <td>19.48</td>\n",
       "      <td>737</td>\n",
       "      <td>5639</td>\n",
       "      <td>28854</td>\n",
       "      <td>52.1</td>\n",
       "      <td>0</td>\n",
       "      <td>0</td>\n",
       "      <td>0</td>\n",
       "      <td>1</td>\n",
       "    </tr>\n",
       "    <tr>\n",
       "      <th>1</th>\n",
       "      <td>1</td>\n",
       "      <td>credit_card</td>\n",
       "      <td>0.1071</td>\n",
       "      <td>228.22</td>\n",
       "      <td>11.082143</td>\n",
       "      <td>14.29</td>\n",
       "      <td>707</td>\n",
       "      <td>2760</td>\n",
       "      <td>33623</td>\n",
       "      <td>76.7</td>\n",
       "      <td>0</td>\n",
       "      <td>0</td>\n",
       "      <td>0</td>\n",
       "      <td>1</td>\n",
       "    </tr>\n",
       "    <tr>\n",
       "      <th>2</th>\n",
       "      <td>1</td>\n",
       "      <td>debt_consolidation</td>\n",
       "      <td>0.1357</td>\n",
       "      <td>366.86</td>\n",
       "      <td>10.373491</td>\n",
       "      <td>11.63</td>\n",
       "      <td>682</td>\n",
       "      <td>4710</td>\n",
       "      <td>3511</td>\n",
       "      <td>25.6</td>\n",
       "      <td>1</td>\n",
       "      <td>0</td>\n",
       "      <td>0</td>\n",
       "      <td>1</td>\n",
       "    </tr>\n",
       "    <tr>\n",
       "      <th>3</th>\n",
       "      <td>1</td>\n",
       "      <td>debt_consolidation</td>\n",
       "      <td>0.1008</td>\n",
       "      <td>162.34</td>\n",
       "      <td>11.350407</td>\n",
       "      <td>8.10</td>\n",
       "      <td>712</td>\n",
       "      <td>2699</td>\n",
       "      <td>33667</td>\n",
       "      <td>73.2</td>\n",
       "      <td>1</td>\n",
       "      <td>0</td>\n",
       "      <td>0</td>\n",
       "      <td>1</td>\n",
       "    </tr>\n",
       "    <tr>\n",
       "      <th>4</th>\n",
       "      <td>1</td>\n",
       "      <td>credit_card</td>\n",
       "      <td>0.1426</td>\n",
       "      <td>102.92</td>\n",
       "      <td>11.299732</td>\n",
       "      <td>14.97</td>\n",
       "      <td>667</td>\n",
       "      <td>4066</td>\n",
       "      <td>4740</td>\n",
       "      <td>39.5</td>\n",
       "      <td>0</td>\n",
       "      <td>1</td>\n",
       "      <td>0</td>\n",
       "      <td>1</td>\n",
       "    </tr>\n",
       "  </tbody>\n",
       "</table>\n",
       "</div>"
      ],
      "text/plain": [
       "   credit_policy             purpose  int_rate  installment  log_annual_inc  \\\n",
       "0              1  debt_consolidation    0.1189       829.10       11.350407   \n",
       "1              1         credit_card    0.1071       228.22       11.082143   \n",
       "2              1  debt_consolidation    0.1357       366.86       10.373491   \n",
       "3              1  debt_consolidation    0.1008       162.34       11.350407   \n",
       "4              1         credit_card    0.1426       102.92       11.299732   \n",
       "\n",
       "     dti  fico  days_with_cr_line  revol_bal  revol_util  inq_last_6mths  \\\n",
       "0  19.48   737               5639      28854        52.1               0   \n",
       "1  14.29   707               2760      33623        76.7               0   \n",
       "2  11.63   682               4710       3511        25.6               1   \n",
       "3   8.10   712               2699      33667        73.2               1   \n",
       "4  14.97   667               4066       4740        39.5               0   \n",
       "\n",
       "   delinq_2yrs  pub_rec  fully_paid  \n",
       "0            0        0           1  \n",
       "1            0        0           1  \n",
       "2            0        0           1  \n",
       "3            0        0           1  \n",
       "4            1        0           1  "
      ]
     },
     "execution_count": 10,
     "metadata": {},
     "output_type": "execute_result"
    }
   ],
   "source": [
    "df['not_fully_paid'].replace({0:1,1:0},inplace=True)    # swap values\n",
    "df.rename(columns={'not_fully_paid':'fully_paid'},inplace=True)\n",
    "df.head()"
   ]
  },
  {
   "cell_type": "code",
   "execution_count": 11,
   "metadata": {},
   "outputs": [
    {
     "data": {
      "text/plain": [
       "1    8045\n",
       "0    1533\n",
       "Name: fully_paid, dtype: int64"
      ]
     },
     "execution_count": 11,
     "metadata": {},
     "output_type": "execute_result"
    }
   ],
   "source": [
    "df['fully_paid'].value_counts()"
   ]
  },
  {
   "cell_type": "markdown",
   "metadata": {},
   "source": [
    "#### Splitting features into numeric and non-numeric"
   ]
  },
  {
   "cell_type": "code",
   "execution_count": 12,
   "metadata": {},
   "outputs": [],
   "source": [
    "num_cols = ['int_rate', 'installment', 'log_annual_inc', 'dti', 'fico', 'days_with_cr_line', 'revol_bal', 'revol_util', 'inq_last_6mths', 'delinq_2yrs', 'pub_rec']\n",
    "non_cols = ['purpose']"
   ]
  },
  {
   "cell_type": "code",
   "execution_count": 13,
   "metadata": {},
   "outputs": [
    {
     "data": {
      "text/html": [
       "<div>\n",
       "<style scoped>\n",
       "    .dataframe tbody tr th:only-of-type {\n",
       "        vertical-align: middle;\n",
       "    }\n",
       "\n",
       "    .dataframe tbody tr th {\n",
       "        vertical-align: top;\n",
       "    }\n",
       "\n",
       "    .dataframe thead th {\n",
       "        text-align: right;\n",
       "    }\n",
       "</style>\n",
       "<table border=\"1\" class=\"dataframe\">\n",
       "  <thead>\n",
       "    <tr style=\"text-align: right;\">\n",
       "      <th></th>\n",
       "      <th>int_rate</th>\n",
       "      <th>installment</th>\n",
       "      <th>log_annual_inc</th>\n",
       "      <th>dti</th>\n",
       "      <th>fico</th>\n",
       "      <th>days_with_cr_line</th>\n",
       "      <th>revol_bal</th>\n",
       "      <th>revol_util</th>\n",
       "      <th>inq_last_6mths</th>\n",
       "      <th>delinq_2yrs</th>\n",
       "      <th>pub_rec</th>\n",
       "    </tr>\n",
       "  </thead>\n",
       "  <tbody>\n",
       "    <tr>\n",
       "      <th>0</th>\n",
       "      <td>0.1189</td>\n",
       "      <td>829.10</td>\n",
       "      <td>11.350407</td>\n",
       "      <td>19.48</td>\n",
       "      <td>737</td>\n",
       "      <td>5639</td>\n",
       "      <td>28854</td>\n",
       "      <td>52.1</td>\n",
       "      <td>0</td>\n",
       "      <td>0</td>\n",
       "      <td>0</td>\n",
       "    </tr>\n",
       "    <tr>\n",
       "      <th>1</th>\n",
       "      <td>0.1071</td>\n",
       "      <td>228.22</td>\n",
       "      <td>11.082143</td>\n",
       "      <td>14.29</td>\n",
       "      <td>707</td>\n",
       "      <td>2760</td>\n",
       "      <td>33623</td>\n",
       "      <td>76.7</td>\n",
       "      <td>0</td>\n",
       "      <td>0</td>\n",
       "      <td>0</td>\n",
       "    </tr>\n",
       "    <tr>\n",
       "      <th>2</th>\n",
       "      <td>0.1357</td>\n",
       "      <td>366.86</td>\n",
       "      <td>10.373491</td>\n",
       "      <td>11.63</td>\n",
       "      <td>682</td>\n",
       "      <td>4710</td>\n",
       "      <td>3511</td>\n",
       "      <td>25.6</td>\n",
       "      <td>1</td>\n",
       "      <td>0</td>\n",
       "      <td>0</td>\n",
       "    </tr>\n",
       "    <tr>\n",
       "      <th>3</th>\n",
       "      <td>0.1008</td>\n",
       "      <td>162.34</td>\n",
       "      <td>11.350407</td>\n",
       "      <td>8.10</td>\n",
       "      <td>712</td>\n",
       "      <td>2699</td>\n",
       "      <td>33667</td>\n",
       "      <td>73.2</td>\n",
       "      <td>1</td>\n",
       "      <td>0</td>\n",
       "      <td>0</td>\n",
       "    </tr>\n",
       "    <tr>\n",
       "      <th>4</th>\n",
       "      <td>0.1426</td>\n",
       "      <td>102.92</td>\n",
       "      <td>11.299732</td>\n",
       "      <td>14.97</td>\n",
       "      <td>667</td>\n",
       "      <td>4066</td>\n",
       "      <td>4740</td>\n",
       "      <td>39.5</td>\n",
       "      <td>0</td>\n",
       "      <td>1</td>\n",
       "      <td>0</td>\n",
       "    </tr>\n",
       "  </tbody>\n",
       "</table>\n",
       "</div>"
      ],
      "text/plain": [
       "   int_rate  installment  log_annual_inc    dti  fico  days_with_cr_line  \\\n",
       "0    0.1189       829.10       11.350407  19.48   737               5639   \n",
       "1    0.1071       228.22       11.082143  14.29   707               2760   \n",
       "2    0.1357       366.86       10.373491  11.63   682               4710   \n",
       "3    0.1008       162.34       11.350407   8.10   712               2699   \n",
       "4    0.1426       102.92       11.299732  14.97   667               4066   \n",
       "\n",
       "   revol_bal  revol_util  inq_last_6mths  delinq_2yrs  pub_rec  \n",
       "0      28854        52.1               0            0        0  \n",
       "1      33623        76.7               0            0        0  \n",
       "2       3511        25.6               1            0        0  \n",
       "3      33667        73.2               1            0        0  \n",
       "4       4740        39.5               0            1        0  "
      ]
     },
     "execution_count": 13,
     "metadata": {},
     "output_type": "execute_result"
    }
   ],
   "source": [
    "df_num = df[num_cols]\n",
    "df_num.head()"
   ]
  },
  {
   "cell_type": "markdown",
   "metadata": {},
   "source": [
    "# 2. EDA: Visualising data "
   ]
  },
  {
   "cell_type": "code",
   "execution_count": 14,
   "metadata": {},
   "outputs": [],
   "source": [
    "import seaborn as sns\n",
    "import matplotlib.pyplot as plt\n",
    "import warnings\n",
    "warnings.filterwarnings('ignore')\n",
    "#sns.set_theme(style=\"whitegrid\")"
   ]
  },
  {
   "cell_type": "code",
   "execution_count": 15,
   "metadata": {},
   "outputs": [
    {
     "name": "stdout",
     "output_type": "stream",
     "text": [
      " -Distribution of numeric features- \n"
     ]
    },
    {
     "data": {
      "image/png": "[encoded data removed]",
      "text/plain": [
       "<Figure size 1080x1296 with 11 Axes>"
      ]
     },
     "metadata": {
      "needs_background": "light"
     },
     "output_type": "display_data"
    }
   ],
   "source": [
    "print(f' -Distribution of numeric features- ')\n",
    "plt.figure(figsize=(15, 18))\n",
    "for i, col in enumerate(num_cols):\n",
    "    # Plot distribution \n",
    "    plt.subplot(4,3,i+1); sns.distplot(df_num[col], color='#810F7C')\n",
    "    plt.title(f'Distribution of {col}')\n",
    "# Show the plot\n",
    "plt.tight_layout()\n",
    "plt.show()"
   ]
  },
  {
   "cell_type": "markdown",
   "metadata": {},
   "source": [
    "\n",
    "<span style=\"color:black; font-size:20px\" > Some features like **log_annual_inc, fico and days_with_cr_line** appear while all the other features are highly skewed.\n",
    "This can pose a problem when modelling as most machine learning models require features to be normally distributed. Therefore I will perform scaling before using these features. </span>\n"
   ]
  },
  {
   "cell_type": "markdown",
   "metadata": {},
   "source": [
    " ### Does a loan purpose affect is repayment?\n",
    " \n",
    "\n",
    "\n",
    "<span style=\"color:black; font-size:20px\" > Lets look at the loan purposes. Most people take loans for debt consolidation, credit card debt or other purposes.\n",
    "Meanwhile, paid and not paid loans do not seem to differ much by purpose i.e. a purpose does not seem to be a useful prediction feature. </span>"
   ]
  },
  {
   "cell_type": "code",
   "execution_count": 16,
   "metadata": {},
   "outputs": [
    {
     "data": {
      "text/html": [
       "<div>\n",
       "<style scoped>\n",
       "    .dataframe tbody tr th:only-of-type {\n",
       "        vertical-align: middle;\n",
       "    }\n",
       "\n",
       "    .dataframe tbody tr th {\n",
       "        vertical-align: top;\n",
       "    }\n",
       "\n",
       "    .dataframe thead th {\n",
       "        text-align: right;\n",
       "    }\n",
       "</style>\n",
       "<table border=\"1\" class=\"dataframe\">\n",
       "  <thead>\n",
       "    <tr style=\"text-align: right;\">\n",
       "      <th></th>\n",
       "      <th>purpose</th>\n",
       "      <th>loan_status</th>\n",
       "      <th>count_purpose</th>\n",
       "    </tr>\n",
       "  </thead>\n",
       "  <tbody>\n",
       "    <tr>\n",
       "      <th>4</th>\n",
       "      <td>debt_consolidation</td>\n",
       "      <td>Fully paid</td>\n",
       "      <td>3354</td>\n",
       "    </tr>\n",
       "    <tr>\n",
       "      <th>0</th>\n",
       "      <td>all_other</td>\n",
       "      <td>Fully paid</td>\n",
       "      <td>1944</td>\n",
       "    </tr>\n",
       "    <tr>\n",
       "      <th>2</th>\n",
       "      <td>credit_card</td>\n",
       "      <td>Fully paid</td>\n",
       "      <td>1116</td>\n",
       "    </tr>\n",
       "    <tr>\n",
       "      <th>5</th>\n",
       "      <td>debt_consolidation</td>\n",
       "      <td>Not fully paid</td>\n",
       "      <td>603</td>\n",
       "    </tr>\n",
       "    <tr>\n",
       "      <th>8</th>\n",
       "      <td>home_improvement</td>\n",
       "      <td>Fully paid</td>\n",
       "      <td>522</td>\n",
       "    </tr>\n",
       "  </tbody>\n",
       "</table>\n",
       "</div>"
      ],
      "text/plain": [
       "              purpose     loan_status  count_purpose\n",
       "4  debt_consolidation      Fully paid           3354\n",
       "0           all_other      Fully paid           1944\n",
       "2         credit_card      Fully paid           1116\n",
       "5  debt_consolidation  Not fully paid            603\n",
       "8    home_improvement      Fully paid            522"
      ]
     },
     "execution_count": 16,
     "metadata": {},
     "output_type": "execute_result"
    }
   ],
   "source": [
    "s_sort= df.groupby('purpose')['fully_paid'].value_counts()\n",
    "df_sort = s_sort.to_frame()\n",
    "\n",
    "df_sort.rename(columns={'fully_paid':'count_purpose'},inplace=True)\n",
    "\n",
    "df_sort.reset_index(inplace=True)\n",
    "df_sort.rename(columns={'fully_paid':'loan_status'},inplace=True)\n",
    "df_sort['loan_status'].replace({1:'Fully paid',0:'Not fully paid'},inplace=True)  \n",
    "df_sort.sort_values(by=['count_purpose'], ascending=False, inplace=True)\n",
    "df_sort.head()"
   ]
  },
  {
   "cell_type": "code",
   "execution_count": 17,
   "metadata": {},
   "outputs": [
    {
     "data": {
      "text/html": [
       "<div>\n",
       "<style scoped>\n",
       "    .dataframe tbody tr th:only-of-type {\n",
       "        vertical-align: middle;\n",
       "    }\n",
       "\n",
       "    .dataframe tbody tr th {\n",
       "        vertical-align: top;\n",
       "    }\n",
       "\n",
       "    .dataframe thead th {\n",
       "        text-align: right;\n",
       "    }\n",
       "</style>\n",
       "<table border=\"1\" class=\"dataframe\">\n",
       "  <thead>\n",
       "    <tr style=\"text-align: right;\">\n",
       "      <th>loan_status</th>\n",
       "      <th>Fully paid</th>\n",
       "      <th>Not fully paid</th>\n",
       "    </tr>\n",
       "  </thead>\n",
       "  <tbody>\n",
       "    <tr>\n",
       "      <th></th>\n",
       "      <td>8045</td>\n",
       "      <td>1533</td>\n",
       "    </tr>\n",
       "  </tbody>\n",
       "</table>\n",
       "</div>"
      ],
      "text/plain": [
       "loan_status  Fully paid  Not fully paid\n",
       "                   8045            1533"
      ]
     },
     "execution_count": 17,
     "metadata": {},
     "output_type": "execute_result"
    }
   ],
   "source": [
    "df_ = df_sort.groupby(by = 'loan_status').sum().T\n",
    "dfn = df_.rename(index={'count_purpose': ''})\n",
    "dfn"
   ]
  },
  {
   "cell_type": "code",
   "execution_count": 18,
   "metadata": {},
   "outputs": [
    {
     "data": {
      "text/html": [
       "<div>\n",
       "<style scoped>\n",
       "    .dataframe tbody tr th:only-of-type {\n",
       "        vertical-align: middle;\n",
       "    }\n",
       "\n",
       "    .dataframe tbody tr th {\n",
       "        vertical-align: top;\n",
       "    }\n",
       "\n",
       "    .dataframe thead th {\n",
       "        text-align: right;\n",
       "    }\n",
       "</style>\n",
       "<table border=\"1\" class=\"dataframe\">\n",
       "  <thead>\n",
       "    <tr style=\"text-align: right;\">\n",
       "      <th></th>\n",
       "      <th>purpose</th>\n",
       "      <th>loan_status_x</th>\n",
       "      <th>count_purpose_paid</th>\n",
       "      <th>loan_status_y</th>\n",
       "      <th>count_purpose_not_paid</th>\n",
       "    </tr>\n",
       "  </thead>\n",
       "  <tbody>\n",
       "    <tr>\n",
       "      <th>0</th>\n",
       "      <td>debt_consolidation</td>\n",
       "      <td>Fully paid</td>\n",
       "      <td>41.69</td>\n",
       "      <td>Not fully paid</td>\n",
       "      <td>39.33</td>\n",
       "    </tr>\n",
       "    <tr>\n",
       "      <th>1</th>\n",
       "      <td>all_other</td>\n",
       "      <td>Fully paid</td>\n",
       "      <td>24.16</td>\n",
       "      <td>Not fully paid</td>\n",
       "      <td>25.24</td>\n",
       "    </tr>\n",
       "    <tr>\n",
       "      <th>2</th>\n",
       "      <td>credit_card</td>\n",
       "      <td>Fully paid</td>\n",
       "      <td>13.87</td>\n",
       "      <td>Not fully paid</td>\n",
       "      <td>9.52</td>\n",
       "    </tr>\n",
       "    <tr>\n",
       "      <th>3</th>\n",
       "      <td>home_improvement</td>\n",
       "      <td>Fully paid</td>\n",
       "      <td>6.49</td>\n",
       "      <td>Not fully paid</td>\n",
       "      <td>6.98</td>\n",
       "    </tr>\n",
       "    <tr>\n",
       "      <th>4</th>\n",
       "      <td>small_business</td>\n",
       "      <td>Fully paid</td>\n",
       "      <td>5.56</td>\n",
       "      <td>Not fully paid</td>\n",
       "      <td>11.22</td>\n",
       "    </tr>\n",
       "    <tr>\n",
       "      <th>5</th>\n",
       "      <td>major_purchase</td>\n",
       "      <td>Fully paid</td>\n",
       "      <td>4.82</td>\n",
       "      <td>Not fully paid</td>\n",
       "      <td>3.20</td>\n",
       "    </tr>\n",
       "    <tr>\n",
       "      <th>6</th>\n",
       "      <td>educational</td>\n",
       "      <td>Fully paid</td>\n",
       "      <td>3.41</td>\n",
       "      <td>Not fully paid</td>\n",
       "      <td>4.50</td>\n",
       "    </tr>\n",
       "  </tbody>\n",
       "</table>\n",
       "</div>"
      ],
      "text/plain": [
       "              purpose loan_status_x  count_purpose_paid   loan_status_y  \\\n",
       "0  debt_consolidation    Fully paid               41.69  Not fully paid   \n",
       "1           all_other    Fully paid               24.16  Not fully paid   \n",
       "2         credit_card    Fully paid               13.87  Not fully paid   \n",
       "3    home_improvement    Fully paid                6.49  Not fully paid   \n",
       "4      small_business    Fully paid                5.56  Not fully paid   \n",
       "5      major_purchase    Fully paid                4.82  Not fully paid   \n",
       "6         educational    Fully paid                3.41  Not fully paid   \n",
       "\n",
       "   count_purpose_not_paid  \n",
       "0                   39.33  \n",
       "1                   25.24  \n",
       "2                    9.52  \n",
       "3                    6.98  \n",
       "4                   11.22  \n",
       "5                    3.20  \n",
       "6                    4.50  "
      ]
     },
     "execution_count": 18,
     "metadata": {},
     "output_type": "execute_result"
    }
   ],
   "source": [
    "df_sort_paid = df_sort[df_sort.loan_status=='Fully paid']\n",
    "df_sort_paid.count_purpose = round(df_sort_paid.count_purpose/8045*100,2)\n",
    "df_sort_paid.rename(columns= {'count_purpose':'count_purpose_paid'}, inplace=True)\n",
    "df_sort_not_paid = df_sort[df_sort.loan_status=='Not fully paid']\n",
    "df_sort_not_paid.count_purpose = round(df_sort_not_paid.count_purpose/1533*100,2)\n",
    "df_sort_not_paid.rename(columns= {'count_purpose':'count_purpose_not_paid'}, inplace=True)\n",
    "df_sort_all = df_sort_paid.merge(df_sort_not_paid,how='inner', on='purpose')\n",
    "df_sort_all"
   ]
  },
  {
   "cell_type": "code",
   "execution_count": 19,
   "metadata": {},
   "outputs": [
    {
     "data": {
      "text/plain": [
       "<seaborn.axisgrid.FacetGrid at 0xe048a90>"
      ]
     },
     "execution_count": 19,
     "metadata": {},
     "output_type": "execute_result"
    },
    {
     "data": {
      "image/png": "[encoded data removed]",
      "text/plain": [
       "<Figure size 462.875x360 with 1 Axes>"
      ]
     },
     "metadata": {
      "needs_background": "light"
     },
     "output_type": "display_data"
    }
   ],
   "source": [
    "# Lets plot the loan purpose data.\n",
    "plot = sns.catplot(data=df_sort, kind=\"bar\",x=\"purpose\", y=\"count_purpose\", palette=['#8856a7', '#f03b20'], hue=\"loan_status\" )\n",
    "\n",
    "plot.legend.set_title(\"\")\n",
    "plot.set_axis_labels(\"\", \"Count\")\n",
    "            \n",
    "for axes in plot.axes.flat:\n",
    "    _ = axes.set_xticklabels(axes.get_xticklabels(), rotation=90)#.set(title='Title of Plot')\n",
    "\n",
    "plot.fig.suptitle('Loan count by purpose', y=1.05, fontsize=14)\n",
    "\n",
    "plot.despine(left=True)"
   ]
  },
  {
   "cell_type": "markdown",
   "metadata": {},
   "source": [
    "<span style=\"color:black; font-size:20px\" > **Small business** and **credit card** are the purposes with the highest proportion of unpaid loans. </span>"
   ]
  },
  {
   "cell_type": "code",
   "execution_count": 20,
   "metadata": {},
   "outputs": [
    {
     "data": {
      "text/html": [
       "<div>\n",
       "<style scoped>\n",
       "    .dataframe tbody tr th:only-of-type {\n",
       "        vertical-align: middle;\n",
       "    }\n",
       "\n",
       "    .dataframe tbody tr th {\n",
       "        vertical-align: top;\n",
       "    }\n",
       "\n",
       "    .dataframe thead th {\n",
       "        text-align: right;\n",
       "    }\n",
       "</style>\n",
       "<table border=\"1\" class=\"dataframe\">\n",
       "  <thead>\n",
       "    <tr style=\"text-align: right;\">\n",
       "      <th></th>\n",
       "      <th>credit_policy</th>\n",
       "      <th>purpose</th>\n",
       "      <th>int_rate</th>\n",
       "      <th>installment</th>\n",
       "      <th>log_annual_inc</th>\n",
       "      <th>dti</th>\n",
       "      <th>fico</th>\n",
       "      <th>days_with_cr_line</th>\n",
       "      <th>revol_bal</th>\n",
       "      <th>revol_util</th>\n",
       "      <th>inq_last_6mths</th>\n",
       "      <th>delinq_2yrs</th>\n",
       "      <th>pub_rec</th>\n",
       "      <th>fully_paid</th>\n",
       "    </tr>\n",
       "  </thead>\n",
       "  <tbody>\n",
       "    <tr>\n",
       "      <th>0</th>\n",
       "      <td>1</td>\n",
       "      <td>debt_consolidation</td>\n",
       "      <td>0.1189</td>\n",
       "      <td>829.10</td>\n",
       "      <td>11.350407</td>\n",
       "      <td>19.48</td>\n",
       "      <td>737</td>\n",
       "      <td>5639</td>\n",
       "      <td>28854</td>\n",
       "      <td>52.1</td>\n",
       "      <td>0</td>\n",
       "      <td>0</td>\n",
       "      <td>0</td>\n",
       "      <td>Fully paid</td>\n",
       "    </tr>\n",
       "    <tr>\n",
       "      <th>1</th>\n",
       "      <td>1</td>\n",
       "      <td>credit_card</td>\n",
       "      <td>0.1071</td>\n",
       "      <td>228.22</td>\n",
       "      <td>11.082143</td>\n",
       "      <td>14.29</td>\n",
       "      <td>707</td>\n",
       "      <td>2760</td>\n",
       "      <td>33623</td>\n",
       "      <td>76.7</td>\n",
       "      <td>0</td>\n",
       "      <td>0</td>\n",
       "      <td>0</td>\n",
       "      <td>Fully paid</td>\n",
       "    </tr>\n",
       "    <tr>\n",
       "      <th>2</th>\n",
       "      <td>1</td>\n",
       "      <td>debt_consolidation</td>\n",
       "      <td>0.1357</td>\n",
       "      <td>366.86</td>\n",
       "      <td>10.373491</td>\n",
       "      <td>11.63</td>\n",
       "      <td>682</td>\n",
       "      <td>4710</td>\n",
       "      <td>3511</td>\n",
       "      <td>25.6</td>\n",
       "      <td>1</td>\n",
       "      <td>0</td>\n",
       "      <td>0</td>\n",
       "      <td>Fully paid</td>\n",
       "    </tr>\n",
       "    <tr>\n",
       "      <th>3</th>\n",
       "      <td>1</td>\n",
       "      <td>debt_consolidation</td>\n",
       "      <td>0.1008</td>\n",
       "      <td>162.34</td>\n",
       "      <td>11.350407</td>\n",
       "      <td>8.10</td>\n",
       "      <td>712</td>\n",
       "      <td>2699</td>\n",
       "      <td>33667</td>\n",
       "      <td>73.2</td>\n",
       "      <td>1</td>\n",
       "      <td>0</td>\n",
       "      <td>0</td>\n",
       "      <td>Fully paid</td>\n",
       "    </tr>\n",
       "    <tr>\n",
       "      <th>4</th>\n",
       "      <td>1</td>\n",
       "      <td>credit_card</td>\n",
       "      <td>0.1426</td>\n",
       "      <td>102.92</td>\n",
       "      <td>11.299732</td>\n",
       "      <td>14.97</td>\n",
       "      <td>667</td>\n",
       "      <td>4066</td>\n",
       "      <td>4740</td>\n",
       "      <td>39.5</td>\n",
       "      <td>0</td>\n",
       "      <td>1</td>\n",
       "      <td>0</td>\n",
       "      <td>Fully paid</td>\n",
       "    </tr>\n",
       "  </tbody>\n",
       "</table>\n",
       "</div>"
      ],
      "text/plain": [
       "   credit_policy             purpose  int_rate  installment  log_annual_inc  \\\n",
       "0              1  debt_consolidation    0.1189       829.10       11.350407   \n",
       "1              1         credit_card    0.1071       228.22       11.082143   \n",
       "2              1  debt_consolidation    0.1357       366.86       10.373491   \n",
       "3              1  debt_consolidation    0.1008       162.34       11.350407   \n",
       "4              1         credit_card    0.1426       102.92       11.299732   \n",
       "\n",
       "     dti  fico  days_with_cr_line  revol_bal  revol_util  inq_last_6mths  \\\n",
       "0  19.48   737               5639      28854        52.1               0   \n",
       "1  14.29   707               2760      33623        76.7               0   \n",
       "2  11.63   682               4710       3511        25.6               1   \n",
       "3   8.10   712               2699      33667        73.2               1   \n",
       "4  14.97   667               4066       4740        39.5               0   \n",
       "\n",
       "   delinq_2yrs  pub_rec  fully_paid  \n",
       "0            0        0  Fully paid  \n",
       "1            0        0  Fully paid  \n",
       "2            0        0  Fully paid  \n",
       "3            0        0  Fully paid  \n",
       "4            1        0  Fully paid  "
      ]
     },
     "execution_count": 20,
     "metadata": {},
     "output_type": "execute_result"
    }
   ],
   "source": [
    "df['fully_paid'].replace({0:'Not fully paid',1: 'Fully paid'}, inplace=True)\n",
    "df.head()"
   ]
  },
  {
   "cell_type": "code",
   "execution_count": 21,
   "metadata": {},
   "outputs": [
    {
     "data": {
      "text/plain": [
       "Fully paid        0.84\n",
       "Not fully paid    0.16\n",
       "Name: fully_paid, dtype: float64"
      ]
     },
     "execution_count": 21,
     "metadata": {},
     "output_type": "execute_result"
    }
   ],
   "source": [
    "df.fully_paid.value_counts(normalize=True).round(2)"
   ]
  },
  {
   "cell_type": "code",
   "execution_count": 22,
   "metadata": {},
   "outputs": [
    {
     "data": {
      "text/html": [
       "<div>\n",
       "<style scoped>\n",
       "    .dataframe tbody tr th:only-of-type {\n",
       "        vertical-align: middle;\n",
       "    }\n",
       "\n",
       "    .dataframe tbody tr th {\n",
       "        vertical-align: top;\n",
       "    }\n",
       "\n",
       "    .dataframe thead th {\n",
       "        text-align: right;\n",
       "    }\n",
       "</style>\n",
       "<table border=\"1\" class=\"dataframe\">\n",
       "  <thead>\n",
       "    <tr style=\"text-align: right;\">\n",
       "      <th>loan_status</th>\n",
       "      <th>Fully paid</th>\n",
       "      <th>Not fully paid</th>\n",
       "      <th>total</th>\n",
       "    </tr>\n",
       "  </thead>\n",
       "  <tbody>\n",
       "    <tr>\n",
       "      <th></th>\n",
       "      <td>8045</td>\n",
       "      <td>1533</td>\n",
       "      <td>9578</td>\n",
       "    </tr>\n",
       "  </tbody>\n",
       "</table>\n",
       "</div>"
      ],
      "text/plain": [
       "loan_status  Fully paid  Not fully paid  total\n",
       "                   8045            1533   9578"
      ]
     },
     "execution_count": 22,
     "metadata": {},
     "output_type": "execute_result"
    }
   ],
   "source": [
    "dfn['total'] = dfn['Fully paid']+dfn['Not fully paid']\n",
    "dfn"
   ]
  },
  {
   "cell_type": "code",
   "execution_count": 23,
   "metadata": {},
   "outputs": [
    {
     "name": "stdout",
     "output_type": "stream",
     "text": [
      "<class 'pandas.core.frame.DataFrame'>\n",
      "Index: 1 entries,  to \n",
      "Data columns (total 2 columns):\n",
      " #   Column          Non-Null Count  Dtype  \n",
      "---  ------          --------------  -----  \n",
      " 0   Fully paid      1 non-null      float64\n",
      " 1   Not fully paid  1 non-null      float64\n",
      "dtypes: float64(2)\n",
      "memory usage: 24.0+ bytes\n"
     ]
    }
   ],
   "source": [
    "df_rel = (dfn[dfn.columns[0:2]].div(dfn.iloc[0, 2])*100).round(2)\n",
    "df_rel.info()"
   ]
  },
  {
   "cell_type": "code",
   "execution_count": 24,
   "metadata": {},
   "outputs": [
    {
     "data": {
      "image/png": "[encoded data removed]",
      "text/plain": [
       "<Figure size 432x288 with 1 Axes>"
      ]
     },
     "metadata": {
      "needs_background": "light"
     },
     "output_type": "display_data"
    }
   ],
   "source": [
    "myplot = df_rel.plot( kind='bar',stacked = True,color= ['#8856a7', '#f03b20'], title=\"Total number of loans\") # this is ok\n",
    "h = 0\n",
    "for col in df_rel:\n",
    "    #h += (p := df_rel[col].iat[0])      # calculate current bar height\n",
    "    p = df_rel[col].iloc[0]\n",
    "    h += p\n",
    "    plt.text(0, h - p / 2, f'{p}%', va='center', ha='center')\n",
    "myplot.legend(bbox_to_anchor=(1.0, 0.8))\n",
    "plt.show()"
   ]
  },
  {
   "cell_type": "markdown",
   "metadata": {},
   "source": [
    "<span style=\"color:black; font-size:21px\" > We can see that around 16% of loans are not fully paid, so this is an imbalanced dataset. The best model would be the one predicting which loans are prone to default. </span>"
   ]
  },
  {
   "cell_type": "markdown",
   "metadata": {},
   "source": [
    "### How long it takes for users to pay back their loans?\n",
    "I assume this could be measured by the number of days a successful borrower has had a credit line for."
   ]
  },
  {
   "cell_type": "code",
   "execution_count": 30,
   "metadata": {},
   "outputs": [],
   "source": [
    "df_paid = df.loc[df.fully_paid =='Fully paid'].head()\n",
    "#df_paid.days_with_cr_line.describe()"
   ]
  },
  {
   "cell_type": "code",
   "execution_count": 33,
   "metadata": {},
   "outputs": [
    {
     "name": "stdout",
     "output_type": "stream",
     "text": [
      "How many days on average the users had a credit line: 3975 days\n",
      "Most users had a credit line for: 2699 days\n",
      "The users had a credit line from 2699 to 5639 days\n"
     ]
    }
   ],
   "source": [
    "print('How many days on average the users had a credit line: {:.0f} days'.format(df_paid.days_with_cr_line.mean()))\n",
    "print('Most users had a credit line for: {:.0f} days'.format(df_paid.days_with_cr_line.mode().round()[0]))\n",
    "print('The users had a credit line from {:.0f} to {:.0f} days'.format(df_paid.days_with_cr_line.min(), df_paid.days_with_cr_line.max()))"
   ]
  },
  {
   "cell_type": "markdown",
   "metadata": {},
   "source": [
    "## Exploring numeric features by visualisation"
   ]
  },
  {
   "cell_type": "code",
   "execution_count": 34,
   "metadata": {},
   "outputs": [
    {
     "data": {
      "text/html": [
       "<div>\n",
       "<style scoped>\n",
       "    .dataframe tbody tr th:only-of-type {\n",
       "        vertical-align: middle;\n",
       "    }\n",
       "\n",
       "    .dataframe tbody tr th {\n",
       "        vertical-align: top;\n",
       "    }\n",
       "\n",
       "    .dataframe thead th {\n",
       "        text-align: right;\n",
       "    }\n",
       "</style>\n",
       "<table border=\"1\" class=\"dataframe\">\n",
       "  <thead>\n",
       "    <tr style=\"text-align: right;\">\n",
       "      <th></th>\n",
       "      <th>purpose</th>\n",
       "      <th>loan_status</th>\n",
       "      <th>count_purpose</th>\n",
       "    </tr>\n",
       "  </thead>\n",
       "  <tbody>\n",
       "    <tr>\n",
       "      <th>4</th>\n",
       "      <td>debt_consolidation</td>\n",
       "      <td>Fully paid</td>\n",
       "      <td>3354</td>\n",
       "    </tr>\n",
       "    <tr>\n",
       "      <th>0</th>\n",
       "      <td>all_other</td>\n",
       "      <td>Fully paid</td>\n",
       "      <td>1944</td>\n",
       "    </tr>\n",
       "    <tr>\n",
       "      <th>2</th>\n",
       "      <td>credit_card</td>\n",
       "      <td>Fully paid</td>\n",
       "      <td>1116</td>\n",
       "    </tr>\n",
       "    <tr>\n",
       "      <th>5</th>\n",
       "      <td>debt_consolidation</td>\n",
       "      <td>Not fully paid</td>\n",
       "      <td>603</td>\n",
       "    </tr>\n",
       "    <tr>\n",
       "      <th>8</th>\n",
       "      <td>home_improvement</td>\n",
       "      <td>Fully paid</td>\n",
       "      <td>522</td>\n",
       "    </tr>\n",
       "    <tr>\n",
       "      <th>12</th>\n",
       "      <td>small_business</td>\n",
       "      <td>Fully paid</td>\n",
       "      <td>447</td>\n",
       "    </tr>\n",
       "    <tr>\n",
       "      <th>10</th>\n",
       "      <td>major_purchase</td>\n",
       "      <td>Fully paid</td>\n",
       "      <td>388</td>\n",
       "    </tr>\n",
       "    <tr>\n",
       "      <th>1</th>\n",
       "      <td>all_other</td>\n",
       "      <td>Not fully paid</td>\n",
       "      <td>387</td>\n",
       "    </tr>\n",
       "    <tr>\n",
       "      <th>6</th>\n",
       "      <td>educational</td>\n",
       "      <td>Fully paid</td>\n",
       "      <td>274</td>\n",
       "    </tr>\n",
       "    <tr>\n",
       "      <th>13</th>\n",
       "      <td>small_business</td>\n",
       "      <td>Not fully paid</td>\n",
       "      <td>172</td>\n",
       "    </tr>\n",
       "    <tr>\n",
       "      <th>3</th>\n",
       "      <td>credit_card</td>\n",
       "      <td>Not fully paid</td>\n",
       "      <td>146</td>\n",
       "    </tr>\n",
       "    <tr>\n",
       "      <th>9</th>\n",
       "      <td>home_improvement</td>\n",
       "      <td>Not fully paid</td>\n",
       "      <td>107</td>\n",
       "    </tr>\n",
       "    <tr>\n",
       "      <th>7</th>\n",
       "      <td>educational</td>\n",
       "      <td>Not fully paid</td>\n",
       "      <td>69</td>\n",
       "    </tr>\n",
       "    <tr>\n",
       "      <th>11</th>\n",
       "      <td>major_purchase</td>\n",
       "      <td>Not fully paid</td>\n",
       "      <td>49</td>\n",
       "    </tr>\n",
       "  </tbody>\n",
       "</table>\n",
       "</div>"
      ],
      "text/plain": [
       "               purpose     loan_status  count_purpose\n",
       "4   debt_consolidation      Fully paid           3354\n",
       "0            all_other      Fully paid           1944\n",
       "2          credit_card      Fully paid           1116\n",
       "5   debt_consolidation  Not fully paid            603\n",
       "8     home_improvement      Fully paid            522\n",
       "12      small_business      Fully paid            447\n",
       "10      major_purchase      Fully paid            388\n",
       "1            all_other  Not fully paid            387\n",
       "6          educational      Fully paid            274\n",
       "13      small_business  Not fully paid            172\n",
       "3          credit_card  Not fully paid            146\n",
       "9     home_improvement  Not fully paid            107\n",
       "7          educational  Not fully paid             69\n",
       "11      major_purchase  Not fully paid             49"
      ]
     },
     "execution_count": 34,
     "metadata": {},
     "output_type": "execute_result"
    }
   ],
   "source": [
    "s_sort= df.groupby('purpose')['fully_paid'].value_counts()\n",
    "df_sort = s_sort.to_frame()\n",
    "\n",
    "df_sort.rename(columns={'fully_paid':'count_purpose'},inplace=True)\n",
    "\n",
    "df_sort.reset_index(inplace=True)\n",
    "df_sort.rename(columns={'fully_paid':'loan_status'},inplace=True)\n",
    "df_sort['loan_status'].replace({1:'Fully paid',0:'Not fully paid'},inplace=True)  \n",
    "df_sort.sort_values(by=['count_purpose'], ascending=False, inplace=True)\n",
    "df_sort"
   ]
  },
  {
   "cell_type": "code",
   "execution_count": 35,
   "metadata": {},
   "outputs": [
    {
     "data": {
      "text/html": [
       "<div>\n",
       "<style scoped>\n",
       "    .dataframe tbody tr th:only-of-type {\n",
       "        vertical-align: middle;\n",
       "    }\n",
       "\n",
       "    .dataframe tbody tr th {\n",
       "        vertical-align: top;\n",
       "    }\n",
       "\n",
       "    .dataframe thead th {\n",
       "        text-align: right;\n",
       "    }\n",
       "</style>\n",
       "<table border=\"1\" class=\"dataframe\">\n",
       "  <thead>\n",
       "    <tr style=\"text-align: right;\">\n",
       "      <th></th>\n",
       "      <th>int_rate</th>\n",
       "      <th>loan_status</th>\n",
       "      <th>count_intrate</th>\n",
       "    </tr>\n",
       "  </thead>\n",
       "  <tbody>\n",
       "    <tr>\n",
       "      <th>171</th>\n",
       "      <td>0.1253</td>\n",
       "      <td>Fully paid</td>\n",
       "      <td>302</td>\n",
       "    </tr>\n",
       "    <tr>\n",
       "      <th>38</th>\n",
       "      <td>0.0894</td>\n",
       "      <td>Fully paid</td>\n",
       "      <td>275</td>\n",
       "    </tr>\n",
       "    <tr>\n",
       "      <th>141</th>\n",
       "      <td>0.1183</td>\n",
       "      <td>Fully paid</td>\n",
       "      <td>218</td>\n",
       "    </tr>\n",
       "    <tr>\n",
       "      <th>24</th>\n",
       "      <td>0.0800</td>\n",
       "      <td>Fully paid</td>\n",
       "      <td>188</td>\n",
       "    </tr>\n",
       "    <tr>\n",
       "      <th>56</th>\n",
       "      <td>0.0963</td>\n",
       "      <td>Fully paid</td>\n",
       "      <td>186</td>\n",
       "    </tr>\n",
       "    <tr>\n",
       "      <th>...</th>\n",
       "      <td>...</td>\n",
       "      <td>...</td>\n",
       "      <td>...</td>\n",
       "    </tr>\n",
       "    <tr>\n",
       "      <th>314</th>\n",
       "      <td>0.1551</td>\n",
       "      <td>Not fully paid</td>\n",
       "      <td>1</td>\n",
       "    </tr>\n",
       "    <tr>\n",
       "      <th>316</th>\n",
       "      <td>0.1557</td>\n",
       "      <td>Not fully paid</td>\n",
       "      <td>1</td>\n",
       "    </tr>\n",
       "    <tr>\n",
       "      <th>413</th>\n",
       "      <td>0.1793</td>\n",
       "      <td>Not fully paid</td>\n",
       "      <td>1</td>\n",
       "    </tr>\n",
       "    <tr>\n",
       "      <th>68</th>\n",
       "      <td>0.1001</td>\n",
       "      <td>Not fully paid</td>\n",
       "      <td>1</td>\n",
       "    </tr>\n",
       "    <tr>\n",
       "      <th>346</th>\n",
       "      <td>0.1633</td>\n",
       "      <td>Not fully paid</td>\n",
       "      <td>1</td>\n",
       "    </tr>\n",
       "  </tbody>\n",
       "</table>\n",
       "<p>471 rows × 3 columns</p>\n",
       "</div>"
      ],
      "text/plain": [
       "     int_rate     loan_status  count_intrate\n",
       "171    0.1253      Fully paid            302\n",
       "38     0.0894      Fully paid            275\n",
       "141    0.1183      Fully paid            218\n",
       "24     0.0800      Fully paid            188\n",
       "56     0.0963      Fully paid            186\n",
       "..        ...             ...            ...\n",
       "314    0.1551  Not fully paid              1\n",
       "316    0.1557  Not fully paid              1\n",
       "413    0.1793  Not fully paid              1\n",
       "68     0.1001  Not fully paid              1\n",
       "346    0.1633  Not fully paid              1\n",
       "\n",
       "[471 rows x 3 columns]"
      ]
     },
     "execution_count": 35,
     "metadata": {},
     "output_type": "execute_result"
    }
   ],
   "source": [
    "s_sort_i= df.groupby('int_rate')['fully_paid'].value_counts()\n",
    "df_sort_i = s_sort_i.to_frame()\n",
    "\n",
    "df_sort_i.rename(columns={'fully_paid':'count_intrate'},inplace=True)\n",
    "\n",
    "df_sort_i.reset_index(inplace=True)\n",
    "df_sort_i.rename(columns={'fully_paid':'loan_status'},inplace=True)\n",
    "df_sort_i['loan_status'].replace({1:'Fully paid',0:'Not fully paid'},inplace=True)  \n",
    "df_sort_i.sort_values(by=['count_intrate'], ascending=False, inplace=True)\n",
    "df_sort_i\n",
    "\n",
    "# 'int_rate','days_with_cr_line','log_annual_inc','fico'"
   ]
  },
  {
   "cell_type": "code",
   "execution_count": 36,
   "metadata": {},
   "outputs": [
    {
     "data": {
      "image/png": "[encoded data removed]",
      "text/plain": [
       "<Figure size 432x216 with 2 Axes>"
      ]
     },
     "metadata": {
      "needs_background": "light"
     },
     "output_type": "display_data"
    }
   ],
   "source": [
    "# similar\n",
    "bins = np.linspace(df_sort_i.int_rate.min(), df_sort_i.int_rate.max(), 25)\n",
    "\n",
    "g = sns.FacetGrid(df_sort_i, col=\"loan_status\", hue=\"loan_status\", palette=['#8856a7', '#f03b20'], col_wrap=2)\n",
    "g.map(plt.hist, 'int_rate', bins=bins, ec=\"k\")\n",
    "\n",
    "\n",
    "plt.show()"
   ]
  },
  {
   "cell_type": "code",
   "execution_count": 37,
   "metadata": {},
   "outputs": [],
   "source": [
    "s_sort_d= df.groupby('days_with_cr_line')['fully_paid'].value_counts()\n",
    "df_sort_d = s_sort_d.to_frame()\n",
    "\n",
    "df_sort_d.rename(columns={'fully_paid':'count_days'},inplace=True)\n",
    "\n",
    "df_sort_d.reset_index(inplace=True)\n",
    "df_sort_d.rename(columns={'fully_paid':'loan_status'},inplace=True)\n",
    "df_sort_d['loan_status'].replace({1:'Fully paid',0:'Not fully paid'},inplace=True)  \n",
    "df_sort_d.sort_values(by=['count_days'], ascending=False, inplace=True)\n",
    "#df_sort_d"
   ]
  },
  {
   "cell_type": "code",
   "execution_count": 38,
   "metadata": {},
   "outputs": [
    {
     "data": {
      "image/png": "[encoded data removed]",
      "text/plain": [
       "<Figure size 432x216 with 2 Axes>"
      ]
     },
     "metadata": {
      "needs_background": "light"
     },
     "output_type": "display_data"
    }
   ],
   "source": [
    "# more peaked and left-skewed for paid loans.\n",
    "bins = np.linspace(df_sort_d.days_with_cr_line.min(), df_sort_d.days_with_cr_line.max(), 35)\n",
    "\n",
    "g = sns.FacetGrid(df_sort_d, col=\"loan_status\", hue=\"loan_status\", palette=['#8856a7', '#f03b20'], col_wrap=2)\n",
    "g.map(plt.hist, 'days_with_cr_line', bins=bins, ec=\"k\")\n",
    "\n",
    "g.set(xticks=np.arange(0,17500,1000))\n",
    "g.set_xticklabels(np.arange(0,17500,1000), fontsize=8, rotation=90)\n",
    "plt.show()"
   ]
  },
  {
   "cell_type": "code",
   "execution_count": 39,
   "metadata": {},
   "outputs": [],
   "source": [
    "s_sort_in= df.groupby('log_annual_inc')['fully_paid'].value_counts()\n",
    "df_sort_in = s_sort_in.to_frame()\n",
    "\n",
    "df_sort_in.rename(columns={'fully_paid':'count_in'},inplace=True)\n",
    "\n",
    "df_sort_in.reset_index(inplace=True)\n",
    "df_sort_in.rename(columns={'fully_paid':'loan_status'},inplace=True)\n",
    "df_sort_in['loan_status'].replace({1:'Fully paid',0:'Not fully paid'},inplace=True)  \n",
    "df_sort_in.sort_values(by=['count_in'], ascending=False, inplace=True)\n",
    "#df_sort_in"
   ]
  },
  {
   "cell_type": "code",
   "execution_count": 40,
   "metadata": {},
   "outputs": [
    {
     "data": {
      "image/png": "[encoded data removed]",
      "text/plain": [
       "<Figure size 432x216 with 2 Axes>"
      ]
     },
     "metadata": {
      "needs_background": "light"
     },
     "output_type": "display_data"
    }
   ],
   "source": [
    "# more peaked for paid loans\n",
    "bins = np.linspace(df_sort_in.log_annual_inc.min(), df_sort_in.log_annual_inc.max(), 32)\n",
    "\n",
    "g = sns.FacetGrid(df_sort_in, col=\"loan_status\", hue=\"loan_status\", palette=['#8856a7', '#f03b20'], col_wrap=2)\n",
    "g.map(plt.hist, 'log_annual_inc', bins=bins, ec=\"k\")\n",
    "\n",
    "plt.show()"
   ]
  },
  {
   "cell_type": "code",
   "execution_count": 41,
   "metadata": {},
   "outputs": [],
   "source": [
    "s_sort_dti= df.groupby('dti')['fully_paid'].value_counts()\n",
    "df_sort_dti = s_sort_dti.to_frame()\n",
    "\n",
    "df_sort_dti.rename(columns={'fully_paid':'count_in'},inplace=True)\n",
    "\n",
    "df_sort_dti.reset_index(inplace=True)\n",
    "df_sort_dti.rename(columns={'fully_paid':'loan_status'},inplace=True)\n",
    "df_sort_dti['loan_status'].replace({1:'Fully paid',0:'Not fully paid'},inplace=True)  \n",
    "df_sort_dti.sort_values(by=['count_in'], ascending=False, inplace=True)\n",
    "#df_sort_in"
   ]
  },
  {
   "cell_type": "code",
   "execution_count": 42,
   "metadata": {},
   "outputs": [
    {
     "data": {
      "image/png": "[encoded data removed]",
      "text/plain": [
       "<Figure size 432x216 with 2 Axes>"
      ]
     },
     "metadata": {
      "needs_background": "light"
     },
     "output_type": "display_data"
    }
   ],
   "source": [
    "# more normal for not paid loans.\n",
    "bins = np.linspace(df_sort_dti.dti.min(), df_sort_dti.dti.max(), 28)\n",
    "\n",
    "g = sns.FacetGrid(df_sort_dti, col=\"loan_status\", hue=\"loan_status\", palette=['#8856a7', '#f03b20'], col_wrap=2)\n",
    "g.map(plt.hist, 'dti', bins=bins, ec=\"k\")\n",
    "\n",
    "plt.show()"
   ]
  },
  {
   "cell_type": "code",
   "execution_count": 43,
   "metadata": {},
   "outputs": [],
   "source": [
    "s_sort_fi= df.groupby('fico')['fully_paid'].value_counts()\n",
    "df_sort_fi = s_sort_fi.to_frame()\n",
    "\n",
    "df_sort_fi.rename(columns={'fully_paid':'count_in'},inplace=True)\n",
    "\n",
    "df_sort_fi.reset_index(inplace=True)\n",
    "df_sort_fi.rename(columns={'fully_paid':'loan_status'},inplace=True)\n",
    "df_sort_fi['loan_status'].replace({1:'Fully paid',0:'Not fully paid'},inplace=True)  \n",
    "df_sort_fi.sort_values(by=['count_in'], ascending=False, inplace=True)"
   ]
  },
  {
   "cell_type": "code",
   "execution_count": 44,
   "metadata": {},
   "outputs": [
    {
     "data": {
      "image/png": "[encoded data removed]",
      "text/plain": [
       "<Figure size 432x216 with 2 Axes>"
      ]
     },
     "metadata": {
      "needs_background": "light"
     },
     "output_type": "display_data"
    }
   ],
   "source": [
    "# seems similar\n",
    "bins = np.linspace(df_sort_fi.fico.min(), df_sort_fi.fico.max(), 28)\n",
    "\n",
    "g = sns.FacetGrid(df_sort_fi, col=\"loan_status\", hue=\"loan_status\", palette=['#8856a7', '#f03b20'], col_wrap=2)\n",
    "g.map(plt.hist, 'fico', bins=bins, ec=\"k\")\n",
    "\n",
    "plt.show()"
   ]
  },
  {
   "cell_type": "code",
   "execution_count": 45,
   "metadata": {},
   "outputs": [],
   "source": [
    "s_sort_ins= df.groupby('installment')['fully_paid'].value_counts()\n",
    "df_sort_ins = s_sort_ins.to_frame()\n",
    "\n",
    "df_sort_ins.rename(columns={'fully_paid':'count_in'},inplace=True)\n",
    "\n",
    "df_sort_ins.reset_index(inplace=True)\n",
    "df_sort_ins.rename(columns={'fully_paid':'loan_status'},inplace=True)\n",
    "df_sort_ins['loan_status'].replace({1:'Fully paid',0:'Not fully paid'},inplace=True)  \n",
    "df_sort_ins.sort_values(by=['count_in'], ascending=False, inplace=True)"
   ]
  },
  {
   "cell_type": "code",
   "execution_count": 46,
   "metadata": {},
   "outputs": [
    {
     "data": {
      "image/png": "[encoded data removed]",
      "text/plain": [
       "<Figure size 432x216 with 2 Axes>"
      ]
     },
     "metadata": {
      "needs_background": "light"
     },
     "output_type": "display_data"
    }
   ],
   "source": [
    "# more left skewed for paid loans\n",
    "bins = np.linspace(df_sort_ins.installment.min(), df_sort_ins.installment.max(), 33)\n",
    "\n",
    "g = sns.FacetGrid(df_sort_ins, col=\"loan_status\", hue=\"loan_status\", palette=['#8856a7', '#f03b20'], col_wrap=2)\n",
    "g.map(plt.hist, 'installment', bins=bins, ec=\"k\")\n",
    "\n",
    "plt.show()"
   ]
  },
  {
   "cell_type": "code",
   "execution_count": 47,
   "metadata": {},
   "outputs": [
    {
     "data": {
      "text/html": [
       "<div>\n",
       "<style scoped>\n",
       "    .dataframe tbody tr th:only-of-type {\n",
       "        vertical-align: middle;\n",
       "    }\n",
       "\n",
       "    .dataframe tbody tr th {\n",
       "        vertical-align: top;\n",
       "    }\n",
       "\n",
       "    .dataframe thead th {\n",
       "        text-align: right;\n",
       "    }\n",
       "</style>\n",
       "<table border=\"1\" class=\"dataframe\">\n",
       "  <thead>\n",
       "    <tr style=\"text-align: right;\">\n",
       "      <th></th>\n",
       "      <th>revol_bal</th>\n",
       "      <th>loan_status</th>\n",
       "      <th>count_in</th>\n",
       "    </tr>\n",
       "  </thead>\n",
       "  <tbody>\n",
       "    <tr>\n",
       "      <th>8182</th>\n",
       "      <td>275925</td>\n",
       "      <td>Fully paid</td>\n",
       "      <td>2</td>\n",
       "    </tr>\n",
       "    <tr>\n",
       "      <th>8099</th>\n",
       "      <td>150786</td>\n",
       "      <td>Fully paid</td>\n",
       "      <td>2</td>\n",
       "    </tr>\n",
       "    <tr>\n",
       "      <th>8143</th>\n",
       "      <td>205347</td>\n",
       "      <td>Fully paid</td>\n",
       "      <td>2</td>\n",
       "    </tr>\n",
       "    <tr>\n",
       "      <th>8000</th>\n",
       "      <td>101022</td>\n",
       "      <td>Fully paid</td>\n",
       "      <td>1</td>\n",
       "    </tr>\n",
       "    <tr>\n",
       "      <th>7994</th>\n",
       "      <td>95564</td>\n",
       "      <td>Not fully paid</td>\n",
       "      <td>1</td>\n",
       "    </tr>\n",
       "    <tr>\n",
       "      <th>...</th>\n",
       "      <td>...</td>\n",
       "      <td>...</td>\n",
       "      <td>...</td>\n",
       "    </tr>\n",
       "    <tr>\n",
       "      <th>7800</th>\n",
       "      <td>63861</td>\n",
       "      <td>Not fully paid</td>\n",
       "      <td>1</td>\n",
       "    </tr>\n",
       "    <tr>\n",
       "      <th>7801</th>\n",
       "      <td>64266</td>\n",
       "      <td>Fully paid</td>\n",
       "      <td>1</td>\n",
       "    </tr>\n",
       "    <tr>\n",
       "      <th>7802</th>\n",
       "      <td>64362</td>\n",
       "      <td>Fully paid</td>\n",
       "      <td>1</td>\n",
       "    </tr>\n",
       "    <tr>\n",
       "      <th>7803</th>\n",
       "      <td>64394</td>\n",
       "      <td>Fully paid</td>\n",
       "      <td>1</td>\n",
       "    </tr>\n",
       "    <tr>\n",
       "      <th>8199</th>\n",
       "      <td>1207359</td>\n",
       "      <td>Not fully paid</td>\n",
       "      <td>1</td>\n",
       "    </tr>\n",
       "  </tbody>\n",
       "</table>\n",
       "<p>601 rows × 3 columns</p>\n",
       "</div>"
      ],
      "text/plain": [
       "      revol_bal     loan_status  count_in\n",
       "8182     275925      Fully paid         2\n",
       "8099     150786      Fully paid         2\n",
       "8143     205347      Fully paid         2\n",
       "8000     101022      Fully paid         1\n",
       "7994      95564  Not fully paid         1\n",
       "...         ...             ...       ...\n",
       "7800      63861  Not fully paid         1\n",
       "7801      64266      Fully paid         1\n",
       "7802      64362      Fully paid         1\n",
       "7803      64394      Fully paid         1\n",
       "8199    1207359  Not fully paid         1\n",
       "\n",
       "[601 rows x 3 columns]"
      ]
     },
     "execution_count": 47,
     "metadata": {},
     "output_type": "execute_result"
    }
   ],
   "source": [
    "s_sort_revb= df.groupby('revol_bal')['fully_paid'].value_counts()\n",
    "df_sort_revb = s_sort_revb.to_frame()\n",
    "df_sort_revb.rename(columns={'fully_paid':'count_in'},inplace=True)\n",
    "\n",
    "df_sort_revb.reset_index(inplace=True)\n",
    "df_sort_revb.rename(columns={'fully_paid':'loan_status'},inplace=True)\n",
    "df_sort_revb['loan_status'].replace({1:'Fully paid',0:'Not fully paid'},inplace=True)\n",
    "df_sort_revb1 = df_sort_revb.loc[df_sort_revb['revol_bal'] >=50000]\n",
    "df_sort_revb1.sort_values(by=['count_in'], ascending=False, inplace=True)\n",
    "df_sort_revb1"
   ]
  },
  {
   "cell_type": "code",
   "execution_count": 48,
   "metadata": {},
   "outputs": [
    {
     "data": {
      "image/png": "[encoded data removed]",
      "text/plain": [
       "<Figure size 432x216 with 2 Axes>"
      ]
     },
     "metadata": {
      "needs_background": "light"
     },
     "output_type": "display_data"
    }
   ],
   "source": [
    "# similar\n",
    "bins = np.linspace(df_sort_revb1.revol_bal.min(), df_sort_revb1.revol_bal.max(), 33)\n",
    "\n",
    "g = sns.FacetGrid(df_sort_revb1, col=\"loan_status\", hue=\"loan_status\", palette=['#8856a7', '#f03b20'])\n",
    "g.map(plt.hist, 'revol_bal', bins=bins, ec=\"k\")\n",
    "\n",
    "plt.show()"
   ]
  },
  {
   "cell_type": "code",
   "execution_count": 49,
   "metadata": {},
   "outputs": [
    {
     "data": {
      "text/html": [
       "<div>\n",
       "<style scoped>\n",
       "    .dataframe tbody tr th:only-of-type {\n",
       "        vertical-align: middle;\n",
       "    }\n",
       "\n",
       "    .dataframe tbody tr th {\n",
       "        vertical-align: top;\n",
       "    }\n",
       "\n",
       "    .dataframe thead th {\n",
       "        text-align: right;\n",
       "    }\n",
       "</style>\n",
       "<table border=\"1\" class=\"dataframe\">\n",
       "  <thead>\n",
       "    <tr style=\"text-align: right;\">\n",
       "      <th></th>\n",
       "      <th>revol_bal</th>\n",
       "      <th>loan_status</th>\n",
       "      <th>count_in</th>\n",
       "    </tr>\n",
       "  </thead>\n",
       "  <tbody>\n",
       "    <tr>\n",
       "      <th>0</th>\n",
       "      <td>0</td>\n",
       "      <td>Fully paid</td>\n",
       "      <td>262</td>\n",
       "    </tr>\n",
       "    <tr>\n",
       "      <th>1</th>\n",
       "      <td>0</td>\n",
       "      <td>Not fully paid</td>\n",
       "      <td>59</td>\n",
       "    </tr>\n",
       "    <tr>\n",
       "      <th>2</th>\n",
       "      <td>1</td>\n",
       "      <td>Fully paid</td>\n",
       "      <td>4</td>\n",
       "    </tr>\n",
       "    <tr>\n",
       "      <th>3</th>\n",
       "      <td>1</td>\n",
       "      <td>Not fully paid</td>\n",
       "      <td>1</td>\n",
       "    </tr>\n",
       "    <tr>\n",
       "      <th>4</th>\n",
       "      <td>2</td>\n",
       "      <td>Fully paid</td>\n",
       "      <td>2</td>\n",
       "    </tr>\n",
       "    <tr>\n",
       "      <th>...</th>\n",
       "      <td>...</td>\n",
       "      <td>...</td>\n",
       "      <td>...</td>\n",
       "    </tr>\n",
       "    <tr>\n",
       "      <th>8195</th>\n",
       "      <td>407794</td>\n",
       "      <td>Not fully paid</td>\n",
       "      <td>1</td>\n",
       "    </tr>\n",
       "    <tr>\n",
       "      <th>8196</th>\n",
       "      <td>508961</td>\n",
       "      <td>Not fully paid</td>\n",
       "      <td>1</td>\n",
       "    </tr>\n",
       "    <tr>\n",
       "      <th>8197</th>\n",
       "      <td>602519</td>\n",
       "      <td>Fully paid</td>\n",
       "      <td>1</td>\n",
       "    </tr>\n",
       "    <tr>\n",
       "      <th>8198</th>\n",
       "      <td>952013</td>\n",
       "      <td>Fully paid</td>\n",
       "      <td>1</td>\n",
       "    </tr>\n",
       "    <tr>\n",
       "      <th>8199</th>\n",
       "      <td>1207359</td>\n",
       "      <td>Not fully paid</td>\n",
       "      <td>1</td>\n",
       "    </tr>\n",
       "  </tbody>\n",
       "</table>\n",
       "<p>8200 rows × 3 columns</p>\n",
       "</div>"
      ],
      "text/plain": [
       "      revol_bal     loan_status  count_in\n",
       "0             0      Fully paid       262\n",
       "1             0  Not fully paid        59\n",
       "2             1      Fully paid         4\n",
       "3             1  Not fully paid         1\n",
       "4             2      Fully paid         2\n",
       "...         ...             ...       ...\n",
       "8195     407794  Not fully paid         1\n",
       "8196     508961  Not fully paid         1\n",
       "8197     602519      Fully paid         1\n",
       "8198     952013      Fully paid         1\n",
       "8199    1207359  Not fully paid         1\n",
       "\n",
       "[8200 rows x 3 columns]"
      ]
     },
     "execution_count": 49,
     "metadata": {},
     "output_type": "execute_result"
    }
   ],
   "source": [
    "df_sort_revb"
   ]
  },
  {
   "cell_type": "code",
   "execution_count": 50,
   "metadata": {},
   "outputs": [],
   "source": [
    "s_sort_revu= df.groupby('revol_util')['fully_paid'].value_counts()\n",
    "df_sort_revu = s_sort_revu.to_frame()\n",
    "\n",
    "df_sort_revu.rename(columns={'fully_paid':'count_in'},inplace=True)\n",
    "\n",
    "df_sort_revu.reset_index(inplace=True)\n",
    "df_sort_revu.rename(columns={'fully_paid':'loan_status'},inplace=True)\n",
    "df_sort_revu['loan_status'].replace({1:'Fully paid',0:'Not fully paid'},inplace=True)  \n",
    "df_sort_revu.sort_values(by=['count_in'], ascending=False, inplace=True)"
   ]
  },
  {
   "cell_type": "code",
   "execution_count": 51,
   "metadata": {},
   "outputs": [
    {
     "data": {
      "image/png": "[encoded data removed]",
      "text/plain": [
       "<Figure size 432x216 with 2 Axes>"
      ]
     },
     "metadata": {
      "needs_background": "light"
     },
     "output_type": "display_data"
    }
   ],
   "source": [
    "# more even for paid loans\n",
    "bins = np.linspace(df_sort_revu.revol_util.min(), df_sort_revu.revol_util.max(), 33)\n",
    "\n",
    "g = sns.FacetGrid(df_sort_revu, col=\"loan_status\", hue=\"loan_status\", palette=['#8856a7', '#f03b20'])\n",
    "g.map(plt.hist, 'revol_util', bins=bins, ec=\"k\")\n",
    "\n",
    "plt.show()"
   ]
  },
  {
   "cell_type": "code",
   "execution_count": 52,
   "metadata": {},
   "outputs": [],
   "source": [
    "s_sort_inq= df.groupby('inq_last_6mths')['fully_paid'].value_counts()\n",
    "df_sort_inq = s_sort_inq.to_frame()\n",
    "\n",
    "df_sort_inq.rename(columns={'fully_paid':'count_in'},inplace=True)\n",
    "\n",
    "df_sort_inq.reset_index(inplace=True)\n",
    "df_sort_inq.rename(columns={'fully_paid':'loan_status'},inplace=True)\n",
    "df_sort_inq['loan_status'].replace({1:'Fully paid',0:'Not fully paid'},inplace=True)  \n",
    "df_sort_inq.sort_values(by=['count_in'], ascending=False, inplace=True)"
   ]
  },
  {
   "cell_type": "code",
   "execution_count": 53,
   "metadata": {},
   "outputs": [
    {
     "data": {
      "image/png": "[encoded data removed]",
      "text/plain": [
       "<Figure size 432x216 with 2 Axes>"
      ]
     },
     "metadata": {
      "needs_background": "light"
     },
     "output_type": "display_data"
    }
   ],
   "source": [
    "bins = np.linspace(df_sort_inq.inq_last_6mths.min(), df_sort_inq.inq_last_6mths.max(), 45)\n",
    "\n",
    "g = sns.FacetGrid(df_sort_inq, col=\"loan_status\", hue=\"loan_status\", palette=['#8856a7', '#f03b20'])\n",
    "g.map(plt.hist, 'inq_last_6mths', bins=bins, ec=\"k\")\n",
    "\n",
    "plt.show()"
   ]
  },
  {
   "cell_type": "code",
   "execution_count": 54,
   "metadata": {},
   "outputs": [],
   "source": [
    "s_sort_dlq= df.groupby('delinq_2yrs')['fully_paid'].value_counts()\n",
    "df_sort_dlq = s_sort_dlq.to_frame()\n",
    "\n",
    "df_sort_dlq.rename(columns={'fully_paid':'count_in'},inplace=True)\n",
    "\n",
    "df_sort_dlq.reset_index(inplace=True)\n",
    "df_sort_dlq.rename(columns={'fully_paid':'loan_status'},inplace=True)\n",
    "df_sort_dlq['loan_status'].replace({1:'Fully paid',0:'Not fully paid'},inplace=True)  \n",
    "df_sort_dlq.sort_values(by=['count_in'], ascending=False, inplace=True)"
   ]
  },
  {
   "cell_type": "code",
   "execution_count": 55,
   "metadata": {},
   "outputs": [
    {
     "data": {
      "image/png": "[encoded data removed]",
      "text/plain": [
       "<Figure size 432x216 with 2 Axes>"
      ]
     },
     "metadata": {
      "needs_background": "light"
     },
     "output_type": "display_data"
    }
   ],
   "source": [
    "# similar\n",
    "bins = np.linspace(df_sort_dlq.delinq_2yrs.min(), df_sort_dlq.delinq_2yrs.max(), 33)\n",
    "\n",
    "g = sns.FacetGrid(df_sort_dlq, col=\"loan_status\", hue=\"loan_status\", palette=['#8856a7', '#f03b20'])\n",
    "g.map(plt.hist, 'delinq_2yrs', bins=bins, ec=\"k\")\n",
    "\n",
    "plt.show()"
   ]
  },
  {
   "cell_type": "code",
   "execution_count": 56,
   "metadata": {},
   "outputs": [],
   "source": [
    "s_sort_rec= df.groupby('pub_rec')['fully_paid'].value_counts()\n",
    "df_sort_rec = s_sort_rec.to_frame()\n",
    "\n",
    "df_sort_rec.rename(columns={'fully_paid':'count_in'},inplace=True)\n",
    "\n",
    "df_sort_rec.reset_index(inplace=True)\n",
    "df_sort_rec.rename(columns={'fully_paid':'loan_status'},inplace=True)\n",
    "df_sort_rec['loan_status'].replace({1:'Fully paid',0:'Not fully paid'},inplace=True)  \n",
    "df_sort_rec.sort_values(by=['count_in'], ascending=False, inplace=True)"
   ]
  },
  {
   "cell_type": "code",
   "execution_count": 57,
   "metadata": {},
   "outputs": [
    {
     "data": {
      "image/png": "[encoded data removed]",
      "text/plain": [
       "<Figure size 432x216 with 2 Axes>"
      ]
     },
     "metadata": {
      "needs_background": "light"
     },
     "output_type": "display_data"
    }
   ],
   "source": [
    "# similar\n",
    "bins = np.linspace(df_sort_rec.pub_rec.min(), df_sort_rec.pub_rec.max(), 33)\n",
    "\n",
    "g = sns.FacetGrid(df_sort_rec, col=\"loan_status\", hue=\"loan_status\", palette=['#8856a7', '#f03b20'])\n",
    "g.map(plt.hist, 'pub_rec', bins=bins, ec=\"k\")\n",
    "\n",
    "plt.show()"
   ]
  },
  {
   "cell_type": "markdown",
   "metadata": {},
   "source": [
    "\n",
    "\n",
    "<span style=\"color:black; font-size:20px\" > Features such as **'days_with_cr_line', 'log_annual_inc', 'installment', 'dti', 'revol_util'**   seem to differ between the fully paid and not paid loans, as seen by comparing of the shapes and values of frequency distribution for each feature. </span>"
   ]
  },
  {
   "cell_type": "markdown",
   "metadata": {},
   "source": [
    "# 3. Feature selection\n",
    "\n",
    "For the first feature set, I select 'credit_policy','installment', 'log_annual_inc', 'dti', 'days_with_cr_line','revol_util' from the visualisations above.\n",
    "For the second feature set, feature selection is performed with the SelectKBest() method and ANOVA-f measure from the scikit-learn library.\n"
   ]
  },
  {
   "cell_type": "code",
   "execution_count": 58,
   "metadata": {},
   "outputs": [
    {
     "data": {
      "text/html": [
       "<div>\n",
       "<style scoped>\n",
       "    .dataframe tbody tr th:only-of-type {\n",
       "        vertical-align: middle;\n",
       "    }\n",
       "\n",
       "    .dataframe tbody tr th {\n",
       "        vertical-align: top;\n",
       "    }\n",
       "\n",
       "    .dataframe thead th {\n",
       "        text-align: right;\n",
       "    }\n",
       "</style>\n",
       "<table border=\"1\" class=\"dataframe\">\n",
       "  <thead>\n",
       "    <tr style=\"text-align: right;\">\n",
       "      <th></th>\n",
       "      <th>int_rate</th>\n",
       "      <th>installment</th>\n",
       "      <th>log_annual_inc</th>\n",
       "      <th>dti</th>\n",
       "      <th>fico</th>\n",
       "      <th>days_with_cr_line</th>\n",
       "      <th>revol_bal</th>\n",
       "      <th>revol_util</th>\n",
       "      <th>inq_last_6mths</th>\n",
       "      <th>delinq_2yrs</th>\n",
       "      <th>pub_rec</th>\n",
       "    </tr>\n",
       "  </thead>\n",
       "  <tbody>\n",
       "    <tr>\n",
       "      <th>0</th>\n",
       "      <td>0.1189</td>\n",
       "      <td>829.10</td>\n",
       "      <td>11.350407</td>\n",
       "      <td>19.48</td>\n",
       "      <td>737</td>\n",
       "      <td>5639</td>\n",
       "      <td>28854</td>\n",
       "      <td>52.1</td>\n",
       "      <td>0</td>\n",
       "      <td>0</td>\n",
       "      <td>0</td>\n",
       "    </tr>\n",
       "    <tr>\n",
       "      <th>1</th>\n",
       "      <td>0.1071</td>\n",
       "      <td>228.22</td>\n",
       "      <td>11.082143</td>\n",
       "      <td>14.29</td>\n",
       "      <td>707</td>\n",
       "      <td>2760</td>\n",
       "      <td>33623</td>\n",
       "      <td>76.7</td>\n",
       "      <td>0</td>\n",
       "      <td>0</td>\n",
       "      <td>0</td>\n",
       "    </tr>\n",
       "    <tr>\n",
       "      <th>2</th>\n",
       "      <td>0.1357</td>\n",
       "      <td>366.86</td>\n",
       "      <td>10.373491</td>\n",
       "      <td>11.63</td>\n",
       "      <td>682</td>\n",
       "      <td>4710</td>\n",
       "      <td>3511</td>\n",
       "      <td>25.6</td>\n",
       "      <td>1</td>\n",
       "      <td>0</td>\n",
       "      <td>0</td>\n",
       "    </tr>\n",
       "    <tr>\n",
       "      <th>3</th>\n",
       "      <td>0.1008</td>\n",
       "      <td>162.34</td>\n",
       "      <td>11.350407</td>\n",
       "      <td>8.10</td>\n",
       "      <td>712</td>\n",
       "      <td>2699</td>\n",
       "      <td>33667</td>\n",
       "      <td>73.2</td>\n",
       "      <td>1</td>\n",
       "      <td>0</td>\n",
       "      <td>0</td>\n",
       "    </tr>\n",
       "    <tr>\n",
       "      <th>4</th>\n",
       "      <td>0.1426</td>\n",
       "      <td>102.92</td>\n",
       "      <td>11.299732</td>\n",
       "      <td>14.97</td>\n",
       "      <td>667</td>\n",
       "      <td>4066</td>\n",
       "      <td>4740</td>\n",
       "      <td>39.5</td>\n",
       "      <td>0</td>\n",
       "      <td>1</td>\n",
       "      <td>0</td>\n",
       "    </tr>\n",
       "  </tbody>\n",
       "</table>\n",
       "</div>"
      ],
      "text/plain": [
       "   int_rate  installment  log_annual_inc    dti  fico  days_with_cr_line  \\\n",
       "0    0.1189       829.10       11.350407  19.48   737               5639   \n",
       "1    0.1071       228.22       11.082143  14.29   707               2760   \n",
       "2    0.1357       366.86       10.373491  11.63   682               4710   \n",
       "3    0.1008       162.34       11.350407   8.10   712               2699   \n",
       "4    0.1426       102.92       11.299732  14.97   667               4066   \n",
       "\n",
       "   revol_bal  revol_util  inq_last_6mths  delinq_2yrs  pub_rec  \n",
       "0      28854        52.1               0            0        0  \n",
       "1      33623        76.7               0            0        0  \n",
       "2       3511        25.6               1            0        0  \n",
       "3      33667        73.2               1            0        0  \n",
       "4       4740        39.5               0            1        0  "
      ]
     },
     "execution_count": 58,
     "metadata": {},
     "output_type": "execute_result"
    }
   ],
   "source": [
    "# numeric columns\n",
    "df[num_cols].head()"
   ]
  },
  {
   "cell_type": "code",
   "execution_count": 59,
   "metadata": {},
   "outputs": [
    {
     "data": {
      "text/html": [
       "<div>\n",
       "<style scoped>\n",
       "    .dataframe tbody tr th:only-of-type {\n",
       "        vertical-align: middle;\n",
       "    }\n",
       "\n",
       "    .dataframe tbody tr th {\n",
       "        vertical-align: top;\n",
       "    }\n",
       "\n",
       "    .dataframe thead th {\n",
       "        text-align: right;\n",
       "    }\n",
       "</style>\n",
       "<table border=\"1\" class=\"dataframe\">\n",
       "  <thead>\n",
       "    <tr style=\"text-align: right;\">\n",
       "      <th></th>\n",
       "      <th>credit_card</th>\n",
       "      <th>small_business</th>\n",
       "    </tr>\n",
       "  </thead>\n",
       "  <tbody>\n",
       "    <tr>\n",
       "      <th>0</th>\n",
       "      <td>0</td>\n",
       "      <td>0</td>\n",
       "    </tr>\n",
       "    <tr>\n",
       "      <th>1</th>\n",
       "      <td>1</td>\n",
       "      <td>0</td>\n",
       "    </tr>\n",
       "    <tr>\n",
       "      <th>2</th>\n",
       "      <td>0</td>\n",
       "      <td>0</td>\n",
       "    </tr>\n",
       "    <tr>\n",
       "      <th>3</th>\n",
       "      <td>0</td>\n",
       "      <td>0</td>\n",
       "    </tr>\n",
       "    <tr>\n",
       "      <th>4</th>\n",
       "      <td>1</td>\n",
       "      <td>0</td>\n",
       "    </tr>\n",
       "  </tbody>\n",
       "</table>\n",
       "</div>"
      ],
      "text/plain": [
       "   credit_card  small_business\n",
       "0            0               0\n",
       "1            1               0\n",
       "2            0               0\n",
       "3            0               0\n",
       "4            1               0"
      ]
     },
     "execution_count": 59,
     "metadata": {},
     "output_type": "execute_result"
    }
   ],
   "source": [
    "# converting two categorical columns to dummies\n",
    "df_cat = pd.get_dummies(data=df.purpose)\n",
    "df_cat_col= df_cat[['credit_card','small_business']]\n",
    "df_cat_col.head()"
   ]
  },
  {
   "cell_type": "code",
   "execution_count": 60,
   "metadata": {},
   "outputs": [
    {
     "data": {
      "text/html": [
       "<div>\n",
       "<style scoped>\n",
       "    .dataframe tbody tr th:only-of-type {\n",
       "        vertical-align: middle;\n",
       "    }\n",
       "\n",
       "    .dataframe tbody tr th {\n",
       "        vertical-align: top;\n",
       "    }\n",
       "\n",
       "    .dataframe thead th {\n",
       "        text-align: right;\n",
       "    }\n",
       "</style>\n",
       "<table border=\"1\" class=\"dataframe\">\n",
       "  <thead>\n",
       "    <tr style=\"text-align: right;\">\n",
       "      <th></th>\n",
       "      <th>int_rate</th>\n",
       "      <th>installment</th>\n",
       "      <th>log_annual_inc</th>\n",
       "      <th>dti</th>\n",
       "      <th>fico</th>\n",
       "      <th>days_with_cr_line</th>\n",
       "      <th>revol_bal</th>\n",
       "      <th>revol_util</th>\n",
       "      <th>inq_last_6mths</th>\n",
       "      <th>delinq_2yrs</th>\n",
       "      <th>pub_rec</th>\n",
       "      <th>credit_card</th>\n",
       "      <th>small_business</th>\n",
       "      <th>credit_policy</th>\n",
       "    </tr>\n",
       "  </thead>\n",
       "  <tbody>\n",
       "    <tr>\n",
       "      <th>0</th>\n",
       "      <td>0.1189</td>\n",
       "      <td>829.10</td>\n",
       "      <td>11.350407</td>\n",
       "      <td>19.48</td>\n",
       "      <td>737</td>\n",
       "      <td>5639</td>\n",
       "      <td>28854</td>\n",
       "      <td>52.1</td>\n",
       "      <td>0</td>\n",
       "      <td>0</td>\n",
       "      <td>0</td>\n",
       "      <td>0</td>\n",
       "      <td>0</td>\n",
       "      <td>1</td>\n",
       "    </tr>\n",
       "    <tr>\n",
       "      <th>1</th>\n",
       "      <td>0.1071</td>\n",
       "      <td>228.22</td>\n",
       "      <td>11.082143</td>\n",
       "      <td>14.29</td>\n",
       "      <td>707</td>\n",
       "      <td>2760</td>\n",
       "      <td>33623</td>\n",
       "      <td>76.7</td>\n",
       "      <td>0</td>\n",
       "      <td>0</td>\n",
       "      <td>0</td>\n",
       "      <td>1</td>\n",
       "      <td>0</td>\n",
       "      <td>1</td>\n",
       "    </tr>\n",
       "    <tr>\n",
       "      <th>2</th>\n",
       "      <td>0.1357</td>\n",
       "      <td>366.86</td>\n",
       "      <td>10.373491</td>\n",
       "      <td>11.63</td>\n",
       "      <td>682</td>\n",
       "      <td>4710</td>\n",
       "      <td>3511</td>\n",
       "      <td>25.6</td>\n",
       "      <td>1</td>\n",
       "      <td>0</td>\n",
       "      <td>0</td>\n",
       "      <td>0</td>\n",
       "      <td>0</td>\n",
       "      <td>1</td>\n",
       "    </tr>\n",
       "    <tr>\n",
       "      <th>3</th>\n",
       "      <td>0.1008</td>\n",
       "      <td>162.34</td>\n",
       "      <td>11.350407</td>\n",
       "      <td>8.10</td>\n",
       "      <td>712</td>\n",
       "      <td>2699</td>\n",
       "      <td>33667</td>\n",
       "      <td>73.2</td>\n",
       "      <td>1</td>\n",
       "      <td>0</td>\n",
       "      <td>0</td>\n",
       "      <td>0</td>\n",
       "      <td>0</td>\n",
       "      <td>1</td>\n",
       "    </tr>\n",
       "    <tr>\n",
       "      <th>4</th>\n",
       "      <td>0.1426</td>\n",
       "      <td>102.92</td>\n",
       "      <td>11.299732</td>\n",
       "      <td>14.97</td>\n",
       "      <td>667</td>\n",
       "      <td>4066</td>\n",
       "      <td>4740</td>\n",
       "      <td>39.5</td>\n",
       "      <td>0</td>\n",
       "      <td>1</td>\n",
       "      <td>0</td>\n",
       "      <td>1</td>\n",
       "      <td>0</td>\n",
       "      <td>1</td>\n",
       "    </tr>\n",
       "  </tbody>\n",
       "</table>\n",
       "</div>"
      ],
      "text/plain": [
       "   int_rate  installment  log_annual_inc    dti  fico  days_with_cr_line  \\\n",
       "0    0.1189       829.10       11.350407  19.48   737               5639   \n",
       "1    0.1071       228.22       11.082143  14.29   707               2760   \n",
       "2    0.1357       366.86       10.373491  11.63   682               4710   \n",
       "3    0.1008       162.34       11.350407   8.10   712               2699   \n",
       "4    0.1426       102.92       11.299732  14.97   667               4066   \n",
       "\n",
       "   revol_bal  revol_util  inq_last_6mths  delinq_2yrs  pub_rec  credit_card  \\\n",
       "0      28854        52.1               0            0        0            0   \n",
       "1      33623        76.7               0            0        0            1   \n",
       "2       3511        25.6               1            0        0            0   \n",
       "3      33667        73.2               1            0        0            0   \n",
       "4       4740        39.5               0            1        0            1   \n",
       "\n",
       "   small_business  credit_policy  \n",
       "0               0              1  \n",
       "1               0              1  \n",
       "2               0              1  \n",
       "3               0              1  \n",
       "4               0              1  "
      ]
     },
     "execution_count": 60,
     "metadata": {},
     "output_type": "execute_result"
    }
   ],
   "source": [
    "df1 = pd.concat([df[num_cols], df_cat_col, df['credit_policy']], axis=1)\n",
    "df1.head()"
   ]
  },
  {
   "cell_type": "code",
   "execution_count": 61,
   "metadata": {},
   "outputs": [
    {
     "data": {
      "text/plain": [
       "array([[-0.13931753,  2.46309947,  0.68038804, ..., -0.38955828,\n",
       "        -0.26285458,  0.49222226],\n",
       "       [-0.57886837, -0.43885443,  0.2440308 , ...,  2.56701001,\n",
       "        -0.26285458,  0.49222226],\n",
       "       [ 0.48648368,  0.23070836, -0.90865897, ..., -0.38955828,\n",
       "        -0.26285458,  0.49222226],\n",
       "       ...,\n",
       "       [-0.57886837, -1.06867038, -0.54569448, ..., -0.38955828,\n",
       "        -0.26285458, -2.03160257],\n",
       "       [ 1.39166043,  0.1569135 , -0.18272998, ..., -0.38955828,\n",
       "        -0.26285458, -2.03160257],\n",
       "       [ 0.61685894,  2.58060136,  0.54059439, ..., -0.38955828,\n",
       "        -0.26285458, -2.03160257]])"
      ]
     },
     "execution_count": 61,
     "metadata": {},
     "output_type": "execute_result"
    }
   ],
   "source": [
    "# Normalizing data\n",
    "from sklearn import preprocessing\n",
    "\n",
    "scaler = preprocessing.StandardScaler()\n",
    "all_features_scaled1 = scaler.fit_transform(df1)\n",
    "all_features_scaled1"
   ]
  },
  {
   "cell_type": "code",
   "execution_count": 62,
   "metadata": {},
   "outputs": [
    {
     "data": {
      "text/plain": [
       "(9578, 14)"
      ]
     },
     "execution_count": 62,
     "metadata": {},
     "output_type": "execute_result"
    }
   ],
   "source": [
    "all_features_scaled1.shape"
   ]
  },
  {
   "cell_type": "code",
   "execution_count": 63,
   "metadata": {},
   "outputs": [
    {
     "data": {
      "text/plain": [
       "['int_rate',\n",
       " 'installment',\n",
       " 'log_annual_inc',\n",
       " 'dti',\n",
       " 'fico',\n",
       " 'days_with_cr_line',\n",
       " 'revol_bal',\n",
       " 'revol_util',\n",
       " 'inq_last_6mths',\n",
       " 'delinq_2yrs',\n",
       " 'pub_rec',\n",
       " 'credit_card',\n",
       " 'small_business',\n",
       " 'credit_policy']"
      ]
     },
     "execution_count": 63,
     "metadata": {},
     "output_type": "execute_result"
    }
   ],
   "source": [
    "cols = ['int_rate', 'installment', 'log_annual_inc', 'dti', 'fico',\n",
    "       'days_with_cr_line', 'revol_bal', 'revol_util', 'inq_last_6mths',\n",
    "       'delinq_2yrs', 'pub_rec', 'credit_card', 'small_business',\n",
    "       'credit_policy']\n",
    "cols"
   ]
  },
  {
   "cell_type": "code",
   "execution_count": 64,
   "metadata": {},
   "outputs": [],
   "source": [
    "# KBest\n",
    "\n",
    "from sklearn.datasets import load_digits\n",
    "from sklearn.feature_selection import SelectKBest,f_classif"
   ]
  },
  {
   "cell_type": "code",
   "execution_count": 65,
   "metadata": {},
   "outputs": [],
   "source": [
    "# converting the target column so 'not fully paid' is set to 1.\n",
    "df['fully_paid'].replace({'Not fully paid':1,'Fully paid':0}, inplace=True)\n",
    "df.rename(columns={'fully_paid':'not_fully_paid'},inplace=True)\n",
    "Y = df['not_fully_paid'].values"
   ]
  },
  {
   "cell_type": "code",
   "execution_count": 66,
   "metadata": {},
   "outputs": [
    {
     "data": {
      "text/plain": [
       "SelectKBest(k=5, score_func=<function f_classif at 0x000000000C2741E0>)"
      ]
     },
     "execution_count": 66,
     "metadata": {},
     "output_type": "execute_result"
    }
   ],
   "source": [
    "fs = SelectKBest(score_func=f_classif, k=5)  # choose 5 features\n",
    "fit_selected = fs.fit(all_features_scaled1, Y)\n",
    "fit_selected"
   ]
  },
  {
   "cell_type": "code",
   "execution_count": 67,
   "metadata": {},
   "outputs": [],
   "source": [
    "fimportance = fit_selected.scores_"
   ]
  },
  {
   "cell_type": "code",
   "execution_count": 68,
   "metadata": {},
   "outputs": [
    {
     "data": {
      "text/plain": [
       "numpy.ndarray"
      ]
     },
     "execution_count": 68,
     "metadata": {},
     "output_type": "execute_result"
    }
   ],
   "source": [
    "type(fimportance)"
   ]
  },
  {
   "cell_type": "code",
   "execution_count": 69,
   "metadata": {},
   "outputs": [
    {
     "name": "stdout",
     "output_type": "stream",
     "text": [
      "[250.14120228  23.95686725  10.71979245  13.38566487 219.41737141\n",
      "   8.19261323  27.69341779  64.96469182 218.77495366   0.75534635\n",
      "  22.7037686   21.32336088  68.80088417 245.55524074]\n"
     ]
    }
   ],
   "source": [
    "print(fimportance)"
   ]
  },
  {
   "cell_type": "code",
   "execution_count": 70,
   "metadata": {},
   "outputs": [
    {
     "data": {
      "text/plain": [
       "array([ 9,  5,  2,  3, 11, 10,  1,  6,  7, 12,  8,  4, 13,  0],\n",
       "      dtype=int64)"
      ]
     },
     "execution_count": 70,
     "metadata": {},
     "output_type": "execute_result"
    }
   ],
   "source": [
    "idx = np.argsort(fimportance)\n",
    "idx"
   ]
  },
  {
   "cell_type": "code",
   "execution_count": 71,
   "metadata": {},
   "outputs": [
    {
     "data": {
      "text/plain": [
       "array(['delinq_2yrs', 'days_with_cr_line', 'log_annual_inc', 'dti',\n",
       "       'credit_card', 'pub_rec', 'installment', 'revol_bal', 'revol_util',\n",
       "       'small_business', 'inq_last_6mths', 'fico', 'credit_policy',\n",
       "       'int_rate'], dtype='<U17')"
      ]
     },
     "execution_count": 71,
     "metadata": {},
     "output_type": "execute_result"
    }
   ],
   "source": [
    "arr_i = np.array(cols)[idx]\n",
    "arr_i"
   ]
  },
  {
   "cell_type": "code",
   "execution_count": 72,
   "metadata": {},
   "outputs": [
    {
     "data": {
      "text/plain": [
       "array([  0.75534635,   8.19261323,  10.71979245,  13.38566487,\n",
       "        21.32336088,  22.7037686 ,  23.95686725,  27.69341779,\n",
       "        64.96469182,  68.80088417, 218.77495366, 219.41737141,\n",
       "       245.55524074, 250.14120228])"
      ]
     },
     "execution_count": 72,
     "metadata": {},
     "output_type": "execute_result"
    }
   ],
   "source": [
    "fimportance[idx]"
   ]
  },
  {
   "cell_type": "code",
   "execution_count": 73,
   "metadata": {},
   "outputs": [
    {
     "data": {
      "image/png": "[encoded data removed]",
      "text/plain": [
       "<Figure size 432x288 with 1 Axes>"
      ]
     },
     "metadata": {
      "needs_background": "light"
     },
     "output_type": "display_data"
    }
   ],
   "source": [
    "plt.barh(arr_i, fimportance[idx])\n",
    "plt.suptitle('Features ranked by ANOVA F-values', fontsize=14)\n",
    "plt.show()"
   ]
  },
  {
   "cell_type": "markdown",
   "metadata": {},
   "source": [
    "##### Best 5 features are 'int_rate', 'credit_policy',  'fico', 'inq_last_6mths', 'small_business'."
   ]
  },
  {
   "cell_type": "code",
   "execution_count": null,
   "metadata": {},
   "outputs": [],
   "source": []
  },
  {
   "cell_type": "markdown",
   "metadata": {},
   "source": [
    "# 4. Correlation and PCA analysis"
   ]
  },
  {
   "cell_type": "code",
   "execution_count": 74,
   "metadata": {},
   "outputs": [
    {
     "data": {
      "text/html": [
       "<div>\n",
       "<style scoped>\n",
       "    .dataframe tbody tr th:only-of-type {\n",
       "        vertical-align: middle;\n",
       "    }\n",
       "\n",
       "    .dataframe tbody tr th {\n",
       "        vertical-align: top;\n",
       "    }\n",
       "\n",
       "    .dataframe thead th {\n",
       "        text-align: right;\n",
       "    }\n",
       "</style>\n",
       "<table border=\"1\" class=\"dataframe\">\n",
       "  <thead>\n",
       "    <tr style=\"text-align: right;\">\n",
       "      <th></th>\n",
       "      <th>int_rate</th>\n",
       "      <th>installment</th>\n",
       "      <th>log_annual_inc</th>\n",
       "      <th>dti</th>\n",
       "      <th>fico</th>\n",
       "      <th>days_with_cr_line</th>\n",
       "      <th>revol_bal</th>\n",
       "      <th>revol_util</th>\n",
       "      <th>inq_last_6mths</th>\n",
       "      <th>delinq_2yrs</th>\n",
       "      <th>pub_rec</th>\n",
       "    </tr>\n",
       "  </thead>\n",
       "  <tbody>\n",
       "    <tr>\n",
       "      <th>int_rate</th>\n",
       "      <td>1.000000</td>\n",
       "      <td>0.276140</td>\n",
       "      <td>0.056383</td>\n",
       "      <td>0.220006</td>\n",
       "      <td>-0.714821</td>\n",
       "      <td>-0.124023</td>\n",
       "      <td>0.092527</td>\n",
       "      <td>0.464837</td>\n",
       "      <td>0.202780</td>\n",
       "      <td>0.156079</td>\n",
       "      <td>0.098162</td>\n",
       "    </tr>\n",
       "    <tr>\n",
       "      <th>installment</th>\n",
       "      <td>0.276140</td>\n",
       "      <td>1.000000</td>\n",
       "      <td>0.448102</td>\n",
       "      <td>0.050202</td>\n",
       "      <td>0.086039</td>\n",
       "      <td>0.183305</td>\n",
       "      <td>0.233625</td>\n",
       "      <td>0.081356</td>\n",
       "      <td>-0.010419</td>\n",
       "      <td>-0.004368</td>\n",
       "      <td>-0.032760</td>\n",
       "    </tr>\n",
       "    <tr>\n",
       "      <th>log_annual_inc</th>\n",
       "      <td>0.056383</td>\n",
       "      <td>0.448102</td>\n",
       "      <td>1.000000</td>\n",
       "      <td>-0.054065</td>\n",
       "      <td>0.114576</td>\n",
       "      <td>0.336895</td>\n",
       "      <td>0.372140</td>\n",
       "      <td>0.054881</td>\n",
       "      <td>0.029171</td>\n",
       "      <td>0.029203</td>\n",
       "      <td>0.016506</td>\n",
       "    </tr>\n",
       "    <tr>\n",
       "      <th>dti</th>\n",
       "      <td>0.220006</td>\n",
       "      <td>0.050202</td>\n",
       "      <td>-0.054065</td>\n",
       "      <td>1.000000</td>\n",
       "      <td>-0.241191</td>\n",
       "      <td>0.060101</td>\n",
       "      <td>0.188748</td>\n",
       "      <td>0.337109</td>\n",
       "      <td>0.029189</td>\n",
       "      <td>-0.021792</td>\n",
       "      <td>0.006209</td>\n",
       "    </tr>\n",
       "    <tr>\n",
       "      <th>fico</th>\n",
       "      <td>-0.714821</td>\n",
       "      <td>0.086039</td>\n",
       "      <td>0.114576</td>\n",
       "      <td>-0.241191</td>\n",
       "      <td>1.000000</td>\n",
       "      <td>0.263879</td>\n",
       "      <td>-0.015553</td>\n",
       "      <td>-0.541289</td>\n",
       "      <td>-0.185293</td>\n",
       "      <td>-0.216340</td>\n",
       "      <td>-0.147592</td>\n",
       "    </tr>\n",
       "    <tr>\n",
       "      <th>days_with_cr_line</th>\n",
       "      <td>-0.124023</td>\n",
       "      <td>0.183305</td>\n",
       "      <td>0.336895</td>\n",
       "      <td>0.060101</td>\n",
       "      <td>0.263879</td>\n",
       "      <td>1.000000</td>\n",
       "      <td>0.229346</td>\n",
       "      <td>-0.024240</td>\n",
       "      <td>-0.041737</td>\n",
       "      <td>0.081372</td>\n",
       "      <td>0.071829</td>\n",
       "    </tr>\n",
       "    <tr>\n",
       "      <th>revol_bal</th>\n",
       "      <td>0.092527</td>\n",
       "      <td>0.233625</td>\n",
       "      <td>0.372140</td>\n",
       "      <td>0.188748</td>\n",
       "      <td>-0.015553</td>\n",
       "      <td>0.229346</td>\n",
       "      <td>1.000000</td>\n",
       "      <td>0.203779</td>\n",
       "      <td>0.022394</td>\n",
       "      <td>-0.033243</td>\n",
       "      <td>-0.031010</td>\n",
       "    </tr>\n",
       "    <tr>\n",
       "      <th>revol_util</th>\n",
       "      <td>0.464837</td>\n",
       "      <td>0.081356</td>\n",
       "      <td>0.054881</td>\n",
       "      <td>0.337109</td>\n",
       "      <td>-0.541289</td>\n",
       "      <td>-0.024240</td>\n",
       "      <td>0.203779</td>\n",
       "      <td>1.000000</td>\n",
       "      <td>-0.013880</td>\n",
       "      <td>-0.042740</td>\n",
       "      <td>0.066717</td>\n",
       "    </tr>\n",
       "    <tr>\n",
       "      <th>inq_last_6mths</th>\n",
       "      <td>0.202780</td>\n",
       "      <td>-0.010419</td>\n",
       "      <td>0.029171</td>\n",
       "      <td>0.029189</td>\n",
       "      <td>-0.185293</td>\n",
       "      <td>-0.041737</td>\n",
       "      <td>0.022394</td>\n",
       "      <td>-0.013880</td>\n",
       "      <td>1.000000</td>\n",
       "      <td>0.021245</td>\n",
       "      <td>0.072673</td>\n",
       "    </tr>\n",
       "    <tr>\n",
       "      <th>delinq_2yrs</th>\n",
       "      <td>0.156079</td>\n",
       "      <td>-0.004368</td>\n",
       "      <td>0.029203</td>\n",
       "      <td>-0.021792</td>\n",
       "      <td>-0.216340</td>\n",
       "      <td>0.081372</td>\n",
       "      <td>-0.033243</td>\n",
       "      <td>-0.042740</td>\n",
       "      <td>0.021245</td>\n",
       "      <td>1.000000</td>\n",
       "      <td>0.009184</td>\n",
       "    </tr>\n",
       "    <tr>\n",
       "      <th>pub_rec</th>\n",
       "      <td>0.098162</td>\n",
       "      <td>-0.032760</td>\n",
       "      <td>0.016506</td>\n",
       "      <td>0.006209</td>\n",
       "      <td>-0.147592</td>\n",
       "      <td>0.071829</td>\n",
       "      <td>-0.031010</td>\n",
       "      <td>0.066717</td>\n",
       "      <td>0.072673</td>\n",
       "      <td>0.009184</td>\n",
       "      <td>1.000000</td>\n",
       "    </tr>\n",
       "  </tbody>\n",
       "</table>\n",
       "</div>"
      ],
      "text/plain": [
       "                   int_rate  installment  log_annual_inc       dti      fico  \\\n",
       "int_rate           1.000000     0.276140        0.056383  0.220006 -0.714821   \n",
       "installment        0.276140     1.000000        0.448102  0.050202  0.086039   \n",
       "log_annual_inc     0.056383     0.448102        1.000000 -0.054065  0.114576   \n",
       "dti                0.220006     0.050202       -0.054065  1.000000 -0.241191   \n",
       "fico              -0.714821     0.086039        0.114576 -0.241191  1.000000   \n",
       "days_with_cr_line -0.124023     0.183305        0.336895  0.060101  0.263879   \n",
       "revol_bal          0.092527     0.233625        0.372140  0.188748 -0.015553   \n",
       "revol_util         0.464837     0.081356        0.054881  0.337109 -0.541289   \n",
       "inq_last_6mths     0.202780    -0.010419        0.029171  0.029189 -0.185293   \n",
       "delinq_2yrs        0.156079    -0.004368        0.029203 -0.021792 -0.216340   \n",
       "pub_rec            0.098162    -0.032760        0.016506  0.006209 -0.147592   \n",
       "\n",
       "                   days_with_cr_line  revol_bal  revol_util  inq_last_6mths  \\\n",
       "int_rate                   -0.124023   0.092527    0.464837        0.202780   \n",
       "installment                 0.183305   0.233625    0.081356       -0.010419   \n",
       "log_annual_inc              0.336895   0.372140    0.054881        0.029171   \n",
       "dti                         0.060101   0.188748    0.337109        0.029189   \n",
       "fico                        0.263879  -0.015553   -0.541289       -0.185293   \n",
       "days_with_cr_line           1.000000   0.229346   -0.024240       -0.041737   \n",
       "revol_bal                   0.229346   1.000000    0.203779        0.022394   \n",
       "revol_util                 -0.024240   0.203779    1.000000       -0.013880   \n",
       "inq_last_6mths             -0.041737   0.022394   -0.013880        1.000000   \n",
       "delinq_2yrs                 0.081372  -0.033243   -0.042740        0.021245   \n",
       "pub_rec                     0.071829  -0.031010    0.066717        0.072673   \n",
       "\n",
       "                   delinq_2yrs   pub_rec  \n",
       "int_rate              0.156079  0.098162  \n",
       "installment          -0.004368 -0.032760  \n",
       "log_annual_inc        0.029203  0.016506  \n",
       "dti                  -0.021792  0.006209  \n",
       "fico                 -0.216340 -0.147592  \n",
       "days_with_cr_line     0.081372  0.071829  \n",
       "revol_bal            -0.033243 -0.031010  \n",
       "revol_util           -0.042740  0.066717  \n",
       "inq_last_6mths        0.021245  0.072673  \n",
       "delinq_2yrs           1.000000  0.009184  \n",
       "pub_rec               0.009184  1.000000  "
      ]
     },
     "execution_count": 74,
     "metadata": {},
     "output_type": "execute_result"
    }
   ],
   "source": [
    "df_num = df[num_cols]\n",
    "df_corr = df_num.corr()\n",
    "df_corr"
   ]
  },
  {
   "cell_type": "code",
   "execution_count": 75,
   "metadata": {},
   "outputs": [
    {
     "data": {
      "text/html": [
       "<div>\n",
       "<style scoped>\n",
       "    .dataframe tbody tr th:only-of-type {\n",
       "        vertical-align: middle;\n",
       "    }\n",
       "\n",
       "    .dataframe tbody tr th {\n",
       "        vertical-align: top;\n",
       "    }\n",
       "\n",
       "    .dataframe thead th {\n",
       "        text-align: right;\n",
       "    }\n",
       "</style>\n",
       "<table border=\"1\" class=\"dataframe\">\n",
       "  <thead>\n",
       "    <tr style=\"text-align: right;\">\n",
       "      <th></th>\n",
       "      <th>int_rate</th>\n",
       "      <th>installment</th>\n",
       "      <th>log_annual_inc</th>\n",
       "      <th>dti</th>\n",
       "      <th>fico</th>\n",
       "      <th>days_with_cr_line</th>\n",
       "      <th>revol_bal</th>\n",
       "      <th>revol_util</th>\n",
       "      <th>inq_last_6mths</th>\n",
       "      <th>delinq_2yrs</th>\n",
       "      <th>pub_rec</th>\n",
       "    </tr>\n",
       "  </thead>\n",
       "  <tbody>\n",
       "    <tr>\n",
       "      <th>int_rate</th>\n",
       "      <td>1</td>\n",
       "      <td>less</td>\n",
       "      <td>less</td>\n",
       "      <td>less</td>\n",
       "      <td>-0.714821</td>\n",
       "      <td>less</td>\n",
       "      <td>less</td>\n",
       "      <td>0.464837</td>\n",
       "      <td>less</td>\n",
       "      <td>less</td>\n",
       "      <td>less</td>\n",
       "    </tr>\n",
       "    <tr>\n",
       "      <th>installment</th>\n",
       "      <td>less</td>\n",
       "      <td>1</td>\n",
       "      <td>0.448102</td>\n",
       "      <td>less</td>\n",
       "      <td>less</td>\n",
       "      <td>less</td>\n",
       "      <td>less</td>\n",
       "      <td>less</td>\n",
       "      <td>less</td>\n",
       "      <td>less</td>\n",
       "      <td>less</td>\n",
       "    </tr>\n",
       "    <tr>\n",
       "      <th>log_annual_inc</th>\n",
       "      <td>less</td>\n",
       "      <td>0.448102</td>\n",
       "      <td>1</td>\n",
       "      <td>less</td>\n",
       "      <td>less</td>\n",
       "      <td>less</td>\n",
       "      <td>0.37214</td>\n",
       "      <td>less</td>\n",
       "      <td>less</td>\n",
       "      <td>less</td>\n",
       "      <td>less</td>\n",
       "    </tr>\n",
       "    <tr>\n",
       "      <th>dti</th>\n",
       "      <td>less</td>\n",
       "      <td>less</td>\n",
       "      <td>less</td>\n",
       "      <td>1</td>\n",
       "      <td>less</td>\n",
       "      <td>less</td>\n",
       "      <td>less</td>\n",
       "      <td>less</td>\n",
       "      <td>less</td>\n",
       "      <td>less</td>\n",
       "      <td>less</td>\n",
       "    </tr>\n",
       "    <tr>\n",
       "      <th>fico</th>\n",
       "      <td>-0.714821</td>\n",
       "      <td>less</td>\n",
       "      <td>less</td>\n",
       "      <td>less</td>\n",
       "      <td>1</td>\n",
       "      <td>less</td>\n",
       "      <td>less</td>\n",
       "      <td>-0.541289</td>\n",
       "      <td>less</td>\n",
       "      <td>less</td>\n",
       "      <td>less</td>\n",
       "    </tr>\n",
       "    <tr>\n",
       "      <th>days_with_cr_line</th>\n",
       "      <td>less</td>\n",
       "      <td>less</td>\n",
       "      <td>less</td>\n",
       "      <td>less</td>\n",
       "      <td>less</td>\n",
       "      <td>1</td>\n",
       "      <td>less</td>\n",
       "      <td>less</td>\n",
       "      <td>less</td>\n",
       "      <td>less</td>\n",
       "      <td>less</td>\n",
       "    </tr>\n",
       "    <tr>\n",
       "      <th>revol_bal</th>\n",
       "      <td>less</td>\n",
       "      <td>less</td>\n",
       "      <td>0.37214</td>\n",
       "      <td>less</td>\n",
       "      <td>less</td>\n",
       "      <td>less</td>\n",
       "      <td>1</td>\n",
       "      <td>less</td>\n",
       "      <td>less</td>\n",
       "      <td>less</td>\n",
       "      <td>less</td>\n",
       "    </tr>\n",
       "    <tr>\n",
       "      <th>revol_util</th>\n",
       "      <td>0.464837</td>\n",
       "      <td>less</td>\n",
       "      <td>less</td>\n",
       "      <td>less</td>\n",
       "      <td>-0.541289</td>\n",
       "      <td>less</td>\n",
       "      <td>less</td>\n",
       "      <td>1</td>\n",
       "      <td>less</td>\n",
       "      <td>less</td>\n",
       "      <td>less</td>\n",
       "    </tr>\n",
       "    <tr>\n",
       "      <th>inq_last_6mths</th>\n",
       "      <td>less</td>\n",
       "      <td>less</td>\n",
       "      <td>less</td>\n",
       "      <td>less</td>\n",
       "      <td>less</td>\n",
       "      <td>less</td>\n",
       "      <td>less</td>\n",
       "      <td>less</td>\n",
       "      <td>1</td>\n",
       "      <td>less</td>\n",
       "      <td>less</td>\n",
       "    </tr>\n",
       "    <tr>\n",
       "      <th>delinq_2yrs</th>\n",
       "      <td>less</td>\n",
       "      <td>less</td>\n",
       "      <td>less</td>\n",
       "      <td>less</td>\n",
       "      <td>less</td>\n",
       "      <td>less</td>\n",
       "      <td>less</td>\n",
       "      <td>less</td>\n",
       "      <td>less</td>\n",
       "      <td>1</td>\n",
       "      <td>less</td>\n",
       "    </tr>\n",
       "    <tr>\n",
       "      <th>pub_rec</th>\n",
       "      <td>less</td>\n",
       "      <td>less</td>\n",
       "      <td>less</td>\n",
       "      <td>less</td>\n",
       "      <td>less</td>\n",
       "      <td>less</td>\n",
       "      <td>less</td>\n",
       "      <td>less</td>\n",
       "      <td>less</td>\n",
       "      <td>less</td>\n",
       "      <td>1</td>\n",
       "    </tr>\n",
       "  </tbody>\n",
       "</table>\n",
       "</div>"
      ],
      "text/plain": [
       "                   int_rate installment log_annual_inc   dti      fico  \\\n",
       "int_rate                  1        less           less  less -0.714821   \n",
       "installment            less           1       0.448102  less      less   \n",
       "log_annual_inc         less    0.448102              1  less      less   \n",
       "dti                    less        less           less     1      less   \n",
       "fico              -0.714821        less           less  less         1   \n",
       "days_with_cr_line      less        less           less  less      less   \n",
       "revol_bal              less        less        0.37214  less      less   \n",
       "revol_util         0.464837        less           less  less -0.541289   \n",
       "inq_last_6mths         less        less           less  less      less   \n",
       "delinq_2yrs            less        less           less  less      less   \n",
       "pub_rec                less        less           less  less      less   \n",
       "\n",
       "                  days_with_cr_line revol_bal revol_util inq_last_6mths  \\\n",
       "int_rate                       less      less   0.464837           less   \n",
       "installment                    less      less       less           less   \n",
       "log_annual_inc                 less   0.37214       less           less   \n",
       "dti                            less      less       less           less   \n",
       "fico                           less      less  -0.541289           less   \n",
       "days_with_cr_line                 1      less       less           less   \n",
       "revol_bal                      less         1       less           less   \n",
       "revol_util                     less      less          1           less   \n",
       "inq_last_6mths                 less      less       less              1   \n",
       "delinq_2yrs                    less      less       less           less   \n",
       "pub_rec                        less      less       less           less   \n",
       "\n",
       "                  delinq_2yrs pub_rec  \n",
       "int_rate                 less    less  \n",
       "installment              less    less  \n",
       "log_annual_inc           less    less  \n",
       "dti                      less    less  \n",
       "fico                     less    less  \n",
       "days_with_cr_line        less    less  \n",
       "revol_bal                less    less  \n",
       "revol_util               less    less  \n",
       "inq_last_6mths           less    less  \n",
       "delinq_2yrs                 1    less  \n",
       "pub_rec                  less       1  "
      ]
     },
     "execution_count": 75,
     "metadata": {},
     "output_type": "execute_result"
    }
   ],
   "source": [
    "# int_rate/fico, revol_util/fico, int_rate/revol_util, log_annual_inc/installment, log_annual_inc/revol_bal seem to be significantly correlated.\n",
    "df_big_corr = df_corr.apply(lambda x: [y if abs(y) >= 0.35 else 'less' for y in x])\n",
    "df_big_corr"
   ]
  },
  {
   "cell_type": "code",
   "execution_count": 76,
   "metadata": {},
   "outputs": [
    {
     "data": {
      "text/plain": [
       "(array([ 0.5,  1.5,  2.5,  3.5,  4.5,  5.5,  6.5,  7.5,  8.5,  9.5, 10.5]),\n",
       " [Text(0.5, 0, 'int_rate'),\n",
       "  Text(1.5, 0, 'installment'),\n",
       "  Text(2.5, 0, 'log_annual_inc'),\n",
       "  Text(3.5, 0, 'dti'),\n",
       "  Text(4.5, 0, 'fico'),\n",
       "  Text(5.5, 0, 'days_with_cr_line'),\n",
       "  Text(6.5, 0, 'revol_bal'),\n",
       "  Text(7.5, 0, 'revol_util'),\n",
       "  Text(8.5, 0, 'inq_last_6mths'),\n",
       "  Text(9.5, 0, 'delinq_2yrs'),\n",
       "  Text(10.5, 0, 'pub_rec')])"
      ]
     },
     "execution_count": 76,
     "metadata": {},
     "output_type": "execute_result"
    },
    {
     "data": {
      "image/png": "[encoded data removed]",
      "text/plain": [
       "<Figure size 864x576 with 2 Axes>"
      ]
     },
     "metadata": {
      "needs_background": "light"
     },
     "output_type": "display_data"
    }
   ],
   "source": [
    "fig,ax = plt.subplots (figsize =(12,8))\n",
    "sns.heatmap(df_corr, square=True, vmin =-1, vmax=1, cmap='RdYlBu')\n",
    "plt.xticks(rotation=90)"
   ]
  },
  {
   "cell_type": "markdown",
   "metadata": {},
   "source": [
    "### Principle Component Analysis"
   ]
  },
  {
   "cell_type": "code",
   "execution_count": 77,
   "metadata": {},
   "outputs": [
    {
     "data": {
      "text/plain": [
       "array(['debt_consolidation', 'credit_card', 'all_other',\n",
       "       'home_improvement', 'small_business', 'major_purchase',\n",
       "       'educational'], dtype=object)"
      ]
     },
     "execution_count": 77,
     "metadata": {},
     "output_type": "execute_result"
    }
   ],
   "source": [
    "df.purpose.unique()"
   ]
  },
  {
   "cell_type": "code",
   "execution_count": 122,
   "metadata": {},
   "outputs": [
    {
     "data": {
      "text/html": [
       "<div>\n",
       "<style scoped>\n",
       "    .dataframe tbody tr th:only-of-type {\n",
       "        vertical-align: middle;\n",
       "    }\n",
       "\n",
       "    .dataframe tbody tr th {\n",
       "        vertical-align: top;\n",
       "    }\n",
       "\n",
       "    .dataframe thead th {\n",
       "        text-align: right;\n",
       "    }\n",
       "</style>\n",
       "<table border=\"1\" class=\"dataframe\">\n",
       "  <thead>\n",
       "    <tr style=\"text-align: right;\">\n",
       "      <th></th>\n",
       "      <th>credit_card</th>\n",
       "      <th>small_business</th>\n",
       "    </tr>\n",
       "  </thead>\n",
       "  <tbody>\n",
       "    <tr>\n",
       "      <th>0</th>\n",
       "      <td>0</td>\n",
       "      <td>0</td>\n",
       "    </tr>\n",
       "    <tr>\n",
       "      <th>1</th>\n",
       "      <td>1</td>\n",
       "      <td>0</td>\n",
       "    </tr>\n",
       "    <tr>\n",
       "      <th>2</th>\n",
       "      <td>0</td>\n",
       "      <td>0</td>\n",
       "    </tr>\n",
       "    <tr>\n",
       "      <th>3</th>\n",
       "      <td>0</td>\n",
       "      <td>0</td>\n",
       "    </tr>\n",
       "    <tr>\n",
       "      <th>4</th>\n",
       "      <td>1</td>\n",
       "      <td>0</td>\n",
       "    </tr>\n",
       "    <tr>\n",
       "      <th>...</th>\n",
       "      <td>...</td>\n",
       "      <td>...</td>\n",
       "    </tr>\n",
       "    <tr>\n",
       "      <th>9573</th>\n",
       "      <td>0</td>\n",
       "      <td>0</td>\n",
       "    </tr>\n",
       "    <tr>\n",
       "      <th>9574</th>\n",
       "      <td>0</td>\n",
       "      <td>0</td>\n",
       "    </tr>\n",
       "    <tr>\n",
       "      <th>9575</th>\n",
       "      <td>0</td>\n",
       "      <td>0</td>\n",
       "    </tr>\n",
       "    <tr>\n",
       "      <th>9576</th>\n",
       "      <td>0</td>\n",
       "      <td>0</td>\n",
       "    </tr>\n",
       "    <tr>\n",
       "      <th>9577</th>\n",
       "      <td>0</td>\n",
       "      <td>0</td>\n",
       "    </tr>\n",
       "  </tbody>\n",
       "</table>\n",
       "<p>9578 rows × 2 columns</p>\n",
       "</div>"
      ],
      "text/plain": [
       "      credit_card  small_business\n",
       "0               0               0\n",
       "1               1               0\n",
       "2               0               0\n",
       "3               0               0\n",
       "4               1               0\n",
       "...           ...             ...\n",
       "9573            0               0\n",
       "9574            0               0\n",
       "9575            0               0\n",
       "9576            0               0\n",
       "9577            0               0\n",
       "\n",
       "[9578 rows x 2 columns]"
      ]
     },
     "execution_count": 122,
     "metadata": {},
     "output_type": "execute_result"
    }
   ],
   "source": [
    "## Adding two non-numeric columns wtih  purpose = credit card and = small business\n",
    "df_cat = pd.get_dummies(data=df.purpose)\n",
    "df_cat_col= df_cat[['credit_card','small_business']]\n",
    "df_cat_col"
   ]
  },
  {
   "cell_type": "code",
   "execution_count": 123,
   "metadata": {},
   "outputs": [
    {
     "data": {
      "text/html": [
       "<div>\n",
       "<style scoped>\n",
       "    .dataframe tbody tr th:only-of-type {\n",
       "        vertical-align: middle;\n",
       "    }\n",
       "\n",
       "    .dataframe tbody tr th {\n",
       "        vertical-align: top;\n",
       "    }\n",
       "\n",
       "    .dataframe thead th {\n",
       "        text-align: right;\n",
       "    }\n",
       "</style>\n",
       "<table border=\"1\" class=\"dataframe\">\n",
       "  <thead>\n",
       "    <tr style=\"text-align: right;\">\n",
       "      <th></th>\n",
       "      <th>int_rate</th>\n",
       "      <th>installment</th>\n",
       "      <th>log_annual_inc</th>\n",
       "      <th>dti</th>\n",
       "      <th>fico</th>\n",
       "      <th>days_with_cr_line</th>\n",
       "      <th>revol_bal</th>\n",
       "      <th>revol_util</th>\n",
       "      <th>inq_last_6mths</th>\n",
       "      <th>delinq_2yrs</th>\n",
       "      <th>pub_rec</th>\n",
       "      <th>credit_card</th>\n",
       "      <th>small_business</th>\n",
       "    </tr>\n",
       "  </thead>\n",
       "  <tbody>\n",
       "    <tr>\n",
       "      <th>0</th>\n",
       "      <td>0.1189</td>\n",
       "      <td>829.10</td>\n",
       "      <td>11.350407</td>\n",
       "      <td>19.48</td>\n",
       "      <td>737</td>\n",
       "      <td>5639</td>\n",
       "      <td>28854</td>\n",
       "      <td>52.1</td>\n",
       "      <td>0</td>\n",
       "      <td>0</td>\n",
       "      <td>0</td>\n",
       "      <td>0</td>\n",
       "      <td>0</td>\n",
       "    </tr>\n",
       "    <tr>\n",
       "      <th>1</th>\n",
       "      <td>0.1071</td>\n",
       "      <td>228.22</td>\n",
       "      <td>11.082143</td>\n",
       "      <td>14.29</td>\n",
       "      <td>707</td>\n",
       "      <td>2760</td>\n",
       "      <td>33623</td>\n",
       "      <td>76.7</td>\n",
       "      <td>0</td>\n",
       "      <td>0</td>\n",
       "      <td>0</td>\n",
       "      <td>1</td>\n",
       "      <td>0</td>\n",
       "    </tr>\n",
       "    <tr>\n",
       "      <th>2</th>\n",
       "      <td>0.1357</td>\n",
       "      <td>366.86</td>\n",
       "      <td>10.373491</td>\n",
       "      <td>11.63</td>\n",
       "      <td>682</td>\n",
       "      <td>4710</td>\n",
       "      <td>3511</td>\n",
       "      <td>25.6</td>\n",
       "      <td>1</td>\n",
       "      <td>0</td>\n",
       "      <td>0</td>\n",
       "      <td>0</td>\n",
       "      <td>0</td>\n",
       "    </tr>\n",
       "    <tr>\n",
       "      <th>3</th>\n",
       "      <td>0.1008</td>\n",
       "      <td>162.34</td>\n",
       "      <td>11.350407</td>\n",
       "      <td>8.10</td>\n",
       "      <td>712</td>\n",
       "      <td>2699</td>\n",
       "      <td>33667</td>\n",
       "      <td>73.2</td>\n",
       "      <td>1</td>\n",
       "      <td>0</td>\n",
       "      <td>0</td>\n",
       "      <td>0</td>\n",
       "      <td>0</td>\n",
       "    </tr>\n",
       "    <tr>\n",
       "      <th>4</th>\n",
       "      <td>0.1426</td>\n",
       "      <td>102.92</td>\n",
       "      <td>11.299732</td>\n",
       "      <td>14.97</td>\n",
       "      <td>667</td>\n",
       "      <td>4066</td>\n",
       "      <td>4740</td>\n",
       "      <td>39.5</td>\n",
       "      <td>0</td>\n",
       "      <td>1</td>\n",
       "      <td>0</td>\n",
       "      <td>1</td>\n",
       "      <td>0</td>\n",
       "    </tr>\n",
       "  </tbody>\n",
       "</table>\n",
       "</div>"
      ],
      "text/plain": [
       "   int_rate  installment  log_annual_inc    dti  fico  days_with_cr_line  \\\n",
       "0    0.1189       829.10       11.350407  19.48   737               5639   \n",
       "1    0.1071       228.22       11.082143  14.29   707               2760   \n",
       "2    0.1357       366.86       10.373491  11.63   682               4710   \n",
       "3    0.1008       162.34       11.350407   8.10   712               2699   \n",
       "4    0.1426       102.92       11.299732  14.97   667               4066   \n",
       "\n",
       "   revol_bal  revol_util  inq_last_6mths  delinq_2yrs  pub_rec  credit_card  \\\n",
       "0      28854        52.1               0            0        0            0   \n",
       "1      33623        76.7               0            0        0            1   \n",
       "2       3511        25.6               1            0        0            0   \n",
       "3      33667        73.2               1            0        0            0   \n",
       "4       4740        39.5               0            1        0            1   \n",
       "\n",
       "   small_business  \n",
       "0               0  \n",
       "1               0  \n",
       "2               0  \n",
       "3               0  \n",
       "4               0  "
      ]
     },
     "execution_count": 123,
     "metadata": {},
     "output_type": "execute_result"
    }
   ],
   "source": [
    "df2 = pd.concat([df[num_cols], df_cat_col], axis=1)\n",
    "df2.head()"
   ]
  },
  {
   "cell_type": "code",
   "execution_count": 124,
   "metadata": {},
   "outputs": [
    {
     "data": {
      "text/plain": [
       "(9578, 13)"
      ]
     },
     "execution_count": 124,
     "metadata": {},
     "output_type": "execute_result"
    }
   ],
   "source": [
    "df2.shape"
   ]
  },
  {
   "cell_type": "code",
   "execution_count": 81,
   "metadata": {},
   "outputs": [
    {
     "data": {
      "text/plain": [
       "array([[-0.13931753,  2.46309947,  0.68038804, ..., -0.23700318,\n",
       "        -0.38955828, -0.26285458],\n",
       "       [-0.57886837, -0.43885443,  0.2440308 , ..., -0.23700318,\n",
       "         2.56701001, -0.26285458],\n",
       "       [ 0.48648368,  0.23070836, -0.90865897, ..., -0.23700318,\n",
       "        -0.38955828, -0.26285458],\n",
       "       ...,\n",
       "       [-0.57886837, -1.06867038, -0.54569448, ..., -0.23700318,\n",
       "        -0.38955828, -0.26285458],\n",
       "       [ 1.39166043,  0.1569135 , -0.18272998, ..., -0.23700318,\n",
       "        -0.38955828, -0.26285458],\n",
       "       [ 0.61685894,  2.58060136,  0.54059439, ..., -0.23700318,\n",
       "        -0.38955828, -0.26285458]])"
      ]
     },
     "execution_count": 81,
     "metadata": {},
     "output_type": "execute_result"
    }
   ],
   "source": [
    "# Normalizing data\n",
    "from sklearn import preprocessing\n",
    "\n",
    "scaler = preprocessing.StandardScaler()\n",
    "all_features_scaled2 = scaler.fit_transform(df2)\n",
    "all_features_scaled2"
   ]
  },
  {
   "cell_type": "code",
   "execution_count": 82,
   "metadata": {},
   "outputs": [
    {
     "data": {
      "text/plain": [
       "(9578,)"
      ]
     },
     "execution_count": 82,
     "metadata": {},
     "output_type": "execute_result"
    }
   ],
   "source": [
    "#df['fully_paid'].replace({'Not fully paid':1,'Fully paid':0}, inplace=True)\n",
    "y = df['not_fully_paid']\n",
    "y.shape"
   ]
  },
  {
   "cell_type": "code",
   "execution_count": 83,
   "metadata": {},
   "outputs": [
    {
     "data": {
      "text/plain": [
       "0    8045\n",
       "1    1533\n",
       "Name: fully_paid, dtype: int64"
      ]
     },
     "execution_count": 83,
     "metadata": {},
     "output_type": "execute_result"
    }
   ],
   "source": [
    "df['not_fully_paid'].value_counts()"
   ]
  },
  {
   "cell_type": "code",
   "execution_count": 84,
   "metadata": {},
   "outputs": [
    {
     "data": {
      "image/png": "[encoded data removed]",
      "text/plain": [
       "<Figure size 432x288 with 1 Axes>"
      ]
     },
     "metadata": {
      "needs_background": "light"
     },
     "output_type": "display_data"
    }
   ],
   "source": [
    "# Choosing the number of PCA components: it looks like each of the first 3 PCA components explain over 10% of varience.\n",
    "from sklearn.decomposition import PCA\n",
    "pca = PCA(n_components = 10) #n_components = 8\n",
    "X_train_pca = pca.fit_transform(all_features_scaled2)\n",
    "per_var = np.round(pca.explained_variance_ratio_* 100, decimals=1)\n",
    "labels = ['PC' + str(x) for x in range(1, len(per_var)+1)]\n",
    " \n",
    "import matplotlib.pyplot as plt    \n",
    "plt.bar(x=range(1,len(per_var)+1), height=per_var, tick_label=labels)\n",
    "plt.ylabel('Percentage of Explained Variance')\n",
    "plt.xlabel('Principal Component')\n",
    "plt.title('Scree Plot')\n",
    "plt.show()"
   ]
  },
  {
   "cell_type": "code",
   "execution_count": 85,
   "metadata": {},
   "outputs": [],
   "source": [
    "from sklearn.model_selection import train_test_split\n",
    "X_trainpca, X_testpca, y_trainpca, y_testpca = train_test_split(X_train_pca, y, test_size = 0.2, random_state=18)"
   ]
  },
  {
   "cell_type": "markdown",
   "metadata": {},
   "source": [
    "# 5. Modelling the loan payoff.\n",
    "\n",
    "I use the features from the PCA analysis and then features including two newly designed features. The Neural Networks model uses all features. I choose the model with the highest recall score for prediction."
   ]
  },
  {
   "cell_type": "code",
   "execution_count": 88,
   "metadata": {},
   "outputs": [],
   "source": [
    "from sklearn.metrics import roc_auc_score, roc_curve, auc\n",
    "from sklearn.model_selection import GridSearchCV\n",
    "from sklearn.linear_model import LogisticRegression\n",
    "from sklearn.svm import SVC\n",
    "from sklearn.ensemble import GradientBoostingClassifier\n",
    "from sklearn.tree import DecisionTreeClassifier\n",
    "from sklearn.ensemble import RandomForestClassifier\n",
    "from sklearn.neighbors import KNeighborsClassifier\n",
    "from sklearn.metrics import recall_score, accuracy_score, roc_auc_score, f1_score, precision_score\n",
    "from sklearn.metrics import classification_report,confusion_matrix"
   ]
  },
  {
   "cell_type": "markdown",
   "metadata": {},
   "source": [
    "## Modelling approach 1. Using PCA features."
   ]
  },
  {
   "cell_type": "markdown",
   "metadata": {},
   "source": [
    "### Logistic regression"
   ]
  },
  {
   "cell_type": "code",
   "execution_count": 253,
   "metadata": {},
   "outputs": [
    {
     "name": "stdout",
     "output_type": "stream",
     "text": [
      "Accuracy of RF classifier on training set: 0.625163\n",
      "Accuracy of RF classifier on test set: 0.601775\n",
      "Recall of DT classifier on test set: 0.601266\n"
     ]
    }
   ],
   "source": [
    "lr = LogisticRegression(class_weight='balanced', solver = 'sag') # using class_weight = balanced for our imbalanced target variable. \n",
    "lr.fit(X_trainpca, y_trainpca)\n",
    "\n",
    "\n",
    "y_test_predict  = lr.predict(X_testpca)\n",
    "print('Accuracy of RF classifier on training set: {:.6f}'\n",
    "     .format(lr.score(X_trainpca, y_trainpca)))\n",
    "print('Accuracy of RF classifier on test set: {:.6f}'\n",
    "     .format(lr.score(X_testpca, y_testpca)))\n",
    "\n",
    "print('Recall of DT classifier on test set: {:.6f}'\n",
    "      .format(recall_score(y_testpca, y_test_predict)))"
   ]
  },
  {
   "cell_type": "markdown",
   "metadata": {},
   "source": [
    "### Decision Tree and Random Forest models"
   ]
  },
  {
   "cell_type": "code",
   "execution_count": 91,
   "metadata": {},
   "outputs": [
    {
     "name": "stdout",
     "output_type": "stream",
     "text": [
      "Accuracy of DT classifier on training set: 0.58744\n",
      "Accuracy of DT classifier on test set: 0.568894\n",
      "Recall of DT classifier on test set: 0.636076\n"
     ]
    }
   ],
   "source": [
    "dt = DecisionTreeClassifier()\n",
    "#grid_values = {'criterion':['gini','entropy'], 'max_depth': [3,4,6]}\n",
    "#grid_dt_auc = GridSearchCV( dt, param_grid = grid_values, cv=5, scoring='roc_auc')\n",
    "#grid_dt_auc.fit(X_trainpca, y_trainpca)\n",
    "#print('Grid best parameter (max. AUC): ', grid_dt_auc.best_params_)\n",
    "dtc = DecisionTreeClassifier(class_weight='balanced',criterion = 'gini', max_depth = 4, min_samples_leaf = 6, random_state = 0).fit(X_trainpca, y_trainpca)\n",
    "\n",
    "y_test_predict  = dtc.predict(X_testpca)\n",
    "\n",
    "\n",
    "print('Accuracy of DT classifier on training set: {:.5f}'\n",
    "     .format(dtc.score(X_trainpca, y_trainpca)))\n",
    "print('Accuracy of DT classifier on test set: {:.6f}'\n",
    "     .format(dtc.score(X_testpca, y_testpca)))\n",
    "\n",
    "print('Recall of DT classifier on test set: {:.6f}'\n",
    "      .format(recall_score(y_testpca, y_test_predict)))"
   ]
  },
  {
   "cell_type": "code",
   "execution_count": 255,
   "metadata": {},
   "outputs": [
    {
     "name": "stdout",
     "output_type": "stream",
     "text": [
      "Accuracy of RF classifier on training set: 0.627121\n",
      "Accuracy of RF classifier on test set: 0.602296\n",
      "Recall of RF classifier on test set: 0.629747\n"
     ]
    }
   ],
   "source": [
    "rf = RandomForestClassifier()\n",
    "#grid_values = {'max_depth': [4,6,8],'n_estimators': [10,12,14]}\n",
    "#grid_rf_auc = GridSearchCV( rf, param_grid = grid_values, cv=3, scoring='roc_auc')\n",
    "#grid_rf_auc.fit(X_trainpca, y_trainpca)\n",
    "#print('Grid best parameter (max. AUC): ', grid_rf_auc.best_params_)\n",
    "\n",
    "rfc = RandomForestClassifier(class_weight='balanced', n_estimators = 14, max_depth=4, max_features = None, random_state = 4).fit(X_trainpca, y_trainpca)\n",
    "y_test_predict  = rfc.predict(X_testpca)\n",
    "print('Accuracy of RF classifier on training set: {:.6f}'\n",
    "     .format(rfc.score(X_trainpca, y_trainpca)))\n",
    "print('Accuracy of RF classifier on test set: {:.6f}'\n",
    "     .format(rfc.score(X_testpca, y_testpca)))\n",
    "\n",
    "print('Recall of RF classifier on test set: {:.6f}'\n",
    "      .format(recall_score(y_testpca, y_test_predict)))"
   ]
  },
  {
   "cell_type": "markdown",
   "metadata": {},
   "source": [
    "### Gradient Boosting"
   ]
  },
  {
   "cell_type": "code",
   "execution_count": 251,
   "metadata": {},
   "outputs": [
    {
     "name": "stdout",
     "output_type": "stream",
     "text": [
      "Accuracy of GB classifier on training set: 0.84704\n",
      "Accuracy of GB classifier on test set: 0.83403\n",
      "Recall of RF classifier on test set: 0.003165\n"
     ]
    }
   ],
   "source": [
    "gr = GradientBoostingClassifier()\n",
    "#grid_values = {'learning_rate': [0.008,0.009,0.1],'n_estimators': [300,320]}\n",
    "#grid_grc = GridSearchCV( gr, param_grid = grid_values, cv=5, scoring='roc_auc')\n",
    "#grid_grc.fit(X_trainpca, y_trainpca)\n",
    "\n",
    "#print('Model best parameter (max. AUC): ', grid_grc.best_params_)\n",
    "#print('Model score (AUC): ', grid_grc.best_score_)\n",
    "  \n",
    "grc= GradientBoostingClassifier(learning_rate = 0.009, max_depth = 4, n_estimators=300).fit(X_trainpca, y_trainpca)\n",
    "y_test_predict  = grc.predict(X_testpca)\n",
    "print('Accuracy of GB classifier on training set: {:.5f}'\n",
    "     .format(grc.score(X_trainpca, y_trainpca)))\n",
    "print('Accuracy of GB classifier on test set: {:.5f}'\n",
    "     .format(grc.score(X_testpca, y_testpca)))\n",
    "\n",
    "print('Recall of RF classifier on test set: {:.6f}'\n",
    "      .format(recall_score(y_testpca, y_test_predict)))"
   ]
  },
  {
   "cell_type": "markdown",
   "metadata": {},
   "source": [
    "### Support Vector Classifier"
   ]
  },
  {
   "cell_type": "code",
   "execution_count": 120,
   "metadata": {},
   "outputs": [
    {
     "data": {
      "text/plain": [
       "{'C': 10, 'gamma': 0.005, 'kernel': 'rbf'}"
      ]
     },
     "execution_count": 120,
     "metadata": {},
     "output_type": "execute_result"
    }
   ],
   "source": [
    "svm_r = SVC(class_weight='balanced', probability=True)\n",
    "grid_values = [{'C':[5,10,12],'gamma':[0.003,0.005],'kernel': ['rbf']}]\n",
    "\n",
    "optimal_params = GridSearchCV(svm_r,grid_values,cv=5, verbose=0,scoring=\"roc_auc\")\n",
    "\n",
    "optimal_params.fit(X_trainpca, y_trainpca)\n",
    "optimal_params.best_params_"
   ]
  },
  {
   "cell_type": "code",
   "execution_count": 89,
   "metadata": {},
   "outputs": [
    {
     "name": "stdout",
     "output_type": "stream",
     "text": [
      "Accuracy of SV classifier on training set: 0.58979\n",
      "Accuracy of SV classifier on test set: 0.57829\n",
      "Recall of SV classifier on test set: 0.702532\n"
     ]
    }
   ],
   "source": [
    "svm_model_pca = SVC(class_weight='balanced',probability=True, gamma=0.005, C = 10, kernel = 'rbf').fit(X_trainpca, y_trainpca)\n",
    "\n",
    "y_test_predict  = svm_model_pca.predict(X_testpca)\n",
    "print('Accuracy of SV classifier on training set: {:.5f}'\n",
    "     .format(svm_model_pca.score(X_trainpca, y_trainpca)))\n",
    "print('Accuracy of SV classifier on test set: {:.5f}'\n",
    "     .format(svm_model_pca.score(X_testpca, y_testpca)))\n",
    "\n",
    "print('Recall of SV classifier on test set: {:.6f}'\n",
    "      .format(recall_score(y_testpca, y_test_predict)))"
   ]
  },
  {
   "cell_type": "code",
   "execution_count": 123,
   "metadata": {},
   "outputs": [
    {
     "data": {
      "text/plain": [
       "{'C': 5, 'gamma': 0.003, 'kernel': 'linear'}"
      ]
     },
     "execution_count": 123,
     "metadata": {},
     "output_type": "execute_result"
    }
   ],
   "source": [
    "svm_l = SVC()\n",
    "grid_values = [{'C':[5,10],'gamma':[0.003,0.005],'kernel': ['linear']}]\n",
    "\n",
    "optimal_params = GridSearchCV(svm_l,grid_values,cv=5, verbose=0,scoring=\"roc_auc\")\n",
    "\n",
    "optimal_params.fit(X_trainpca, y_trainpca)\n",
    "optimal_params.best_params_"
   ]
  },
  {
   "cell_type": "code",
   "execution_count": 249,
   "metadata": {},
   "outputs": [
    {
     "name": "stdout",
     "output_type": "stream",
     "text": [
      "Accuracy of SV classifier on training set: 0.61355\n",
      "Accuracy of SV classifier on test set: 0.59134\n",
      "Recall of SV classifier on test set: 0.620253\n"
     ]
    }
   ],
   "source": [
    "svm_model_pca2 = SVC(class_weight='balanced', gamma=0.003, C = 10, kernel = 'linear').fit(X_trainpca, y_trainpca)\n",
    "\n",
    "y_test_predict  = svm_model_pca2.predict(X_testpca)\n",
    "print('Accuracy of SV classifier on training set: {:.5f}'\n",
    "     .format(svm_model_pca2.score(X_trainpca, y_trainpca)))\n",
    "print('Accuracy of SV classifier on test set: {:.5f}'\n",
    "     .format(svm_model_pca2.score(X_testpca, y_testpca)))\n",
    "print('Recall of SV classifier on test set: {:.6f}'\n",
    "      .format(recall_score(y_testpca, y_test_predict)))"
   ]
  },
  {
   "cell_type": "markdown",
   "metadata": {},
   "source": [
    "### Model estimation"
   ]
  },
  {
   "cell_type": "code",
   "execution_count": 126,
   "metadata": {},
   "outputs": [
    {
     "data": {
      "text/plain": [
       "0    8045\n",
       "1    1533\n",
       "Name: not_fully_paid, dtype: int64"
      ]
     },
     "execution_count": 126,
     "metadata": {},
     "output_type": "execute_result"
    }
   ],
   "source": [
    "df['not_fully_paid'].value_counts()"
   ]
  },
  {
   "cell_type": "code",
   "execution_count": 256,
   "metadata": {},
   "outputs": [],
   "source": [
    "def show_scores_pca(model, X=X_testpca, y=y_testpca):\n",
    "\n",
    "    scores = []\n",
    "\n",
    "    for m in model:\n",
    "\n",
    "        y_test_predict  = m.predict(X)\n",
    "\n",
    "        name = f\"{m}\".split(\"(\")[0]\n",
    "        scores.append([name, 'roc_auc', 'test', roc_auc_score(y, y_test_predict)])\n",
    "        scores.append([name, 'recall', 'test', recall_score(y, y_test_predict)])\n",
    "        scores.append([name, 'precision', 'test', precision_score(y, y_test_predict)])\n",
    "        scores.append([name, 'f1-score', 'test', f1_score(y, y_test_predict,average='weighted')])\n",
    "        scores.append([name, 'accuracy', 'test', accuracy_score(y, y_test_predict)])\n",
    "        \n",
    "    scores_df =  pd.DataFrame(scores,columns=['model_name','metric','test','score'])\n",
    "    display(scores_df.pivot(index='model_name', columns=['metric'], values='score').round(4)) \n",
    "    \n",
    "    \n",
    "    return scores_df    "
   ]
  },
  {
   "cell_type": "code",
   "execution_count": 257,
   "metadata": {},
   "outputs": [
    {
     "data": {
      "text/html": [
       "<div>\n",
       "<style scoped>\n",
       "    .dataframe tbody tr th:only-of-type {\n",
       "        vertical-align: middle;\n",
       "    }\n",
       "\n",
       "    .dataframe tbody tr th {\n",
       "        vertical-align: top;\n",
       "    }\n",
       "\n",
       "    .dataframe thead th {\n",
       "        text-align: right;\n",
       "    }\n",
       "</style>\n",
       "<table border=\"1\" class=\"dataframe\">\n",
       "  <thead>\n",
       "    <tr style=\"text-align: right;\">\n",
       "      <th>metric</th>\n",
       "      <th>accuracy</th>\n",
       "      <th>f1-score</th>\n",
       "      <th>precision</th>\n",
       "      <th>recall</th>\n",
       "      <th>roc_auc</th>\n",
       "    </tr>\n",
       "    <tr>\n",
       "      <th>model_name</th>\n",
       "      <th></th>\n",
       "      <th></th>\n",
       "      <th></th>\n",
       "      <th></th>\n",
       "      <th></th>\n",
       "    </tr>\n",
       "  </thead>\n",
       "  <tbody>\n",
       "    <tr>\n",
       "      <th>DecisionTreeClassifier</th>\n",
       "      <td>0.5689</td>\n",
       "      <td>0.6242</td>\n",
       "      <td>0.2204</td>\n",
       "      <td>0.6361</td>\n",
       "      <td>0.5959</td>\n",
       "    </tr>\n",
       "    <tr>\n",
       "      <th>GradientBoostingClassifier</th>\n",
       "      <td>0.8340</td>\n",
       "      <td>0.7605</td>\n",
       "      <td>0.2500</td>\n",
       "      <td>0.0032</td>\n",
       "      <td>0.5006</td>\n",
       "    </tr>\n",
       "    <tr>\n",
       "      <th>LogisticRegression</th>\n",
       "      <td>0.6018</td>\n",
       "      <td>0.6530</td>\n",
       "      <td>0.2297</td>\n",
       "      <td>0.6013</td>\n",
       "      <td>0.6016</td>\n",
       "    </tr>\n",
       "    <tr>\n",
       "      <th>RandomForestClassifier</th>\n",
       "      <td>0.6023</td>\n",
       "      <td>0.6535</td>\n",
       "      <td>0.2358</td>\n",
       "      <td>0.6297</td>\n",
       "      <td>0.6133</td>\n",
       "    </tr>\n",
       "    <tr>\n",
       "      <th>SVC</th>\n",
       "      <td>0.5783</td>\n",
       "      <td>0.6320</td>\n",
       "      <td>0.2372</td>\n",
       "      <td>0.7025</td>\n",
       "      <td>0.6281</td>\n",
       "    </tr>\n",
       "  </tbody>\n",
       "</table>\n",
       "</div>"
      ],
      "text/plain": [
       "metric                      accuracy  f1-score  precision  recall  roc_auc\n",
       "model_name                                                                \n",
       "DecisionTreeClassifier        0.5689    0.6242     0.2204  0.6361   0.5959\n",
       "GradientBoostingClassifier    0.8340    0.7605     0.2500  0.0032   0.5006\n",
       "LogisticRegression            0.6018    0.6530     0.2297  0.6013   0.6016\n",
       "RandomForestClassifier        0.6023    0.6535     0.2358  0.6297   0.6133\n",
       "SVC                           0.5783    0.6320     0.2372  0.7025   0.6281"
      ]
     },
     "metadata": {},
     "output_type": "display_data"
    }
   ],
   "source": [
    "model_scores = show_scores_pca([lr, dtc, rfc, grc, svm_model_pca], X_testpca, y_testpca)"
   ]
  },
  {
   "cell_type": "markdown",
   "metadata": {},
   "source": [
    "The Decision Tree model  predicts incorrectly **115 loans**. these loans were predicted as fully paid while  they were not paid."
   ]
  },
  {
   "cell_type": "code",
   "execution_count": 92,
   "metadata": {},
   "outputs": [
    {
     "data": {
      "text/plain": [
       "Text(0.5, 15.0, 'Predicted values')"
      ]
     },
     "execution_count": 92,
     "metadata": {},
     "output_type": "execute_result"
    },
    {
     "data": {
      "image/png": "[encoded data removed]",
      "text/plain": [
       "<Figure size 432x288 with 2 Axes>"
      ]
     },
     "metadata": {
      "needs_background": "light"
     },
     "output_type": "display_data"
    }
   ],
   "source": [
    "y_test_predict  = dtc.predict(X_testpca)\n",
    "\n",
    "sns.heatmap(pd.DataFrame(confusion_matrix(y_testpca, y_test_predict)), annot=True, cmap=\"YlGnBu\" ,fmt='g')\n",
    "plt.tight_layout()\n",
    "plt.title('Decision Tree classifier')\n",
    "plt.ylabel('Actual values')\n",
    "plt.xlabel('Predicted values')"
   ]
  },
  {
   "cell_type": "markdown",
   "metadata": {},
   "source": [
    "The SVM model  predicts incorrectly **94 loans**. these loans were predicted as fully paid while  they were not paid.\n"
   ]
  },
  {
   "cell_type": "code",
   "execution_count": 99,
   "metadata": {},
   "outputs": [
    {
     "data": {
      "text/plain": [
       "Text(0.5, 15.0, 'Predicted values')"
      ]
     },
     "execution_count": 99,
     "metadata": {},
     "output_type": "execute_result"
    },
    {
     "data": {
      "image/png": "[encoded data removed]",
      "text/plain": [
       "<Figure size 432x288 with 2 Axes>"
      ]
     },
     "metadata": {
      "needs_background": "light"
     },
     "output_type": "display_data"
    }
   ],
   "source": [
    "\n",
    "y_test_predict  = svm_model_pca.predict(X_testpca)\n",
    "\n",
    "sns.heatmap(pd.DataFrame(confusion_matrix(y_testpca, y_test_predict)), annot=True, cmap=\"YlGnBu\" ,fmt='g')\n",
    "plt.tight_layout()\n",
    "plt.title('SVM Classifier')\n",
    "plt.ylabel('Actual values')\n",
    "plt.xlabel('Predicted values')    "
   ]
  },
  {
   "cell_type": "code",
   "execution_count": 129,
   "metadata": {},
   "outputs": [],
   "source": [
    "def show_adj_scores(model, X=X_testpca, y=y_testpca):\n",
    "\n",
    "    scores = []\n",
    "\n",
    "    for m in model:\n",
    "\n",
    "        y_test_predict  = m.predict(X)\n",
    "\n",
    "        name = f\"{m}\".split(\"(\")[0]\n",
    "\n",
    "        scores.append([name, 'recall', 'test', recall_score(y, y_test_predict)])\n",
    "        scores.append([name, 'f1-score_adj', 'test', \\\n",
    "                       (1+4)*(precision_score(y, y_test_predict)*recall_score(y, y_test_predict))/\\\n",
    "                       ((4*precision_score(y, y_test_predict))+recall_score(y, y_test_predict))])\n",
    "        \n",
    "    scores_df =  pd.DataFrame(scores,columns=['model_name','metric','test','score'])\n",
    "    display(scores_df.pivot(index='model_name', columns=['metric'], values='score').round(4)) \n",
    "        \n",
    "    return scores_df    "
   ]
  },
  {
   "cell_type": "code",
   "execution_count": 130,
   "metadata": {},
   "outputs": [
    {
     "data": {
      "text/html": [
       "<div>\n",
       "<style scoped>\n",
       "    .dataframe tbody tr th:only-of-type {\n",
       "        vertical-align: middle;\n",
       "    }\n",
       "\n",
       "    .dataframe tbody tr th {\n",
       "        vertical-align: top;\n",
       "    }\n",
       "\n",
       "    .dataframe thead th {\n",
       "        text-align: right;\n",
       "    }\n",
       "</style>\n",
       "<table border=\"1\" class=\"dataframe\">\n",
       "  <thead>\n",
       "    <tr style=\"text-align: right;\">\n",
       "      <th>metric</th>\n",
       "      <th>f1-score_adj</th>\n",
       "      <th>recall</th>\n",
       "    </tr>\n",
       "    <tr>\n",
       "      <th>model_name</th>\n",
       "      <th></th>\n",
       "      <th></th>\n",
       "    </tr>\n",
       "  </thead>\n",
       "  <tbody>\n",
       "    <tr>\n",
       "      <th>DecisionTreeClassifier</th>\n",
       "      <td>0.4619</td>\n",
       "      <td>0.6361</td>\n",
       "    </tr>\n",
       "    <tr>\n",
       "      <th>GradientBoostingClassifier</th>\n",
       "      <td>0.0039</td>\n",
       "      <td>0.0032</td>\n",
       "    </tr>\n",
       "    <tr>\n",
       "      <th>LogisticRegression</th>\n",
       "      <td>0.4543</td>\n",
       "      <td>0.6013</td>\n",
       "    </tr>\n",
       "    <tr>\n",
       "      <th>RandomForestClassifier</th>\n",
       "      <td>0.4720</td>\n",
       "      <td>0.6297</td>\n",
       "    </tr>\n",
       "    <tr>\n",
       "      <th>SVC</th>\n",
       "      <td>0.5045</td>\n",
       "      <td>0.7025</td>\n",
       "    </tr>\n",
       "  </tbody>\n",
       "</table>\n",
       "</div>"
      ],
      "text/plain": [
       "metric                      f1-score_adj  recall\n",
       "model_name                                      \n",
       "DecisionTreeClassifier            0.4619  0.6361\n",
       "GradientBoostingClassifier        0.0039  0.0032\n",
       "LogisticRegression                0.4543  0.6013\n",
       "RandomForestClassifier            0.4720  0.6297\n",
       "SVC                               0.5045  0.7025"
      ]
     },
     "metadata": {},
     "output_type": "display_data"
    }
   ],
   "source": [
    "model_adj_scores = show_adj_scores([lr1, dtc1, rfc1, grc1, svm_model1], X_testpca, y_testpca)"
   ]
  },
  {
   "cell_type": "markdown",
   "metadata": {},
   "source": [
    "In this case, misclassifying the minority class (loans not paid) is more costly than misclassifying the majority class (loans are fully paid). In other words,  correctly classifying the loans prone to default is more important. **Recall and a more general F1 score** (the F1 score using a positive real factor β, where β is chosen such that recall is considered β times as important as precision) could serve well as metrics. Therefore **the SVC with the rbf kernel and Decision Tree/ Random Forest classifier** are the best models."
   ]
  },
  {
   "cell_type": "code",
   "execution_count": null,
   "metadata": {},
   "outputs": [],
   "source": []
  },
  {
   "cell_type": "markdown",
   "metadata": {},
   "source": [
    " ## Modelling approach 2. Engineering new features."
   ]
  },
  {
   "cell_type": "code",
   "execution_count": 127,
   "metadata": {},
   "outputs": [
    {
     "data": {
      "text/plain": [
       "Index(['int_rate', 'installment', 'log_annual_inc', 'dti', 'fico',\n",
       "       'days_with_cr_line', 'revol_bal', 'revol_util', 'inq_last_6mths',\n",
       "       'delinq_2yrs', 'pub_rec', 'credit_card', 'small_business'],\n",
       "      dtype='object')"
      ]
     },
     "execution_count": 127,
     "metadata": {},
     "output_type": "execute_result"
    }
   ],
   "source": [
    "df2.columns"
   ]
  },
  {
   "cell_type": "markdown",
   "metadata": {},
   "source": [
    "#### Some pairs of features including  int_rate/fico, revol_util/fico,  int_rate/revol_util, log_annual_inc/installment,appreared highly correlated. Lets create two new combined features instead."
   ]
  },
  {
   "cell_type": "code",
   "execution_count": 128,
   "metadata": {},
   "outputs": [
    {
     "data": {
      "text/plain": [
       "Index(['int_rate', 'installment', 'log_annual_inc', 'dti', 'fico',\n",
       "       'days_with_cr_line', 'revol_bal', 'revol_util', 'inq_last_6mths',\n",
       "       'delinq_2yrs', 'pub_rec', 'credit_card', 'small_business',\n",
       "       'mult_inc_inst', 'mult_int_re_util'],\n",
       "      dtype='object')"
      ]
     },
     "execution_count": 128,
     "metadata": {},
     "output_type": "execute_result"
    }
   ],
   "source": [
    "#df2['mult_int_fico']   = df2['int_rate'] * df2['fico']\n",
    "df2['mult_inc_inst']  = df2['log_annual_inc'] * df2['installment'] \n",
    "df2['mult_int_re_util'] = df2['int_rate'] * df2['revol_util']\n",
    "df2.columns"
   ]
  },
  {
   "cell_type": "code",
   "execution_count": 129,
   "metadata": {},
   "outputs": [
    {
     "name": "stdout",
     "output_type": "stream",
     "text": [
      "<class 'pandas.core.frame.DataFrame'>\n",
      "RangeIndex: 9578 entries, 0 to 9577\n",
      "Data columns (total 16 columns):\n",
      " #   Column             Non-Null Count  Dtype  \n",
      "---  ------             --------------  -----  \n",
      " 0   int_rate           9578 non-null   float64\n",
      " 1   installment        9578 non-null   float64\n",
      " 2   log_annual_inc     9578 non-null   float64\n",
      " 3   dti                9578 non-null   float64\n",
      " 4   fico               9578 non-null   int64  \n",
      " 5   days_with_cr_line  9578 non-null   int32  \n",
      " 6   revol_bal          9578 non-null   int64  \n",
      " 7   revol_util         9578 non-null   float64\n",
      " 8   inq_last_6mths     9578 non-null   int64  \n",
      " 9   delinq_2yrs        9578 non-null   int64  \n",
      " 10  pub_rec            9578 non-null   int64  \n",
      " 11  credit_card        9578 non-null   uint8  \n",
      " 12  small_business     9578 non-null   uint8  \n",
      " 13  mult_inc_inst      9578 non-null   float64\n",
      " 14  mult_int_re_util   9578 non-null   float64\n",
      " 15  credit_policy      9578 non-null   int64  \n",
      "dtypes: float64(7), int32(1), int64(6), uint8(2)\n",
      "memory usage: 1.0 MB\n"
     ]
    }
   ],
   "source": [
    "df3 = pd.concat([df2, df.credit_policy], axis=1)\n",
    "df3.info()"
   ]
  },
  {
   "cell_type": "code",
   "execution_count": 130,
   "metadata": {},
   "outputs": [
    {
     "data": {
      "text/plain": [
       "array([[-0.13931753,  2.46309947,  0.68038804, ...,  2.43577443,\n",
       "         0.02126567,  0.49222226],\n",
       "       [-0.57886837, -0.43885443,  0.2440308 , ..., -0.42201553,\n",
       "         0.48223647,  0.49222226],\n",
       "       [ 0.48648368,  0.23070836, -0.90865897, ...,  0.10808059,\n",
       "        -0.59966007,  0.49222226],\n",
       "       ...,\n",
       "       [-0.57886837, -1.06867038, -0.54569448, ..., -1.04192086,\n",
       "         0.63377706, -2.03160257],\n",
       "       [ 1.39166043,  0.1569135 , -0.18272998, ...,  0.10741557,\n",
       "        -1.27562033, -2.03160257],\n",
       "       [ 0.61685894,  2.58060136,  0.54059439, ...,  2.51999892,\n",
       "         0.41829693, -2.03160257]])"
      ]
     },
     "execution_count": 130,
     "metadata": {},
     "output_type": "execute_result"
    }
   ],
   "source": [
    "# Normalizing data\n",
    "from sklearn import preprocessing\n",
    "\n",
    "scaler = preprocessing.StandardScaler()\n",
    "all_features_scaled3 = scaler.fit_transform(df3)\n",
    "all_features_scaled3"
   ]
  },
  {
   "cell_type": "code",
   "execution_count": 131,
   "metadata": {},
   "outputs": [],
   "source": [
    "y = df['not_fully_paid']"
   ]
  },
  {
   "cell_type": "code",
   "execution_count": 132,
   "metadata": {},
   "outputs": [],
   "source": [
    "X_train1, X_test1, y_train1, y_test1 = train_test_split(all_features_scaled3, y, test_size = 0.2, random_state=18)"
   ]
  },
  {
   "cell_type": "markdown",
   "metadata": {},
   "source": [
    "### Logistic "
   ]
  },
  {
   "cell_type": "code",
   "execution_count": 133,
   "metadata": {},
   "outputs": [
    {
     "name": "stdout",
     "output_type": "stream",
     "text": [
      "Accuracy of logistic classifier on training set: 0.634821\n",
      "Accuracy of logistic classifier on test set: 0.628392\n",
      "Recall of logistic classifier on test set: 0.655063\n"
     ]
    }
   ],
   "source": [
    "lr1 = LogisticRegression(class_weight='balanced', solver = 'sag')\n",
    "lr1.fit(X_train1, y_train1)\n",
    "\n",
    "y_test_predict  = lr1.predict(X_test1)\n",
    "print('Accuracy of logistic classifier on training set: {:.6f}'\n",
    "     .format(lr1.score(X_train1, y_train1)))\n",
    "print('Accuracy of logistic classifier on test set: {:.6f}'\n",
    "     .format(lr1.score(X_test1, y_test1)))\n",
    "\n",
    "print('Recall of logistic classifier on test set: {:.6f}'\n",
    "      .format(recall_score(y_test1, y_test_predict)))"
   ]
  },
  {
   "cell_type": "markdown",
   "metadata": {},
   "source": [
    "### Decision Tree"
   ]
  },
  {
   "cell_type": "code",
   "execution_count": 134,
   "metadata": {},
   "outputs": [
    {
     "name": "stdout",
     "output_type": "stream",
     "text": [
      "Grid best parameter (max. AUC):  {'criterion': 'entropy', 'max_depth': 4}\n",
      "Accuracy of DT classifier on training set: 0.56186\n",
      "Accuracy of DT classifier on test set: 0.543319\n",
      "Recall of DT classifier on test set: 0.696203\n"
     ]
    }
   ],
   "source": [
    "dt = DecisionTreeClassifier()\n",
    "grid_values = {'criterion':['gini','entropy'], 'max_depth': [3,4,6]}\n",
    "grid_dt_auc = GridSearchCV( dt, param_grid = grid_values, cv=5, scoring='roc_auc')\n",
    "grid_dt_auc.fit(X_train1, y_train1)\n",
    "\n",
    "dtc1 = DecisionTreeClassifier(class_weight='balanced', criterion = 'entropy', max_depth = 4, min_samples_leaf = 6, random_state = 0).fit(X_train1, y_train1)\n",
    "\n",
    "y_test_predict  = dtc1.predict(X_test1)\n",
    "print('Grid best parameter (max. AUC): ', grid_dt_auc.best_params_)\n",
    "\n",
    "print('Accuracy of DT classifier on training set: {:.5f}'\n",
    "     .format(dtc1.score(X_train1, y_train1)))\n",
    "print('Accuracy of DT classifier on test set: {:.6f}'\n",
    "     .format(dtc1.score(X_test1, y_test1)))\n",
    "\n",
    "print('Recall of DT classifier on test set: {:.6f}'\n",
    "      .format(recall_score(y_test1, y_test_predict)))"
   ]
  },
  {
   "cell_type": "markdown",
   "metadata": {},
   "source": [
    "### Random Forest"
   ]
  },
  {
   "cell_type": "code",
   "execution_count": 172,
   "metadata": {},
   "outputs": [
    {
     "name": "stdout",
     "output_type": "stream",
     "text": [
      "Accuracy of RF classifier on training set: 0.608979\n",
      "Accuracy of RF classifier on test set: 0.593946\n",
      "Recall of RF classifier on test set: 0.645570\n"
     ]
    }
   ],
   "source": [
    "rf = RandomForestClassifier()\n",
    "#grid_values = {'max_depth': [3,4,6],'n_estimators': [14,16,18]}\n",
    "#grid_rf_auc = GridSearchCV( rf, param_grid = grid_values, cv=5, scoring='roc_auc')\n",
    "#grid_rf_auc.fit(X_train1, y_train1)\n",
    "#print('Grid best parameter (max. AUC): ', grid_rf_auc.best_params_)\n",
    "\n",
    "rfc1 = RandomForestClassifier(class_weight='balanced', n_estimators = 16, max_depth=3, max_features = None, random_state = 4).fit(X_train1, y_train1)\n",
    "\n",
    "y_test_predict  = rfc1.predict(X_test1)\n",
    "print('Accuracy of RF classifier on training set: {:.6f}'\n",
    "     .format(rfc1.score(X_train1, y_train1)))\n",
    "print('Accuracy of RF classifier on test set: {:.6f}'\n",
    "     .format(rfc1.score(X_test1, y_test1)))\n",
    "\n",
    "print('Recall of RF classifier on test set: {:.6f}'\n",
    "      .format(recall_score(y_test1, y_test_predict)))"
   ]
  },
  {
   "cell_type": "markdown",
   "metadata": {},
   "source": [
    "### Gradient Boosting Classifier"
   ]
  },
  {
   "cell_type": "code",
   "execution_count": 136,
   "metadata": {},
   "outputs": [
    {
     "name": "stdout",
     "output_type": "stream",
     "text": [
      "Accuracy of GB classifier on training set: 0.84652\n",
      "Accuracy of GB classifier on test set: 0.83403\n",
      "Recall of GB classifier on test set: 0.006329\n"
     ]
    }
   ],
   "source": [
    "gr = GradientBoostingClassifier()\n",
    "#grid_values = {'learning_rate': [0.008,0.009,0.1],'n_estimators': [300,320]}\n",
    "#grid_grc = GridSearchCV( gr, param_grid = grid_values, cv=5, scoring='roc_auc')\n",
    "#grid_grc.fit(X_train1, y_train1)\n",
    "\n",
    "#print('Model best parameter (max. AUC): ', grid_grc.best_params_)\n",
    "#print('Model score (AUC): ', grid_grc.best_score_)\n",
    "    \n",
    "grc1= GradientBoostingClassifier(learning_rate = 0.009, max_depth = 4, n_estimators=300).fit(X_train1, y_train1)\n",
    "\n",
    "y_test_predict  = grc1.predict(X_test1)\n",
    "print('Accuracy of GB classifier on training set: {:.5f}'\n",
    "     .format(grc1.score(X_train1, y_train1)))\n",
    "print('Accuracy of GB classifier on test set: {:.5f}'\n",
    "     .format(grc1.score(X_test1, y_test1)))\n",
    "\n",
    "print('Recall of GB classifier on test set: {:.6f}'\n",
    "      .format(recall_score(y_test1, y_test_predict)))"
   ]
  },
  {
   "cell_type": "markdown",
   "metadata": {},
   "source": [
    "### Support Vector Classifier"
   ]
  },
  {
   "cell_type": "code",
   "execution_count": 139,
   "metadata": {},
   "outputs": [
    {
     "data": {
      "text/plain": [
       "{'C': 5, 'gamma': 0.003, 'kernel': 'rbf'}"
      ]
     },
     "execution_count": 139,
     "metadata": {},
     "output_type": "execute_result"
    }
   ],
   "source": [
    "svm_r = SVC(class_weight='balanced', probability=True)\n",
    "grid_values = [{'C':[5,8],'gamma':[0.003,0.005],'kernel': ['rbf']}]\n",
    "\n",
    "optimal_params = GridSearchCV(svm_r,grid_values,cv=5, verbose=0,scoring=\"roc_auc\")\n",
    "\n",
    "optimal_params.fit(X_train1, y_train1)\n",
    "optimal_params.best_params_"
   ]
  },
  {
   "cell_type": "code",
   "execution_count": 144,
   "metadata": {},
   "outputs": [
    {
     "name": "stdout",
     "output_type": "stream",
     "text": [
      "Accuracy of SV classifier on training set: 0.68168\n",
      "Accuracy of SV classifier on test set: 0.66858\n",
      "Recall of SV classifier on test set: 0.591772\n"
     ]
    }
   ],
   "source": [
    "svm_model1 = SVC(class_weight='balanced', probability=True, gamma=0.005, C = 10, kernel = 'rbf').fit(X_train1, y_train1)\n",
    "\n",
    "y_test_predict  = svm_model1.predict(X_test1)\n",
    "print('Accuracy of SV classifier on training set: {:.5f}'\n",
    "     .format(svm_model1.score(X_train1, y_train1)))\n",
    "print('Accuracy of SV classifier on test set: {:.5f}'\n",
    "     .format(svm_model1.score(X_test1, y_test1)))\n",
    "\n",
    "print('Recall of SV classifier on test set: {:.6f}'\n",
    "      .format(recall_score(y_test1, y_test_predict)))"
   ]
  },
  {
   "cell_type": "markdown",
   "metadata": {},
   "source": [
    "### Model estimation"
   ]
  },
  {
   "cell_type": "code",
   "execution_count": 173,
   "metadata": {},
   "outputs": [],
   "source": [
    "def show_scores_1(model, X=X_test1, y=y_test1):\n",
    "\n",
    "    scores = []\n",
    "\n",
    "    for m in model:\n",
    "\n",
    "        y_test_predict  = m.predict(X)\n",
    "\n",
    "        name = f\"{m}\".split(\"(\")[0]\n",
    "        scores.append([name, 'roc_auc', 'test', roc_auc_score(y, y_test_predict)])\n",
    "        scores.append([name, 'recall', 'test', recall_score(y, y_test_predict)])\n",
    "        scores.append([name, 'precision', 'test', precision_score(y, y_test_predict)])\n",
    "        scores.append([name, 'f1-score', 'test', f1_score(y, y_test_predict,average='weighted')])\n",
    "        scores.append([name, 'accuracy', 'test', accuracy_score(y, y_test_predict)])\n",
    "        \n",
    "    scores_df =  pd.DataFrame(scores,columns=['model_name','metric','test','score'])\n",
    "    display(scores_df.pivot(index='model_name', columns=['metric'], values='score').round(4)) \n",
    "    \n",
    "    \n",
    "    return scores_df "
   ]
  },
  {
   "cell_type": "code",
   "execution_count": 174,
   "metadata": {},
   "outputs": [
    {
     "data": {
      "text/html": [
       "<div>\n",
       "<style scoped>\n",
       "    .dataframe tbody tr th:only-of-type {\n",
       "        vertical-align: middle;\n",
       "    }\n",
       "\n",
       "    .dataframe tbody tr th {\n",
       "        vertical-align: top;\n",
       "    }\n",
       "\n",
       "    .dataframe thead th {\n",
       "        text-align: right;\n",
       "    }\n",
       "</style>\n",
       "<table border=\"1\" class=\"dataframe\">\n",
       "  <thead>\n",
       "    <tr style=\"text-align: right;\">\n",
       "      <th>metric</th>\n",
       "      <th>accuracy</th>\n",
       "      <th>f1-score</th>\n",
       "      <th>precision</th>\n",
       "      <th>recall</th>\n",
       "      <th>roc_auc</th>\n",
       "    </tr>\n",
       "    <tr>\n",
       "      <th>model_name</th>\n",
       "      <th></th>\n",
       "      <th></th>\n",
       "      <th></th>\n",
       "      <th></th>\n",
       "      <th></th>\n",
       "    </tr>\n",
       "  </thead>\n",
       "  <tbody>\n",
       "    <tr>\n",
       "      <th>DecisionTreeClassifier</th>\n",
       "      <td>0.5433</td>\n",
       "      <td>0.6000</td>\n",
       "      <td>0.2202</td>\n",
       "      <td>0.6962</td>\n",
       "      <td>0.6047</td>\n",
       "    </tr>\n",
       "    <tr>\n",
       "      <th>GradientBoostingClassifier</th>\n",
       "      <td>0.8340</td>\n",
       "      <td>0.7615</td>\n",
       "      <td>0.3333</td>\n",
       "      <td>0.0063</td>\n",
       "      <td>0.5019</td>\n",
       "    </tr>\n",
       "    <tr>\n",
       "      <th>LogisticRegression</th>\n",
       "      <td>0.6284</td>\n",
       "      <td>0.6760</td>\n",
       "      <td>0.2556</td>\n",
       "      <td>0.6551</td>\n",
       "      <td>0.6391</td>\n",
       "    </tr>\n",
       "    <tr>\n",
       "      <th>RandomForestClassifier</th>\n",
       "      <td>0.5939</td>\n",
       "      <td>0.6463</td>\n",
       "      <td>0.2345</td>\n",
       "      <td>0.6456</td>\n",
       "      <td>0.6147</td>\n",
       "    </tr>\n",
       "    <tr>\n",
       "      <th>SVC</th>\n",
       "      <td>0.6686</td>\n",
       "      <td>0.7084</td>\n",
       "      <td>0.2698</td>\n",
       "      <td>0.5918</td>\n",
       "      <td>0.6378</td>\n",
       "    </tr>\n",
       "  </tbody>\n",
       "</table>\n",
       "</div>"
      ],
      "text/plain": [
       "metric                      accuracy  f1-score  precision  recall  roc_auc\n",
       "model_name                                                                \n",
       "DecisionTreeClassifier        0.5433    0.6000     0.2202  0.6962   0.6047\n",
       "GradientBoostingClassifier    0.8340    0.7615     0.3333  0.0063   0.5019\n",
       "LogisticRegression            0.6284    0.6760     0.2556  0.6551   0.6391\n",
       "RandomForestClassifier        0.5939    0.6463     0.2345  0.6456   0.6147\n",
       "SVC                           0.6686    0.7084     0.2698  0.5918   0.6378"
      ]
     },
     "metadata": {},
     "output_type": "display_data"
    }
   ],
   "source": [
    "model_scores = show_scores_1([lr1, dtc1, rfc1, grc1, svm_model1], X_test1, y_test1)"
   ]
  },
  {
   "cell_type": "code",
   "execution_count": 175,
   "metadata": {},
   "outputs": [],
   "source": [
    "def show_adj_scores_1(model, X=X_test1, y=y_test1):\n",
    "\n",
    "    scores = []\n",
    "\n",
    "    for m in model:\n",
    "\n",
    "        y_test_predict  = m.predict(X)\n",
    "\n",
    "        name = f\"{m}\".split(\"(\")[0]\n",
    "\n",
    "        scores.append([name, 'recall', 'test', recall_score(y, y_test_predict)])\n",
    "        scores.append([name, 'f1-score_adj', 'test', \\\n",
    "                       (1+4)*(precision_score(y, y_test_predict)*recall_score(y, y_test_predict))/\\\n",
    "                       ((4*precision_score(y, y_test_predict))+recall_score(y, y_test_predict))])\n",
    "        \n",
    "    scores_df =  pd.DataFrame(scores,columns=['model_name','metric','test','score'])\n",
    "    display(scores_df.pivot(index='model_name', columns=['metric'], values='score').round(4)) \n",
    "        \n",
    "    return scores_df"
   ]
  },
  {
   "cell_type": "code",
   "execution_count": 176,
   "metadata": {},
   "outputs": [
    {
     "data": {
      "text/html": [
       "<div>\n",
       "<style scoped>\n",
       "    .dataframe tbody tr th:only-of-type {\n",
       "        vertical-align: middle;\n",
       "    }\n",
       "\n",
       "    .dataframe tbody tr th {\n",
       "        vertical-align: top;\n",
       "    }\n",
       "\n",
       "    .dataframe thead th {\n",
       "        text-align: right;\n",
       "    }\n",
       "</style>\n",
       "<table border=\"1\" class=\"dataframe\">\n",
       "  <thead>\n",
       "    <tr style=\"text-align: right;\">\n",
       "      <th>metric</th>\n",
       "      <th>f1-score_adj</th>\n",
       "      <th>recall</th>\n",
       "    </tr>\n",
       "    <tr>\n",
       "      <th>model_name</th>\n",
       "      <th></th>\n",
       "      <th></th>\n",
       "    </tr>\n",
       "  </thead>\n",
       "  <tbody>\n",
       "    <tr>\n",
       "      <th>DecisionTreeClassifier</th>\n",
       "      <td>0.4861</td>\n",
       "      <td>0.6962</td>\n",
       "    </tr>\n",
       "    <tr>\n",
       "      <th>GradientBoostingClassifier</th>\n",
       "      <td>0.0079</td>\n",
       "      <td>0.0063</td>\n",
       "    </tr>\n",
       "    <tr>\n",
       "      <th>LogisticRegression</th>\n",
       "      <td>0.4990</td>\n",
       "      <td>0.6551</td>\n",
       "    </tr>\n",
       "    <tr>\n",
       "      <th>RandomForestClassifier</th>\n",
       "      <td>0.4780</td>\n",
       "      <td>0.6456</td>\n",
       "    </tr>\n",
       "    <tr>\n",
       "      <th>SVC</th>\n",
       "      <td>0.4778</td>\n",
       "      <td>0.5918</td>\n",
       "    </tr>\n",
       "  </tbody>\n",
       "</table>\n",
       "</div>"
      ],
      "text/plain": [
       "metric                      f1-score_adj  recall\n",
       "model_name                                      \n",
       "DecisionTreeClassifier            0.4861  0.6962\n",
       "GradientBoostingClassifier        0.0079  0.0063\n",
       "LogisticRegression                0.4990  0.6551\n",
       "RandomForestClassifier            0.4780  0.6456\n",
       "SVC                               0.4778  0.5918"
      ]
     },
     "metadata": {},
     "output_type": "display_data"
    }
   ],
   "source": [
    "model_adj_scores = show_adj_scores_1([lr1, dtc1, rfc1, grc1, svm_model1], X_test1, y_test1)"
   ]
  },
  {
   "cell_type": "markdown",
   "metadata": {},
   "source": [
    "**The Decision Tree and Logistic regression classifiers** are the best models by the Recall and F1-score adjuted metrics. The Decision Tree model incorrectly classifies **96 loans**. these were the loans which were not paid."
   ]
  },
  {
   "cell_type": "code",
   "execution_count": 151,
   "metadata": {},
   "outputs": [
    {
     "data": {
      "text/plain": [
       "Text(0.5, 15.0, 'Predicted values')"
      ]
     },
     "execution_count": 151,
     "metadata": {},
     "output_type": "execute_result"
    },
    {
     "data": {
      "image/png": "[encoded data removed]",
      "text/plain": [
       "<Figure size 432x288 with 2 Axes>"
      ]
     },
     "metadata": {
      "needs_background": "light"
     },
     "output_type": "display_data"
    }
   ],
   "source": [
    "y_test_predict  = dtc1.predict(X_test1)\n",
    "\n",
    "sns.heatmap(pd.DataFrame(confusion_matrix(y_test1, y_test_predict)), annot=True, cmap=\"YlGnBu\" ,fmt='g')\n",
    "plt.tight_layout()\n",
    "plt.title('Decision Tree classifier')\n",
    "plt.ylabel('Actual values')\n",
    "plt.xlabel('Predicted values')"
   ]
  },
  {
   "cell_type": "code",
   "execution_count": null,
   "metadata": {},
   "outputs": [],
   "source": []
  },
  {
   "cell_type": "code",
   "execution_count": null,
   "metadata": {},
   "outputs": [],
   "source": []
  },
  {
   "cell_type": "markdown",
   "metadata": {},
   "source": [
    "## Neural Networks"
   ]
  },
  {
   "cell_type": "code",
   "execution_count": 178,
   "metadata": {},
   "outputs": [],
   "source": [
    "import tensorflow as tf\n",
    "from tensorflow.keras.layers import Dense\n",
    "from tensorflow.keras.models import Sequential"
   ]
  },
  {
   "cell_type": "code",
   "execution_count": 182,
   "metadata": {},
   "outputs": [],
   "source": [
    "metrics = [tf.keras.metrics.TruePositives(name='tp'),\n",
    "           tf.keras.metrics.FalsePositives(name='fp'),\n",
    "           tf.keras.metrics.TrueNegatives(name='tn'),\n",
    "           tf.keras.metrics.FalseNegatives(name='fn'),\n",
    "           tf.keras.metrics.BinaryAccuracy(name='accuracy'),\n",
    "           tf.keras.metrics.Precision(name='precision'),\n",
    "           tf.keras.metrics.Recall(name='recall'),\n",
    "           tf.keras.metrics.AUC(name='auc')]"
   ]
  },
  {
   "cell_type": "code",
   "execution_count": 233,
   "metadata": {},
   "outputs": [],
   "source": [
    "metrics = [tf.keras.metrics.Recall(name='recall')]"
   ]
  },
  {
   "cell_type": "code",
   "execution_count": 234,
   "metadata": {},
   "outputs": [],
   "source": [
    "modelnn1 = Sequential()\n",
    " \n",
    "modelnn1.add(Dense(6, input_dim=16, kernel_initializer='normal', activation='sigmoid'))\n",
    "\n",
    "modelnn1.add(Dense(4, kernel_initializer='normal', activation='sigmoid'))\n",
    "    # Output layer with a binary classification ('paid' or not 'paid')\n",
    "modelnn1.add(Dense(1, kernel_initializer='normal', activation='sigmoid'))\n",
    "   \n",
    "modelnn1.compile(loss='binary_crossentropy', optimizer='adam', metrics=metrics)"
   ]
  },
  {
   "cell_type": "code",
   "execution_count": 235,
   "metadata": {},
   "outputs": [
    {
     "name": "stdout",
     "output_type": "stream",
     "text": [
      "Train on 7662 samples, validate on 1916 samples\n",
      "Epoch 1/20\n",
      "7662/7662 - 1s - loss: 0.5819 - recall: 0.0000e+00 - val_loss: 0.4936 - val_recall: 0.0000e+00\n",
      "Epoch 2/20\n",
      "7662/7662 - 0s - loss: 0.4522 - recall: 0.0000e+00 - val_loss: 0.4425 - val_recall: 0.0000e+00\n",
      "Epoch 3/20\n",
      "7662/7662 - 0s - loss: 0.4299 - recall: 0.0000e+00 - val_loss: 0.4366 - val_recall: 0.0000e+00\n",
      "Epoch 4/20\n",
      "7662/7662 - 0s - loss: 0.4266 - recall: 0.0000e+00 - val_loss: 0.4346 - val_recall: 0.0000e+00\n",
      "Epoch 5/20\n",
      "7662/7662 - 0s - loss: 0.4249 - recall: 0.0000e+00 - val_loss: 0.4330 - val_recall: 0.0000e+00\n",
      "Epoch 6/20\n",
      "7662/7662 - 1s - loss: 0.4236 - recall: 0.0000e+00 - val_loss: 0.4317 - val_recall: 0.0000e+00\n",
      "Epoch 7/20\n",
      "7662/7662 - 0s - loss: 0.4223 - recall: 0.0000e+00 - val_loss: 0.4304 - val_recall: 0.0000e+00\n",
      "Epoch 8/20\n",
      "7662/7662 - 0s - loss: 0.4213 - recall: 0.0000e+00 - val_loss: 0.4292 - val_recall: 0.0000e+00\n",
      "Epoch 9/20\n",
      "7662/7662 - 0s - loss: 0.4203 - recall: 0.0000e+00 - val_loss: 0.4282 - val_recall: 0.0000e+00\n",
      "Epoch 10/20\n",
      "7662/7662 - 1s - loss: 0.4195 - recall: 0.0000e+00 - val_loss: 0.4273 - val_recall: 0.0000e+00\n",
      "Epoch 11/20\n",
      "7662/7662 - 1s - loss: 0.4187 - recall: 0.0000e+00 - val_loss: 0.4264 - val_recall: 0.0000e+00\n",
      "Epoch 12/20\n",
      "7662/7662 - 0s - loss: 0.4180 - recall: 0.0000e+00 - val_loss: 0.4257 - val_recall: 0.0000e+00\n",
      "Epoch 13/20\n",
      "7662/7662 - 0s - loss: 0.4174 - recall: 0.0000e+00 - val_loss: 0.4251 - val_recall: 0.0000e+00\n",
      "Epoch 14/20\n",
      "7662/7662 - 0s - loss: 0.4169 - recall: 0.0000e+00 - val_loss: 0.4245 - val_recall: 0.0000e+00\n",
      "Epoch 15/20\n",
      "7662/7662 - 0s - loss: 0.4165 - recall: 0.0000e+00 - val_loss: 0.4240 - val_recall: 0.0000e+00\n",
      "Epoch 16/20\n",
      "7662/7662 - 0s - loss: 0.4160 - recall: 0.0000e+00 - val_loss: 0.4235 - val_recall: 0.0000e+00\n",
      "Epoch 17/20\n",
      "7662/7662 - 0s - loss: 0.4157 - recall: 0.0000e+00 - val_loss: 0.4231 - val_recall: 0.0000e+00\n",
      "Epoch 18/20\n",
      "7662/7662 - 0s - loss: 0.4154 - recall: 0.0000e+00 - val_loss: 0.4228 - val_recall: 0.0000e+00\n",
      "Epoch 19/20\n",
      "7662/7662 - 0s - loss: 0.4151 - recall: 0.0000e+00 - val_loss: 0.4224 - val_recall: 0.0000e+00\n",
      "Epoch 20/20\n",
      "7662/7662 - 1s - loss: 0.4149 - recall: 0.0000e+00 - val_loss: 0.4221 - val_recall: 0.0000e+00\n"
     ]
    },
    {
     "data": {
      "text/plain": [
       "<tensorflow.python.keras.callbacks.History at 0x2bf6fb00>"
      ]
     },
     "execution_count": 235,
     "metadata": {},
     "output_type": "execute_result"
    }
   ],
   "source": [
    "modelnn1.fit(X_train1, y_train1, epochs=20,verbose=2,validation_data=(X_test1, y_test1))"
   ]
  },
  {
   "cell_type": "code",
   "execution_count": 236,
   "metadata": {},
   "outputs": [
    {
     "name": "stdout",
     "output_type": "stream",
     "text": [
      "1916/1916 - 0s - loss: 0.4221 - recall: 0.0000e+00\n",
      "NN loss score: 0.4221264082230705\n",
      "NN Test recall: 0.0\n"
     ]
    }
   ],
   "source": [
    "loss, recall = modelnn1.evaluate(X_test1, y_test1, batch_size=32,  verbose=2)\n",
    "print('NN loss score:', loss)\n",
    "print('NN Test recall:', recall)\n",
    "\n",
    "# There are 316 false negatives, 1600 TP, 0 FP, 0TP"
   ]
  },
  {
   "cell_type": "code",
   "execution_count": null,
   "metadata": {},
   "outputs": [],
   "source": [
    "# another NN model"
   ]
  },
  {
   "cell_type": "code",
   "execution_count": 179,
   "metadata": {},
   "outputs": [],
   "source": [
    "metrics = [tf.keras.metrics.Recall(name='recall')]"
   ]
  },
  {
   "cell_type": "code",
   "execution_count": 181,
   "metadata": {},
   "outputs": [
    {
     "name": "stdout",
     "output_type": "stream",
     "text": [
      "WARNING:tensorflow:From C:\\Users\\Maria\\Anaconda3\\lib\\site-packages\\tensorflow\\python\\keras\\initializers.py:143: calling RandomNormal.__init__ (from tensorflow.python.ops.init_ops) with dtype is deprecated and will be removed in a future version.\n",
      "Instructions for updating:\n",
      "Call initializer instance with the dtype argument instead of passing it to the constructor\n",
      "WARNING:tensorflow:From C:\\Users\\Maria\\Anaconda3\\lib\\site-packages\\tensorflow\\python\\ops\\init_ops.py:1251: calling VarianceScaling.__init__ (from tensorflow.python.ops.init_ops) with dtype is deprecated and will be removed in a future version.\n",
      "Instructions for updating:\n",
      "Call initializer instance with the dtype argument instead of passing it to the constructor\n"
     ]
    }
   ],
   "source": [
    "from tensorflow.keras.layers import Dense, Activation, Dropout\n",
    "from tensorflow.keras.optimizers import Adam\n",
    "optimizer = Adam(learning_rate=0.001, beta_1 = 0.9, beta_2 = 0.999, epsilon = 1e-07, amsgrad = False)\n",
    "model2 = Sequential()\n",
    "model2.add(Dense(250, input_dim = 16, kernel_initializer='normal',activation='sigmoid'))\n",
    "model2.add(Dense(500,activation = 'relu'))\n",
    "model2.add(Dropout(0.1))\n",
    "model2.add(Dense(1000, activation = 'relu'))\n",
    "model2.add(Dropout(0.1))\n",
    "model2.add(Dense(1000, activation = 'relu'))\n",
    "model2.add(Dropout(0.1))\n",
    "model2.add(Dense(500, activation = 'relu'))\n",
    "model2.add(Dropout(0.1))\n",
    "model2.add(Dense(250, activation = 'relu'))\n",
    "model2.add(Dropout(0.1))\n",
    "model2.add(Dense(1, activation = 'linear'))\n",
    "model2.compile(loss='binary_crossentropy', optimizer='adam', metrics= metrics) #['accuracy'])"
   ]
  },
  {
   "cell_type": "code",
   "execution_count": 182,
   "metadata": {},
   "outputs": [
    {
     "name": "stdout",
     "output_type": "stream",
     "text": [
      "Train on 7662 samples, validate on 1916 samples\n",
      "WARNING:tensorflow:From C:\\Users\\Maria\\Anaconda3\\lib\\site-packages\\tensorflow\\python\\ops\\math_grad.py:1250: add_dispatch_support.<locals>.wrapper (from tensorflow.python.ops.array_ops) is deprecated and will be removed in a future version.\n",
      "Instructions for updating:\n",
      "Use tf.where in 2.0, which has the same broadcast rule as np.where\n",
      "Epoch 1/20\n",
      "7662/7662 - 12s - loss: 2.4500 - recall: 0.0000e+00 - val_loss: 2.5440 - val_recall: 0.0000e+00\n",
      "Epoch 2/20\n",
      "7662/7662 - 11s - loss: 2.4500 - recall: 0.0000e+00 - val_loss: 2.5440 - val_recall: 0.0000e+00\n",
      "Epoch 3/20\n",
      "7662/7662 - 10s - loss: 2.4500 - recall: 0.0000e+00 - val_loss: 2.5440 - val_recall: 0.0000e+00\n",
      "Epoch 4/20\n",
      "7662/7662 - 15s - loss: 2.4500 - recall: 0.0000e+00 - val_loss: 2.5440 - val_recall: 0.0000e+00\n",
      "Epoch 5/20\n",
      "7662/7662 - 19s - loss: 2.4500 - recall: 0.0000e+00 - val_loss: 2.5440 - val_recall: 0.0000e+00\n",
      "Epoch 6/20\n",
      "7662/7662 - 19s - loss: 2.4500 - recall: 0.0000e+00 - val_loss: 2.5440 - val_recall: 0.0000e+00\n",
      "Epoch 7/20\n",
      "7662/7662 - 17s - loss: 2.4500 - recall: 0.0000e+00 - val_loss: 2.5440 - val_recall: 0.0000e+00\n",
      "Epoch 8/20\n",
      "7662/7662 - 14s - loss: 2.4500 - recall: 0.0000e+00 - val_loss: 2.5440 - val_recall: 0.0000e+00\n",
      "Epoch 9/20\n",
      "7662/7662 - 16s - loss: 2.4500 - recall: 0.0000e+00 - val_loss: 2.5440 - val_recall: 0.0000e+00\n",
      "Epoch 10/20\n",
      "7662/7662 - 19s - loss: 2.4500 - recall: 0.0000e+00 - val_loss: 2.5440 - val_recall: 0.0000e+00\n",
      "Epoch 11/20\n",
      "7662/7662 - 18s - loss: 2.4500 - recall: 0.0000e+00 - val_loss: 2.5440 - val_recall: 0.0000e+00\n",
      "Epoch 12/20\n",
      "7662/7662 - 13s - loss: 2.4500 - recall: 0.0000e+00 - val_loss: 2.5440 - val_recall: 0.0000e+00\n",
      "Epoch 13/20\n",
      "7662/7662 - 15s - loss: 2.4500 - recall: 0.0000e+00 - val_loss: 2.5440 - val_recall: 0.0000e+00\n",
      "Epoch 14/20\n",
      "7662/7662 - 17s - loss: 2.4500 - recall: 0.0000e+00 - val_loss: 2.5440 - val_recall: 0.0000e+00\n",
      "Epoch 15/20\n",
      "7662/7662 - 16s - loss: 2.4500 - recall: 0.0000e+00 - val_loss: 2.5440 - val_recall: 0.0000e+00\n",
      "Epoch 16/20\n",
      "7662/7662 - 16s - loss: 2.4500 - recall: 0.0000e+00 - val_loss: 2.5440 - val_recall: 0.0000e+00\n",
      "Epoch 17/20\n",
      "7662/7662 - 15s - loss: 2.4500 - recall: 0.0000e+00 - val_loss: 2.5440 - val_recall: 0.0000e+00\n",
      "Epoch 18/20\n",
      "7662/7662 - 16s - loss: 2.4500 - recall: 0.0000e+00 - val_loss: 2.5440 - val_recall: 0.0000e+00\n",
      "Epoch 19/20\n",
      "7662/7662 - 13s - loss: 2.4500 - recall: 0.0000e+00 - val_loss: 2.5440 - val_recall: 0.0000e+00\n",
      "Epoch 20/20\n",
      "7662/7662 - 14s - loss: 2.4500 - recall: 0.0000e+00 - val_loss: 2.5440 - val_recall: 0.0000e+00\n"
     ]
    },
    {
     "data": {
      "text/plain": [
       "<tensorflow.python.keras.callbacks.History at 0x22912cf8>"
      ]
     },
     "execution_count": 182,
     "metadata": {},
     "output_type": "execute_result"
    }
   ],
   "source": [
    "model2.fit (X_train1, y_train1, epochs=20,verbose=2,validation_data=(X_test1, y_test1))"
   ]
  },
  {
   "cell_type": "code",
   "execution_count": 183,
   "metadata": {},
   "outputs": [
    {
     "name": "stdout",
     "output_type": "stream",
     "text": [
      "1916/1916 - 1s - loss: 2.5440 - recall: 0.0000e+00\n",
      "Model_2 Test score: 2.5439894129687413\n",
      "Model_2 Test recall: 0.0\n"
     ]
    }
   ],
   "source": [
    "loss, recall = model2.evaluate(X_test1, y_test1, batch_size=32,  verbose=2)\n",
    "print('Model_2 Test score:', loss)\n",
    "print('Model_2 Test recall:', recall)"
   ]
  },
  {
   "cell_type": "markdown",
   "metadata": {},
   "source": [
    "The Neural Nets do not seem to work very well for this problem as the recall score is near 0."
   ]
  },
  {
   "cell_type": "markdown",
   "metadata": {},
   "source": [
    "# 6. Predicting the loan payoff.\n",
    "The two best performing model are the SVC and Decision Tree yielding a  recall of 70% on the test data.  \n",
    "The  SVC model classifies correctly the probability of 222 loans of not being paid. It classifies incorrectly 94 loans predicting them to be paid while they are not paid.\n",
    "The  DT model classifies correctly the probability of 220 loans of not being paid. It classifies incorrectly 96 loans predicting them to be paid while they are not paid."
   ]
  },
  {
   "cell_type": "markdown",
   "metadata": {},
   "source": [
    "#### Support Vector Classifier with the rbc kernel"
   ]
  },
  {
   "cell_type": "code",
   "execution_count": 272,
   "metadata": {},
   "outputs": [
    {
     "name": "stdout",
     "output_type": "stream",
     "text": [
      "Recall of SV classifier on test set: 0.702532\n"
     ]
    }
   ],
   "source": [
    "svm_model_pca = SVC(class_weight='balanced', gamma=0.005, C = 10, kernel = 'rbf').fit(X_trainpca, y_trainpca)\n",
    "\n",
    "y_test_predict  = svm_model_pca.predict(X_testpca)\n",
    "print('Recall of SV classifier on test set: {:.6f}'\n",
    "      .format(recall_score(y_testpca, y_test_predict)))"
   ]
  },
  {
   "cell_type": "code",
   "execution_count": 267,
   "metadata": {},
   "outputs": [
    {
     "data": {
      "text/plain": [
       "0       0.184416\n",
       "1       0.275353\n",
       "2       0.188070\n",
       "3       0.160844\n",
       "4       0.308849\n",
       "          ...   \n",
       "1911    0.044634\n",
       "1912    0.173830\n",
       "1913    0.129444\n",
       "1914    0.084439\n",
       "1915    0.122242\n",
       "Length: 1916, dtype: float32"
      ]
     },
     "execution_count": 267,
     "metadata": {},
     "output_type": "execute_result"
    }
   ],
   "source": [
    "pred_loan_svc = svm_model_pca.predict_proba(X_testpca)[:, 1].astype(np.float32)\n",
    "answer_SVC = pd.Series(pred_loan_svc)\n",
    "answer_SVC"
   ]
  },
  {
   "cell_type": "markdown",
   "metadata": {},
   "source": [
    "#### Decision Tree classifier"
   ]
  },
  {
   "cell_type": "code",
   "execution_count": 274,
   "metadata": {},
   "outputs": [
    {
     "name": "stdout",
     "output_type": "stream",
     "text": [
      "Recall of DT classifier on test set: 0.696203\n"
     ]
    }
   ],
   "source": [
    "dtc1 = DecisionTreeClassifier(class_weight='balanced',criterion = 'entropy', max_depth = 4, min_samples_leaf = 6, random_state = 0).fit(X_train1, y_train1)\n",
    "\n",
    "y_test_predict  = dtc1.predict(X_test1)\n",
    "\n",
    "print('Recall of DT classifier on test set: {:.6f}'\n",
    "      .format(recall_score(y_test1, y_test_predict)))"
   ]
  },
  {
   "cell_type": "code",
   "execution_count": 177,
   "metadata": {},
   "outputs": [
    {
     "data": {
      "text/plain": [
       "0       0.421425\n",
       "1       0.623632\n",
       "2       0.658643\n",
       "3       0.514869\n",
       "4       0.514869\n",
       "          ...   \n",
       "1911    0.059881\n",
       "1912    0.514869\n",
       "1913    0.421425\n",
       "1914    0.421425\n",
       "1915    0.421425\n",
       "Length: 1916, dtype: float32"
      ]
     },
     "execution_count": 177,
     "metadata": {},
     "output_type": "execute_result"
    }
   ],
   "source": [
    "pred_loan_DT = dtc1.predict_proba(X_test1)[:, 1].astype(np.float32)\n",
    "answer_DT = pd.Series(pred_loan_DT)\n",
    "answer_DT"
   ]
  },
  {
   "cell_type": "markdown",
   "metadata": {},
   "source": [
    "### Judging Criteria\n",
    "| CATEGORY | WEIGHTAGE | DETAILS                                                              |\n",
    "|:---------|:----------|:---------------------------------------------------------------------|\n",
    "| **Analysis** | 30%       | <ul><li>Documentation on the goal and what was included in the analysis</li><li>How the question was approached</li><li>Visualisation tools and techniques utilized</li></ul>       |\n",
    "| **Results**  | 30%       | <ul><li>How the results derived related to the problem chosen</li><li>The ability to trigger potential further analysis</li></ul> |\n",
    "| **Creativity** | 40% | <ul><li>How \"out of the box\" the analysis conducted is</li><li>Whether the publication is properly motivated and adds value</li></ul> |"
   ]
  },
  {
   "cell_type": "code",
   "execution_count": null,
   "metadata": {},
   "outputs": [],
   "source": []
  }
 ],
 "metadata": {
  "colab": {
   "name": "Welcome to DataCamp Workspaces.ipynb",
   "provenance": []
  },
  "kernelspec": {
   "display_name": "Python 3",
   "language": "python",
   "name": "python3"
  },
  "language_info": {
   "codemirror_mode": {
    "name": "ipython",
    "version": 3
   },
   "file_extension": ".py",
   "mimetype": "text/x-python",
   "name": "python",
   "nbconvert_exporter": "python",
   "pygments_lexer": "ipython3",
   "version": "3.6.13"
  }
 },
 "nbformat": 4,
 "nbformat_minor": 4
}
