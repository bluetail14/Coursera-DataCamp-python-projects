{
 "cells": [
  {
   "cell_type": "markdown",
   "id": "55d9b73e",
   "metadata": {},
   "source": [
    "Timeit is very useful in understanding your code performance issues - assuming you have several solutions of a problem  you may want to choose the fastest correct solution.\n",
    "I'd like to begin to taking about the timeit documentation first.\n",
    "\n",
    "[Timeit](https://docs.python.org/3/library/timeit.html \"The official python documentation of the timeit module\") is a tool for measuring execution times of small pieces of Python code. It helps to understand your code performance issues and identify what slows your code down, enabling to choose the most efficient ways to write your code. The right tool for the job is the function timeit() in the module timeit.\n",
    "\n",
    "It takes several parameters:\n",
    "\n",
    "- **stmt = \"...\"** it is the code fragment that you want to time. it must be provided as a string.\n",
    "- **setup = \"...\"** another code fragment that includes the definitions of all involved variables, also a string.\n",
    "\n",
    "- **number**. the number of times to run the statement.\n",
    "- **globals**. Default is None or if set to globals(), it uses all previously defined functions and variables."
   ]
  },
  {
   "cell_type": "code",
   "execution_count": null,
   "id": "2e070500",
   "metadata": {},
   "outputs": [],
   "source": [
    "# Please refer to my github page to download the notebook if you want to follow along.\n",
    "# in this workshop, I will be looking at different ways to write code and compare the processing times using time it  to find the most fast-running solutions."
   ]
  },
  {
   "cell_type": "code",
   "execution_count": null,
   "id": "efe551b0",
   "metadata": {},
   "outputs": [],
   "source": [
    "# lets import the modules that I'll be using in this session"
   ]
  },
  {
   "cell_type": "code",
   "execution_count": 2,
   "id": "edc56b4a",
   "metadata": {},
   "outputs": [],
   "source": [
    "#import timeit\n",
    "from timeit import timeit\n",
    "\n",
    "import json\n",
    "import string"
   ]
  },
  {
   "cell_type": "code",
   "execution_count": null,
   "id": "1cf7d1cf",
   "metadata": {},
   "outputs": [],
   "source": []
  },
  {
   "cell_type": "markdown",
   "id": "f8e466e9",
   "metadata": {},
   "source": [
    "### Integers or floats?"
   ]
  },
  {
   "cell_type": "code",
   "execution_count": 117,
   "id": "a1fbaf0a",
   "metadata": {},
   "outputs": [
    {
     "data": {
      "text/plain": [
       "1000000000000000000000000000000000000000000000000000000000000000000000000000000000000000000000000000000000"
      ]
     },
     "execution_count": 117,
     "metadata": {},
     "output_type": "execute_result"
    }
   ],
   "source": [
    " 10 * 10000 * 10 ** 100  # intergers allow for precise computations  "
   ]
  },
  {
   "cell_type": "code",
   "execution_count": 118,
   "id": "555cc5e6",
   "metadata": {},
   "outputs": [
    {
     "data": {
      "text/plain": [
       "1.0000000000000001e+105"
      ]
     },
     "execution_count": 118,
     "metadata": {},
     "output_type": "execute_result"
    }
   ],
   "source": [
    "10. * 10000 * 10. ** 100 # floats are approximate"
   ]
  },
  {
   "cell_type": "code",
   "execution_count": 128,
   "id": "2aab55ef",
   "metadata": {},
   "outputs": [
    {
     "data": {
      "text/plain": [
       "0.33526610000080836"
      ]
     },
     "execution_count": 128,
     "metadata": {},
     "output_type": "execute_result"
    }
   ],
   "source": [
    "timeit('10 * 10000 * 10 ** 100', number = 1000000) "
   ]
  },
  {
   "cell_type": "code",
   "execution_count": 127,
   "id": "b5b2a669",
   "metadata": {},
   "outputs": [
    {
     "data": {
      "text/plain": [
       "0.007721400001173606"
      ]
     },
     "execution_count": 127,
     "metadata": {},
     "output_type": "execute_result"
    }
   ],
   "source": [
    "timeit('10. * 10000 * 10. ** 100',  number = 1000000)   "
   ]
  },
  {
   "cell_type": "code",
   "execution_count": 131,
   "id": "27d995ec",
   "metadata": {},
   "outputs": [],
   "source": [
    "# one runs  43 times faster than the other! "
   ]
  },
  {
   "cell_type": "markdown",
   "id": "6909c669",
   "metadata": {},
   "source": [
    "##### Conclusion: if you do not need accurate large results, stick to floats."
   ]
  },
  {
   "cell_type": "markdown",
   "id": "81572743",
   "metadata": {},
   "source": [
    "### What is the fastest way to add numbers? "
   ]
  },
  {
   "cell_type": "code",
   "execution_count": 6,
   "id": "b9bbeba8",
   "metadata": {},
   "outputs": [
    {
     "data": {
      "text/plain": [
       "7"
      ]
     },
     "execution_count": 6,
     "metadata": {},
     "output_type": "execute_result"
    }
   ],
   "source": [
    "3+4"
   ]
  },
  {
   "cell_type": "code",
   "execution_count": 18,
   "id": "29b39ed7",
   "metadata": {},
   "outputs": [
    {
     "data": {
      "text/plain": [
       "0.008297700000014174"
      ]
     },
     "execution_count": 18,
     "metadata": {},
     "output_type": "execute_result"
    }
   ],
   "source": [
    "timeit('3+4', number = 1000000)   # lets do it a 1'000'000 times which is a default setting"
   ]
  },
  {
   "cell_type": "code",
   "execution_count": 7,
   "id": "97d33b58",
   "metadata": {},
   "outputs": [],
   "source": [
    "def add(a,b):\n",
    "    return a+b"
   ]
  },
  {
   "cell_type": "code",
   "execution_count": 10,
   "id": "bb201f9c",
   "metadata": {},
   "outputs": [],
   "source": [
    "mysetup = \"\"\"\n",
    "def add(a,b):\n",
    "    return a+b\n",
    "\"\"\""
   ]
  },
  {
   "cell_type": "code",
   "execution_count": 19,
   "id": "7fa25b12",
   "metadata": {},
   "outputs": [
    {
     "data": {
      "text/plain": [
       "0.06290839999999776"
      ]
     },
     "execution_count": 19,
     "metadata": {},
     "output_type": "execute_result"
    }
   ],
   "source": [
    "timeit('add(3,4)', setup = mysetup ,number = 1000000)"
   ]
  },
  {
   "cell_type": "code",
   "execution_count": null,
   "id": "ac241ec3",
   "metadata": {},
   "outputs": [],
   "source": [
    "## 3 ways to take the power of a number"
   ]
  },
  {
   "cell_type": "code",
   "execution_count": 23,
   "id": "70c8fb7d",
   "metadata": {},
   "outputs": [
    {
     "data": {
      "text/plain": [
       "0.008076599999981227"
      ]
     },
     "execution_count": 23,
     "metadata": {},
     "output_type": "execute_result"
    }
   ],
   "source": [
    "timeit('3*3*3*3')"
   ]
  },
  {
   "cell_type": "code",
   "execution_count": 24,
   "id": "27434d51",
   "metadata": {},
   "outputs": [
    {
     "data": {
      "text/plain": [
       "0.008234800000025189"
      ]
     },
     "execution_count": 24,
     "metadata": {},
     "output_type": "execute_result"
    }
   ],
   "source": [
    "timeit('3**4')"
   ]
  },
  {
   "cell_type": "code",
   "execution_count": 29,
   "id": "1021992e",
   "metadata": {},
   "outputs": [
    {
     "data": {
      "text/plain": [
       "0.17126609999996845"
      ]
     },
     "execution_count": 29,
     "metadata": {},
     "output_type": "execute_result"
    }
   ],
   "source": [
    "timeit('pow(3,4)')"
   ]
  },
  {
   "cell_type": "markdown",
   "id": "4a7b8c68",
   "metadata": {},
   "source": [
    "##### Conclusion: calling functions is more time-consuming than simple operations"
   ]
  },
  {
   "cell_type": "markdown",
   "id": "5fb78206",
   "metadata": {},
   "source": [
    "### Sets and dictionaries are better than lists"
   ]
  },
  {
   "cell_type": "code",
   "execution_count": 30,
   "id": "27538a2a",
   "metadata": {},
   "outputs": [
    {
     "data": {
      "text/plain": [
       "\"Hello everyone, how're you doing today?\""
      ]
     },
     "execution_count": 30,
     "metadata": {},
     "output_type": "execute_result"
    }
   ],
   "source": [
    "\"Hello everyone, how're you doing today?\""
   ]
  },
  {
   "cell_type": "code",
   "execution_count": 33,
   "id": "98489157",
   "metadata": {},
   "outputs": [
    {
     "data": {
      "text/plain": [
       "'Hello everyone howre you doing today'"
      ]
     },
     "execution_count": 33,
     "metadata": {},
     "output_type": "execute_result"
    }
   ],
   "source": [
    "# using a list comprehension expression to strip the punctuation\n",
    "\n",
    "''.join([x for x in \"Hello everyone, how're you doing today?\" if x not in string.punctuation]) "
   ]
  },
  {
   "cell_type": "code",
   "execution_count": 3,
   "id": "1a6a9ff2",
   "metadata": {},
   "outputs": [
    {
     "data": {
      "text/plain": [
       "'!\"#$%&\\'()*+,-./:;<=>?@[\\\\]^_`{|}~'"
      ]
     },
     "execution_count": 3,
     "metadata": {},
     "output_type": "execute_result"
    }
   ],
   "source": [
    "string.punctuation  # it is a list"
   ]
  },
  {
   "cell_type": "code",
   "execution_count": 39,
   "id": "730ac63b",
   "metadata": {},
   "outputs": [
    {
     "data": {
      "text/plain": [
       "'\\'\\'.join([x for x in \"Hello everyone, how\\'re you doing today?\" if x not in string.punctuation]) '"
      ]
     },
     "execution_count": 39,
     "metadata": {},
     "output_type": "execute_result"
    }
   ],
   "source": [
    "stmt1 = \"\"\"''.join([x for x in \"Hello everyone, how're you doing today?\" if x not in string.punctuation]) \"\"\"\n",
    "stmt1"
   ]
  },
  {
   "cell_type": "code",
   "execution_count": 40,
   "id": "27240f67",
   "metadata": {},
   "outputs": [
    {
     "data": {
      "text/plain": [
       "2.4052073999999948"
      ]
     },
     "execution_count": 40,
     "metadata": {},
     "output_type": "execute_result"
    }
   ],
   "source": [
    "timeit( stmt = stmt1, globals=globals())"
   ]
  },
  {
   "cell_type": "code",
   "execution_count": 144,
   "id": "381156d6",
   "metadata": {},
   "outputs": [],
   "source": [
    "## lets convert the punctuation list to a set\n",
    "set_punct = set(string.punctuation)"
   ]
  },
  {
   "cell_type": "code",
   "execution_count": 147,
   "id": "e9af0d1f",
   "metadata": {},
   "outputs": [],
   "source": [
    "stmt2 = \"\"\"''.join([x for x in \"Hello everyone, how're you doing today?\" if x not in set_punct]) \"\"\""
   ]
  },
  {
   "cell_type": "code",
   "execution_count": 148,
   "id": "11185dfb",
   "metadata": {},
   "outputs": [
    {
     "data": {
      "text/plain": [
       "1.9165020000000368"
      ]
     },
     "execution_count": 148,
     "metadata": {},
     "output_type": "execute_result"
    }
   ],
   "source": [
    "timeit( stmt = stmt2, globals=globals())"
   ]
  },
  {
   "cell_type": "markdown",
   "id": "6373091a",
   "metadata": {},
   "source": [
    "#### Lets try with numbers"
   ]
  },
  {
   "cell_type": "code",
   "execution_count": 5,
   "id": "e21142f3",
   "metadata": {},
   "outputs": [
    {
     "data": {
      "text/plain": [
       "False"
      ]
     },
     "execution_count": 5,
     "metadata": {},
     "output_type": "execute_result"
    }
   ],
   "source": [
    "haystack = list(range(1000))\n",
    "haystack\n",
    "\n",
    "1001 in haystack"
   ]
  },
  {
   "cell_type": "code",
   "execution_count": 52,
   "id": "66741f2f",
   "metadata": {},
   "outputs": [
    {
     "data": {
      "text/plain": [
       "6.804188700000168"
      ]
     },
     "execution_count": 52,
     "metadata": {},
     "output_type": "execute_result"
    }
   ],
   "source": [
    "# the list\n",
    "timeit('1001 in haystack', 'haystack=list(range(1000))')   #  it takesaround 6.8 microseconds"
   ]
  },
  {
   "cell_type": "code",
   "execution_count": 49,
   "id": "9309eba6",
   "metadata": {},
   "outputs": [
    {
     "data": {
      "text/plain": [
       "6.918219000000136"
      ]
     },
     "execution_count": 49,
     "metadata": {},
     "output_type": "execute_result"
    }
   ],
   "source": [
    "# the tuple\n",
    "timeit('1001 in haystack', 'haystack=tuple(range(1000))')"
   ]
  },
  {
   "cell_type": "code",
   "execution_count": 50,
   "id": "7baf8d8c",
   "metadata": {},
   "outputs": [
    {
     "data": {
      "text/plain": [
       "0.031521800000064104"
      ]
     },
     "execution_count": 50,
     "metadata": {},
     "output_type": "execute_result"
    }
   ],
   "source": [
    "# dictionary\n",
    "timeit('1001 in haystack', 'haystack=dict(enumerate(range(1000)))')"
   ]
  },
  {
   "cell_type": "code",
   "execution_count": 53,
   "id": "4c08c8c7",
   "metadata": {},
   "outputs": [
    {
     "data": {
      "text/plain": [
       "0.02940349999994396"
      ]
     },
     "execution_count": 53,
     "metadata": {},
     "output_type": "execute_result"
    }
   ],
   "source": [
    "# set\n",
    "timeit('1001 in haystack', 'haystack=set(range(1000))') # only .03 microseconds!"
   ]
  },
  {
   "cell_type": "markdown",
   "id": "f75432a6",
   "metadata": {},
   "source": [
    "#### Where is Wally?"
   ]
  },
  {
   "cell_type": "code",
   "execution_count": 7,
   "id": "97874025",
   "metadata": {},
   "outputs": [],
   "source": [
    "# there are almost 5000 names. Find Wally.\n",
    "\n",
    "with open('first_names.json') as json_file:\n",
    "    names = json.load(json_file)\n",
    "#print(names)"
   ]
  },
  {
   "cell_type": "code",
   "execution_count": 60,
   "id": "f8435891",
   "metadata": {},
   "outputs": [
    {
     "data": {
      "text/plain": [
       "(list, 4946)"
      ]
     },
     "execution_count": 60,
     "metadata": {},
     "output_type": "execute_result"
    }
   ],
   "source": [
    "type(names), len(names)"
   ]
  },
  {
   "cell_type": "code",
   "execution_count": 104,
   "id": "f0d9f940",
   "metadata": {},
   "outputs": [],
   "source": [
    "# Lets expore different ways to find Wally!"
   ]
  },
  {
   "cell_type": "code",
   "execution_count": 106,
   "id": "ae19e1dc",
   "metadata": {},
   "outputs": [
    {
     "name": "stdout",
     "output_type": "stream",
     "text": [
      "It has taken me 2230.8664326999997 to find Wally!\n"
     ]
    }
   ],
   "source": [
    "# Using a function, find_name1()\n",
    "import re\n",
    "\n",
    "def find_name1(string, list_names):\n",
    "    for name in names:\n",
    "        z = re.match(string, name)    # the match function\n",
    "    return z\n",
    "\n",
    "time1 = timeit(stmt = \"find_name1('Wally', names)\", globals = globals())\n",
    "print(f'It has taken me {time1} to find Wally!')    # 37 minutes"
   ]
  },
  {
   "cell_type": "code",
   "execution_count": 134,
   "id": "e49aa537",
   "metadata": {},
   "outputs": [
    {
     "name": "stdout",
     "output_type": "stream",
     "text": [
      "It has taken me 343.1560188000003 to find Wally!\n"
     ]
    }
   ],
   "source": [
    "# using a list comprehension\n",
    "result = [name for name in names if name.startswith('Wally')]\n",
    "\n",
    "time2 = timeit(stmt = \"[name for name in names if name.startswith('Wally')]\", globals = globals())\n",
    "print(f'It has taken me {time2} to find Wally!')"
   ]
  },
  {
   "cell_type": "code",
   "execution_count": 100,
   "id": "032b70c9",
   "metadata": {},
   "outputs": [
    {
     "name": "stdout",
     "output_type": "stream",
     "text": [
      "It has taken me 144.39792770000076 to find Wally!\n"
     ]
    }
   ],
   "source": [
    "# Using a function, find_name2()\n",
    "\n",
    "def find_name2(string, list_of_names):\n",
    "    return [name for name in list_of_names if name in string]\n",
    "\n",
    "time3 = timeit(stmt = \"find_name2('Wally',names)\", globals = globals())\n",
    "print(f'It has taken me {time3} to find Wally!')"
   ]
  },
  {
   "cell_type": "code",
   "execution_count": 115,
   "id": "f2c5f5a5",
   "metadata": {},
   "outputs": [
    {
     "name": "stdout",
     "output_type": "stream",
     "text": [
      "It has taken me 134.6245695000016 to find Wally!\n"
     ]
    }
   ],
   "source": [
    "# Using a comprehension set\n",
    "mystmt = \"{name for name in names if name in 'Wally'}\"\n",
    "\n",
    "time4 = timeit(stmt = mystmt, globals = globals())\n",
    "print(f'It has taken me {time4} to find Wally!')"
   ]
  },
  {
   "cell_type": "code",
   "execution_count": 113,
   "id": "c1d3330d",
   "metadata": {},
   "outputs": [
    {
     "name": "stdout",
     "output_type": "stream",
     "text": [
      "It has taken me 125.79795209999975 to find Wally!\n"
     ]
    }
   ],
   "source": [
    "# using the next() method\n",
    "mystmt = \"next((name for name in names if name in 'Wally'), None)\"\n",
    "\n",
    "time5 = timeit(stmt = mystmt, globals = globals())\n",
    "print(f'It has taken me {time5} to find Wally!')"
   ]
  },
  {
   "cell_type": "code",
   "execution_count": 114,
   "id": "7ca638cf",
   "metadata": {},
   "outputs": [
    {
     "name": "stdout",
     "output_type": "stream",
     "text": [
      "It has taken me 98.11119920000056 to find Wally!\n"
     ]
    }
   ],
   "source": [
    "# using the next() method with a set of names\n",
    "names_set = set(names)\n",
    "mystmt = \"next((name for name in names_set if name in 'Wally'), None)\"\n",
    "\n",
    "time6 = timeit(stmt = mystmt, globals = globals())\n",
    "print(f'It has taken me {time6} to find Wally!')"
   ]
  },
  {
   "cell_type": "markdown",
   "id": "946e8e0f",
   "metadata": {},
   "source": [
    "##### Conclusion: Dictionaries and sets offer a significant improvement.Converting a list to a set makes it run faster."
   ]
  },
  {
   "cell_type": "code",
   "execution_count": null,
   "id": "de41e92f",
   "metadata": {},
   "outputs": [],
   "source": []
  },
  {
   "cell_type": "markdown",
   "id": "4bb4c37b",
   "metadata": {},
   "source": [
    "### Most efficient string formatting?"
   ]
  },
  {
   "cell_type": "code",
   "execution_count": 132,
   "id": "1030c535",
   "metadata": {},
   "outputs": [
    {
     "data": {
      "text/plain": [
       "'Hello, Kimberley, how is your day?'"
      ]
     },
     "execution_count": 132,
     "metadata": {},
     "output_type": "execute_result"
    }
   ],
   "source": [
    "name = 'Kimberley'\n",
    "'Hello, ' + str(name) + ', how is your day?'"
   ]
  },
  {
   "cell_type": "code",
   "execution_count": 142,
   "id": "5d2137cf",
   "metadata": {},
   "outputs": [
    {
     "name": "stdout",
     "output_type": "stream",
     "text": [
      "0.07086720000006608\n",
      "0.13872360000095796\n",
      "0.15673280000009981\n",
      "0.17400939999970433\n",
      "0.2051169000005757\n"
     ]
    }
   ],
   "source": [
    "setup = \"name = 'Kimberley'\"\n",
    "\n",
    "\n",
    "method1 = \"f'Hello, {name}, how is your day?'\"   # f-stings\n",
    "method2 = \"'Hello, %s, how is your day?' % (name,)\" # using the substitution operator, %\n",
    "method3 = \"'Hello, ' + str(name) + ', how is your day?' \" # using string concaternation \n",
    "method4 = \"'Hello, {0}, how is your day?'.format(name)\" # using the format() method\n",
    "method5 = \"'Hello, %(who)s, how is your day?' % {'who': name}\" # using % with placeholders\n",
    "\n",
    "for method in (method1, method2, method3, method4,method5):\n",
    "    print(timeit(globals=globals(), stmt=method))  "
   ]
  },
  {
   "cell_type": "markdown",
   "id": "531a985f",
   "metadata": {},
   "source": [
    "##### F-strings are most efficient!"
   ]
  },
  {
   "cell_type": "code",
   "execution_count": null,
   "id": "f32a43ad",
   "metadata": {},
   "outputs": [],
   "source": []
  },
  {
   "cell_type": "markdown",
   "id": "fe7565a1",
   "metadata": {},
   "source": [
    " That was an introduction to the timeit module in Python. today we have seen that function calls are costly and it is better to use simple python operators, that converting lists into sets can offer significant imporvement and the f-strings are the most efficient way of string formatting in python. ...!"
   ]
  },
  {
   "cell_type": "markdown",
   "id": "b070809d",
   "metadata": {},
   "source": [
    "I'll conclude today's workshop by asking you to try experimenting with the timeit module yourself and .hopefully, you'll now be able to write faster  python code!"
   ]
  },
  {
   "cell_type": "code",
   "execution_count": null,
   "id": "b605daf9",
   "metadata": {},
   "outputs": [],
   "source": []
  }
 ],
 "metadata": {
  "kernelspec": {
   "display_name": "Python 3",
   "language": "python",
   "name": "python3"
  },
  "language_info": {
   "codemirror_mode": {
    "name": "ipython",
    "version": 3
   },
   "file_extension": ".py",
   "mimetype": "text/x-python",
   "name": "python",
   "nbconvert_exporter": "python",
   "pygments_lexer": "ipython3",
   "version": "3.8.8"
  }
 },
 "nbformat": 4,
 "nbformat_minor": 5
}
