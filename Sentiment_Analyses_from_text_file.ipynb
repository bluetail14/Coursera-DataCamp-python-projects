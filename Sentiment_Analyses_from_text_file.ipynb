{
 "cells": [
  {
   "cell_type": "code",
   "execution_count": 1,
   "metadata": {},
   "outputs": [],
   "source": [
    "import pandas as pd\n",
    "from matplotlib import pyplot as plt"
   ]
  },
  {
   "cell_type": "code",
   "execution_count": 2,
   "metadata": {},
   "outputs": [],
   "source": [
    "punctuation_chars = [\"'\", '\"', \",\", \".\", \"!\", \":\", \";\", '#', '@']\n",
    "# lists of words to use"
   ]
  },
  {
   "cell_type": "code",
   "execution_count": 3,
   "metadata": {},
   "outputs": [],
   "source": [
    "positive_words = []\n",
    "with open(\"positive_words.txt\") as pos_f:\n",
    "\n",
    "    for lin in pos_f:\n",
    "        if lin[0] != ';' and lin[0] != '\\n':\n",
    "            positive_words.append(lin.strip())\n",
    "            \n",
    "            negative_words = []\n",
    "with open(\"negative_words.txt\") as pos_f:\n",
    "    for lin in pos_f:\n",
    "        if lin[0] != ';' and lin[0] != '\\n':\n",
    "            negative_words.append(lin.strip())\n",
    "           # print(lin)"
   ]
  },
  {
   "cell_type": "code",
   "execution_count": 4,
   "metadata": {},
   "outputs": [],
   "source": [
    "def strip_punctuation(string):\n",
    "    for char in string:\n",
    "        if char in punctuation_chars:\n",
    "            string = string.replace(char,'')   \n",
    "    return(string)"
   ]
  },
  {
   "cell_type": "code",
   "execution_count": 5,
   "metadata": {},
   "outputs": [],
   "source": [
    "def get_pos(sen):\n",
    "    sen = strip_punctuation(sen).lower().split()\n",
    "    j = 0\n",
    "    for k in sen:\n",
    "        if k in positive_words:\n",
    "            j += 1\n",
    "    return j\n",
    "\n",
    "def get_neg(sen):\n",
    "    sen = strip_punctuation(sen).lower().split()\n",
    "    j = 0\n",
    "    for n in sen:\n",
    "        if n in negative_words:\n",
    "            j += 1\n",
    "    return j"
   ]
  },
  {
   "cell_type": "code",
   "execution_count": 12,
   "metadata": {},
   "outputs": [],
   "source": [
    "# writing the 'Number of Retweets,Number of Replies,Positive Score,Negative Score,Net Score' into the resulting_data.csv file\n",
    "twf = open('project_twitter_data.csv','r') \n",
    "\n",
    "next(twf, None)\n",
    "\n",
    "with open(\"resulting_data0.csv\", \"w\") as nf:\n",
    "    nf.write('Number of Retweets,Number of Replies,Positive Score,Negative Score,Net Score')\n",
    "    nf.write(\"\\n\") \n",
    "    \n",
    "    for line in twf:\n",
    "\n",
    "        line = line.strip()\n",
    "        if not line:\n",
    "            continue\n",
    "        linelst = line.split(\",\")\n",
    "        RT = linelst[1]\n",
    "        RP = linelst[2]\n",
    "        pos = get_pos(line)\n",
    "        neg = get_neg(line)\n",
    "        net = get_pos(line) - get_neg(line)\n",
    "        rows = \"{}, {}, {}, {}, {}\".format(RT,RP,pos,neg,net)\n",
    "        nf.write(rows + \"\\n\")\n",
    "#        print(rows)\n",
    "twf.close()"
   ]
  },
  {
   "cell_type": "code",
   "execution_count": 13,
   "metadata": {},
   "outputs": [
    {
     "data": {
      "image/png": "[encoded data removed]",
      "text/plain": [
       "<Figure size 432x288 with 1 Axes>"
      ]
     },
     "metadata": {
      "needs_background": "light"
     },
     "output_type": "display_data"
    }
   ],
   "source": [
    "df = pd.read_csv('resulting_data0.csv', index_col=False, header=0)\n",
    "\n",
    "fig = plt.figure()\n",
    "plt.scatter(df['Net Score'], df['Number of Retweets']) \n",
    "fig.suptitle('Sample Sentiment Analysis', fontsize=20)\n",
    "plt.xlabel('Net Score', fontsize=16)\n",
    "plt.ylabel('Number of Retweets', fontsize=12)\n",
    "plt.grid()"
   ]
  },
  {
   "cell_type": "code",
   "execution_count": null,
   "metadata": {},
   "outputs": [],
   "source": []
  }
 ],
 "metadata": {
  "kernelspec": {
   "display_name": "Python 3",
   "language": "python",
   "name": "python3"
  },
  "language_info": {
   "codemirror_mode": {
    "name": "ipython",
    "version": 3
   },
   "file_extension": ".py",
   "mimetype": "text/x-python",
   "name": "python",
   "nbconvert_exporter": "python",
   "pygments_lexer": "ipython3",
   "version": "3.6.5"
  }
 },
 "nbformat": 4,
 "nbformat_minor": 4
}
