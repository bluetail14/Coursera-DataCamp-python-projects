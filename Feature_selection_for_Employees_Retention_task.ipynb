{
 "cells": [
  {
   "cell_type": "markdown",
   "metadata": {
    "application/vnd.databricks.v1+cell": {
     "inputWidgets": {},
     "nuid": "fa50dafe-7d13-48ec-a314-a21184d50b1e",
     "showTitle": false,
     "title": ""
    }
   },
   "source": [
    "# Can you help reduce employee turnover?\n",
    "\n",
    "## 📖 Background\n",
    "You work for the human resource department of a large corporation. The Board is worried about the relatively high turnover, and your team must look into ways to reduce the number of employees leaving the company.\n",
    "\n",
    "The team needs to understand better the situation, which employees are more likely to leave, and why. Once it is clear what variables impact employee churn, you can present your findings along with your ideas on how to attack the problem."
   ]
  },
  {
   "cell_type": "markdown",
   "metadata": {
    "application/vnd.databricks.v1+cell": {
     "inputWidgets": {},
     "nuid": "288c664a-0384-4fdb-9227-59d34f4eab9c",
     "showTitle": false,
     "title": ""
    }
   },
   "source": [
    "## 💾 The data\n",
    "The department has assembled data on almost 10,000 employees. The team used information from exit interviews, performance reviews, and employee records.\n",
    "\n",
    "- \"department\" - the department the employee belongs to.\n",
    "- \"promoted\" - 1 if the employee was promoted in the previous 24 months, 0 otherwise.\n",
    "- \"review\" - the composite score the employee received in their last evaluation.\n",
    "- \"projects\" - how many projects the employee is involved in.\n",
    "- \"salary\" - for confidentiality reasons, salary comes in three tiers: low, medium, high.\n",
    "- \"tenure\" - how many years the employee has been at the company.\n",
    "- \"satisfaction\" - a measure of employee satisfaction from surveys.\n",
    "- \"avg_hrs_month\" - the average hours the employee worked in a month.\n",
    "- \"left\" - \"yes\" if the employee ended up leaving, \"no\" otherwise."
   ]
  },
  {
   "cell_type": "markdown",
   "metadata": {
    "application/vnd.databricks.v1+cell": {
     "inputWidgets": {},
     "nuid": "35e70506-9cbc-4f14-915f-1ad17cca0ee9",
     "showTitle": false,
     "title": ""
    }
   },
   "source": [
    "## Create a report that covers the following:\n",
    "\n",
    "1. Which department has the highest employee turnover? Which one has the lowest?\n",
    "2. Investigate which variables seem to be better predictors of employee departure.\n",
    "3. What recommendations would you make regarding ways to reduce employee turnover?"
   ]
  },
  {
   "cell_type": "markdown",
   "metadata": {
    "application/vnd.databricks.v1+cell": {
     "inputWidgets": {},
     "nuid": "e6c65d08-c297-4d63-9d38-f77f79dfb1b0",
     "showTitle": false,
     "title": ""
    }
   },
   "source": [
    "## Report content:\n",
    "\n",
    "-\n",
    "1. Preliminary remarks and data exploration.\n",
    "2. Feature design and exploration.\n",
    "3. Modelling and feature selection.\n",
    "4. Recommendations to reduce employee turnover."
   ]
  },
  {
   "cell_type": "code",
   "execution_count": 0,
   "metadata": {
    "application/vnd.databricks.v1+cell": {
     "inputWidgets": {},
     "nuid": "459df03b-ce54-4c94-bc5d-cb0b73e649fa",
     "showTitle": false,
     "title": ""
    }
   },
   "outputs": [
    {
     "data": {
      "text/html": [
       "<style scoped>\n",
       "  .ansiout {\n",
       "    display: block;\n",
       "    unicode-bidi: embed;\n",
       "    white-space: pre-wrap;\n",
       "    word-wrap: break-word;\n",
       "    word-break: break-all;\n",
       "    font-family: \"Source Code Pro\", \"Menlo\", monospace;;\n",
       "    font-size: 13px;\n",
       "    color: #555;\n",
       "    margin-left: 4px;\n",
       "    line-height: 19px;\n",
       "  }\n",
       "</style>\n",
       "<div class=\"ansiout\"></div>"
      ]
     },
     "metadata": {
      "application/vnd.databricks.v1+output": {
       "addedWidgets": {},
       "arguments": {},
       "data": "<div class=\"ansiout\"></div>",
       "datasetInfos": [],
       "metadata": {},
       "removedWidgets": [],
       "type": "html"
      }
     },
     "output_type": "display_data"
    },
    {
     "data": {
      "text/html": [
       "Mounting course-specific datasets to <b>/mnt/training</b>...</br>Datasets are already mounted to <b>/mnt/training</b> from <b>wasbs://training@dbtrainukwest.blob.core.windows.net/</b>"
      ]
     },
     "metadata": {
      "application/vnd.databricks.v1+output": {
       "addedWidgets": {},
       "arguments": {},
       "data": "Mounting course-specific datasets to <b>/mnt/training</b>...</br>Datasets are already mounted to <b>/mnt/training</b> from <b>wasbs://training@dbtrainukwest.blob.core.windows.net/</b>",
       "datasetInfos": [],
       "metadata": {},
       "removedWidgets": [],
       "textData": null,
       "type": "htmlSandbox"
      }
     },
     "output_type": "display_data"
    },
    {
     "data": {
      "text/html": [
       "<style scoped>\n",
       "  .ansiout {\n",
       "    display: block;\n",
       "    unicode-bidi: embed;\n",
       "    white-space: pre-wrap;\n",
       "    word-wrap: break-word;\n",
       "    word-break: break-all;\n",
       "    font-family: \"Source Code Pro\", \"Menlo\", monospace;;\n",
       "    font-size: 13px;\n",
       "    color: #555;\n",
       "    margin-left: 4px;\n",
       "    line-height: 19px;\n",
       "  }\n",
       "</style>\n",
       "<div class=\"ansiout\">Out[2]: DataFrame[]</div>"
      ]
     },
     "metadata": {
      "application/vnd.databricks.v1+output": {
       "addedWidgets": {},
       "arguments": {},
       "data": "<div class=\"ansiout\">Out[2]: DataFrame[]</div>",
       "datasetInfos": [],
       "metadata": {},
       "removedWidgets": [],
       "type": "html"
      }
     },
     "output_type": "display_data"
    },
    {
     "data": {
      "text/html": [
       "<style scoped>\n",
       "  .ansiout {\n",
       "    display: block;\n",
       "    unicode-bidi: embed;\n",
       "    white-space: pre-wrap;\n",
       "    word-wrap: break-word;\n",
       "    word-break: break-all;\n",
       "    font-family: \"Source Code Pro\", \"Menlo\", monospace;;\n",
       "    font-size: 13px;\n",
       "    color: #555;\n",
       "    margin-left: 4px;\n",
       "    line-height: 19px;\n",
       "  }\n",
       "</style>\n",
       "<div class=\"ansiout\"></div>"
      ]
     },
     "metadata": {
      "application/vnd.databricks.v1+output": {
       "addedWidgets": {},
       "arguments": {},
       "data": "<div class=\"ansiout\"></div>",
       "datasetInfos": [],
       "metadata": {},
       "removedWidgets": [],
       "type": "html"
      }
     },
     "output_type": "display_data"
    },
    {
     "data": {
      "text/html": [
       "<style scoped>\n",
       "  .ansiout {\n",
       "    display: block;\n",
       "    unicode-bidi: embed;\n",
       "    white-space: pre-wrap;\n",
       "    word-wrap: break-word;\n",
       "    word-break: break-all;\n",
       "    font-family: \"Source Code Pro\", \"Menlo\", monospace;;\n",
       "    font-size: 13px;\n",
       "    color: #555;\n",
       "    margin-left: 4px;\n",
       "    line-height: 19px;\n",
       "  }\n",
       "</style>\n",
       "<div class=\"ansiout\"></div>"
      ]
     },
     "metadata": {
      "application/vnd.databricks.v1+output": {
       "addedWidgets": {},
       "arguments": {},
       "data": "<div class=\"ansiout\"></div>",
       "datasetInfos": [],
       "metadata": {},
       "removedWidgets": [],
       "type": "html"
      }
     },
     "output_type": "display_data"
    },
    {
     "data": {
      "text/html": [
       "<style scoped>\n",
       "  .ansiout {\n",
       "    display: block;\n",
       "    unicode-bidi: embed;\n",
       "    white-space: pre-wrap;\n",
       "    word-wrap: break-word;\n",
       "    word-break: break-all;\n",
       "    font-family: \"Source Code Pro\", \"Menlo\", monospace;;\n",
       "    font-size: 13px;\n",
       "    color: #555;\n",
       "    margin-left: 4px;\n",
       "    line-height: 19px;\n",
       "  }\n",
       "</style>\n",
       "<div class=\"ansiout\">res1: Boolean = false\n",
       "</div>"
      ]
     },
     "metadata": {
      "application/vnd.databricks.v1+output": {
       "addedWidgets": {},
       "arguments": {},
       "data": "<div class=\"ansiout\">res1: Boolean = false\n</div>",
       "datasetInfos": [],
       "metadata": {},
       "removedWidgets": [],
       "type": "html"
      }
     },
     "output_type": "display_data"
    },
    {
     "data": {
      "text/html": [
       "<style scoped>\n",
       "  .ansiout {\n",
       "    display: block;\n",
       "    unicode-bidi: embed;\n",
       "    white-space: pre-wrap;\n",
       "    word-wrap: break-word;\n",
       "    word-break: break-all;\n",
       "    font-family: \"Source Code Pro\", \"Menlo\", monospace;;\n",
       "    font-size: 13px;\n",
       "    color: #555;\n",
       "    margin-left: 4px;\n",
       "    line-height: 19px;\n",
       "  }\n",
       "</style>\n",
       "<div class=\"ansiout\">res2: Boolean = false\n",
       "</div>"
      ]
     },
     "metadata": {
      "application/vnd.databricks.v1+output": {
       "addedWidgets": {},
       "arguments": {},
       "data": "<div class=\"ansiout\">res2: Boolean = false\n</div>",
       "datasetInfos": [],
       "metadata": {},
       "removedWidgets": [],
       "type": "html"
      }
     },
     "output_type": "display_data"
    },
    {
     "data": {
      "text/html": [
       "<style scoped>\n",
       "  .ansiout {\n",
       "    display: block;\n",
       "    unicode-bidi: embed;\n",
       "    white-space: pre-wrap;\n",
       "    word-wrap: break-word;\n",
       "    word-break: break-all;\n",
       "    font-family: \"Source Code Pro\", \"Menlo\", monospace;;\n",
       "    font-size: 13px;\n",
       "    color: #555;\n",
       "    margin-left: 4px;\n",
       "    line-height: 19px;\n",
       "  }\n",
       "</style>\n",
       "<div class=\"ansiout\">res3: Boolean = false\n",
       "</div>"
      ]
     },
     "metadata": {
      "application/vnd.databricks.v1+output": {
       "addedWidgets": {},
       "arguments": {},
       "data": "<div class=\"ansiout\">res3: Boolean = false\n</div>",
       "datasetInfos": [],
       "metadata": {},
       "removedWidgets": [],
       "type": "html"
      }
     },
     "output_type": "display_data"
    },
    {
     "data": {
      "text/html": [
       "<style scoped>\n",
       "  .table-result-container {\n",
       "    max-height: 300px;\n",
       "    overflow: auto;\n",
       "  }\n",
       "  table, th, td {\n",
       "    border: 1px solid black;\n",
       "    border-collapse: collapse;\n",
       "  }\n",
       "  th, td {\n",
       "    padding: 5px;\n",
       "  }\n",
       "  th {\n",
       "    text-align: left;\n",
       "  }\n",
       "</style><div class='table-result-container'><table class='table-result'><thead style='background-color: white'><tr></tr></thead><tbody></tbody></table></div>"
      ]
     },
     "metadata": {
      "application/vnd.databricks.v1+output": {
       "addedWidgets": {},
       "aggData": [],
       "aggError": "",
       "aggOverflow": false,
       "aggSchema": [],
       "aggSeriesLimitReached": false,
       "aggType": "",
       "arguments": {},
       "columnCustomDisplayInfos": {},
       "data": [],
       "datasetInfos": [],
       "dbfsResultPath": null,
       "isJsonSchema": true,
       "metadata": {},
       "overflow": false,
       "plotOptions": {
        "customPlotOptions": {},
        "displayType": "table",
        "pivotAggregation": null,
        "pivotColumns": [],
        "xColumns": [],
        "yColumns": []
       },
       "removedWidgets": [],
       "schema": [],
       "type": "table"
      }
     },
     "output_type": "display_data"
    }
   ],
   "source": [
    "%run \"../../Includes/Classroom-Setup\""
   ]
  },
  {
   "cell_type": "code",
   "execution_count": 0,
   "metadata": {
    "application/vnd.databricks.v1+cell": {
     "inputWidgets": {},
     "nuid": "59926637-865a-4563-ab99-7ab8f0108ed4",
     "showTitle": false,
     "title": ""
    }
   },
   "outputs": [
    {
     "data": {
      "text/html": [
       "<style scoped>\n",
       "  .ansiout {\n",
       "    display: block;\n",
       "    unicode-bidi: embed;\n",
       "    white-space: pre-wrap;\n",
       "    word-wrap: break-word;\n",
       "    word-break: break-all;\n",
       "    font-family: \"Source Code Pro\", \"Menlo\", monospace;;\n",
       "    font-size: 13px;\n",
       "    color: #555;\n",
       "    margin-left: 4px;\n",
       "    line-height: 19px;\n",
       "  }\n",
       "</style>\n",
       "<div class=\"ansiout\">Python interpreter will be restarted.\n",
       "Collecting imbalanced-learn\n",
       "  Using cached imbalanced_learn-0.9.0-py3-none-any.whl (199 kB)\n",
       "Requirement already satisfied: threadpoolctl&gt;=2.0.0 in /databricks/python3/lib/python3.8/site-packages (from imbalanced-learn) (2.1.0)\n",
       "Requirement already satisfied: numpy&gt;=1.14.6 in /databricks/python3/lib/python3.8/site-packages (from imbalanced-learn) (1.19.2)\n",
       "Requirement already satisfied: joblib&gt;=0.11 in /databricks/python3/lib/python3.8/site-packages (from imbalanced-learn) (1.0.1)\n",
       "Collecting scikit-learn&gt;=1.0.1\n",
       "  Using cached scikit_learn-1.0.2-cp38-cp38-manylinux_2_17_x86_64.manylinux2014_x86_64.whl (26.7 MB)\n",
       "Requirement already satisfied: scipy&gt;=1.1.0 in /databricks/python3/lib/python3.8/site-packages (from imbalanced-learn) (1.6.2)\n",
       "Installing collected packages: scikit-learn, imbalanced-learn\n",
       "  Attempting uninstall: scikit-learn\n",
       "    Found existing installation: scikit-learn 0.24.1\n",
       "    Not uninstalling scikit-learn at /databricks/python3/lib/python3.8/site-packages, outside environment /local_disk0/.ephemeral_nfs/envs/pythonEnv-1d35843b-1760-4636-a182-01fc9b25d67b\n",
       "    Can&#39;t uninstall &#39;scikit-learn&#39;. No files were found to uninstall.\n",
       "Successfully installed imbalanced-learn-0.9.0 scikit-learn-1.0.2\n",
       "WARNING: You are using pip version 21.0.1; however, version 21.3.1 is available.\n",
       "You should consider upgrading via the &#39;/local_disk0/.ephemeral_nfs/envs/pythonEnv-1d35843b-1760-4636-a182-01fc9b25d67b/bin/python -m pip install --upgrade pip&#39; command.\n",
       "Python interpreter will be restarted.\n",
       "</div>"
      ]
     },
     "metadata": {
      "application/vnd.databricks.v1+output": {
       "addedWidgets": {},
       "arguments": {},
       "data": "<div class=\"ansiout\">Python interpreter will be restarted.\nCollecting imbalanced-learn\n  Using cached imbalanced_learn-0.9.0-py3-none-any.whl (199 kB)\nRequirement already satisfied: threadpoolctl&gt;=2.0.0 in /databricks/python3/lib/python3.8/site-packages (from imbalanced-learn) (2.1.0)\nRequirement already satisfied: numpy&gt;=1.14.6 in /databricks/python3/lib/python3.8/site-packages (from imbalanced-learn) (1.19.2)\nRequirement already satisfied: joblib&gt;=0.11 in /databricks/python3/lib/python3.8/site-packages (from imbalanced-learn) (1.0.1)\nCollecting scikit-learn&gt;=1.0.1\n  Using cached scikit_learn-1.0.2-cp38-cp38-manylinux_2_17_x86_64.manylinux2014_x86_64.whl (26.7 MB)\nRequirement already satisfied: scipy&gt;=1.1.0 in /databricks/python3/lib/python3.8/site-packages (from imbalanced-learn) (1.6.2)\nInstalling collected packages: scikit-learn, imbalanced-learn\n  Attempting uninstall: scikit-learn\n    Found existing installation: scikit-learn 0.24.1\n    Not uninstalling scikit-learn at /databricks/python3/lib/python3.8/site-packages, outside environment /local_disk0/.ephemeral_nfs/envs/pythonEnv-1d35843b-1760-4636-a182-01fc9b25d67b\n    Can&#39;t uninstall &#39;scikit-learn&#39;. No files were found to uninstall.\nSuccessfully installed imbalanced-learn-0.9.0 scikit-learn-1.0.2\nWARNING: You are using pip version 21.0.1; however, version 21.3.1 is available.\nYou should consider upgrading via the &#39;/local_disk0/.ephemeral_nfs/envs/pythonEnv-1d35843b-1760-4636-a182-01fc9b25d67b/bin/python -m pip install --upgrade pip&#39; command.\nPython interpreter will be restarted.\n</div>",
       "datasetInfos": [],
       "metadata": {},
       "removedWidgets": [],
       "type": "html"
      }
     },
     "output_type": "display_data"
    }
   ],
   "source": [
    "%pip install imbalanced-learn"
   ]
  },
  {
   "cell_type": "code",
   "execution_count": 0,
   "metadata": {
    "application/vnd.databricks.v1+cell": {
     "inputWidgets": {},
     "nuid": "90995f2f-84d6-442b-8076-3ea759a902b7",
     "showTitle": false,
     "title": ""
    }
   },
   "outputs": [
    {
     "data": {
      "text/html": [
       "<style scoped>\n",
       "  .ansiout {\n",
       "    display: block;\n",
       "    unicode-bidi: embed;\n",
       "    white-space: pre-wrap;\n",
       "    word-wrap: break-word;\n",
       "    word-break: break-all;\n",
       "    font-family: \"Source Code Pro\", \"Menlo\", monospace;;\n",
       "    font-size: 13px;\n",
       "    color: #555;\n",
       "    margin-left: 4px;\n",
       "    line-height: 19px;\n",
       "  }\n",
       "</style>\n",
       "<div class=\"ansiout\"></div>"
      ]
     },
     "metadata": {
      "application/vnd.databricks.v1+output": {
       "addedWidgets": {},
       "arguments": {},
       "data": "<div class=\"ansiout\"></div>",
       "datasetInfos": [],
       "metadata": {},
       "removedWidgets": [],
       "type": "html"
      }
     },
     "output_type": "display_data"
    }
   ],
   "source": [
    "import pandas as pd\n",
    "import numpy as np\n",
    "from sklearn.preprocessing import OrdinalEncoder, OneHotEncoder, StandardScaler\n",
    "from sklearn.model_selection import train_test_split\n",
    "import seaborn as sns\n",
    "import matplotlib.pyplot as plt\n",
    "\n",
    "from sklearn.metrics import confusion_matrix\n",
    "from sklearn.model_selection import train_test_split\n",
    "from sklearn.tree import DecisionTreeClassifier\n",
    "from sklearn.ensemble import RandomForestClassifier, AdaBoostClassifier, GradientBoostingClassifier\n",
    "from sklearn.metrics import plot_confusion_matrix, classification_report\n",
    "from sklearn.model_selection import GridSearchCV\n",
    "from sklearn.feature_selection import SelectFromModel\n",
    "from sklearn.metrics import f1_score"
   ]
  },
  {
   "cell_type": "code",
   "execution_count": 0,
   "metadata": {
    "application/vnd.databricks.v1+cell": {
     "inputWidgets": {},
     "nuid": "0abf2356-9662-4b13-9f44-03d89b8dbe5b",
     "showTitle": false,
     "title": ""
    }
   },
   "outputs": [
    {
     "data": {
      "text/html": [
       "<style scoped>\n",
       "  .table-result-container {\n",
       "    max-height: 300px;\n",
       "    overflow: auto;\n",
       "  }\n",
       "  table, th, td {\n",
       "    border: 1px solid black;\n",
       "    border-collapse: collapse;\n",
       "  }\n",
       "  th, td {\n",
       "    padding: 5px;\n",
       "  }\n",
       "  th {\n",
       "    text-align: left;\n",
       "  }\n",
       "</style><div class='table-result-container'><table class='table-result'><thead style='background-color: white'><tr><th>department</th><th>promoted</th><th>review</th><th>projects</th><th>salary</th><th>tenure</th><th>satisfaction</th><th>bonus</th><th>avg_hrs_month</th><th>left</th></tr></thead><tbody><tr><td>operations</td><td>0</td><td>0.5775686596355698</td><td>3</td><td>low</td><td>5.0</td><td>0.6267589740293295</td><td>0</td><td>180.8660696668475</td><td>no</td></tr><tr><td>operations</td><td>0</td><td>0.7518996607137884</td><td>3</td><td>medium</td><td>6.0</td><td>0.4436789547574034</td><td>0</td><td>182.7081489616225</td><td>no</td></tr><tr><td>support</td><td>0</td><td>0.7225484486077993</td><td>3</td><td>medium</td><td>6.0</td><td>0.4468232240377964</td><td>0</td><td>184.4160840365652</td><td>no</td></tr><tr><td>logistics</td><td>0</td><td>0.6751583086657402</td><td>4</td><td>high</td><td>8.0</td><td>0.4401387461171622</td><td>0</td><td>188.7075447757313</td><td>no</td></tr><tr><td>sales</td><td>0</td><td>0.676203174778892</td><td>3</td><td>high</td><td>5.0</td><td>0.5776074456916579</td><td>1</td><td>179.82108327312108</td><td>no</td></tr><tr><td>IT</td><td>0</td><td>0.6832063469509659</td><td>2</td><td>medium</td><td>5.0</td><td>0.5652518631559001</td><td>1</td><td>178.8418791506508</td><td>no</td></tr><tr><td>admin</td><td>0</td><td>0.6201580151095236</td><td>4</td><td>high</td><td>5.0</td><td>0.6869511701465508</td><td>0</td><td>181.14295615536423</td><td>no</td></tr><tr><td>support</td><td>0</td><td>0.4995672619674808</td><td>4</td><td>medium</td><td>7.0</td><td>0.720451118181815</td><td>1</td><td>184.97753752486025</td><td>no</td></tr><tr><td>sales</td><td>0</td><td>0.652817953302604</td><td>4</td><td>low</td><td>6.0</td><td>0.6786959372102828</td><td>0</td><td>183.6557898051497</td><td>no</td></tr><tr><td>sales</td><td>0</td><td>0.642030504394421</td><td>3</td><td>medium</td><td>6.0</td><td>0.6233650093739659</td><td>0</td><td>181.8509998905145</td><td>no</td></tr></tbody></table></div>"
      ]
     },
     "metadata": {
      "application/vnd.databricks.v1+output": {
       "addedWidgets": {},
       "aggData": [],
       "aggError": "",
       "aggOverflow": false,
       "aggSchema": [],
       "aggSeriesLimitReached": false,
       "aggType": "",
       "arguments": {},
       "columnCustomDisplayInfos": {},
       "data": [
        [
         "operations",
         0,
         0.5775686596355698,
         3,
         "low",
         5,
         0.6267589740293295,
         0,
         180.8660696668475,
         "no"
        ],
        [
         "operations",
         0,
         0.7518996607137884,
         3,
         "medium",
         6,
         0.4436789547574034,
         0,
         182.7081489616225,
         "no"
        ],
        [
         "support",
         0,
         0.7225484486077993,
         3,
         "medium",
         6,
         0.4468232240377964,
         0,
         184.4160840365652,
         "no"
        ],
        [
         "logistics",
         0,
         0.6751583086657402,
         4,
         "high",
         8,
         0.4401387461171622,
         0,
         188.7075447757313,
         "no"
        ],
        [
         "sales",
         0,
         0.676203174778892,
         3,
         "high",
         5,
         0.5776074456916579,
         1,
         179.82108327312108,
         "no"
        ],
        [
         "IT",
         0,
         0.6832063469509659,
         2,
         "medium",
         5,
         0.5652518631559001,
         1,
         178.8418791506508,
         "no"
        ],
        [
         "admin",
         0,
         0.6201580151095236,
         4,
         "high",
         5,
         0.6869511701465508,
         0,
         181.14295615536423,
         "no"
        ],
        [
         "support",
         0,
         0.4995672619674808,
         4,
         "medium",
         7,
         0.720451118181815,
         1,
         184.97753752486025,
         "no"
        ],
        [
         "sales",
         0,
         0.652817953302604,
         4,
         "low",
         6,
         0.6786959372102828,
         0,
         183.6557898051497,
         "no"
        ],
        [
         "sales",
         0,
         0.642030504394421,
         3,
         "medium",
         6,
         0.6233650093739659,
         0,
         181.8509998905145,
         "no"
        ]
       ],
       "datasetInfos": [],
       "dbfsResultPath": null,
       "isJsonSchema": true,
       "metadata": {},
       "overflow": false,
       "plotOptions": {
        "customPlotOptions": {},
        "displayType": "table",
        "pivotAggregation": null,
        "pivotColumns": [],
        "xColumns": [],
        "yColumns": []
       },
       "removedWidgets": [],
       "schema": [
        {
         "metadata": "{}",
         "name": "department",
         "type": "\"string\""
        },
        {
         "metadata": "{}",
         "name": "promoted",
         "type": "\"integer\""
        },
        {
         "metadata": "{}",
         "name": "review",
         "type": "\"double\""
        },
        {
         "metadata": "{}",
         "name": "projects",
         "type": "\"integer\""
        },
        {
         "metadata": "{}",
         "name": "salary",
         "type": "\"string\""
        },
        {
         "metadata": "{}",
         "name": "tenure",
         "type": "\"double\""
        },
        {
         "metadata": "{}",
         "name": "satisfaction",
         "type": "\"double\""
        },
        {
         "metadata": "{}",
         "name": "bonus",
         "type": "\"integer\""
        },
        {
         "metadata": "{}",
         "name": "avg_hrs_month",
         "type": "\"double\""
        },
        {
         "metadata": "{}",
         "name": "left",
         "type": "\"string\""
        }
       ],
       "type": "table"
      }
     },
     "output_type": "display_data"
    }
   ],
   "source": [
    "%sql\n",
    "SELECT * FROM adsda.employee_churn_data LIMIT 10"
   ]
  },
  {
   "cell_type": "markdown",
   "metadata": {
    "application/vnd.databricks.v1+cell": {
     "inputWidgets": {},
     "nuid": "521732f2-2eda-45e8-9cbe-72972e33fc2a",
     "showTitle": false,
     "title": ""
    }
   },
   "source": [
    "### 1. Preliminary remarks and data exploration.\n",
    "\n",
    "Prior to technical analysis, tt is a good idea to gain the 'domain knowledge' e.g. by speaking the HR deparment about what they consider to be the main causes of employee departures. This could aid in selecting important  features."
   ]
  },
  {
   "cell_type": "code",
   "execution_count": 0,
   "metadata": {
    "application/vnd.databricks.v1+cell": {
     "inputWidgets": {},
     "nuid": "f227ece0-3b12-49b1-ad0f-4bcd587803c4",
     "showTitle": false,
     "title": ""
    }
   },
   "outputs": [
    {
     "data": {
      "text/html": [
       "<style scoped>\n",
       "  .ansiout {\n",
       "    display: block;\n",
       "    unicode-bidi: embed;\n",
       "    white-space: pre-wrap;\n",
       "    word-wrap: break-word;\n",
       "    word-break: break-all;\n",
       "    font-family: \"Source Code Pro\", \"Menlo\", monospace;;\n",
       "    font-size: 13px;\n",
       "    color: #555;\n",
       "    margin-left: 4px;\n",
       "    line-height: 19px;\n",
       "  }\n",
       "</style>\n",
       "<div class=\"ansiout\"></div>"
      ]
     },
     "metadata": {
      "application/vnd.databricks.v1+output": {
       "addedWidgets": {},
       "arguments": {},
       "data": "<div class=\"ansiout\"></div>",
       "datasetInfos": [],
       "metadata": {},
       "removedWidgets": [],
       "type": "html"
      }
     },
     "output_type": "display_data"
    }
   ],
   "source": [
    "# convert the table to a dataframe\n",
    "df = spark.table(\"adsda.employee_churn_data\").toPandas()"
   ]
  },
  {
   "cell_type": "code",
   "execution_count": 0,
   "metadata": {
    "application/vnd.databricks.v1+cell": {
     "inputWidgets": {},
     "nuid": "42abda8b-d7fa-4420-9443-85e9b669fdd7",
     "showTitle": false,
     "title": ""
    }
   },
   "outputs": [
    {
     "data": {
      "text/html": [
       "<style scoped>\n",
       "  .ansiout {\n",
       "    display: block;\n",
       "    unicode-bidi: embed;\n",
       "    white-space: pre-wrap;\n",
       "    word-wrap: break-word;\n",
       "    word-break: break-all;\n",
       "    font-family: \"Source Code Pro\", \"Menlo\", monospace;;\n",
       "    font-size: 13px;\n",
       "    color: #555;\n",
       "    margin-left: 4px;\n",
       "    line-height: 19px;\n",
       "  }\n",
       "</style>\n",
       "<div class=\"ansiout\">Out[3]: </div>"
      ]
     },
     "metadata": {
      "application/vnd.databricks.v1+output": {
       "addedWidgets": {},
       "arguments": {},
       "data": "<div class=\"ansiout\">Out[3]: </div>",
       "datasetInfos": [],
       "metadata": {},
       "removedWidgets": [],
       "type": "html"
      }
     },
     "output_type": "display_data"
    },
    {
     "data": {
      "text/html": [
       "<div>\n",
       "<style scoped>\n",
       "    .dataframe tbody tr th:only-of-type {\n",
       "        vertical-align: middle;\n",
       "    }\n",
       "\n",
       "    .dataframe tbody tr th {\n",
       "        vertical-align: top;\n",
       "    }\n",
       "\n",
       "    .dataframe thead th {\n",
       "        text-align: right;\n",
       "    }\n",
       "</style>\n",
       "<table border=\"1\" class=\"dataframe\">\n",
       "  <thead>\n",
       "    <tr style=\"text-align: right;\">\n",
       "      <th></th>\n",
       "      <th>Variable</th>\n",
       "      <th>Number of unique values</th>\n",
       "      <th>Number of nulls</th>\n",
       "      <th>Values</th>\n",
       "    </tr>\n",
       "  </thead>\n",
       "  <tbody>\n",
       "    <tr>\n",
       "      <th>0</th>\n",
       "      <td>department</td>\n",
       "      <td>10</td>\n",
       "      <td>0</td>\n",
       "      <td>[operations, support, logistics, sales, IT, ad...</td>\n",
       "    </tr>\n",
       "    <tr>\n",
       "      <th>1</th>\n",
       "      <td>promoted</td>\n",
       "      <td>2</td>\n",
       "      <td>0</td>\n",
       "      <td>[0, 1]</td>\n",
       "    </tr>\n",
       "    <tr>\n",
       "      <th>2</th>\n",
       "      <td>review</td>\n",
       "      <td>9540</td>\n",
       "      <td>0</td>\n",
       "      <td>[0.5775686596355698, 0.7518996607137884, 0.722...</td>\n",
       "    </tr>\n",
       "    <tr>\n",
       "      <th>3</th>\n",
       "      <td>projects</td>\n",
       "      <td>4</td>\n",
       "      <td>0</td>\n",
       "      <td>[3, 4, 2, 5]</td>\n",
       "    </tr>\n",
       "    <tr>\n",
       "      <th>4</th>\n",
       "      <td>salary</td>\n",
       "      <td>3</td>\n",
       "      <td>0</td>\n",
       "      <td>[low, medium, high]</td>\n",
       "    </tr>\n",
       "    <tr>\n",
       "      <th>5</th>\n",
       "      <td>tenure</td>\n",
       "      <td>11</td>\n",
       "      <td>0</td>\n",
       "      <td>[5.0, 6.0, 8.0, 7.0, 4.0, 3.0, 2.0, 9.0, 10.0,...</td>\n",
       "    </tr>\n",
       "    <tr>\n",
       "      <th>6</th>\n",
       "      <td>satisfaction</td>\n",
       "      <td>9540</td>\n",
       "      <td>0</td>\n",
       "      <td>[0.6267589740293295, 0.4436789547574034, 0.446...</td>\n",
       "    </tr>\n",
       "    <tr>\n",
       "      <th>7</th>\n",
       "      <td>bonus</td>\n",
       "      <td>2</td>\n",
       "      <td>0</td>\n",
       "      <td>[0, 1]</td>\n",
       "    </tr>\n",
       "    <tr>\n",
       "      <th>8</th>\n",
       "      <td>avg_hrs_month</td>\n",
       "      <td>9540</td>\n",
       "      <td>0</td>\n",
       "      <td>[180.8660696668475, 182.7081489616225, 184.416...</td>\n",
       "    </tr>\n",
       "    <tr>\n",
       "      <th>9</th>\n",
       "      <td>left</td>\n",
       "      <td>2</td>\n",
       "      <td>0</td>\n",
       "      <td>[no, yes]</td>\n",
       "    </tr>\n",
       "  </tbody>\n",
       "</table>\n",
       "</div>"
      ]
     },
     "metadata": {
      "application/vnd.databricks.v1+output": {
       "addedWidgets": {},
       "arguments": {},
       "data": "<div>\n<style scoped>\n    .dataframe tbody tr th:only-of-type {\n        vertical-align: middle;\n    }\n\n    .dataframe tbody tr th {\n        vertical-align: top;\n    }\n\n    .dataframe thead th {\n        text-align: right;\n    }\n</style>\n<table border=\"1\" class=\"dataframe\">\n  <thead>\n    <tr style=\"text-align: right;\">\n      <th></th>\n      <th>Variable</th>\n      <th>Number of unique values</th>\n      <th>Number of nulls</th>\n      <th>Values</th>\n    </tr>\n  </thead>\n  <tbody>\n    <tr>\n      <th>0</th>\n      <td>department</td>\n      <td>10</td>\n      <td>0</td>\n      <td>[operations, support, logistics, sales, IT, ad...</td>\n    </tr>\n    <tr>\n      <th>1</th>\n      <td>promoted</td>\n      <td>2</td>\n      <td>0</td>\n      <td>[0, 1]</td>\n    </tr>\n    <tr>\n      <th>2</th>\n      <td>review</td>\n      <td>9540</td>\n      <td>0</td>\n      <td>[0.5775686596355698, 0.7518996607137884, 0.722...</td>\n    </tr>\n    <tr>\n      <th>3</th>\n      <td>projects</td>\n      <td>4</td>\n      <td>0</td>\n      <td>[3, 4, 2, 5]</td>\n    </tr>\n    <tr>\n      <th>4</th>\n      <td>salary</td>\n      <td>3</td>\n      <td>0</td>\n      <td>[low, medium, high]</td>\n    </tr>\n    <tr>\n      <th>5</th>\n      <td>tenure</td>\n      <td>11</td>\n      <td>0</td>\n      <td>[5.0, 6.0, 8.0, 7.0, 4.0, 3.0, 2.0, 9.0, 10.0,...</td>\n    </tr>\n    <tr>\n      <th>6</th>\n      <td>satisfaction</td>\n      <td>9540</td>\n      <td>0</td>\n      <td>[0.6267589740293295, 0.4436789547574034, 0.446...</td>\n    </tr>\n    <tr>\n      <th>7</th>\n      <td>bonus</td>\n      <td>2</td>\n      <td>0</td>\n      <td>[0, 1]</td>\n    </tr>\n    <tr>\n      <th>8</th>\n      <td>avg_hrs_month</td>\n      <td>9540</td>\n      <td>0</td>\n      <td>[180.8660696668475, 182.7081489616225, 184.416...</td>\n    </tr>\n    <tr>\n      <th>9</th>\n      <td>left</td>\n      <td>2</td>\n      <td>0</td>\n      <td>[no, yes]</td>\n    </tr>\n  </tbody>\n</table>\n</div>",
       "datasetInfos": [],
       "metadata": {},
       "removedWidgets": [],
       "textData": null,
       "type": "htmlSandbox"
      }
     },
     "output_type": "display_data"
    }
   ],
   "source": [
    "# Understand your variables\n",
    "variables = pd.DataFrame(columns=['Variable','Number of unique values','Number of nulls','Values'])\n",
    "\n",
    "for i, var in enumerate(df.columns):\n",
    "    variables.loc[i] = [var, df[var].nunique(),df[var].isnull().sum(), df[var].unique().tolist()]\n",
    "variables"
   ]
  },
  {
   "cell_type": "code",
   "execution_count": 0,
   "metadata": {
    "application/vnd.databricks.v1+cell": {
     "inputWidgets": {},
     "nuid": "beedf2e5-9747-4b2f-a969-18ea676023e5",
     "showTitle": false,
     "title": ""
    }
   },
   "outputs": [
    {
     "data": {
      "text/html": [
       "<style scoped>\n",
       "  .ansiout {\n",
       "    display: block;\n",
       "    unicode-bidi: embed;\n",
       "    white-space: pre-wrap;\n",
       "    word-wrap: break-word;\n",
       "    word-break: break-all;\n",
       "    font-family: \"Source Code Pro\", \"Menlo\", monospace;;\n",
       "    font-size: 13px;\n",
       "    color: #555;\n",
       "    margin-left: 4px;\n",
       "    line-height: 19px;\n",
       "  }\n",
       "</style>\n",
       "<div class=\"ansiout\">Out[4]: </div>"
      ]
     },
     "metadata": {
      "application/vnd.databricks.v1+output": {
       "addedWidgets": {},
       "arguments": {},
       "data": "<div class=\"ansiout\">Out[4]: </div>",
       "datasetInfos": [],
       "metadata": {},
       "removedWidgets": [],
       "type": "html"
      }
     },
     "output_type": "display_data"
    },
    {
     "data": {
      "text/html": [
       "<div>\n",
       "<style scoped>\n",
       "    .dataframe tbody tr th:only-of-type {\n",
       "        vertical-align: middle;\n",
       "    }\n",
       "\n",
       "    .dataframe tbody tr th {\n",
       "        vertical-align: top;\n",
       "    }\n",
       "\n",
       "    .dataframe thead th {\n",
       "        text-align: right;\n",
       "    }\n",
       "</style>\n",
       "<table border=\"1\" class=\"dataframe\">\n",
       "  <thead>\n",
       "    <tr style=\"text-align: right;\">\n",
       "      <th></th>\n",
       "      <th>department</th>\n",
       "      <th>promoted</th>\n",
       "      <th>review</th>\n",
       "      <th>projects</th>\n",
       "      <th>salary</th>\n",
       "      <th>tenure</th>\n",
       "      <th>satisfaction</th>\n",
       "      <th>bonus</th>\n",
       "      <th>avg_hrs_month</th>\n",
       "      <th>left</th>\n",
       "    </tr>\n",
       "  </thead>\n",
       "  <tbody>\n",
       "    <tr>\n",
       "      <th>count</th>\n",
       "      <td>9540</td>\n",
       "      <td>9540.000000</td>\n",
       "      <td>9540.000000</td>\n",
       "      <td>9540.000000</td>\n",
       "      <td>9540</td>\n",
       "      <td>9540.000000</td>\n",
       "      <td>9540.000000</td>\n",
       "      <td>9540.000000</td>\n",
       "      <td>9540.000000</td>\n",
       "      <td>9540</td>\n",
       "    </tr>\n",
       "    <tr>\n",
       "      <th>unique</th>\n",
       "      <td>10</td>\n",
       "      <td>NaN</td>\n",
       "      <td>NaN</td>\n",
       "      <td>NaN</td>\n",
       "      <td>3</td>\n",
       "      <td>NaN</td>\n",
       "      <td>NaN</td>\n",
       "      <td>NaN</td>\n",
       "      <td>NaN</td>\n",
       "      <td>2</td>\n",
       "    </tr>\n",
       "    <tr>\n",
       "      <th>top</th>\n",
       "      <td>sales</td>\n",
       "      <td>NaN</td>\n",
       "      <td>NaN</td>\n",
       "      <td>NaN</td>\n",
       "      <td>medium</td>\n",
       "      <td>NaN</td>\n",
       "      <td>NaN</td>\n",
       "      <td>NaN</td>\n",
       "      <td>NaN</td>\n",
       "      <td>no</td>\n",
       "    </tr>\n",
       "    <tr>\n",
       "      <th>freq</th>\n",
       "      <td>1883</td>\n",
       "      <td>NaN</td>\n",
       "      <td>NaN</td>\n",
       "      <td>NaN</td>\n",
       "      <td>6611</td>\n",
       "      <td>NaN</td>\n",
       "      <td>NaN</td>\n",
       "      <td>NaN</td>\n",
       "      <td>NaN</td>\n",
       "      <td>6756</td>\n",
       "    </tr>\n",
       "    <tr>\n",
       "      <th>mean</th>\n",
       "      <td>NaN</td>\n",
       "      <td>0.030294</td>\n",
       "      <td>0.651826</td>\n",
       "      <td>3.274843</td>\n",
       "      <td>NaN</td>\n",
       "      <td>6.556184</td>\n",
       "      <td>0.504645</td>\n",
       "      <td>0.212055</td>\n",
       "      <td>184.661571</td>\n",
       "      <td>NaN</td>\n",
       "    </tr>\n",
       "    <tr>\n",
       "      <th>std</th>\n",
       "      <td>NaN</td>\n",
       "      <td>0.171403</td>\n",
       "      <td>0.085307</td>\n",
       "      <td>0.579136</td>\n",
       "      <td>NaN</td>\n",
       "      <td>1.415432</td>\n",
       "      <td>0.158555</td>\n",
       "      <td>0.408785</td>\n",
       "      <td>4.144831</td>\n",
       "      <td>NaN</td>\n",
       "    </tr>\n",
       "    <tr>\n",
       "      <th>min</th>\n",
       "      <td>NaN</td>\n",
       "      <td>0.000000</td>\n",
       "      <td>0.310000</td>\n",
       "      <td>2.000000</td>\n",
       "      <td>NaN</td>\n",
       "      <td>2.000000</td>\n",
       "      <td>0.000000</td>\n",
       "      <td>0.000000</td>\n",
       "      <td>171.374060</td>\n",
       "      <td>NaN</td>\n",
       "    </tr>\n",
       "    <tr>\n",
       "      <th>25%</th>\n",
       "      <td>NaN</td>\n",
       "      <td>0.000000</td>\n",
       "      <td>0.592884</td>\n",
       "      <td>3.000000</td>\n",
       "      <td>NaN</td>\n",
       "      <td>5.000000</td>\n",
       "      <td>0.386801</td>\n",
       "      <td>0.000000</td>\n",
       "      <td>181.472085</td>\n",
       "      <td>NaN</td>\n",
       "    </tr>\n",
       "    <tr>\n",
       "      <th>50%</th>\n",
       "      <td>NaN</td>\n",
       "      <td>0.000000</td>\n",
       "      <td>0.647456</td>\n",
       "      <td>3.000000</td>\n",
       "      <td>NaN</td>\n",
       "      <td>7.000000</td>\n",
       "      <td>0.500786</td>\n",
       "      <td>0.000000</td>\n",
       "      <td>184.628796</td>\n",
       "      <td>NaN</td>\n",
       "    </tr>\n",
       "    <tr>\n",
       "      <th>75%</th>\n",
       "      <td>NaN</td>\n",
       "      <td>0.000000</td>\n",
       "      <td>0.708379</td>\n",
       "      <td>4.000000</td>\n",
       "      <td>NaN</td>\n",
       "      <td>8.000000</td>\n",
       "      <td>0.622607</td>\n",
       "      <td>0.000000</td>\n",
       "      <td>187.728708</td>\n",
       "      <td>NaN</td>\n",
       "    </tr>\n",
       "    <tr>\n",
       "      <th>max</th>\n",
       "      <td>NaN</td>\n",
       "      <td>1.000000</td>\n",
       "      <td>1.000000</td>\n",
       "      <td>5.000000</td>\n",
       "      <td>NaN</td>\n",
       "      <td>12.000000</td>\n",
       "      <td>1.000000</td>\n",
       "      <td>1.000000</td>\n",
       "      <td>200.861656</td>\n",
       "      <td>NaN</td>\n",
       "    </tr>\n",
       "  </tbody>\n",
       "</table>\n",
       "</div>"
      ]
     },
     "metadata": {
      "application/vnd.databricks.v1+output": {
       "addedWidgets": {},
       "arguments": {},
       "data": "<div>\n<style scoped>\n    .dataframe tbody tr th:only-of-type {\n        vertical-align: middle;\n    }\n\n    .dataframe tbody tr th {\n        vertical-align: top;\n    }\n\n    .dataframe thead th {\n        text-align: right;\n    }\n</style>\n<table border=\"1\" class=\"dataframe\">\n  <thead>\n    <tr style=\"text-align: right;\">\n      <th></th>\n      <th>department</th>\n      <th>promoted</th>\n      <th>review</th>\n      <th>projects</th>\n      <th>salary</th>\n      <th>tenure</th>\n      <th>satisfaction</th>\n      <th>bonus</th>\n      <th>avg_hrs_month</th>\n      <th>left</th>\n    </tr>\n  </thead>\n  <tbody>\n    <tr>\n      <th>count</th>\n      <td>9540</td>\n      <td>9540.000000</td>\n      <td>9540.000000</td>\n      <td>9540.000000</td>\n      <td>9540</td>\n      <td>9540.000000</td>\n      <td>9540.000000</td>\n      <td>9540.000000</td>\n      <td>9540.000000</td>\n      <td>9540</td>\n    </tr>\n    <tr>\n      <th>unique</th>\n      <td>10</td>\n      <td>NaN</td>\n      <td>NaN</td>\n      <td>NaN</td>\n      <td>3</td>\n      <td>NaN</td>\n      <td>NaN</td>\n      <td>NaN</td>\n      <td>NaN</td>\n      <td>2</td>\n    </tr>\n    <tr>\n      <th>top</th>\n      <td>sales</td>\n      <td>NaN</td>\n      <td>NaN</td>\n      <td>NaN</td>\n      <td>medium</td>\n      <td>NaN</td>\n      <td>NaN</td>\n      <td>NaN</td>\n      <td>NaN</td>\n      <td>no</td>\n    </tr>\n    <tr>\n      <th>freq</th>\n      <td>1883</td>\n      <td>NaN</td>\n      <td>NaN</td>\n      <td>NaN</td>\n      <td>6611</td>\n      <td>NaN</td>\n      <td>NaN</td>\n      <td>NaN</td>\n      <td>NaN</td>\n      <td>6756</td>\n    </tr>\n    <tr>\n      <th>mean</th>\n      <td>NaN</td>\n      <td>0.030294</td>\n      <td>0.651826</td>\n      <td>3.274843</td>\n      <td>NaN</td>\n      <td>6.556184</td>\n      <td>0.504645</td>\n      <td>0.212055</td>\n      <td>184.661571</td>\n      <td>NaN</td>\n    </tr>\n    <tr>\n      <th>std</th>\n      <td>NaN</td>\n      <td>0.171403</td>\n      <td>0.085307</td>\n      <td>0.579136</td>\n      <td>NaN</td>\n      <td>1.415432</td>\n      <td>0.158555</td>\n      <td>0.408785</td>\n      <td>4.144831</td>\n      <td>NaN</td>\n    </tr>\n    <tr>\n      <th>min</th>\n      <td>NaN</td>\n      <td>0.000000</td>\n      <td>0.310000</td>\n      <td>2.000000</td>\n      <td>NaN</td>\n      <td>2.000000</td>\n      <td>0.000000</td>\n      <td>0.000000</td>\n      <td>171.374060</td>\n      <td>NaN</td>\n    </tr>\n    <tr>\n      <th>25%</th>\n      <td>NaN</td>\n      <td>0.000000</td>\n      <td>0.592884</td>\n      <td>3.000000</td>\n      <td>NaN</td>\n      <td>5.000000</td>\n      <td>0.386801</td>\n      <td>0.000000</td>\n      <td>181.472085</td>\n      <td>NaN</td>\n    </tr>\n    <tr>\n      <th>50%</th>\n      <td>NaN</td>\n      <td>0.000000</td>\n      <td>0.647456</td>\n      <td>3.000000</td>\n      <td>NaN</td>\n      <td>7.000000</td>\n      <td>0.500786</td>\n      <td>0.000000</td>\n      <td>184.628796</td>\n      <td>NaN</td>\n    </tr>\n    <tr>\n      <th>75%</th>\n      <td>NaN</td>\n      <td>0.000000</td>\n      <td>0.708379</td>\n      <td>4.000000</td>\n      <td>NaN</td>\n      <td>8.000000</td>\n      <td>0.622607</td>\n      <td>0.000000</td>\n      <td>187.728708</td>\n      <td>NaN</td>\n    </tr>\n    <tr>\n      <th>max</th>\n      <td>NaN</td>\n      <td>1.000000</td>\n      <td>1.000000</td>\n      <td>5.000000</td>\n      <td>NaN</td>\n      <td>12.000000</td>\n      <td>1.000000</td>\n      <td>1.000000</td>\n      <td>200.861656</td>\n      <td>NaN</td>\n    </tr>\n  </tbody>\n</table>\n</div>",
       "datasetInfos": [],
       "metadata": {},
       "removedWidgets": [],
       "textData": null,
       "type": "htmlSandbox"
      }
     },
     "output_type": "display_data"
    }
   ],
   "source": [
    "#display(spark.sql(\"SELECT * FROM adsda.employee_churn_data\").summary())\n",
    "df.describe(include='all')"
   ]
  },
  {
   "cell_type": "code",
   "execution_count": 0,
   "metadata": {
    "application/vnd.databricks.v1+cell": {
     "inputWidgets": {},
     "nuid": "263dc326-cfab-4fd9-8aeb-10a54576dcac",
     "showTitle": false,
     "title": ""
    }
   },
   "outputs": [
    {
     "data": {
      "text/html": [
       "<style scoped>\n",
       "  .ansiout {\n",
       "    display: block;\n",
       "    unicode-bidi: embed;\n",
       "    white-space: pre-wrap;\n",
       "    word-wrap: break-word;\n",
       "    word-break: break-all;\n",
       "    font-family: \"Source Code Pro\", \"Menlo\", monospace;;\n",
       "    font-size: 13px;\n",
       "    color: #555;\n",
       "    margin-left: 4px;\n",
       "    line-height: 19px;\n",
       "  }\n",
       "</style>\n",
       "<div class=\"ansiout\">Out[5]: no     6756\n",
       "yes    2784\n",
       "Name: left, dtype: int64</div>"
      ]
     },
     "metadata": {
      "application/vnd.databricks.v1+output": {
       "addedWidgets": {},
       "arguments": {},
       "data": "<div class=\"ansiout\">Out[5]: no     6756\nyes    2784\nName: left, dtype: int64</div>",
       "datasetInfos": [],
       "metadata": {},
       "removedWidgets": [],
       "type": "html"
      }
     },
     "output_type": "display_data"
    }
   ],
   "source": [
    "df['left'].value_counts()   # it is an inbalanced dataset with 30% of yes and 70% of no."
   ]
  },
  {
   "cell_type": "code",
   "execution_count": 0,
   "metadata": {
    "application/vnd.databricks.v1+cell": {
     "inputWidgets": {},
     "nuid": "1e048cb7-b65c-44be-9f6b-abf4c5445eae",
     "showTitle": false,
     "title": ""
    }
   },
   "outputs": [
    {
     "data": {
      "image/png": "[encoded data removed]"
     },
     "metadata": {
      "application/vnd.databricks.v1+output": {
       "addedWidgets": {},
       "arguments": {},
       "data": "data:image/png;base64,iVBORw0KGgoAAAANSUhEUgAAAWAAAAFkCAYAAAAe8OFaAAAAOXRFWHRTb2Z0d2FyZQBNYXRwbG90bGliIHZlcnNpb24zLjQuMiwgaHR0cHM6Ly9tYXRwbG90bGliLm9yZy8rg+JYAAAACXBIWXMAAAsTAAALEwEAmpwYAABJwklEQVR4nO3deVyU5f7/8dcAooAYooIaVi6IuaAggpYrCq5ILKXlATWX4y4lGmUuxz0rNUwxT+a+YIqA4pZZ6SklUTwuaS6pCCoeBQ9rwzBz//7w13yd44blcCN8no+Hjwdzb/O5hvHNNfd9zXVrFEVREEIIUeos1C5ACCEqKglgIYRQiQSwEEKoRAJYCCFUIgEshBAqkQAWQgiVSACrwM3NjStXrqhdxkPFxcXx5ptvql2G6sLCwvj666/NcmxfX19++uknsxxbPDskgP8/X19f3N3d8fDwMP6bMWOG2mVVOIsXLyYyMlLtMso1NTsA8vs1ZaV2AWXJsmXLeOWVV9Quo8IqLi5+KsewspK39YPIa1P2SA+4BOLi4ujfvz9z5szBy8uLrl27cuzYMeLi4ujUqRPt2rVj27Ztxu2joqKYOnUqgwcPxsPDg7/97W9kZGQ88Ni5ublMmjSJtm3b0qVLF5YuXYrBYKCoqAhvb29+/fVX47a3b9+mZcuWZGVlAfDdd98RGBiIl5cX/fv35+zZs8ZtMzMzGTt2LG3btsXX15c1a9Y8tH3Z2dmMGDECT09PQkNDSUtLM1l/8eJFBg8ejLe3N927d2fnzp0lbuusWbPo1KkTnp6eBAcHk5KSYly3ePFixo0bR2RkJJ6enmzatIkvvviCXbt24eHhQd++fYH7P67f24tKT0/Hzc2Nr7/+ms6dOzNw4EAAtmzZQs+ePWnTpg1Dhgwx1qQoCnPmzKFdu3Z4enoSEBDAuXPnHvrapKWlERoaiqenJyNHjuTOnTsADB8+nLVr15psGxAQwDfffPPA48THx9OlSxd8fHyIiYkxWWcwGFi+fDndunXDx8eH8ePHG5/nj/bFxsbSvn172rdvz4oVK4z7njhxgn79+uHl5UX79u2ZMWMGRUVFxvVubm6sX78ef39//P39GTBgAACBgYF4eHiwc+dOkpOT6dixI//85z9p164d7du3Z9++ffzwww90794db29vli1b9kT1btu2jc6dO5u098CBAw/8/VZoilAURVG6dOmi/Pjjjw9ct3XrVuXll19WtmzZohQXFysLFixQOnXqpEyfPl3RarXKwYMHlVatWil5eXmKoijKe++9p7Rq1Ur5+eefFa1Wq8ycOVPp37+/8XiNGzdWLl++rCiKokycOFEZMWKEkpubq1y9elXx9/dXNm/erCiKokybNk2ZP3++cb9Vq1Ypf//73xVFUZTTp08rbdu2VY4fP64UFxcrcXFxSpcuXRStVqvo9XolKChIWbx4saLVapW0tDTF19dXOXDgwAPbFxERoYwbN07Jz89Xfv31V6V9+/bGevPz85WOHTsqW7ZsUXQ6nXL69GnF29tbOX/+fInaGh8fr2RlZSk6nU5ZsWKF8sorryi///67oiiKEh0drTRt2lT55ptvFL1erxQWFirR0dHKhAkTHvm7uXebq1evKo0bN1YmTpyo5OfnK4WFhco333yjdOvWTblw4YKi0+mUJUuWKP369VMURVEOHDigBAUFKf/9738Vg8GgXLhwQcnMzHzg6/K3v/1Nad++vfLrr78q+fn5ypgxY4zPm5SUpISGhhq3PXPmjOLt7a1otdr7jnP+/HmT12jOnDnKyy+/bGzTqlWrlNdff125fv26otVqlSlTpijvvPOOSfveeecdJT8/Xzl79qzi4+Nj3PfkyZNKamqqotPplKtXryo9evRQVq5caXzuxo0bK4MGDVKys7OVwsJC47I/3n+KoiiHDx9WXn75ZWXx4sVKUVGREhsbq/j4+Cjvvvuukpubq5w7d05p0aKFkpaWVuJ6J0+erBQWFipnzpxRmjVrply4cOG+351QFOkB32P06NF4eXkZ/23evNm4zsXFhZCQECwtLenVqxfXr19n9OjRWFtb0759e6ytrU16jp07d6ZNmzZYW1vzzjvvcPz4ca5fv27yfHq9np07dzJhwgSqVq2Ki4sLgwcPJjExEYCgoCCSkpJQ/v90HQkJCcZeQ2xsLP369aNly5ZYWloSFBREpUqVOH78OCdPniQrK4sxY8ZgbW1NvXr1eOONN0x6rvfWsHfvXsaNG4etrS2NGzcmKCjIuP7777/n+eefJyQkBCsrK5o2bUr37t3ZvXt3idoaGBhI9erVsbKy4u2336aoqIhLly4Z923VqhXdunXDwsKCKlWq/Onf3dixY7G1taVKlSps2rSJ4cOH07BhQ6ysrBgxYgRnzpwhIyMDKysr8vPz+e2331AUhYYNG+Lk5PTQ4wYGBtK4cWNsbW0ZP348u3fvRq/X07VrVy5fvszly5eNv5uePXtibW193zF2795t8hqNHz8eC4v/+6+3adMm3nnnHWrXro21tTVjxoxhz549JqdkRo8eja2tLW5ubgQHB7Njxw4AmjdvTqtWrbCyssLFxYV+/fpx5MgRk+cfPnw4Dg4Oj3x9raysGDlyJJUqVaJXr15kZ2cTHh5O1apVcXV1pVGjRsZPYyWpd8yYMVSpUoUmTZrQpEkTk09n4v/ICaF7LFmy5KHngGvUqGH8+Y83cs2aNY3LKleuTH5+vvFx7dq1jT/b2dnx3HPPcfPmTerUqWNcnp2djU6no27dusZldevWJTMzE4CWLVtSpUoVkpOTqVWrFmlpaXTt2hWAa9euER8fz7p164z76nQ6bt68iYWFBTdv3sTLy8u4Tq/Xmzz+Q1ZWFsXFxSZ13VtPRkYGJ06cuO9Y9358fFRbV6xYwZYtW7h58yYajYa8vDyys7MfuO9fce9xrl27xpw5c/joo4+MyxRFITMzk3bt2jFgwABmzJhBRkYG/v7+vPfee1StWvWBx/3f10Wn05GdnU3NmjXp2bMniYmJjBkzhh07dhAdHf3AY9y8edOkPltbWxwcHEzqHT16tEkoW1hYcPv27QfW8fzzzxtPm1y6dIl58+Zx6tQpCgsL0ev1NGvW7KFteBgHBwcsLS2B/3t/3/uev/f9XZJ67/2/YWNjQ0FBwWNrqIgkgM3kxo0bxp/z8/P573//e19Pq3r16lSqVIlr167RqFEjAK5fv46zs7Nxm6CgIBITE6lVqxbdu3encuXKwN3/VCNGjGDkyJH3PXdqaiouLi7s3bv3sXU6OjpiZWXF9evXadiwobGGP9SpU4c2bdqwcuXKJ25rSkoKX375JatWrcLV1RULCwvatGlj7NEDaDQak2P972O4+x+4sLDQ+Pg///nPfdvcu98fr83DzjGGh4cTHh7O7du3iYiI4MsvvyQiIuKB2977Wly/fp1KlSpRvXp14O7vZtKkSbRu3RobGxs8PDweeAwnJycuXrxofFxYWGg8Zwp3/3jMmTOH1q1b37dvenq68bn/+P1cu3bN+F6aPn06TZs25dNPP6Vq1aqsWrWKPXv2PPS1eRpKUu/DPO1annVyCsJMfvjhB1JSUigqKuKzzz6jZcuW9/VELC0t6dGjBwsXLiQvL4+MjAxWrlxpEhx9+/Zl3759JCYm8tprrxmXv/7662zatIl///vfKIpCQUEB33//PXl5ebi7u2NnZ8fy5cv5/fff0ev1nDt3jhMnTtxXp6WlJX5+fnz++ecUFhZy4cIFkwuKnTt35vLly8THx6PT6dDpdJw4ccIkUB7W1vz8fCwtLXF0dKS4uJjPP/+cvLy8R75uNWrUICMjA4PBYFzWpEkTdu7ciU6n4+TJk/cFzP/q378/y5cv5/z588DdC527du0C7l60+ve//41Op8PGxgZra2uTntz/SkxM5MKFCxQWFvLZZ5/RvXt3Y0/Rw8MDCwsL5s2b98gLSt27d+f77783vkbR0dEm7XvzzTdZtGiR8UJhVlYW+/btMznG0qVLKSws5Pz588TFxdGrVy/g7h88Ozs77OzsuHjxIhs3bnzkawN3e6dXr1597HYPU5J6H+ZBv9+KTAL4HiNGjDAZBzx69Og/faw+ffqwZMkSfHx8OH36NB9//PEDt5syZQo2NjZ069aNt956iz59+hASEmJcX6dOHZo2bYpGozE5DdCiRQtmzpzJjBkzaNOmDf7+/sTFxQF3Q3XZsmWcPXuWrl270rZtWz788MOHht/UqVMpKCjg1VdfJSoqiuDgYOO6qlWrsmLFCnbu3EmHDh1o3749n3zyicmV9oe1tX379nTo0IHu3bvj6+tL5cqVH/txuEePHgD4+PgYz0VHRESQlpaGt7c3ixcvJiAg4JHH8PPzY+jQobz77rt4enrSp08fDhw4ANwNrA8//BBvb2+6dOmCg4MDQ4YMeeixAgMDiYqK4tVXX6WoqIjJkyfft/7cuXMEBgY+9Biurq5MnTqVyMhIOnToQLVq1UxOSYSHh+Pr68vbb7+Nh4cHb7zxxn1/LL29vfHz82PQoEG8/fbbtG/fHoD33nuPHTt24OnpyZQpU4zB/ChjxowhKioKLy+vB14XeJyS1PswD/r9VmQaRZEJ2Z+2qKgonJ2deeedd57K8d5//32cnJye2vGepqfd1mdNfHw8sbGxJep5/hnp6el07dqV06dPyxjeckh6wGVceno633zzDaGhoWqXIv5HYWEhGzZsoF+/fmqXIp5REsBl2KJFiwgICGDIkCHUq1dP7XLEPQ4ePEi7du2oUaMGffr0Ubsc8YySUxBCCKES6QELIYRKJICFEEIlEsBCCKESCWAhhFCJBLAQQqhEAlgIIVQiASyEECqRABZCCJVIAAshhEokgIUQQiUSwEIIoRIJYCGEUIkEsBBCqEQC2MwedbcFIUTFJgFsZvfeAVgIIe4lASyEECqRABYPpRj0apcgRLkmd/krBTkn1qpdwp9SzT1M7RKEKNekByyEECqRABZCCJVIAAshhEokgIUQQiUSwOKx1q1bR3BwMM2bNycqKspk3aFDh+jRowctW7YkLCyMjIwM47o7d+4QERGBj48PPj4+TJgwgby8vNIuX4gySwJYPJaTkxOjRo0iJCTEZHlWVhZjxoxh/Pjx/PzzzzRv3px33nnHuH7RokXk5OTw7bffsm/fPm7fvs3ixYtLu3whyqxnNoDXrFlDz549adOmDcuXL1e7nHLN39+fbt264eDgYLL8m2++wdXVlZ49e1K5cmXGjh3L2bNnuXjxIgDp6el07dqVqlWrYm9vj5+fHxcuXFChBUKUTc/sOOANGzawatUqateurXYpFdb58+dxc3MzPra1teWFF17gwoULNGzYkAEDBrBhwwb69OkDwJ49e/D19VWrXCHKnGcygKdOnUp6ejrDhg0jJCSEtLQ0pk6dSlRUFFWrVuXUqVP85z//YeLEifTo0YP8/HxGjRpFTk4OxcXFjB8/nm7duhmP0bp1a1JTU3F2dmbp0qVUqVKFK1euMG3aNLKysrC0tOSzzz7jhRde4Msvv2TXrl0UFRXh5+fHuHHj1H45VFNQUICjo6PJsqpVq5Kfnw9A06ZN0el0+Pj4ANCuXTveeuutUq9TiLLqmTwFMWPGDJycnFi9ejXVqlUzWXfz5k02bNjAF198waeffgpA5cqVWbJkCdu2bWP16tV89NFHKIoCwJUrVxgwYABJSUnY29uzZ88eACIjIxkwYACJiYls2rSJWrVq8a9//YsrV66wZcsWEhISOH36NEeOHCndxpchtra2911Uy8/Px87ODoCIiAheeukljh07xtGjR6lXrx4TJ05Uo1QhyqRnsgf8KN26dcPCwoJGjRpx69YtABRFYcGCBRw5cgQLCwsyMzON61xcXHj55ZcBaNasGRkZGeTl5ZGZmYmfnx9wN8ABfvzxR3788Udee+014G4P8PLly7Rp06aUW1k2uLq6sm3bNuPjgoIC0tLSaNSoEQBnz55l2rRp2NraAvDmm29KD1iIe5S7ALa2tr5v2fbt28nKyiIuLo5KlSrh6+uLVqu9b3tLS0vj8gdRFIXhw4fTv3//p194GVZcXIxer8dgMKDX69FqtVhaWuLn58f8+fPZs2cPnTt3ZsmSJbi5udGwYUMAmjdvztdff23s9cbGxpqcMxaionsmT0E8qdzcXGrUqEGlSpU4fPiwyVjVB6latSq1a9dm3759ABQVFVFYWEj79u3ZunWr8RxnZmYmt2/fNnv9aouJicHd3Z3ly5eTmJiIu7s7MTExODo6snjxYhYuXEibNm04ceIECxYsMO43Z84cMjIy6NSpEx07duTq1avMmzdPxZYIUbaUux7wgwQEBDBy5EgCAgJo3rw5DRo0eOw+8+fPZ+rUqXz22WdUqlSJzz77jPbt23Px4kVjD9jW1paPP/6YGjVqmLsJqho7dixjx4594LpXXnmF3bt3P3BdvXr1WLZsmTlLE+KZplH+uBolzCI4OJhV04PULuNPkekohTCvCnEKQgghyiIJYCGEUIkEsBBCqEQCWAghVCIBLIQQKpEAFkIIlVSIccBqe1aHcykGPRoLS7XLEKLckh6weCgJXyHMSwJYCCFUIgEshBAqkQAWQgiVSACLR1L0xWqXIES5JaMgSkFW3Gy1S/jTHIMnq12CEOWW9ICFEEIlEsBCCKESCWAhhFCJBLAQQqhEAlgIIVQiASxKZN26dQQHB9O8eXOioqKMy4uKihg3bhy+vr64ubmRnJxssp+iKHz88cf4+Pjg4+PDxx9/jNwFS4i7ZBhaCXh4eLBp0yYmTZoEwPXr16latSr29vZUr16dVatWqVtgKXBycmLUqFEcPHgQrVZrss7T05Pw8HAiIiLu2y82NpZ9+/aRkJCARqNh8ODBuLi48Oabb5ZS5UKUXRLAJeTm5kZCQgIAUVFRdO7cmR49eqhcVenx9/cH4OTJk2RmZhqXW1tbM2jQIAAsLO7/QBUfH8/bb79N7dq1ARg8eDBff/21BLAQyCkIYWbnz5+nSZMmxsdNmjTh/PnzKlYkRNkhASzMqqCggKpVqxof29vbU1BQIOeBhUACWJiZra0t+fn5xsd5eXnY2tqi0WhUrEqIskECWJiVq6srZ8+eNT4+e/Ysrq6uKlYkRNkhASxKpLi4GK1Wi8FgQK/Xo9VqKS6+O1NaUVGRcWSETqdDq9UaTzEEBgaycuVKMjMzyczMZOXKlQQFBanWDiHKEhkFIUokJiaGzz//3Pg4MTGRMWPGMHbsWHr06EFGRgYAQ4YMAeDbb7/FxcWF/v37c/XqVQICAgAIDQ2lf//+pd8AIcogjSJXQ8wqODiYL//WWu0y/jSZjlII85FTEEIIoRIJYCGEUIkEsBBCqEQCWAghVCIBLIQQKpEAFkIIlcg44FLwLA/lUvTFaCzlbSKEOUgPWDyShK8Q5iMBLIQQKpEAFkIIlUgACyGESiSAhRBCJRLAZvfsz3WkFOvULkGIckkucZudhuvz31W7iL+kzqQFapcgRLkkPWAhhFCJBLAQQqhEAlgIIVQiASyEECqRABYlsm7dOoKDg2nevDlRUVHG5UVFRYwbNw5fX1/c3NxITk422e/w4cOEhYXRunVrfH19S7tsIcq0ZyKAPTw8/vS+kydP5sKFCw9dHxcXR2ZmZom3r6icnJwYNWoUISEh963z9PRk/vz51KpV6751tra2hISEMGnSpNIoU4hnSrkfhjZ79uxHrt+2bRuurq44OzuXaPuKyt/fH4CTJ0+a/MGytrZm0KBBAFhY3P/33N3dHXd3d3766adSqVOIZ8kzFcCKojB//nwOHjyIRqNh5MiR9OrVC4PBwIwZMzh8+DB16tTBysqKkJAQevToQVhYGJMmTaJp06ZMnjyZU6dOodFoCAkJoXbt2pw6dYrIyEiqVKlCbGwsw4YNY9KkSbRo0YIDBw6wcOFC9Ho91atXZ/Xq1fz888/GkNZoNKxbt46qVauq/MoIIZ5Fz1QA7927l7Nnz5KQkEB2djahoaF4eXlx7NgxMjIy2LlzJ7dv36ZXr173fVQ+c+YMmZmZ7NixA4CcnByqVavG+vXrjYF7r6ysLKZMmcK6deuoV68ed+7cAeCrr75i6tSptG7dmvz8fCpXrlwqbRdClD/PxDngPxw9epTevXtjaWlJzZo1adOmDSdPnuTo0aP06NEDCwsLatWqhY+Pz3371qtXj6tXrzJz5kwOHDjw2F7r8ePH8fLyol69egA4ODgAd893zps3jzVr1pCbm4uV1TP1N0wIUYY8UwH8Vzz33HMkJCTg7e3Npk2bmDz5z92lYvjw4cyaNYvff/+dN998k4sXLz7lSoUQFcUzFcBeXl7s2rULvV5PVlYWKSkpuLu74+npyd69ezEYDNy6dYuff/75vn2zsrJQFIXu3bsTERHBL7/8AoCdnR35+fn3bd+qVStSUlK4evUqgPEURFpaGm5ubgwfPpwWLVpw6dIl8zW4DCkuLkar1WIwGNDr9Wi1WoqLi4G7Q9G0Wi0AOp0OrVaLotydhMhgMKDVatHpdCiKglarpaioSLV2CFGWPFOfn/38/EhNTSUwMBCNRsPEiROpVasW3bt359ChQ/Tq1Ys6derQtGlT7O3tTfa9efMm77//PgaDAYB33707QU5QUBDTpk0zXoT7g6OjIzNmzGDs2LEYDAZq1KjBypUrWb16NcnJyWg0GlxdXenYsWPpvQAqiomJ4fPPPzc+TkxMZMyYMYwdO5YePXqQkZEBwJAhQwD49ttvcXFx4ciRI4SHhxv3c3d3x9vbm7Vr15ZuA4QogzTKH12VZ1x+fj52dnZkZ2fz+uuvs3HjxgeOSy1twcHBLGn7ktpl/CUyG5oQ5vFM9YAfZcSIEeTk5KDT6Rg1alSZCF8hhHiUchPA8pFWCPGseaYuwgkhRHkiASyEECqRABZCCJVIAAshhErKzUW4skt55odxKcU6NFaV1C5DiHJHesBmp1G7gL9MwlcI85AAFkIIlUgACyGESiSAhRBCJRLAQgihEglgcysfcx0ZGXQ6tUsQotyQYWjmptFwZsS7alfx1Ly87NkeUidEWSI9YCGEUIkEsBBCqEQCWAghVCIBLIQQKpEAFk9s3bp1BAcH07x5c6KioozLi4qKGDduHL6+vri5uZGcnGyyX05ODu+99x7t2rWjXbt2LF68uLRLF6JMkQAWT8zJyYlRo0YREhJy3zpPT0/mz5//wFtCzZ07l8LCQvbv38/XX39NQkICW7duLY2ShSiTKlwAx8XFMWPGjCfaZ9iwYeTk5JipomePv78/3bp1w8HBwWS5tbU1gwYNwsvLCwuL+99a+/fvZ+jQodjY2ODi4kJoaKgEsKjQZBxwCfzzn/9Uu4RySVEUzp8/r3YZQqim3AXwqFGjuHHjBlqtlvDwcPr168fWrVtZvnw59vb2NGnSBGtrawCioqKoXLkyZ86c4fbt28yZM4f4+HiOHz9Oy5YtmTdvHgC+vr5s2bKFgoIChg0bRuvWrUlNTcXZ2ZmlS5dSpUoVNZv8zOjQoQPLly9n3rx53L59m61bt1JYWKh2WUKoptydgpgzZw5xcXFs3bqVtWvXkpmZyeLFi9m4cSMbNmzgwoULJtvn5OQQGxvL+++/z8iRIxk0aBBJSUmcO3eOM2fO3Hf8K1euMGDAAJKSkrC3t2fPnj2l1bRn3ocffkjlypXp3r07o0aNonfv3tSuXVvtsoRQTbnrAa9du5ZvvvkGgOvXr5OQkIC3tzeOjo4A9OrVi8uXLxu379KlCxqNBjc3N2rWrImbmxsAjRo1IiMjg5dfftnk+C4uLsZlzZo1IyMjoxRaVT44ODjw6aefGh8vWLAAd3d3FSsSQl3lqgecnJzMTz/9RGxsLImJiTRt2pQGDRo8cp8/TkdoNBrjzwAWFhYUFxc/dHsAS0tL9Hr9U6r+2VFcXIxWq8VgMKDX69FqtcbXqqioCK1WC4BOp0Or1aL8/wmJ0tLSyM7ORq/X88MPPxAbG8vIkSNVa4cQaitXAZybm8tzzz2HjY0NFy9e5Pjx4/z+++8cOXKE7OxsdDodu3fvVrvMZ15MTAzu7u4sX76cxMRE3N3diYmJAaBHjx64u7uTmZnJkCFDcHd3N35KOHXqFAEBAXh6erJgwQI++eQTXF1d1WyKEKoqV6cgOnbsyKZNm+jZsyf169enVatW1KpVizFjxtC/f3/s7e3vO6UgntzYsWMZO3bsA9ft37//ofv16tWLXr16massIZ45GkUpZxPWljHBwcHMdnpJ7TKeGpmOUoinp1ydghBCiGeJBLAQQqhEAlgIIVQiASyEECqRABZCCJVIAAshhErK1TjgMklRytXQLYNOh0WlSmqXIUS5ID1gc9No1K7gqZLwFeLpkQAWQgiVSAALIYRKShTAH3/8cYmWCSGEKLkSBfBPP/1037IDBw489WLKJZlqo9Tpi3RqlyBEiTxyFMSGDRvYuHEjV69eJSAgwLg8Pz8fT09PsxdXLmg07H4t6vHbiaemR/w8tUsQokQeGcABAQF07NiRBQsWMGHCBONyOzu7++6IK4QQ4sk8MoDt7e2xt7dnwYIF6PV6bt26hV6vp6CggIKCAurWrVtadQohRLlToi9irFu3jsWLF1OzZk0sLP7vtPH27dvNVpgQQpR3JQrg1atXs3v3bqpXr27ueoQQosIo0SiI2rVrY29vb+5ahBCiQilRD7hevXqEhYXRuXNnk7sCDx482GyFCfFXFBUVMX36dA4dOsSdO3d44YUXePfdd+nUqRNFRUVERkZy6tQpMjIyWLNmDT4+PsZ9v/zyS+Lj48nIyKB69eq89dZbDB06VMXWiPKqRD3gunXr8uqrr6LT6cjPzzf+q8hWrVpFYWGh2mWIhyguLqZOnTqsXbuWo0ePEhERQUREBOnp6QB4enoyf/58atWqdd++iqLw0UcfceTIEb788kvWr19PUlJSaTdBVAAl6gGPGTMGgMLCQmxsbMxa0LNAr9ezZs0a+vbtK69HGWVra2ty5+YuXbrg4uLC6dOncXFxYdCgQQAmF5X/MGzYMOPPDRo0oGvXrhw7dozevXubvW5RsZSoB5yamkqvXr3o2bMnAGfPnmX69OnmrOuhCgoKGD58OH379qVPnz7s3LkTX19fsrKyADh58iRhYWEALF68mIkTJ9KvXz/8/f3ZvHkzAMnJyQwYMIDhw4fTvXt3pk6disFgAGDHjh0EBATQp08fk69be3h4MG/ePPr27UtMTAw3b95k4MCBxucSZdutW7e4fPkyjRo1eqL9FEUhJSXlifcToiRK1AOeM2cOK1asYOTIkQA0adKElJQUsxb2MAcPHsTJyYnly5cDkJubyyeffPLQ7X/99Vc2b95MQUEBQUFBdOrUCYATJ06wc+dO6taty9ChQ9m7dy8eHh588sknxMXFUa1aNd5++2327dtHt27dKCgowN3dnaiou99qi4uLY/Xq1Tg6Opq/0eIv0el0REZGEhQURMOGDZ9o38WLF2MwGAgJCTFTdaIiK/FsaHXq1DHd8QEf3UpD48aN+emnn/j4449JSUl57OiMrl27UqVKFRwdHfHx8eHkyZMAuLu7U69ePSwtLenduzdHjx7l5MmTeHt74+joiJWVFQEBARw5cgQAS0tLunfvbvb2iafLYDAwadIkKlWqxJQpU55o33Xr1hEfH8/y5ctNLj4L8bSUqAdcp04djh07hkajQafTsWbNmifuSTwt9evXJy4ujh9++IFFixbRtm1bLC0tUf7/pDdardZke81DJkT/3+UP2+4PlStXxtLS8i9ULkqboihMnjyZW7du8c9//pNKTzCZ/JYtW1i+fDnr16+ndu3aZqxSVGQl6sZOnz6d9evXk5mZSceOHTlz5gxTp041d20PlJmZiY2NDYGBgQwZMoRffvmF559/nlOnTgGwd+9ek+2//fZbtFot2dnZ/Pzzz7Ro0QK4ewri6tWrGAwGdu3aRevWrXF3d+fIkSNkZWWh1+tJSkqiTZs2D6zDzs6uwo8EKeumTZvGxYsXWbZsGVWqVDFZV1RUZPxjrdPp0Gq1xj/iiYmJLFy4kJUrV1KvXr1Sr1tUHCXqATs6OvLpp5+au5YSOXfuHPPnz8fCwgIrKyumT5+OVqtl8uTJfPbZZybjOQHc3NwIDw8nOzubUaNG4ezszOXLl2nRogUzZ87kypUr+Pj44Ofnh4WFBRMmTGDgwIEoikKnTp3o1q3bA+t44403GDp0KE5OTqxdu7Y0mi6eQEZGBrGxsVhbW9O+fXvj8n/84x/07duXHj16kJGRAcCQIUOAu3+sXVxcWLRoEXfu3CE0NNS4X0BAADNmzCjdRohyT6Moj5+w9urVq6xbt46MjAyKi4uNy5ctW2bW4v6qxYsXY2tra/wP9ofk5GS++uorvvjiC7PXEBwczHBDY7M/j/g/Mh2leFaUqAc8evRoQkND6dKli2oX34QQorwpUQBXrlyZ8PBwc9fy1N07EP9ePj4+952qEEKI0laiAA4PD+fzzz/n1VdfNRmO06xZM7MVJoQQ5V2JAvjcuXMkJCRw+PBh43AtjUbDmjVrzFqcEEKUZyUK4N27d7Nv3z4ZjC6EEE9Ria6oubq6kpuba+5ahBCiQilRDzg3N5eePXvSokULk28TlfVhaGWCosiwqFKmL9JhaV3yb70JoZYSBfDDRhOIEnjMV5zF0yfhK54VJToF8cMPP+Dt7W3y74cffjB3bUIIUa6VKIB/+umn+5YdOHDgqRcjhBAVySNPQWzYsIGNGzeSlpZGQECAcXl+fj6enp5mL04IIcqzRwZwQEAAHTt2ZMGCBUyYMMG43M7ODgcHB3PXJoQQ5dojA9je3h5bW1vjlI/iT3j8XEeiDCjW6rCqLBfvROl67CgIS0tL6tevz7Vr16hbt25p1FS+aDQs7fyB2lWIxxj1/Ry1SxAVUImGoeXk5NC7d2/c3d1N7gIs44CFEOLPK1EAjx8/3tx1CCFEhVOiAPb29jZ3HUIIUeGUKICPHz/OzJkz+e2339DpdOj1emxsbDh27Ji56xNCiHKrRF/EmDFjBgsWLODFF1/k3//+N7NmzWLAgAHmrk2IUlVUVMQHH3xAly5d8PDwIDAw8IHf+Pz8889xc3Mz+YLS/Pnz6dSpE56ennTp0kWuj4gSKfH9hV588UX0ej2WlpaEhIRw8OBBc9YlRKkrLi6mTp06rF27lqNHjxIREUFERATp6enGbdLS0tizZw+1atUy2Tc0NJRdu3Zx7NgxNm3axPbt2++7Q7cQ/6tEAWxjY0NRUREvv/wy8+fPZ9WqVRgMBnPX9kSSk5P5+9//XuLt4+LiyMzMND6ePHkyFy5cMEdp4hlha2vL2LFjcXFxwcLCgi5duuDi4sLp06eN2/zjH/8gMjLyvrmxGzRogK2trfGxhYUFV65cKbXaxbOpRAE8f/58FEVh6tSp2Nracv36dRYvXmzu2krs3js1l9S2bdu4efOm8fHs2bNp1KjR0yxLPONu3brF5cuXje+LXbt2YW1tTadOnR64/fLly/Hw8KBjx44UFBSYfH1fiAcp0UW4559/nqKiItLT0/Hz86N+/fpP5e4Y6enpDB06lFatWpGamkrz5s0JCQkhOjqarKwsPvnkE+BuOGq1WqpUqcKcOXNo0KABcXFx7N27l4KCAgwGg8mUmSdOnGDq1KlER0eTk5PDvHnzKCgooHr16sydO5djx45x6tQpIiMjqVKlCrGxsQwbNoxJkybRokULPDw8CA8P57vvvqNKlSosXbqUmjVrkpaWRmRkJIWFhfj6+rJmzRpSU1P/8usgyh6dTkdkZCRBQUE0bNiQvLw8Fi5cyFdfffXQfYYPH86wYcM4c+YM+/bto2rVqqVYsXgWlagH/P333+Pn58fs2bOZOXMm/v7+T206yrS0NAYPHsyuXbu4dOkS27dvZ+PGjUyaNIlly5bRoEED1q9fT3x8POPGjWPhwoXGfX/55Reio6NZt26dcdmxY8eYPn06S5cupU6dOsyaNYvo6Gji4uIICQlh4cKF9OjRg+bNm/PJJ5+QkJBAlSpVTGoqKCigZcuWJCYm4uXlxebNm4G7fwjCw8PZvn07tWvXfirtF2WPwWBg0qRJVKpUiSlTpgB3L7z17dsXFxeXR+6r0Who2rQpVapUKVOfEkXZVKIe8Lx581izZg0vvvgicDc0hw8f/tCPYk/CxcUFNzc3ABo1akS7du3QaDS4ubmRkZFBbm4u7733HleuXEGj0aDT6Yz7vvrqqyaTAl28eJGpU6eyYsUKnJ2dOXfuHOfOnWPw4MHA3f9Y/3vx5EEqVapEly5dAGjevDk//vgjcHc43pIlS4C7ExXNnz//L7dflC2KojB58mRu3brFP//5T+MdYA4dOsSNGzfYuHEjAFlZWURERDB06FCGDx9+33GKi4tJS0sr1drFs6dEAWxnZ2cMX4B69ephZ2f3VAq491SGhYWF8bFGo0Gv1/PZZ5/h4+PDkiVLSE9PJzw83Lj9vV+LBqhVqxZarZYzZ87g7OyMoii4uroSGxv7RDVVqlTJePdnCwsL9Hr9n22eeMZMmzaNixcvsnLlSpNPRqtWrTK51hAaGkpUVBQdO3bEYDCwefNmevbsSbVq1Th58iQbNmx4YDALca8SBXDz5s0ZNmwYPXv2RKPRsHv3blq0aGEcZuPv72+2AnNzc3F2dgbuXjh7lGrVqjF79mwGDx6MjY0NHh4eZGVlkZqaioeHBzqdjsuXL+Pq6oqdnR35+flPVEvLli3Zu3cvvXr1Iikp6U+3SZRNGRkZxMbGYm1tTfv27Y3L//GPf9C3b1+TbS0tLXnuueews7PDYDDwzTffsGDBAnQ6HU5OTvztb38jLCystJsgnjElCuCioiJq1qzJkSNHAHB0dESr1fLdd98B5g3goUOHEhUVRUxMTIlOedSsWZMvvviCYcOGMWfOHKKjo5k1axa5ubno9XoGDhyIq6srQUFBTJs2zXgRriQ++OADJk6cSExMDB06dJCLLOXM888/z6+//lqibffv32/82cLCghUrVpirLFGOaRRFJqwtqcLCQqpUqYJGoyEpKYkdO3YQExPzyH2Cg4PpltWklCoUf5ZMRynUUKJREJcuXWLgwIH06dMHgLNnz7J06VKzFlYWnT59msDAQAICAtiwYQNRUVFqlySEeIaVKICnTJnChAkTsLK6e8aiSZMm7Ny506yFlUVeXl4kJiayfft21q9fb3JhUgghnlSJAriwsBB3d3eTZZaWlmYpSAghKooSBXD16tVJS0szDs3avXt3icbTCiGEeLgSjYKYNm0aU6ZM4bfffqNDhw64uLgYvyYshBDiz3lkAK9cudL4c6dOnfDx8cFgMGBra8vevXuN3zATQgjx5B4ZwH98UeHSpUucPHmSrl27oigKiYmJtGjRolQKfOYpigxxegbIbemFGh4ZwGPGjAFgwIABxMXFGb94MGbMmCeae7dC+//nzUXZJuEr1FCii3C3bt0ymbPB2tqaW7duma0oIYSoCEp0Ee61114jNDQUPz8/APbt20dwcLBZCxNCiPKuxF9FPn36NCkpKQC0adOGpk2bmrWw8iI4OJi4uDi1yxBClEEl6gEDNGvWjGbNmpmzlnJJptoQFZFOq6OSnFd/rBIHsPhzNBoNkR7vqV2GEKXqk9SP1C7hmVDi29ILIYR4uiSAhRBCJRLAQgihEglgIYRQiQSwEMLsLl++TIsWLYiMjATg8OHDBAQE4OXlhY+PD6NHjyYzM9Nkn59++omgoCBatWpFx44dy+Uc5BLAQgizmzFjhsn8MY0aNeLLL78kJSWFgwcP8uKLLzJt2jTj+gsXLjBhwgQiIiJISUkhISGB5s2bq1G6WVWIYWjJyclUqlQJT09PADZu3IiNjQ2vvfaauoUJUQEkJSVhb2+Ph4cHV65cAe7ePPdelpaWpKWlGR/HxMTQr18/4414q1evTvXq1Uuv6FJSbgK4uLjYeMuk//Xzzz9ja2trDOA333yzNEsTosLKy8sjOjqa1atX8/XXX5usu3btGn379iUvLw9LS0tmzpxpXHf8+HHq1atHQEAA2dnZtG3blg8//BAHB4dSboF5qRbAK1euZOvWrQCEhobSrVs3hg4dSrNmzfjll19wdXXlo48+wsbGhlOnTjFv3jwKCgqoXr06c+fOxcnJibCwMJo0acLRo0fp06cPL730EjExMeh0OhwcHPjkk0/4/fff2bRpExYWFiQmJjJlyhQOHTqEra0tQ4YM4cyZM0ybNo3CwkJeeOEF5syZw3PPPUdYWBju7u4kJyeTm5vL7Nmz8fLy4vz587z//vvodDoMBgOLFy/mpZdeUutlFKJMW7RoESEhIdSuXfu+dXXr1iUlJYU7d+6wefNmGjRoYFyXmZlJYmIiK1aswMnJiaioKGbOnMmnn35amuWbnSrngE+dOkVcXBybN28mNjaWr7/+mpycHC5dusRbb73Frl27sLOzY8OGDeh0OmbNmkV0dDRxcXGEhISwcOFC47F0Oh1xcXG8/fbbtG7dms2bNxMfH0/v3r358ssvcXFxoX///gwaNIiEhAS8vLxMapk0aRKRkZFs376dxo0b8/nnnxvX6fV6tmzZwgcffGBcvmnTJsLDw0lISGDr1q0PfGMJIeDMmTMcOnSIQYMGPXI7BwcHgoKCGDVqFMXFxQBUrlyZ4OBg6tevj52dHX//+985cOBAKVRdulTpAR89epRu3bpha2sLgJ+fHykpKdSpU4fWrVsD0LdvX9auXUuHDh04d+6c8e4bBoPB5H50vXr1Mv5848YN3nnnHf7zn/9QVFSEi4vLI+vIzc0lNzcXb29vAIKCghg/frxx/R+zvzVr1oyMjAwAWrVqxbJly7hx4wb+/v7S+xXiIZKTk8nIyKBLly4AFBQUoNfrCQoKYtu2bSbb6vV6bt++TV5eHg4ODri5uZms15TTebXL1Dng/32RNRoNiqLg6upKbGzsA/exsbEx/jxr1iwGDRpE165dSU5ONunN/hl/zIFsYWGBXq8HICAggJYtW/L9998zfPhw/vGPf9CuXbu/9DxClEf9+vWjd+/exsdfffUVGRkZTJ8+nb1799KoUSNeeukl7ty5w9y5c2natKnxHG9wcDBLly4lMDCQmjVrsnz5cjp37qxOQ8xIlVMQXl5e7Nu3j8LCQgoKCti3bx9eXl5cu3aN1NRUAHbs2EHr1q2pX78+WVlZxuU6nY7z588/8Li5ubk4OzsDEB8fb1xuZ2dnvL3Svezt7alWrZpxms2EhATatGnzyNqvXr1KvXr1CA8Pp2vXrvz6669P3H4hKgIbGxtq1apl/Gdra4u1tTWOjo5kZmYydOhQPD09CQgIwMLCwqTDFBoaymuvvcbrr79Oly5dsLa25sMPP1SxNeahSg+4WbNmBAcH8/rrrwN3X+xq1apRv3591q9fzwcffECjRo148803sba2Jjo6mlmzZpGbm4ter2fgwIG4urred9wxY8Ywfvx4nnvuOXx8fEhPTwegS5cujBs3jm+//ZYpU6aY7PPRRx8ZL8LVq1ePuXPnPrL2Xbt2kZCQgJWVFTVr1pRbMwlRQmPHjjX+HBYWRlhY2CO3HzduHOPGjTN3Waoq8YTs5paens6IESPYsWOH2qU8VcHBwTS4dP8fCyHKM5mOsmTkm3BCCKGSMhPALi4u5a73K4QQj1JmAlgIISoaCWAhhFCJBLAQQqhEAlgIIVRSpr4JVx4piiJDckSFI7elLxnpAZtZef0OuxCPIuFbMhLAQgihEglgIYRQiQSwEEKoRAJYCCFUIgFsZmVkriMhSl2RVqd2CWWeDEMzM41GwxsN31W7DCFK3eaLC9QuocyTHrAQQqhEAlgIIVQiASyEECqRABZCCJVIAAshzO7y5cu0aNGCyMhIAA4fPkxAQABeXl74+PgwevRoMjMzjdv37t0bDw8P47+mTZsyYsQItco3mzIfwJmZmaVyY76NGzea3ElZCPH0zJgxgxYtWhgfN2rUiC+//JKUlBQOHjzIiy++yLRp04zrk5KSSE1NJTU1lWPHjlG7dm169OihRulmVeaHoTk7OxMdHW3W5yguLubNN98063MIUVElJSVhb2+Ph4cHV65cAaBmzZom21haWpKWlvbA/Y8cOUJ2djb+/v5mr7W0mTWAExISWLt2LTqdjpYtWzJt2jS8vLwIDw/nu+++o0qVKixdupSaNWuSlpZGZGQkhYWF+Pr6smbNGlJTU03ulhwXF8f+/fspLCzk6tWrdOvWjUmTJgHwr3/9i8WLF1NUVGS8vbydnR2nTp1i3rx5FBQUUL16debOnYuTkxNhYWE0adKEo0eP0qdPH/Lz87G1tWXIkCGEhYXh7u5OcnIyubm5zJ49Gy8vLwoLC4mKiuL8+fPUr1+fmzdvMnXqVJO/7EKI/5OXl0d0dDSrV6/m66+/Nll37do1+vbtS15eHpaWlsycOfOBx9i2bRvdu3fH1ta2NEouVWY7BXHx4kV27drFxo0bSUhIwMLCgu3bt1NQUEDLli1JTEzEy8uLzZs3AzB79mzCw8PZvn07tWvXfuhxz5w5w6JFi9i+fTu7du3i+vXrZGVlERMTw8qVK9m2bRvNmzdn5cqV6HQ6Zs2aRXR0NHFxcYSEhLBw4ULjsXQ6HXFxcbz99tv3PY9er2fLli188MEHfP755wBs2LCB5557jp07dzJ+/HhOnz79lF81IcqXRYsWERIS8sD/03Xr1iUlJYXDhw8zfvx4GjRocN82hYWF7Nmzh6CgoNIot9SZrQd86NAhTp06RWhoKAC///47NWrUoFKlSnTp0gWA5s2b8+OPPwJw/PhxlixZAkBAQADz589/4HHbtWuHvb09AA0bNiQjI4Pc3FwuXLhgPI2g0+lo1aoVly5d4ty5cwwePBgAg8FArVq1jMfq1avXQ+v38/MDoFmzZmRkZABw9OhRwsPDAWjcuDFubm5/4pURomI4c+YMhw4dYtu2bY/czsHBgaCgIAIDAzlw4ABWVv8XS3v37sXBwQFvb29zl6sKswWwoigEBQUxYcIEk+VfffWVcZJyCwsL9Hr9Ex3X2tra+LOlpSV6vR5FUXj11VdZsMD0q4+//vorrq6uxMbGPvBYNjY2j32eP1OjEAKSk5PJyMgwdrgKCgrQ6/UEBQXdF8p6vZ7bt2+Tl5eHg4ODcXl8fDyBgYHl9sYGZjsF0a5dO/bs2cPt27cBuHPnjrEn+SAtW7Zk7969wN2T9k+iVatWHDt2zHiCv6CggEuXLlG/fn2ysrJITU0F7vaMz58//2eaA4Cnpye7du0C4MKFC5w7d+5PH0uI8q5fv3588803xMfHEx8fT//+/encuTMrVqxg7969/PbbbxgMBrKyspg7dy5NmzY1Cd8bN26QnJxcbk8/gBl7wI0aNSIiIoK3334bg8FApUqVmDp16kO3/+CDD5g4cSIxMTF06NCBqlWrlvi5HB0dmTt3Lu+++y5FRUUAREREUL9+faKjo5k1axa5ubno9XoGDhyIq6vrn2rTW2+9RVRUFL169aJBgwY0atTIeDpECGHKxsbG5FOmra0t1tbWODo6kpmZybx588jKysLOzg5vb2/jtZY/JCQk0KpVK1544YXSLr3UaJQyMl9iYWEhVapUQaPRkJSUxI4dO4iJiVG7LBN6vZ7i4mIqV65MWloagwYNYvfu3SanRf5XcHAwVv9+qfSKFKKMkNnQHq/MjAM+ffo0M2bMQFEUqlWrxpw5c9Qu6T6FhYWEh4dTXFyMoihMmzbtkeErhBCPUmZ6wOWV9IBFRSU94Mcr819FFkKI8koCWAghVCIBLIQQKpEAFkIIlZSZURDllaIocjFCVEhFWh3WlSupXUaZJj1gMyuvX6EU4nEkfB9PAlgIIVQiASyEECqRABZCCJVIAAshhEokgM1MvuktxJPR/l6kdgmlRoahmZlGo8HbJUztMoR4ZvycvlbtEkqN9ICFEEIlEsBCCKESCWAhhFCJBLAQQqhEAlgIUaZdvnyZFi1aEBkZCcCyZcvw8PAw/nN3d6dJkyZkZWUBsHPnTvr370/Lli0JCyvbF8BlFIQQokybMWMGLVq0MD4eMWIEI0aMMD5evHgxR44cwdHREQAHBwfCw8P57bffSE5OLvV6n4T0gIGcnBzWr19fom379+8PQHp6On369DFnWUJUeElJSdjb29OuXbsHrlcUhfj4eJNb17/yyiv06tULZ2fn0irzT6tQAawoCgaD4b7lOTk5bNy4sUTH2LRp09MuSwjxAHl5eURHR/P+++8/dJuUlBSysrLw9/cvxcqennJ/CiI9PZ0hQ4bQsmVLTp8+Tc+ePfnuu+8oKirCz8+PcePG8emnn5KWlkZgYCCvvPIKY8aMYdSoUeTk5FBcXMz48ePp1q0bAB4eHqSmpqrcKiHKv0WLFhESEkLt2rUfus22bdvo3r07dnZ2pVjZ01PuAxjgypUrfPTRR+Tl5bFnzx62bNmCoiiMHDmSI0eOMGHCBM6fP09CQgIAxcXFLFmyhKpVq5KVlUW/fv3o2rWrzO0rRCk5c+YMhw4dYtu2bQ/dprCwkN27d7N06dJSrOzpqhABXLduXVq1asVHH33Ejz/+yGuvvQZAQUEBly9fpk6dOibbK4rCggULOHLkCBYWFmRmZnLr1i1q1aqlQvVCVDzJyclkZGTQpUsX4O7/Vb1eT1BQkDGUv/nmGxwcHPDx8VGz1L+kQgSwra0tcDdYhw8fbryQ9of09HSTx9u3bycrK4u4uDgqVaqEr68vWq221OoVoqLr168fvXv3Nj7+6quvyMjIYPr06cZl8fHxBAYG3vfJVK/XU1xcTHFxMQaDAa1Wi4WFBZUqlb07dFSoi3Dt27dn69at5OfnA5CZmcnt27exs7MzLgPIzc2lRo0aVKpUicOHD5ORkaFWyUJUSDY2NtSqVcv4z9bWFmtra+NQs8zMTA4fPmz8NHuvhIQE3N3dmT59OikpKbi7uzNlypRSbkHJVIge8B/at2/PxYsXjT1gW1tbPv74Y1544QU8PT3p06cPHTp0YNiwYYwcOZKAgACaN29OgwYNVK5ciIpt7NixJo+dnZ355ZdfHrhtcHAwwcHBpVHWX6ZRZMJaswoODib952fzCq0QapDpKIUQQpidBLAQQqhEAlgIIVQiASyEECqRABZCCJVIAAshhEoq1DhgNSiKUqGG1QjxV2l/L6JyFWu1yygV0gM2M5nAR4gnU1HCFySAhRBCNRLAQgihEglgIYRQiQSwmclUG0KUfb//rs50szIKwsw0Gg1Oju5qlyGEeISbWSdUeV7pAQshhEokgIUQQiUSwEIIoRIJYCGEUIkEsBBCqERGQQghxP8XFhbG8ePHsbK6G41OTk7s2bOHw4cPM3v2bK5fv46lpSVeXl5MnToVZ2dnAHr37s21a9eMx9FqtXTs2JFly5Y98vkkgO8RFRVF586d6dGjh9qlCCFUMnXqVF5//XWTZY0aNeLLL7/E2dmZoqIiFi1axLRp04wBm5SUZNxWURS6du1aohyRABZCiMeoWbOmyWNLS0vS0tIeuO2RI0fIzs7G39//scct9wFcUFBAREQEN27cwGAwMGrUKH777Te+++47tFotHh4ezJgx475Zy06dOsW8efMoKCigevXqzJ07FycnJ9asWcOmTZuwtLSkUaNGLFy4UKWWCSHM4dNPP+WTTz6hfv36vPPOO/j4+ABw7do1+vbtS15eHpaWlsycOfOB+2/bto3u3btja2v72Ocq9wF88OBBnJycWL58OQC5ubm88sorjBkzBoCJEyfy3Xff4evra9xHp9Mxa9Ysli5diqOjIzt37mThwoXMnTuX5cuXs3//fqytrcnJyVGlTUII84iMjKRhw4ZYW1uTlJTEiBEjSEhI4IUXXqBu3bqkpKRw584dNm/eTIMGDe7bv7CwkD179hATE1Oi5yv3oyAaN27MTz/9xMcff0xKSgr29vYkJyfz+uuvExAQwOHDh7lw4YLJPpcuXeLcuXMMHjyYwMBAYmJiyMzMBMDNzY3IyEgSEhKwtLRUo0lCCDNp2bIlVatWxdramqCgIDw9Pfnhhx9MtnFwcCAoKIhRo0ZRXFxssm7v3r04ODjg7e1doucr9z3g+vXrExcXxw8//MCiRYto27YtGzZsYOvWrdSpU4fFixej1ZpOxKEoCq6ursTGxt53vOXLl3PkyBG+++47li1bxvbt241XTIUQ5YtGo3nghFp6vZ7bt2+Tl5eHg4ODcXl8fDyBgYElvhFDue8BZ2ZmYmNjQ2BgIEOGDOGXX34BoHr16uTn57Nnz5779qlfvz5ZWVmkpqYCd09JnD9/HoPBwPXr12nbti2RkZHk5uZSUFBQqu0RQphHTk4OBw8eRKvVUlxcTGJiIikpKXTo0IG9e/fy22+/YTAYyMrKYu7cuTRt2tQkfG/cuEFycjJBQUElfs5y33U7d+4c8+fPx8LCAisrK6ZPn86+ffvo06cPNWvWpEWLFvftY21tTXR0NLNmzSI3Nxe9Xs/AgQN56aWXmDhxInl5eSiKQnh4ONWqVVOhVUKIp624uJhFixbx22+/YWlpSYMGDViyZAn169fnX//6F/PmzSMrKws7Ozu8vb35/PPPTfZPSEigVatWvPDCCyV+To0iE9aaVXBwMP/6/sLjNxRCqEamoxRCiApGAlgIIVQiASyEECqRABZCCJVIAAshhEokgIUQQiXlfhyw2hRFUW2IixCiZH7/XUuVKpVL/XmlB2xmJf1KohBCPWqEL0gACyGEauSbcGbm4+PD888/r3YZQggVVa9enRUrVty3XAJYCCFUIqcghBBCJRLAQgihEglgIYRQiQSwEEKoRAJYCCFUIgFsRgcOHKB79+74+fkZ78qstvfff5927drRp08f47I7d+4wePBg/P39GTx4MP/973+Bu9/imzVrFn5+fgQEBHD69OlSrfX69euEhYXRq1cvevfuzerVq8tsvVqtltDQUPr27Uvv3r2Jjo4G4OrVq7z++uv4+fkRERFBUVERAEVFRURERODn58frr79Oenp6qdV6L71ez2uvvcbf//73Ml2vr68vAQEBBAYGEhwcDJTN98ETU4RZFBcXK127dlXS0tIUrVarBAQEKOfPn1e7LOXnn39WTp06pfTu3du47KOPPlK++OILRVEU5YsvvlDmz5+vKIqifP/998qQIUMUg8GgpKamKqGhoaVaa2ZmpnLq1ClFURQlNzdX8ff3V86fP18m6zUYDEpeXp6iKIpSVFSkhIaGKqmpqcq4ceOUHTt2KIqiKFOmTFHWr1+vKIqirFu3TpkyZYqiKIqyY8cOZfz48aVW672++uor5d1331WGDx+uKIpSZuvt0qWLcvv2bZNlZfF98KSkB2wmJ06c4MUXX6RevXpYW1vTu3dvvv32W7XLok2bNjz33HMmy7799ltee+01AF577TX27dtnslyj0dCqVStycnK4efNmqdXq5OREs2bNAKhatSoNGjQgMzOzTNar0Wiws7MD7t5brLi4GI1Gw+HDh+nevTsAQUFBxvfA/v37jTdv7N69O4cOHXrg3XfN6caNG3z//feEhoYCd3uOZbne/1UW3wdPSgLYTDIzM6ldu7bxsbOzM5mZmSpW9HC3b9/GyckJgFq1anH79m3g/jbUrl1btTakp6dz5swZWrZsWWbr1ev1BAYG8sorr/DKK69Qr149qlWrhpWV1X31ZGZmUqdOHQCsrKywt7cnOzu71GoFmDNnDhMnTsTC4m4MZGdnl+l6hwwZQnBwMLGxscCz8b59HJkNTZjQaDRlbgKh/Px8xo0bxwcffEDVqlVN1pWlei0tLUlISCAnJ4fRo0fz22+/qV3SQ3333Xc4OjrSvHlzkpOT1S7nsTZu3IizszO3b99m8ODBNGjQwGR9WXofPAkJYDNxdnbmxo0bxseZmZk4OzurWNHD1ahRg5s3b+Lk5MTNmzdxdHQE7m/DjRs3Sr0NOp2OcePGERAQgL+/f5mvF6BatWr4+Phw/PhxcnJyKC4uxsrKyqQeZ2dnrl+/Tu3atSkuLiY3N5fq1auXWo3Hjh1j//79HDhwAK1WS15eHrNnzy6z9f5RR40aNfDz8+PEiRNl/n1QEnIKwkxatGjB5cuXuXr1KkVFRSQlJeHr66t2WQ/k6+tLfHw8APHx8XTt2tVkuaIoHD9+HHt7e+NHvtKgKAqTJ0+mQYMGDB48uEzXm5WVRU5ODgC///47P/30Ew0bNsTHx4c9e/YAsG3bNuN7wNfXl23btgGwZ88e2rZtW6o9uAkTJnDgwAH279/PggULaNu2LZ9++mmZrLegoIC8vDzjzz/++COurq5l8n3wpGQyHjP64YcfmDNnDnq9npCQEEaOHKl2Sbz77rv8/PPPZGdnU6NGDcaOHUu3bt2IiIjg+vXr1K1bl0WLFuHg4ICiKMyYMYODBw9iY2PDnDlzaNGiRanVmpKSwoABA2jcuLHxPOW7776Lu7t7mav37NmzREVFodfrURSFHj16MGbMGK5evco777zDf//7X15++WU++eQTrK2t0Wq1TJw4kTNnzvDcc8+xcOFC6tWrVyq1/q/k5GS++uorvvjiizJZ79WrVxk9ejRw9zx7nz59GDlyJNnZ2WXuffCkJICFEEIlcgpCCCFUIgEshBAqkQAWQgiVSAALIYRKJICFEEIlEsBClBGrVq2isLBQ7TJEKZIAFqKMWLNmjQRwBSMBLMQTiI+PJyAggL59+zJx4kTS09MJDw8nICCAgQMHcu3aNQCioqLYvXu3cT8PDw/g7pcewsLCGDduHD169GDChAkoisKaNWu4efMmAwcOJCwsTJW2idInc0EIUULnz58nJiaGjRs34ujoyJ07d4iKiiIoKIigoCC2bNnCrFmzWLp06SOP88svv5CUlISTkxNvvvkmR48eJTw8nFWrVrF69WrjnAai/JMesBAldPjwYXr06GEMSAcHB1JTU413FwkMDOTo0aOPPY67uzu1a9fGwsKCJk2akJGRYda6RdklASyEGVhaWmIwGAAwGAzodDrjOmtra5Pt9Hp9qdcnygYJYCFKqG3btuzevds4EfmdO3fw8PAgKSkJgO3bt+Pl5QXA888/b7wX2f79+00C+GHs7OzIz883U/WiLJJzwEKUkKurKyNGjCAsLAwLCwuaNm3KlClTeP/991mxYgWOjo7MnTsXgDfeeINRo0bRt29fOnTogK2t7WOP/8YbbzB06FCcnJxYu3atuZsjygCZDU0IIVQipyCEEEIlEsBCCKESCWAhhFCJBLAQQqhEAlgIIVQiASyEECqRABZCCJVIAAshhEr+H0mIaV1xwhbqAAAAAElFTkSuQmCC",
       "datasetInfos": [],
       "metadata": {
        "imageDimensions": {
         "height": 356,
         "width": 352
        }
       },
       "removedWidgets": [],
       "type": "image"
      },
      "image/png": {
       "height": 356,
       "width": 352
      }
     },
     "output_type": "display_data"
    }
   ],
   "source": [
    "sns.set_style('white')\n",
    "filter = df['left'] == 'yes'\n",
    "g = sns.catplot(data=df[filter], kind='count', y='department', palette='magma_r',\n",
    "            order=df[filter]['department'].value_counts(ascending=True).index)\n",
    "g.fig.suptitle('Employee departures by department')\n",
    "g.fig.subplots_adjust(top=0.9)\n",
    "\n",
    "#abs_values = df[filter]['department'].value_counts(ascending=True)\n",
    "#g.bar_label(container=g.containers[0], labels=abs_values)\n",
    "for ax in g.axes.flat:\n",
    "    ax.bar_label(ax.containers[0], fontsize=12)\n",
    "    ax.margins(x=0.1)\n",
    "    \n",
    "plt.tight_layout()\n",
    "plt.show()"
   ]
  },
  {
   "cell_type": "markdown",
   "metadata": {
    "application/vnd.databricks.v1+cell": {
     "inputWidgets": {},
     "nuid": "df5953ae-5efe-46db-80c2-7e4b1b32c2fa",
     "showTitle": false,
     "title": ""
    }
   },
   "source": [
    "#####As we can see from the bar chart, the highest employee turnover is at the sales department followed by retail, engineering and operations. On the other end of the scale are finance, IT, logistics and admin with the lowest employee turnover."
   ]
  },
  {
   "cell_type": "markdown",
   "metadata": {
    "application/vnd.databricks.v1+cell": {
     "inputWidgets": {},
     "nuid": "d8e6448d-d2e9-4297-86f9-4af38a8e58c2",
     "showTitle": false,
     "title": ""
    }
   },
   "source": [
    "### 2. Feature design and exploration."
   ]
  },
  {
   "cell_type": "markdown",
   "metadata": {
    "application/vnd.databricks.v1+cell": {
     "inputWidgets": {},
     "nuid": "e9e0d1ce-20be-495f-9848-07ddb4de5aa7",
     "showTitle": false,
     "title": ""
    }
   },
   "source": [
    "The dataset has mixed data with both numerical and categorical values. Some of the features, bonus and promoted, are binomial, while department and salary are ordinal. There are no missing vales and requires scaling (the larger values for average hours per month). The scatterplots show that two pairs of features, average hours per month and tenure, and review and satisfaction, are strongly correlated with each other. The numeric variables  are normally distributioned"
   ]
  },
  {
   "cell_type": "code",
   "execution_count": 0,
   "metadata": {
    "application/vnd.databricks.v1+cell": {
     "inputWidgets": {},
     "nuid": "1d18d6f3-3ddc-4817-9fda-a00d4ae581dc",
     "showTitle": false,
     "title": ""
    }
   },
   "outputs": [
    {
     "data": {
      "text/html": [
       "<style scoped>\n",
       "  .ansiout {\n",
       "    display: block;\n",
       "    unicode-bidi: embed;\n",
       "    white-space: pre-wrap;\n",
       "    word-wrap: break-word;\n",
       "    word-break: break-all;\n",
       "    font-family: \"Source Code Pro\", \"Menlo\", monospace;;\n",
       "    font-size: 13px;\n",
       "    color: #555;\n",
       "    margin-left: 4px;\n",
       "    line-height: 19px;\n",
       "  }\n",
       "</style>\n",
       "<div class=\"ansiout\"></div>"
      ]
     },
     "metadata": {
      "application/vnd.databricks.v1+output": {
       "addedWidgets": {},
       "arguments": {},
       "data": "<div class=\"ansiout\"></div>",
       "datasetInfos": [],
       "metadata": {},
       "removedWidgets": [],
       "type": "html"
      }
     },
     "output_type": "display_data"
    }
   ],
   "source": [
    "cat_cols = ['department','promoted','salary','bonus', 'left']\n",
    "df[cat_cols] = df[cat_cols].astype('category')"
   ]
  },
  {
   "cell_type": "code",
   "execution_count": 0,
   "metadata": {
    "application/vnd.databricks.v1+cell": {
     "inputWidgets": {},
     "nuid": "0f711199-2a37-4714-aba2-23a03bf06d1f",
     "showTitle": false,
     "title": ""
    }
   },
   "outputs": [
    {
     "data": {
      "text/html": [
       "<style scoped>\n",
       "  .ansiout {\n",
       "    display: block;\n",
       "    unicode-bidi: embed;\n",
       "    white-space: pre-wrap;\n",
       "    word-wrap: break-word;\n",
       "    word-break: break-all;\n",
       "    font-family: \"Source Code Pro\", \"Menlo\", monospace;;\n",
       "    font-size: 13px;\n",
       "    color: #555;\n",
       "    margin-left: 4px;\n",
       "    line-height: 19px;\n",
       "  }\n",
       "</style>\n",
       "<div class=\"ansiout\">Out[8]: Index([&#39;promoted&#39;, &#39;review&#39;, &#39;projects&#39;, &#39;salary&#39;, &#39;tenure&#39;, &#39;satisfaction&#39;,\n",
       "       &#39;bonus&#39;, &#39;avg_hrs_month&#39;, &#39;left&#39;, &#39;department_IT&#39;, &#39;department_admin&#39;,\n",
       "       &#39;department_engineering&#39;, &#39;department_finance&#39;, &#39;department_logistics&#39;,\n",
       "       &#39;department_marketing&#39;, &#39;department_operations&#39;, &#39;department_retail&#39;,\n",
       "       &#39;department_sales&#39;, &#39;department_support&#39;],\n",
       "      dtype=&#39;object&#39;)</div>"
      ]
     },
     "metadata": {
      "application/vnd.databricks.v1+output": {
       "addedWidgets": {},
       "arguments": {},
       "data": "<div class=\"ansiout\">Out[8]: Index([&#39;promoted&#39;, &#39;review&#39;, &#39;projects&#39;, &#39;salary&#39;, &#39;tenure&#39;, &#39;satisfaction&#39;,\n       &#39;bonus&#39;, &#39;avg_hrs_month&#39;, &#39;left&#39;, &#39;department_IT&#39;, &#39;department_admin&#39;,\n       &#39;department_engineering&#39;, &#39;department_finance&#39;, &#39;department_logistics&#39;,\n       &#39;department_marketing&#39;, &#39;department_operations&#39;, &#39;department_retail&#39;,\n       &#39;department_sales&#39;, &#39;department_support&#39;],\n      dtype=&#39;object&#39;)</div>",
       "datasetInfos": [],
       "metadata": {},
       "removedWidgets": [],
       "type": "html"
      }
     },
     "output_type": "display_data"
    }
   ],
   "source": [
    "# One-hot encoding of the categorical features  \n",
    "df = pd.get_dummies(df, columns=['department'])\n",
    "df.columns"
   ]
  },
  {
   "cell_type": "code",
   "execution_count": 0,
   "metadata": {
    "application/vnd.databricks.v1+cell": {
     "inputWidgets": {},
     "nuid": "1f55e998-0eec-4592-9c38-984a86f8309c",
     "showTitle": false,
     "title": ""
    }
   },
   "outputs": [
    {
     "data": {
      "text/html": [
       "<style scoped>\n",
       "  .ansiout {\n",
       "    display: block;\n",
       "    unicode-bidi: embed;\n",
       "    white-space: pre-wrap;\n",
       "    word-wrap: break-word;\n",
       "    word-break: break-all;\n",
       "    font-family: \"Source Code Pro\", \"Menlo\", monospace;;\n",
       "    font-size: 13px;\n",
       "    color: #555;\n",
       "    margin-left: 4px;\n",
       "    line-height: 19px;\n",
       "  }\n",
       "</style>\n",
       "<div class=\"ansiout\">Out[9]: </div>"
      ]
     },
     "metadata": {
      "application/vnd.databricks.v1+output": {
       "addedWidgets": {},
       "arguments": {},
       "data": "<div class=\"ansiout\">Out[9]: </div>",
       "datasetInfos": [],
       "metadata": {},
       "removedWidgets": [],
       "type": "html"
      }
     },
     "output_type": "display_data"
    },
    {
     "data": {
      "text/html": [
       "<div>\n",
       "<style scoped>\n",
       "    .dataframe tbody tr th:only-of-type {\n",
       "        vertical-align: middle;\n",
       "    }\n",
       "\n",
       "    .dataframe tbody tr th {\n",
       "        vertical-align: top;\n",
       "    }\n",
       "\n",
       "    .dataframe thead th {\n",
       "        text-align: right;\n",
       "    }\n",
       "</style>\n",
       "<table border=\"1\" class=\"dataframe\">\n",
       "  <thead>\n",
       "    <tr style=\"text-align: right;\">\n",
       "      <th></th>\n",
       "      <th>promoted</th>\n",
       "      <th>review</th>\n",
       "      <th>projects</th>\n",
       "      <th>salary</th>\n",
       "      <th>tenure</th>\n",
       "      <th>satisfaction</th>\n",
       "      <th>bonus</th>\n",
       "      <th>avg_hrs_month</th>\n",
       "      <th>IT</th>\n",
       "      <th>admin</th>\n",
       "      <th>engineering</th>\n",
       "      <th>finance</th>\n",
       "      <th>logistics</th>\n",
       "      <th>marketing</th>\n",
       "      <th>operations</th>\n",
       "      <th>retail</th>\n",
       "      <th>sales</th>\n",
       "      <th>support</th>\n",
       "      <th>left</th>\n",
       "    </tr>\n",
       "  </thead>\n",
       "  <tbody>\n",
       "    <tr>\n",
       "      <th>0</th>\n",
       "      <td>0</td>\n",
       "      <td>0.577569</td>\n",
       "      <td>3</td>\n",
       "      <td>low</td>\n",
       "      <td>5.0</td>\n",
       "      <td>0.626759</td>\n",
       "      <td>0</td>\n",
       "      <td>180.866070</td>\n",
       "      <td>0</td>\n",
       "      <td>0</td>\n",
       "      <td>0</td>\n",
       "      <td>0</td>\n",
       "      <td>0</td>\n",
       "      <td>0</td>\n",
       "      <td>1</td>\n",
       "      <td>0</td>\n",
       "      <td>0</td>\n",
       "      <td>0</td>\n",
       "      <td>no</td>\n",
       "    </tr>\n",
       "    <tr>\n",
       "      <th>1</th>\n",
       "      <td>0</td>\n",
       "      <td>0.751900</td>\n",
       "      <td>3</td>\n",
       "      <td>medium</td>\n",
       "      <td>6.0</td>\n",
       "      <td>0.443679</td>\n",
       "      <td>0</td>\n",
       "      <td>182.708149</td>\n",
       "      <td>0</td>\n",
       "      <td>0</td>\n",
       "      <td>0</td>\n",
       "      <td>0</td>\n",
       "      <td>0</td>\n",
       "      <td>0</td>\n",
       "      <td>1</td>\n",
       "      <td>0</td>\n",
       "      <td>0</td>\n",
       "      <td>0</td>\n",
       "      <td>no</td>\n",
       "    </tr>\n",
       "    <tr>\n",
       "      <th>2</th>\n",
       "      <td>0</td>\n",
       "      <td>0.722548</td>\n",
       "      <td>3</td>\n",
       "      <td>medium</td>\n",
       "      <td>6.0</td>\n",
       "      <td>0.446823</td>\n",
       "      <td>0</td>\n",
       "      <td>184.416084</td>\n",
       "      <td>0</td>\n",
       "      <td>0</td>\n",
       "      <td>0</td>\n",
       "      <td>0</td>\n",
       "      <td>0</td>\n",
       "      <td>0</td>\n",
       "      <td>0</td>\n",
       "      <td>0</td>\n",
       "      <td>0</td>\n",
       "      <td>1</td>\n",
       "      <td>no</td>\n",
       "    </tr>\n",
       "    <tr>\n",
       "      <th>3</th>\n",
       "      <td>0</td>\n",
       "      <td>0.675158</td>\n",
       "      <td>4</td>\n",
       "      <td>high</td>\n",
       "      <td>8.0</td>\n",
       "      <td>0.440139</td>\n",
       "      <td>0</td>\n",
       "      <td>188.707545</td>\n",
       "      <td>0</td>\n",
       "      <td>0</td>\n",
       "      <td>0</td>\n",
       "      <td>0</td>\n",
       "      <td>1</td>\n",
       "      <td>0</td>\n",
       "      <td>0</td>\n",
       "      <td>0</td>\n",
       "      <td>0</td>\n",
       "      <td>0</td>\n",
       "      <td>no</td>\n",
       "    </tr>\n",
       "    <tr>\n",
       "      <th>4</th>\n",
       "      <td>0</td>\n",
       "      <td>0.676203</td>\n",
       "      <td>3</td>\n",
       "      <td>high</td>\n",
       "      <td>5.0</td>\n",
       "      <td>0.577607</td>\n",
       "      <td>1</td>\n",
       "      <td>179.821083</td>\n",
       "      <td>0</td>\n",
       "      <td>0</td>\n",
       "      <td>0</td>\n",
       "      <td>0</td>\n",
       "      <td>0</td>\n",
       "      <td>0</td>\n",
       "      <td>0</td>\n",
       "      <td>0</td>\n",
       "      <td>1</td>\n",
       "      <td>0</td>\n",
       "      <td>no</td>\n",
       "    </tr>\n",
       "  </tbody>\n",
       "</table>\n",
       "</div>"
      ]
     },
     "metadata": {
      "application/vnd.databricks.v1+output": {
       "addedWidgets": {},
       "arguments": {},
       "data": "<div>\n<style scoped>\n    .dataframe tbody tr th:only-of-type {\n        vertical-align: middle;\n    }\n\n    .dataframe tbody tr th {\n        vertical-align: top;\n    }\n\n    .dataframe thead th {\n        text-align: right;\n    }\n</style>\n<table border=\"1\" class=\"dataframe\">\n  <thead>\n    <tr style=\"text-align: right;\">\n      <th></th>\n      <th>promoted</th>\n      <th>review</th>\n      <th>projects</th>\n      <th>salary</th>\n      <th>tenure</th>\n      <th>satisfaction</th>\n      <th>bonus</th>\n      <th>avg_hrs_month</th>\n      <th>IT</th>\n      <th>admin</th>\n      <th>engineering</th>\n      <th>finance</th>\n      <th>logistics</th>\n      <th>marketing</th>\n      <th>operations</th>\n      <th>retail</th>\n      <th>sales</th>\n      <th>support</th>\n      <th>left</th>\n    </tr>\n  </thead>\n  <tbody>\n    <tr>\n      <th>0</th>\n      <td>0</td>\n      <td>0.577569</td>\n      <td>3</td>\n      <td>low</td>\n      <td>5.0</td>\n      <td>0.626759</td>\n      <td>0</td>\n      <td>180.866070</td>\n      <td>0</td>\n      <td>0</td>\n      <td>0</td>\n      <td>0</td>\n      <td>0</td>\n      <td>0</td>\n      <td>1</td>\n      <td>0</td>\n      <td>0</td>\n      <td>0</td>\n      <td>no</td>\n    </tr>\n    <tr>\n      <th>1</th>\n      <td>0</td>\n      <td>0.751900</td>\n      <td>3</td>\n      <td>medium</td>\n      <td>6.0</td>\n      <td>0.443679</td>\n      <td>0</td>\n      <td>182.708149</td>\n      <td>0</td>\n      <td>0</td>\n      <td>0</td>\n      <td>0</td>\n      <td>0</td>\n      <td>0</td>\n      <td>1</td>\n      <td>0</td>\n      <td>0</td>\n      <td>0</td>\n      <td>no</td>\n    </tr>\n    <tr>\n      <th>2</th>\n      <td>0</td>\n      <td>0.722548</td>\n      <td>3</td>\n      <td>medium</td>\n      <td>6.0</td>\n      <td>0.446823</td>\n      <td>0</td>\n      <td>184.416084</td>\n      <td>0</td>\n      <td>0</td>\n      <td>0</td>\n      <td>0</td>\n      <td>0</td>\n      <td>0</td>\n      <td>0</td>\n      <td>0</td>\n      <td>0</td>\n      <td>1</td>\n      <td>no</td>\n    </tr>\n    <tr>\n      <th>3</th>\n      <td>0</td>\n      <td>0.675158</td>\n      <td>4</td>\n      <td>high</td>\n      <td>8.0</td>\n      <td>0.440139</td>\n      <td>0</td>\n      <td>188.707545</td>\n      <td>0</td>\n      <td>0</td>\n      <td>0</td>\n      <td>0</td>\n      <td>1</td>\n      <td>0</td>\n      <td>0</td>\n      <td>0</td>\n      <td>0</td>\n      <td>0</td>\n      <td>no</td>\n    </tr>\n    <tr>\n      <th>4</th>\n      <td>0</td>\n      <td>0.676203</td>\n      <td>3</td>\n      <td>high</td>\n      <td>5.0</td>\n      <td>0.577607</td>\n      <td>1</td>\n      <td>179.821083</td>\n      <td>0</td>\n      <td>0</td>\n      <td>0</td>\n      <td>0</td>\n      <td>0</td>\n      <td>0</td>\n      <td>0</td>\n      <td>0</td>\n      <td>1</td>\n      <td>0</td>\n      <td>no</td>\n    </tr>\n  </tbody>\n</table>\n</div>",
       "datasetInfos": [],
       "metadata": {},
       "removedWidgets": [],
       "textData": null,
       "type": "htmlSandbox"
      }
     },
     "output_type": "display_data"
    }
   ],
   "source": [
    "df.columns = df.columns.str.replace('department_','')\n",
    "\n",
    "df1 = df.loc[:,df.columns!='left']\n",
    "df2 = df.loc[:,df.columns=='left']\n",
    "df = pd.concat([df1, df2], 1)\n",
    "df.head()"
   ]
  },
  {
   "cell_type": "code",
   "execution_count": 0,
   "metadata": {
    "application/vnd.databricks.v1+cell": {
     "inputWidgets": {},
     "nuid": "ed76c5bd-c4ec-47b5-90d7-d3ae24176899",
     "showTitle": false,
     "title": ""
    }
   },
   "outputs": [
    {
     "data": {
      "text/html": [
       "<style scoped>\n",
       "  .ansiout {\n",
       "    display: block;\n",
       "    unicode-bidi: embed;\n",
       "    white-space: pre-wrap;\n",
       "    word-wrap: break-word;\n",
       "    word-break: break-all;\n",
       "    font-family: \"Source Code Pro\", \"Menlo\", monospace;;\n",
       "    font-size: 13px;\n",
       "    color: #555;\n",
       "    margin-left: 4px;\n",
       "    line-height: 19px;\n",
       "  }\n",
       "</style>\n",
       "<div class=\"ansiout\">Out[10]: </div>"
      ]
     },
     "metadata": {
      "application/vnd.databricks.v1+output": {
       "addedWidgets": {},
       "arguments": {},
       "data": "<div class=\"ansiout\">Out[10]: </div>",
       "datasetInfos": [],
       "metadata": {},
       "removedWidgets": [],
       "type": "html"
      }
     },
     "output_type": "display_data"
    },
    {
     "data": {
      "text/html": [
       "<div>\n",
       "<style scoped>\n",
       "    .dataframe tbody tr th:only-of-type {\n",
       "        vertical-align: middle;\n",
       "    }\n",
       "\n",
       "    .dataframe tbody tr th {\n",
       "        vertical-align: top;\n",
       "    }\n",
       "\n",
       "    .dataframe thead th {\n",
       "        text-align: right;\n",
       "    }\n",
       "</style>\n",
       "<table border=\"1\" class=\"dataframe\">\n",
       "  <thead>\n",
       "    <tr style=\"text-align: right;\">\n",
       "      <th></th>\n",
       "      <th>promoted</th>\n",
       "      <th>review</th>\n",
       "      <th>projects</th>\n",
       "      <th>salary</th>\n",
       "      <th>tenure</th>\n",
       "      <th>satisfaction</th>\n",
       "      <th>bonus</th>\n",
       "      <th>avg_hrs_month</th>\n",
       "      <th>IT</th>\n",
       "      <th>admin</th>\n",
       "      <th>engineering</th>\n",
       "      <th>finance</th>\n",
       "      <th>logistics</th>\n",
       "      <th>marketing</th>\n",
       "      <th>operations</th>\n",
       "      <th>retail</th>\n",
       "      <th>sales</th>\n",
       "      <th>support</th>\n",
       "      <th>left</th>\n",
       "    </tr>\n",
       "  </thead>\n",
       "  <tbody>\n",
       "    <tr>\n",
       "      <th>0</th>\n",
       "      <td>0</td>\n",
       "      <td>0.577569</td>\n",
       "      <td>3</td>\n",
       "      <td>1.0</td>\n",
       "      <td>5.0</td>\n",
       "      <td>0.626759</td>\n",
       "      <td>0</td>\n",
       "      <td>180.866070</td>\n",
       "      <td>0</td>\n",
       "      <td>0</td>\n",
       "      <td>0</td>\n",
       "      <td>0</td>\n",
       "      <td>0</td>\n",
       "      <td>0</td>\n",
       "      <td>1</td>\n",
       "      <td>0</td>\n",
       "      <td>0</td>\n",
       "      <td>0</td>\n",
       "      <td>0.0</td>\n",
       "    </tr>\n",
       "    <tr>\n",
       "      <th>1</th>\n",
       "      <td>0</td>\n",
       "      <td>0.751900</td>\n",
       "      <td>3</td>\n",
       "      <td>2.0</td>\n",
       "      <td>6.0</td>\n",
       "      <td>0.443679</td>\n",
       "      <td>0</td>\n",
       "      <td>182.708149</td>\n",
       "      <td>0</td>\n",
       "      <td>0</td>\n",
       "      <td>0</td>\n",
       "      <td>0</td>\n",
       "      <td>0</td>\n",
       "      <td>0</td>\n",
       "      <td>1</td>\n",
       "      <td>0</td>\n",
       "      <td>0</td>\n",
       "      <td>0</td>\n",
       "      <td>0.0</td>\n",
       "    </tr>\n",
       "    <tr>\n",
       "      <th>2</th>\n",
       "      <td>0</td>\n",
       "      <td>0.722548</td>\n",
       "      <td>3</td>\n",
       "      <td>2.0</td>\n",
       "      <td>6.0</td>\n",
       "      <td>0.446823</td>\n",
       "      <td>0</td>\n",
       "      <td>184.416084</td>\n",
       "      <td>0</td>\n",
       "      <td>0</td>\n",
       "      <td>0</td>\n",
       "      <td>0</td>\n",
       "      <td>0</td>\n",
       "      <td>0</td>\n",
       "      <td>0</td>\n",
       "      <td>0</td>\n",
       "      <td>0</td>\n",
       "      <td>1</td>\n",
       "      <td>0.0</td>\n",
       "    </tr>\n",
       "    <tr>\n",
       "      <th>3</th>\n",
       "      <td>0</td>\n",
       "      <td>0.675158</td>\n",
       "      <td>4</td>\n",
       "      <td>0.0</td>\n",
       "      <td>8.0</td>\n",
       "      <td>0.440139</td>\n",
       "      <td>0</td>\n",
       "      <td>188.707545</td>\n",
       "      <td>0</td>\n",
       "      <td>0</td>\n",
       "      <td>0</td>\n",
       "      <td>0</td>\n",
       "      <td>1</td>\n",
       "      <td>0</td>\n",
       "      <td>0</td>\n",
       "      <td>0</td>\n",
       "      <td>0</td>\n",
       "      <td>0</td>\n",
       "      <td>0.0</td>\n",
       "    </tr>\n",
       "    <tr>\n",
       "      <th>4</th>\n",
       "      <td>0</td>\n",
       "      <td>0.676203</td>\n",
       "      <td>3</td>\n",
       "      <td>0.0</td>\n",
       "      <td>5.0</td>\n",
       "      <td>0.577607</td>\n",
       "      <td>1</td>\n",
       "      <td>179.821083</td>\n",
       "      <td>0</td>\n",
       "      <td>0</td>\n",
       "      <td>0</td>\n",
       "      <td>0</td>\n",
       "      <td>0</td>\n",
       "      <td>0</td>\n",
       "      <td>0</td>\n",
       "      <td>0</td>\n",
       "      <td>1</td>\n",
       "      <td>0</td>\n",
       "      <td>0.0</td>\n",
       "    </tr>\n",
       "    <tr>\n",
       "      <th>...</th>\n",
       "      <td>...</td>\n",
       "      <td>...</td>\n",
       "      <td>...</td>\n",
       "      <td>...</td>\n",
       "      <td>...</td>\n",
       "      <td>...</td>\n",
       "      <td>...</td>\n",
       "      <td>...</td>\n",
       "      <td>...</td>\n",
       "      <td>...</td>\n",
       "      <td>...</td>\n",
       "      <td>...</td>\n",
       "      <td>...</td>\n",
       "      <td>...</td>\n",
       "      <td>...</td>\n",
       "      <td>...</td>\n",
       "      <td>...</td>\n",
       "      <td>...</td>\n",
       "      <td>...</td>\n",
       "    </tr>\n",
       "    <tr>\n",
       "      <th>9535</th>\n",
       "      <td>0</td>\n",
       "      <td>0.610988</td>\n",
       "      <td>4</td>\n",
       "      <td>2.0</td>\n",
       "      <td>8.0</td>\n",
       "      <td>0.543641</td>\n",
       "      <td>0</td>\n",
       "      <td>188.155738</td>\n",
       "      <td>0</td>\n",
       "      <td>0</td>\n",
       "      <td>0</td>\n",
       "      <td>0</td>\n",
       "      <td>0</td>\n",
       "      <td>0</td>\n",
       "      <td>1</td>\n",
       "      <td>0</td>\n",
       "      <td>0</td>\n",
       "      <td>0</td>\n",
       "      <td>1.0</td>\n",
       "    </tr>\n",
       "    <tr>\n",
       "      <th>9536</th>\n",
       "      <td>0</td>\n",
       "      <td>0.746887</td>\n",
       "      <td>3</td>\n",
       "      <td>2.0</td>\n",
       "      <td>8.0</td>\n",
       "      <td>0.549048</td>\n",
       "      <td>0</td>\n",
       "      <td>188.176164</td>\n",
       "      <td>0</td>\n",
       "      <td>0</td>\n",
       "      <td>0</td>\n",
       "      <td>0</td>\n",
       "      <td>1</td>\n",
       "      <td>0</td>\n",
       "      <td>0</td>\n",
       "      <td>0</td>\n",
       "      <td>0</td>\n",
       "      <td>0</td>\n",
       "      <td>1.0</td>\n",
       "    </tr>\n",
       "    <tr>\n",
       "      <th>9537</th>\n",
       "      <td>0</td>\n",
       "      <td>0.557980</td>\n",
       "      <td>3</td>\n",
       "      <td>1.0</td>\n",
       "      <td>7.0</td>\n",
       "      <td>0.705425</td>\n",
       "      <td>0</td>\n",
       "      <td>186.531008</td>\n",
       "      <td>0</td>\n",
       "      <td>0</td>\n",
       "      <td>0</td>\n",
       "      <td>0</td>\n",
       "      <td>0</td>\n",
       "      <td>0</td>\n",
       "      <td>1</td>\n",
       "      <td>0</td>\n",
       "      <td>0</td>\n",
       "      <td>0</td>\n",
       "      <td>1.0</td>\n",
       "    </tr>\n",
       "    <tr>\n",
       "      <th>9538</th>\n",
       "      <td>0</td>\n",
       "      <td>0.584446</td>\n",
       "      <td>4</td>\n",
       "      <td>2.0</td>\n",
       "      <td>8.0</td>\n",
       "      <td>0.607287</td>\n",
       "      <td>1</td>\n",
       "      <td>187.641370</td>\n",
       "      <td>1</td>\n",
       "      <td>0</td>\n",
       "      <td>0</td>\n",
       "      <td>0</td>\n",
       "      <td>0</td>\n",
       "      <td>0</td>\n",
       "      <td>0</td>\n",
       "      <td>0</td>\n",
       "      <td>0</td>\n",
       "      <td>0</td>\n",
       "      <td>1.0</td>\n",
       "    </tr>\n",
       "    <tr>\n",
       "      <th>9539</th>\n",
       "      <td>0</td>\n",
       "      <td>0.626373</td>\n",
       "      <td>3</td>\n",
       "      <td>1.0</td>\n",
       "      <td>7.0</td>\n",
       "      <td>0.706455</td>\n",
       "      <td>1</td>\n",
       "      <td>185.920934</td>\n",
       "      <td>0</td>\n",
       "      <td>0</td>\n",
       "      <td>0</td>\n",
       "      <td>1</td>\n",
       "      <td>0</td>\n",
       "      <td>0</td>\n",
       "      <td>0</td>\n",
       "      <td>0</td>\n",
       "      <td>0</td>\n",
       "      <td>0</td>\n",
       "      <td>1.0</td>\n",
       "    </tr>\n",
       "  </tbody>\n",
       "</table>\n",
       "<p>9540 rows × 19 columns</p>\n",
       "</div>"
      ]
     },
     "metadata": {
      "application/vnd.databricks.v1+output": {
       "addedWidgets": {},
       "arguments": {},
       "data": "<div>\n<style scoped>\n    .dataframe tbody tr th:only-of-type {\n        vertical-align: middle;\n    }\n\n    .dataframe tbody tr th {\n        vertical-align: top;\n    }\n\n    .dataframe thead th {\n        text-align: right;\n    }\n</style>\n<table border=\"1\" class=\"dataframe\">\n  <thead>\n    <tr style=\"text-align: right;\">\n      <th></th>\n      <th>promoted</th>\n      <th>review</th>\n      <th>projects</th>\n      <th>salary</th>\n      <th>tenure</th>\n      <th>satisfaction</th>\n      <th>bonus</th>\n      <th>avg_hrs_month</th>\n      <th>IT</th>\n      <th>admin</th>\n      <th>engineering</th>\n      <th>finance</th>\n      <th>logistics</th>\n      <th>marketing</th>\n      <th>operations</th>\n      <th>retail</th>\n      <th>sales</th>\n      <th>support</th>\n      <th>left</th>\n    </tr>\n  </thead>\n  <tbody>\n    <tr>\n      <th>0</th>\n      <td>0</td>\n      <td>0.577569</td>\n      <td>3</td>\n      <td>1.0</td>\n      <td>5.0</td>\n      <td>0.626759</td>\n      <td>0</td>\n      <td>180.866070</td>\n      <td>0</td>\n      <td>0</td>\n      <td>0</td>\n      <td>0</td>\n      <td>0</td>\n      <td>0</td>\n      <td>1</td>\n      <td>0</td>\n      <td>0</td>\n      <td>0</td>\n      <td>0.0</td>\n    </tr>\n    <tr>\n      <th>1</th>\n      <td>0</td>\n      <td>0.751900</td>\n      <td>3</td>\n      <td>2.0</td>\n      <td>6.0</td>\n      <td>0.443679</td>\n      <td>0</td>\n      <td>182.708149</td>\n      <td>0</td>\n      <td>0</td>\n      <td>0</td>\n      <td>0</td>\n      <td>0</td>\n      <td>0</td>\n      <td>1</td>\n      <td>0</td>\n      <td>0</td>\n      <td>0</td>\n      <td>0.0</td>\n    </tr>\n    <tr>\n      <th>2</th>\n      <td>0</td>\n      <td>0.722548</td>\n      <td>3</td>\n      <td>2.0</td>\n      <td>6.0</td>\n      <td>0.446823</td>\n      <td>0</td>\n      <td>184.416084</td>\n      <td>0</td>\n      <td>0</td>\n      <td>0</td>\n      <td>0</td>\n      <td>0</td>\n      <td>0</td>\n      <td>0</td>\n      <td>0</td>\n      <td>0</td>\n      <td>1</td>\n      <td>0.0</td>\n    </tr>\n    <tr>\n      <th>3</th>\n      <td>0</td>\n      <td>0.675158</td>\n      <td>4</td>\n      <td>0.0</td>\n      <td>8.0</td>\n      <td>0.440139</td>\n      <td>0</td>\n      <td>188.707545</td>\n      <td>0</td>\n      <td>0</td>\n      <td>0</td>\n      <td>0</td>\n      <td>1</td>\n      <td>0</td>\n      <td>0</td>\n      <td>0</td>\n      <td>0</td>\n      <td>0</td>\n      <td>0.0</td>\n    </tr>\n    <tr>\n      <th>4</th>\n      <td>0</td>\n      <td>0.676203</td>\n      <td>3</td>\n      <td>0.0</td>\n      <td>5.0</td>\n      <td>0.577607</td>\n      <td>1</td>\n      <td>179.821083</td>\n      <td>0</td>\n      <td>0</td>\n      <td>0</td>\n      <td>0</td>\n      <td>0</td>\n      <td>0</td>\n      <td>0</td>\n      <td>0</td>\n      <td>1</td>\n      <td>0</td>\n      <td>0.0</td>\n    </tr>\n    <tr>\n      <th>...</th>\n      <td>...</td>\n      <td>...</td>\n      <td>...</td>\n      <td>...</td>\n      <td>...</td>\n      <td>...</td>\n      <td>...</td>\n      <td>...</td>\n      <td>...</td>\n      <td>...</td>\n      <td>...</td>\n      <td>...</td>\n      <td>...</td>\n      <td>...</td>\n      <td>...</td>\n      <td>...</td>\n      <td>...</td>\n      <td>...</td>\n      <td>...</td>\n    </tr>\n    <tr>\n      <th>9535</th>\n      <td>0</td>\n      <td>0.610988</td>\n      <td>4</td>\n      <td>2.0</td>\n      <td>8.0</td>\n      <td>0.543641</td>\n      <td>0</td>\n      <td>188.155738</td>\n      <td>0</td>\n      <td>0</td>\n      <td>0</td>\n      <td>0</td>\n      <td>0</td>\n      <td>0</td>\n      <td>1</td>\n      <td>0</td>\n      <td>0</td>\n      <td>0</td>\n      <td>1.0</td>\n    </tr>\n    <tr>\n      <th>9536</th>\n      <td>0</td>\n      <td>0.746887</td>\n      <td>3</td>\n      <td>2.0</td>\n      <td>8.0</td>\n      <td>0.549048</td>\n      <td>0</td>\n      <td>188.176164</td>\n      <td>0</td>\n      <td>0</td>\n      <td>0</td>\n      <td>0</td>\n      <td>1</td>\n      <td>0</td>\n      <td>0</td>\n      <td>0</td>\n      <td>0</td>\n      <td>0</td>\n      <td>1.0</td>\n    </tr>\n    <tr>\n      <th>9537</th>\n      <td>0</td>\n      <td>0.557980</td>\n      <td>3</td>\n      <td>1.0</td>\n      <td>7.0</td>\n      <td>0.705425</td>\n      <td>0</td>\n      <td>186.531008</td>\n      <td>0</td>\n      <td>0</td>\n      <td>0</td>\n      <td>0</td>\n      <td>0</td>\n      <td>0</td>\n      <td>1</td>\n      <td>0</td>\n      <td>0</td>\n      <td>0</td>\n      <td>1.0</td>\n    </tr>\n    <tr>\n      <th>9538</th>\n      <td>0</td>\n      <td>0.584446</td>\n      <td>4</td>\n      <td>2.0</td>\n      <td>8.0</td>\n      <td>0.607287</td>\n      <td>1</td>\n      <td>187.641370</td>\n      <td>1</td>\n      <td>0</td>\n      <td>0</td>\n      <td>0</td>\n      <td>0</td>\n      <td>0</td>\n      <td>0</td>\n      <td>0</td>\n      <td>0</td>\n      <td>0</td>\n      <td>1.0</td>\n    </tr>\n    <tr>\n      <th>9539</th>\n      <td>0</td>\n      <td>0.626373</td>\n      <td>3</td>\n      <td>1.0</td>\n      <td>7.0</td>\n      <td>0.706455</td>\n      <td>1</td>\n      <td>185.920934</td>\n      <td>0</td>\n      <td>0</td>\n      <td>0</td>\n      <td>1</td>\n      <td>0</td>\n      <td>0</td>\n      <td>0</td>\n      <td>0</td>\n      <td>0</td>\n      <td>0</td>\n      <td>1.0</td>\n    </tr>\n  </tbody>\n</table>\n<p>9540 rows × 19 columns</p>\n</div>",
       "datasetInfos": [],
       "metadata": {},
       "removedWidgets": [],
       "textData": null,
       "type": "htmlSandbox"
      }
     },
     "output_type": "display_data"
    }
   ],
   "source": [
    "# Ordinal encode of salary and left \n",
    "oe = OrdinalEncoder()\n",
    "\n",
    "df[[\"salary\",\"left\"]] = oe.fit_transform(df[[\"salary\", \"left\"]])\n",
    "#df[\"salary\"] = df[\"salary\"].replace(0,3)\n",
    "df"
   ]
  },
  {
   "cell_type": "code",
   "execution_count": 0,
   "metadata": {
    "application/vnd.databricks.v1+cell": {
     "inputWidgets": {},
     "nuid": "73401ccc-030b-420e-af46-b2a928406c0c",
     "showTitle": false,
     "title": ""
    }
   },
   "outputs": [
    {
     "data": {
      "text/html": [
       "<style scoped>\n",
       "  .ansiout {\n",
       "    display: block;\n",
       "    unicode-bidi: embed;\n",
       "    white-space: pre-wrap;\n",
       "    word-wrap: break-word;\n",
       "    word-break: break-all;\n",
       "    font-family: \"Source Code Pro\", \"Menlo\", monospace;;\n",
       "    font-size: 13px;\n",
       "    color: #555;\n",
       "    margin-left: 4px;\n",
       "    line-height: 19px;\n",
       "  }\n",
       "</style>\n",
       "<div class=\"ansiout\">Out[11]: </div>"
      ]
     },
     "metadata": {
      "application/vnd.databricks.v1+output": {
       "addedWidgets": {},
       "arguments": {},
       "data": "<div class=\"ansiout\">Out[11]: </div>",
       "datasetInfos": [],
       "metadata": {},
       "removedWidgets": [],
       "type": "html"
      }
     },
     "output_type": "display_data"
    },
    {
     "data": {
      "text/html": [
       "<div>\n",
       "<style scoped>\n",
       "    .dataframe tbody tr th:only-of-type {\n",
       "        vertical-align: middle;\n",
       "    }\n",
       "\n",
       "    .dataframe tbody tr th {\n",
       "        vertical-align: top;\n",
       "    }\n",
       "\n",
       "    .dataframe thead th {\n",
       "        text-align: right;\n",
       "    }\n",
       "</style>\n",
       "<table border=\"1\" class=\"dataframe\">\n",
       "  <thead>\n",
       "    <tr style=\"text-align: right;\">\n",
       "      <th></th>\n",
       "      <th>admin</th>\n",
       "      <th>engineering</th>\n",
       "      <th>finance</th>\n",
       "      <th>logistics</th>\n",
       "      <th>marketing</th>\n",
       "      <th>operations</th>\n",
       "      <th>retail</th>\n",
       "      <th>sales</th>\n",
       "      <th>support</th>\n",
       "      <th>left</th>\n",
       "    </tr>\n",
       "  </thead>\n",
       "  <tbody>\n",
       "    <tr>\n",
       "      <th>0</th>\n",
       "      <td>0</td>\n",
       "      <td>0</td>\n",
       "      <td>0</td>\n",
       "      <td>0</td>\n",
       "      <td>0</td>\n",
       "      <td>1</td>\n",
       "      <td>0</td>\n",
       "      <td>0</td>\n",
       "      <td>0</td>\n",
       "      <td>0.0</td>\n",
       "    </tr>\n",
       "    <tr>\n",
       "      <th>1</th>\n",
       "      <td>0</td>\n",
       "      <td>0</td>\n",
       "      <td>0</td>\n",
       "      <td>0</td>\n",
       "      <td>0</td>\n",
       "      <td>1</td>\n",
       "      <td>0</td>\n",
       "      <td>0</td>\n",
       "      <td>0</td>\n",
       "      <td>0.0</td>\n",
       "    </tr>\n",
       "  </tbody>\n",
       "</table>\n",
       "</div>"
      ]
     },
     "metadata": {
      "application/vnd.databricks.v1+output": {
       "addedWidgets": {},
       "arguments": {},
       "data": "<div>\n<style scoped>\n    .dataframe tbody tr th:only-of-type {\n        vertical-align: middle;\n    }\n\n    .dataframe tbody tr th {\n        vertical-align: top;\n    }\n\n    .dataframe thead th {\n        text-align: right;\n    }\n</style>\n<table border=\"1\" class=\"dataframe\">\n  <thead>\n    <tr style=\"text-align: right;\">\n      <th></th>\n      <th>admin</th>\n      <th>engineering</th>\n      <th>finance</th>\n      <th>logistics</th>\n      <th>marketing</th>\n      <th>operations</th>\n      <th>retail</th>\n      <th>sales</th>\n      <th>support</th>\n      <th>left</th>\n    </tr>\n  </thead>\n  <tbody>\n    <tr>\n      <th>0</th>\n      <td>0</td>\n      <td>0</td>\n      <td>0</td>\n      <td>0</td>\n      <td>0</td>\n      <td>1</td>\n      <td>0</td>\n      <td>0</td>\n      <td>0</td>\n      <td>0.0</td>\n    </tr>\n    <tr>\n      <th>1</th>\n      <td>0</td>\n      <td>0</td>\n      <td>0</td>\n      <td>0</td>\n      <td>0</td>\n      <td>1</td>\n      <td>0</td>\n      <td>0</td>\n      <td>0</td>\n      <td>0.0</td>\n    </tr>\n  </tbody>\n</table>\n</div>",
       "datasetInfos": [],
       "metadata": {},
       "removedWidgets": [],
       "textData": null,
       "type": "htmlSandbox"
      }
     },
     "output_type": "display_data"
    }
   ],
   "source": [
    "df_dept = df.iloc[:, -10:]\n",
    "df_dept.head(2)"
   ]
  },
  {
   "cell_type": "code",
   "execution_count": 0,
   "metadata": {
    "application/vnd.databricks.v1+cell": {
     "inputWidgets": {},
     "nuid": "b509a8c2-1cfa-4d7a-aec2-957817f49449",
     "showTitle": false,
     "title": ""
    }
   },
   "outputs": [
    {
     "data": {
      "text/html": [
       "<style scoped>\n",
       "  .ansiout {\n",
       "    display: block;\n",
       "    unicode-bidi: embed;\n",
       "    white-space: pre-wrap;\n",
       "    word-wrap: break-word;\n",
       "    word-break: break-all;\n",
       "    font-family: \"Source Code Pro\", \"Menlo\", monospace;;\n",
       "    font-size: 13px;\n",
       "    color: #555;\n",
       "    margin-left: 4px;\n",
       "    line-height: 19px;\n",
       "  }\n",
       "</style>\n",
       "<div class=\"ansiout\">Out[12]: </div>"
      ]
     },
     "metadata": {
      "application/vnd.databricks.v1+output": {
       "addedWidgets": {},
       "arguments": {},
       "data": "<div class=\"ansiout\">Out[12]: </div>",
       "datasetInfos": [],
       "metadata": {},
       "removedWidgets": [],
       "type": "html"
      }
     },
     "output_type": "display_data"
    },
    {
     "data": {
      "text/html": [
       "<div>\n",
       "<style scoped>\n",
       "    .dataframe tbody tr th:only-of-type {\n",
       "        vertical-align: middle;\n",
       "    }\n",
       "\n",
       "    .dataframe tbody tr th {\n",
       "        vertical-align: top;\n",
       "    }\n",
       "\n",
       "    .dataframe thead th {\n",
       "        text-align: right;\n",
       "    }\n",
       "</style>\n",
       "<table border=\"1\" class=\"dataframe\">\n",
       "  <thead>\n",
       "    <tr style=\"text-align: right;\">\n",
       "      <th></th>\n",
       "      <th>review</th>\n",
       "      <th>satisfaction</th>\n",
       "      <th>avg_hrs_month</th>\n",
       "      <th>tenure</th>\n",
       "      <th>projects</th>\n",
       "      <th>salary</th>\n",
       "      <th>left</th>\n",
       "    </tr>\n",
       "  </thead>\n",
       "  <tbody>\n",
       "    <tr>\n",
       "      <th>0</th>\n",
       "      <td>-0.870524</td>\n",
       "      <td>0.770211</td>\n",
       "      <td>-0.915767</td>\n",
       "      <td>-1.099499</td>\n",
       "      <td>-0.474599</td>\n",
       "      <td>-0.700746</td>\n",
       "      <td>-0.641933</td>\n",
       "    </tr>\n",
       "    <tr>\n",
       "      <th>1</th>\n",
       "      <td>1.173161</td>\n",
       "      <td>-0.384527</td>\n",
       "      <td>-0.471316</td>\n",
       "      <td>-0.392964</td>\n",
       "      <td>-0.474599</td>\n",
       "      <td>0.619641</td>\n",
       "      <td>-0.641933</td>\n",
       "    </tr>\n",
       "    <tr>\n",
       "      <th>2</th>\n",
       "      <td>0.829076</td>\n",
       "      <td>-0.364695</td>\n",
       "      <td>-0.059230</td>\n",
       "      <td>-0.392964</td>\n",
       "      <td>-0.474599</td>\n",
       "      <td>0.619641</td>\n",
       "      <td>-0.641933</td>\n",
       "    </tr>\n",
       "    <tr>\n",
       "      <th>3</th>\n",
       "      <td>0.273521</td>\n",
       "      <td>-0.406856</td>\n",
       "      <td>0.976200</td>\n",
       "      <td>1.020106</td>\n",
       "      <td>1.252203</td>\n",
       "      <td>-2.021133</td>\n",
       "      <td>-0.641933</td>\n",
       "    </tr>\n",
       "    <tr>\n",
       "      <th>4</th>\n",
       "      <td>0.285770</td>\n",
       "      <td>0.460198</td>\n",
       "      <td>-1.167898</td>\n",
       "      <td>-1.099499</td>\n",
       "      <td>-0.474599</td>\n",
       "      <td>-2.021133</td>\n",
       "      <td>-0.641933</td>\n",
       "    </tr>\n",
       "    <tr>\n",
       "      <th>...</th>\n",
       "      <td>...</td>\n",
       "      <td>...</td>\n",
       "      <td>...</td>\n",
       "      <td>...</td>\n",
       "      <td>...</td>\n",
       "      <td>...</td>\n",
       "      <td>...</td>\n",
       "    </tr>\n",
       "    <tr>\n",
       "      <th>9535</th>\n",
       "      <td>-0.478744</td>\n",
       "      <td>0.245959</td>\n",
       "      <td>0.843062</td>\n",
       "      <td>1.020106</td>\n",
       "      <td>1.252203</td>\n",
       "      <td>0.619641</td>\n",
       "      <td>1.557795</td>\n",
       "    </tr>\n",
       "    <tr>\n",
       "      <th>9536</th>\n",
       "      <td>1.114402</td>\n",
       "      <td>0.280068</td>\n",
       "      <td>0.847991</td>\n",
       "      <td>1.020106</td>\n",
       "      <td>-0.474599</td>\n",
       "      <td>0.619641</td>\n",
       "      <td>1.557795</td>\n",
       "    </tr>\n",
       "    <tr>\n",
       "      <th>9537</th>\n",
       "      <td>-1.100166</td>\n",
       "      <td>1.266378</td>\n",
       "      <td>0.451052</td>\n",
       "      <td>0.313571</td>\n",
       "      <td>-0.474599</td>\n",
       "      <td>-0.700746</td>\n",
       "      <td>1.557795</td>\n",
       "    </tr>\n",
       "    <tr>\n",
       "      <th>9538</th>\n",
       "      <td>-0.789903</td>\n",
       "      <td>0.647395</td>\n",
       "      <td>0.718957</td>\n",
       "      <td>1.020106</td>\n",
       "      <td>1.252203</td>\n",
       "      <td>0.619641</td>\n",
       "      <td>1.557795</td>\n",
       "    </tr>\n",
       "    <tr>\n",
       "      <th>9539</th>\n",
       "      <td>-0.298386</td>\n",
       "      <td>1.272875</td>\n",
       "      <td>0.303855</td>\n",
       "      <td>0.313571</td>\n",
       "      <td>-0.474599</td>\n",
       "      <td>-0.700746</td>\n",
       "      <td>1.557795</td>\n",
       "    </tr>\n",
       "  </tbody>\n",
       "</table>\n",
       "<p>9540 rows × 7 columns</p>\n",
       "</div>"
      ]
     },
     "metadata": {
      "application/vnd.databricks.v1+output": {
       "addedWidgets": {},
       "arguments": {},
       "data": "<div>\n<style scoped>\n    .dataframe tbody tr th:only-of-type {\n        vertical-align: middle;\n    }\n\n    .dataframe tbody tr th {\n        vertical-align: top;\n    }\n\n    .dataframe thead th {\n        text-align: right;\n    }\n</style>\n<table border=\"1\" class=\"dataframe\">\n  <thead>\n    <tr style=\"text-align: right;\">\n      <th></th>\n      <th>review</th>\n      <th>satisfaction</th>\n      <th>avg_hrs_month</th>\n      <th>tenure</th>\n      <th>projects</th>\n      <th>salary</th>\n      <th>left</th>\n    </tr>\n  </thead>\n  <tbody>\n    <tr>\n      <th>0</th>\n      <td>-0.870524</td>\n      <td>0.770211</td>\n      <td>-0.915767</td>\n      <td>-1.099499</td>\n      <td>-0.474599</td>\n      <td>-0.700746</td>\n      <td>-0.641933</td>\n    </tr>\n    <tr>\n      <th>1</th>\n      <td>1.173161</td>\n      <td>-0.384527</td>\n      <td>-0.471316</td>\n      <td>-0.392964</td>\n      <td>-0.474599</td>\n      <td>0.619641</td>\n      <td>-0.641933</td>\n    </tr>\n    <tr>\n      <th>2</th>\n      <td>0.829076</td>\n      <td>-0.364695</td>\n      <td>-0.059230</td>\n      <td>-0.392964</td>\n      <td>-0.474599</td>\n      <td>0.619641</td>\n      <td>-0.641933</td>\n    </tr>\n    <tr>\n      <th>3</th>\n      <td>0.273521</td>\n      <td>-0.406856</td>\n      <td>0.976200</td>\n      <td>1.020106</td>\n      <td>1.252203</td>\n      <td>-2.021133</td>\n      <td>-0.641933</td>\n    </tr>\n    <tr>\n      <th>4</th>\n      <td>0.285770</td>\n      <td>0.460198</td>\n      <td>-1.167898</td>\n      <td>-1.099499</td>\n      <td>-0.474599</td>\n      <td>-2.021133</td>\n      <td>-0.641933</td>\n    </tr>\n    <tr>\n      <th>...</th>\n      <td>...</td>\n      <td>...</td>\n      <td>...</td>\n      <td>...</td>\n      <td>...</td>\n      <td>...</td>\n      <td>...</td>\n    </tr>\n    <tr>\n      <th>9535</th>\n      <td>-0.478744</td>\n      <td>0.245959</td>\n      <td>0.843062</td>\n      <td>1.020106</td>\n      <td>1.252203</td>\n      <td>0.619641</td>\n      <td>1.557795</td>\n    </tr>\n    <tr>\n      <th>9536</th>\n      <td>1.114402</td>\n      <td>0.280068</td>\n      <td>0.847991</td>\n      <td>1.020106</td>\n      <td>-0.474599</td>\n      <td>0.619641</td>\n      <td>1.557795</td>\n    </tr>\n    <tr>\n      <th>9537</th>\n      <td>-1.100166</td>\n      <td>1.266378</td>\n      <td>0.451052</td>\n      <td>0.313571</td>\n      <td>-0.474599</td>\n      <td>-0.700746</td>\n      <td>1.557795</td>\n    </tr>\n    <tr>\n      <th>9538</th>\n      <td>-0.789903</td>\n      <td>0.647395</td>\n      <td>0.718957</td>\n      <td>1.020106</td>\n      <td>1.252203</td>\n      <td>0.619641</td>\n      <td>1.557795</td>\n    </tr>\n    <tr>\n      <th>9539</th>\n      <td>-0.298386</td>\n      <td>1.272875</td>\n      <td>0.303855</td>\n      <td>0.313571</td>\n      <td>-0.474599</td>\n      <td>-0.700746</td>\n      <td>1.557795</td>\n    </tr>\n  </tbody>\n</table>\n<p>9540 rows × 7 columns</p>\n</div>",
       "datasetInfos": [],
       "metadata": {},
       "removedWidgets": [],
       "textData": null,
       "type": "htmlSandbox"
      }
     },
     "output_type": "display_data"
    }
   ],
   "source": [
    "# select the continious and ordinal columns for Spearmens' \n",
    "spearmans_cols = ['review','satisfaction', 'avg_hrs_month', 'tenure', 'projects','salary', 'left']\n",
    "df_sp = df[spearmans_cols]\n",
    "df_sp\n",
    "\n",
    "sc = StandardScaler()\n",
    "df_scaled = pd.DataFrame(sc.fit_transform(df_sp), index=df_sp.index, columns=df_sp.columns)\n",
    "df_scaled"
   ]
  },
  {
   "cell_type": "markdown",
   "metadata": {
    "application/vnd.databricks.v1+cell": {
     "inputWidgets": {},
     "nuid": "b116de8e-62ba-45a8-b87d-79ded6ee758f",
     "showTitle": false,
     "title": ""
    }
   },
   "source": [
    "Lets investigate the relationships between the features."
   ]
  },
  {
   "cell_type": "code",
   "execution_count": 0,
   "metadata": {
    "application/vnd.databricks.v1+cell": {
     "inputWidgets": {},
     "nuid": "fa778f4b-e179-4fbf-b77f-abcd976d3a5c",
     "showTitle": false,
     "title": ""
    }
   },
   "outputs": [
    {
     "data": {
      "image/png": "[encoded data removed]"
     },
     "metadata": {
      "application/vnd.databricks.v1+output": {
       "addedWidgets": {},
       "arguments": {},
       "data": "data:image/png;base64,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",
       "datasetInfos": [],
       "metadata": {
        "imageDimensions": {
         "height": 362,
         "width": 714
        }
       },
       "removedWidgets": [],
       "type": "image"
      },
      "image/png": {
       "height": 362,
       "width": 714
      }
     },
     "output_type": "display_data"
    }
   ],
   "source": [
    "corrmat = df_scaled.corr(method ='spearman')\n",
    "top_corr_features = corrmat.index\n",
    "plt.figure(figsize=(12,6))\n",
    "#plot heat map\n",
    "g=sns.heatmap(df_scaled[top_corr_features].corr(),annot=True,cmap=\"RdYlGn\")"
   ]
  },
  {
   "cell_type": "markdown",
   "metadata": {
    "application/vnd.databricks.v1+cell": {
     "inputWidgets": {},
     "nuid": "6c235983-7666-40e9-9f65-15425d50119f",
     "showTitle": false,
     "title": ""
    }
   },
   "source": [
    "Spearman's correlation is good for ordinal data. The correlation matrix shows that satisfaction from the job and the number of projects an employee's involved indicate a negative relationship with employee departure, i.e. a satisfied employee busy with many projects is more likely to stay. However, high review scores seem to significantly contribute to the number of depatures with the corr coef = 0.3. Meanwhile, satisfaction is negatively correlated with performance reviews, suggesting that higher scores in reviews area associated with lower levels of satisfaction. Average hours of work per month are almost perfectly postively correlated, suggesting that they're interchangble as features."
   ]
  },
  {
   "cell_type": "code",
   "execution_count": 0,
   "metadata": {
    "application/vnd.databricks.v1+cell": {
     "inputWidgets": {},
     "nuid": "d17334d8-ee2e-48eb-a551-47bde9d313f3",
     "showTitle": false,
     "title": ""
    }
   },
   "outputs": [
    {
     "data": {
      "text/html": [
       "<style scoped>\n",
       "  .ansiout {\n",
       "    display: block;\n",
       "    unicode-bidi: embed;\n",
       "    white-space: pre-wrap;\n",
       "    word-wrap: break-word;\n",
       "    word-break: break-all;\n",
       "    font-family: \"Source Code Pro\", \"Menlo\", monospace;;\n",
       "    font-size: 13px;\n",
       "    color: #555;\n",
       "    margin-left: 4px;\n",
       "    line-height: 19px;\n",
       "  }\n",
       "</style>\n",
       "<div class=\"ansiout\">Out[14]: </div>"
      ]
     },
     "metadata": {
      "application/vnd.databricks.v1+output": {
       "addedWidgets": {},
       "arguments": {},
       "data": "<div class=\"ansiout\">Out[14]: </div>",
       "datasetInfos": [],
       "metadata": {},
       "removedWidgets": [],
       "type": "html"
      }
     },
     "output_type": "display_data"
    },
    {
     "data": {
      "text/html": [
       "<div>\n",
       "<style scoped>\n",
       "    .dataframe tbody tr th:only-of-type {\n",
       "        vertical-align: middle;\n",
       "    }\n",
       "\n",
       "    .dataframe tbody tr th {\n",
       "        vertical-align: top;\n",
       "    }\n",
       "\n",
       "    .dataframe thead th {\n",
       "        text-align: right;\n",
       "    }\n",
       "</style>\n",
       "<table border=\"1\" class=\"dataframe\">\n",
       "  <thead>\n",
       "    <tr style=\"text-align: right;\">\n",
       "      <th></th>\n",
       "      <th>promoted</th>\n",
       "      <th>review</th>\n",
       "      <th>projects</th>\n",
       "      <th>salary</th>\n",
       "      <th>tenure</th>\n",
       "      <th>satisfaction</th>\n",
       "      <th>bonus</th>\n",
       "      <th>avg_hrs_month</th>\n",
       "      <th>IT</th>\n",
       "      <th>admin</th>\n",
       "      <th>engineering</th>\n",
       "      <th>finance</th>\n",
       "      <th>logistics</th>\n",
       "      <th>marketing</th>\n",
       "      <th>operations</th>\n",
       "      <th>retail</th>\n",
       "      <th>sales</th>\n",
       "      <th>support</th>\n",
       "      <th>left</th>\n",
       "    </tr>\n",
       "  </thead>\n",
       "  <tbody>\n",
       "    <tr>\n",
       "      <th>0</th>\n",
       "      <td>-0.176748</td>\n",
       "      <td>-0.870524</td>\n",
       "      <td>-0.474599</td>\n",
       "      <td>-0.700746</td>\n",
       "      <td>-1.099499</td>\n",
       "      <td>0.770211</td>\n",
       "      <td>-0.518771</td>\n",
       "      <td>-0.915767</td>\n",
       "      <td>-0.196883</td>\n",
       "      <td>-0.215399</td>\n",
       "      <td>-0.434664</td>\n",
       "      <td>-0.209743</td>\n",
       "      <td>-0.198030</td>\n",
       "      <td>-0.302957</td>\n",
       "      <td>2.295227</td>\n",
       "      <td>-0.438918</td>\n",
       "      <td>-0.495902</td>\n",
       "      <td>-0.288921</td>\n",
       "      <td>-0.641933</td>\n",
       "    </tr>\n",
       "    <tr>\n",
       "      <th>1</th>\n",
       "      <td>-0.176748</td>\n",
       "      <td>1.173161</td>\n",
       "      <td>-0.474599</td>\n",
       "      <td>0.619641</td>\n",
       "      <td>-0.392964</td>\n",
       "      <td>-0.384527</td>\n",
       "      <td>-0.518771</td>\n",
       "      <td>-0.471316</td>\n",
       "      <td>-0.196883</td>\n",
       "      <td>-0.215399</td>\n",
       "      <td>-0.434664</td>\n",
       "      <td>-0.209743</td>\n",
       "      <td>-0.198030</td>\n",
       "      <td>-0.302957</td>\n",
       "      <td>2.295227</td>\n",
       "      <td>-0.438918</td>\n",
       "      <td>-0.495902</td>\n",
       "      <td>-0.288921</td>\n",
       "      <td>-0.641933</td>\n",
       "    </tr>\n",
       "    <tr>\n",
       "      <th>2</th>\n",
       "      <td>-0.176748</td>\n",
       "      <td>0.829076</td>\n",
       "      <td>-0.474599</td>\n",
       "      <td>0.619641</td>\n",
       "      <td>-0.392964</td>\n",
       "      <td>-0.364695</td>\n",
       "      <td>-0.518771</td>\n",
       "      <td>-0.059230</td>\n",
       "      <td>-0.196883</td>\n",
       "      <td>-0.215399</td>\n",
       "      <td>-0.434664</td>\n",
       "      <td>-0.209743</td>\n",
       "      <td>-0.198030</td>\n",
       "      <td>-0.302957</td>\n",
       "      <td>-0.435687</td>\n",
       "      <td>-0.438918</td>\n",
       "      <td>-0.495902</td>\n",
       "      <td>3.461155</td>\n",
       "      <td>-0.641933</td>\n",
       "    </tr>\n",
       "    <tr>\n",
       "      <th>3</th>\n",
       "      <td>-0.176748</td>\n",
       "      <td>0.273521</td>\n",
       "      <td>1.252203</td>\n",
       "      <td>-2.021133</td>\n",
       "      <td>1.020106</td>\n",
       "      <td>-0.406856</td>\n",
       "      <td>-0.518771</td>\n",
       "      <td>0.976200</td>\n",
       "      <td>-0.196883</td>\n",
       "      <td>-0.215399</td>\n",
       "      <td>-0.434664</td>\n",
       "      <td>-0.209743</td>\n",
       "      <td>5.049752</td>\n",
       "      <td>-0.302957</td>\n",
       "      <td>-0.435687</td>\n",
       "      <td>-0.438918</td>\n",
       "      <td>-0.495902</td>\n",
       "      <td>-0.288921</td>\n",
       "      <td>-0.641933</td>\n",
       "    </tr>\n",
       "    <tr>\n",
       "      <th>4</th>\n",
       "      <td>-0.176748</td>\n",
       "      <td>0.285770</td>\n",
       "      <td>-0.474599</td>\n",
       "      <td>-2.021133</td>\n",
       "      <td>-1.099499</td>\n",
       "      <td>0.460198</td>\n",
       "      <td>1.927633</td>\n",
       "      <td>-1.167898</td>\n",
       "      <td>-0.196883</td>\n",
       "      <td>-0.215399</td>\n",
       "      <td>-0.434664</td>\n",
       "      <td>-0.209743</td>\n",
       "      <td>-0.198030</td>\n",
       "      <td>-0.302957</td>\n",
       "      <td>-0.435687</td>\n",
       "      <td>-0.438918</td>\n",
       "      <td>2.016528</td>\n",
       "      <td>-0.288921</td>\n",
       "      <td>-0.641933</td>\n",
       "    </tr>\n",
       "    <tr>\n",
       "      <th>...</th>\n",
       "      <td>...</td>\n",
       "      <td>...</td>\n",
       "      <td>...</td>\n",
       "      <td>...</td>\n",
       "      <td>...</td>\n",
       "      <td>...</td>\n",
       "      <td>...</td>\n",
       "      <td>...</td>\n",
       "      <td>...</td>\n",
       "      <td>...</td>\n",
       "      <td>...</td>\n",
       "      <td>...</td>\n",
       "      <td>...</td>\n",
       "      <td>...</td>\n",
       "      <td>...</td>\n",
       "      <td>...</td>\n",
       "      <td>...</td>\n",
       "      <td>...</td>\n",
       "      <td>...</td>\n",
       "    </tr>\n",
       "    <tr>\n",
       "      <th>9535</th>\n",
       "      <td>-0.176748</td>\n",
       "      <td>-0.478744</td>\n",
       "      <td>1.252203</td>\n",
       "      <td>0.619641</td>\n",
       "      <td>1.020106</td>\n",
       "      <td>0.245959</td>\n",
       "      <td>-0.518771</td>\n",
       "      <td>0.843062</td>\n",
       "      <td>-0.196883</td>\n",
       "      <td>-0.215399</td>\n",
       "      <td>-0.434664</td>\n",
       "      <td>-0.209743</td>\n",
       "      <td>-0.198030</td>\n",
       "      <td>-0.302957</td>\n",
       "      <td>2.295227</td>\n",
       "      <td>-0.438918</td>\n",
       "      <td>-0.495902</td>\n",
       "      <td>-0.288921</td>\n",
       "      <td>1.557795</td>\n",
       "    </tr>\n",
       "    <tr>\n",
       "      <th>9536</th>\n",
       "      <td>-0.176748</td>\n",
       "      <td>1.114402</td>\n",
       "      <td>-0.474599</td>\n",
       "      <td>0.619641</td>\n",
       "      <td>1.020106</td>\n",
       "      <td>0.280068</td>\n",
       "      <td>-0.518771</td>\n",
       "      <td>0.847991</td>\n",
       "      <td>-0.196883</td>\n",
       "      <td>-0.215399</td>\n",
       "      <td>-0.434664</td>\n",
       "      <td>-0.209743</td>\n",
       "      <td>5.049752</td>\n",
       "      <td>-0.302957</td>\n",
       "      <td>-0.435687</td>\n",
       "      <td>-0.438918</td>\n",
       "      <td>-0.495902</td>\n",
       "      <td>-0.288921</td>\n",
       "      <td>1.557795</td>\n",
       "    </tr>\n",
       "    <tr>\n",
       "      <th>9537</th>\n",
       "      <td>-0.176748</td>\n",
       "      <td>-1.100166</td>\n",
       "      <td>-0.474599</td>\n",
       "      <td>-0.700746</td>\n",
       "      <td>0.313571</td>\n",
       "      <td>1.266378</td>\n",
       "      <td>-0.518771</td>\n",
       "      <td>0.451052</td>\n",
       "      <td>-0.196883</td>\n",
       "      <td>-0.215399</td>\n",
       "      <td>-0.434664</td>\n",
       "      <td>-0.209743</td>\n",
       "      <td>-0.198030</td>\n",
       "      <td>-0.302957</td>\n",
       "      <td>2.295227</td>\n",
       "      <td>-0.438918</td>\n",
       "      <td>-0.495902</td>\n",
       "      <td>-0.288921</td>\n",
       "      <td>1.557795</td>\n",
       "    </tr>\n",
       "    <tr>\n",
       "      <th>9538</th>\n",
       "      <td>-0.176748</td>\n",
       "      <td>-0.789903</td>\n",
       "      <td>1.252203</td>\n",
       "      <td>0.619641</td>\n",
       "      <td>1.020106</td>\n",
       "      <td>0.647395</td>\n",
       "      <td>1.927633</td>\n",
       "      <td>0.718957</td>\n",
       "      <td>5.079149</td>\n",
       "      <td>-0.215399</td>\n",
       "      <td>-0.434664</td>\n",
       "      <td>-0.209743</td>\n",
       "      <td>-0.198030</td>\n",
       "      <td>-0.302957</td>\n",
       "      <td>-0.435687</td>\n",
       "      <td>-0.438918</td>\n",
       "      <td>-0.495902</td>\n",
       "      <td>-0.288921</td>\n",
       "      <td>1.557795</td>\n",
       "    </tr>\n",
       "    <tr>\n",
       "      <th>9539</th>\n",
       "      <td>-0.176748</td>\n",
       "      <td>-0.298386</td>\n",
       "      <td>-0.474599</td>\n",
       "      <td>-0.700746</td>\n",
       "      <td>0.313571</td>\n",
       "      <td>1.272875</td>\n",
       "      <td>1.927633</td>\n",
       "      <td>0.303855</td>\n",
       "      <td>-0.196883</td>\n",
       "      <td>-0.215399</td>\n",
       "      <td>-0.434664</td>\n",
       "      <td>4.767740</td>\n",
       "      <td>-0.198030</td>\n",
       "      <td>-0.302957</td>\n",
       "      <td>-0.435687</td>\n",
       "      <td>-0.438918</td>\n",
       "      <td>-0.495902</td>\n",
       "      <td>-0.288921</td>\n",
       "      <td>1.557795</td>\n",
       "    </tr>\n",
       "  </tbody>\n",
       "</table>\n",
       "<p>9540 rows × 19 columns</p>\n",
       "</div>"
      ]
     },
     "metadata": {
      "application/vnd.databricks.v1+output": {
       "addedWidgets": {},
       "arguments": {},
       "data": "<div>\n<style scoped>\n    .dataframe tbody tr th:only-of-type {\n        vertical-align: middle;\n    }\n\n    .dataframe tbody tr th {\n        vertical-align: top;\n    }\n\n    .dataframe thead th {\n        text-align: right;\n    }\n</style>\n<table border=\"1\" class=\"dataframe\">\n  <thead>\n    <tr style=\"text-align: right;\">\n      <th></th>\n      <th>promoted</th>\n      <th>review</th>\n      <th>projects</th>\n      <th>salary</th>\n      <th>tenure</th>\n      <th>satisfaction</th>\n      <th>bonus</th>\n      <th>avg_hrs_month</th>\n      <th>IT</th>\n      <th>admin</th>\n      <th>engineering</th>\n      <th>finance</th>\n      <th>logistics</th>\n      <th>marketing</th>\n      <th>operations</th>\n      <th>retail</th>\n      <th>sales</th>\n      <th>support</th>\n      <th>left</th>\n    </tr>\n  </thead>\n  <tbody>\n    <tr>\n      <th>0</th>\n      <td>-0.176748</td>\n      <td>-0.870524</td>\n      <td>-0.474599</td>\n      <td>-0.700746</td>\n      <td>-1.099499</td>\n      <td>0.770211</td>\n      <td>-0.518771</td>\n      <td>-0.915767</td>\n      <td>-0.196883</td>\n      <td>-0.215399</td>\n      <td>-0.434664</td>\n      <td>-0.209743</td>\n      <td>-0.198030</td>\n      <td>-0.302957</td>\n      <td>2.295227</td>\n      <td>-0.438918</td>\n      <td>-0.495902</td>\n      <td>-0.288921</td>\n      <td>-0.641933</td>\n    </tr>\n    <tr>\n      <th>1</th>\n      <td>-0.176748</td>\n      <td>1.173161</td>\n      <td>-0.474599</td>\n      <td>0.619641</td>\n      <td>-0.392964</td>\n      <td>-0.384527</td>\n      <td>-0.518771</td>\n      <td>-0.471316</td>\n      <td>-0.196883</td>\n      <td>-0.215399</td>\n      <td>-0.434664</td>\n      <td>-0.209743</td>\n      <td>-0.198030</td>\n      <td>-0.302957</td>\n      <td>2.295227</td>\n      <td>-0.438918</td>\n      <td>-0.495902</td>\n      <td>-0.288921</td>\n      <td>-0.641933</td>\n    </tr>\n    <tr>\n      <th>2</th>\n      <td>-0.176748</td>\n      <td>0.829076</td>\n      <td>-0.474599</td>\n      <td>0.619641</td>\n      <td>-0.392964</td>\n      <td>-0.364695</td>\n      <td>-0.518771</td>\n      <td>-0.059230</td>\n      <td>-0.196883</td>\n      <td>-0.215399</td>\n      <td>-0.434664</td>\n      <td>-0.209743</td>\n      <td>-0.198030</td>\n      <td>-0.302957</td>\n      <td>-0.435687</td>\n      <td>-0.438918</td>\n      <td>-0.495902</td>\n      <td>3.461155</td>\n      <td>-0.641933</td>\n    </tr>\n    <tr>\n      <th>3</th>\n      <td>-0.176748</td>\n      <td>0.273521</td>\n      <td>1.252203</td>\n      <td>-2.021133</td>\n      <td>1.020106</td>\n      <td>-0.406856</td>\n      <td>-0.518771</td>\n      <td>0.976200</td>\n      <td>-0.196883</td>\n      <td>-0.215399</td>\n      <td>-0.434664</td>\n      <td>-0.209743</td>\n      <td>5.049752</td>\n      <td>-0.302957</td>\n      <td>-0.435687</td>\n      <td>-0.438918</td>\n      <td>-0.495902</td>\n      <td>-0.288921</td>\n      <td>-0.641933</td>\n    </tr>\n    <tr>\n      <th>4</th>\n      <td>-0.176748</td>\n      <td>0.285770</td>\n      <td>-0.474599</td>\n      <td>-2.021133</td>\n      <td>-1.099499</td>\n      <td>0.460198</td>\n      <td>1.927633</td>\n      <td>-1.167898</td>\n      <td>-0.196883</td>\n      <td>-0.215399</td>\n      <td>-0.434664</td>\n      <td>-0.209743</td>\n      <td>-0.198030</td>\n      <td>-0.302957</td>\n      <td>-0.435687</td>\n      <td>-0.438918</td>\n      <td>2.016528</td>\n      <td>-0.288921</td>\n      <td>-0.641933</td>\n    </tr>\n    <tr>\n      <th>...</th>\n      <td>...</td>\n      <td>...</td>\n      <td>...</td>\n      <td>...</td>\n      <td>...</td>\n      <td>...</td>\n      <td>...</td>\n      <td>...</td>\n      <td>...</td>\n      <td>...</td>\n      <td>...</td>\n      <td>...</td>\n      <td>...</td>\n      <td>...</td>\n      <td>...</td>\n      <td>...</td>\n      <td>...</td>\n      <td>...</td>\n      <td>...</td>\n    </tr>\n    <tr>\n      <th>9535</th>\n      <td>-0.176748</td>\n      <td>-0.478744</td>\n      <td>1.252203</td>\n      <td>0.619641</td>\n      <td>1.020106</td>\n      <td>0.245959</td>\n      <td>-0.518771</td>\n      <td>0.843062</td>\n      <td>-0.196883</td>\n      <td>-0.215399</td>\n      <td>-0.434664</td>\n      <td>-0.209743</td>\n      <td>-0.198030</td>\n      <td>-0.302957</td>\n      <td>2.295227</td>\n      <td>-0.438918</td>\n      <td>-0.495902</td>\n      <td>-0.288921</td>\n      <td>1.557795</td>\n    </tr>\n    <tr>\n      <th>9536</th>\n      <td>-0.176748</td>\n      <td>1.114402</td>\n      <td>-0.474599</td>\n      <td>0.619641</td>\n      <td>1.020106</td>\n      <td>0.280068</td>\n      <td>-0.518771</td>\n      <td>0.847991</td>\n      <td>-0.196883</td>\n      <td>-0.215399</td>\n      <td>-0.434664</td>\n      <td>-0.209743</td>\n      <td>5.049752</td>\n      <td>-0.302957</td>\n      <td>-0.435687</td>\n      <td>-0.438918</td>\n      <td>-0.495902</td>\n      <td>-0.288921</td>\n      <td>1.557795</td>\n    </tr>\n    <tr>\n      <th>9537</th>\n      <td>-0.176748</td>\n      <td>-1.100166</td>\n      <td>-0.474599</td>\n      <td>-0.700746</td>\n      <td>0.313571</td>\n      <td>1.266378</td>\n      <td>-0.518771</td>\n      <td>0.451052</td>\n      <td>-0.196883</td>\n      <td>-0.215399</td>\n      <td>-0.434664</td>\n      <td>-0.209743</td>\n      <td>-0.198030</td>\n      <td>-0.302957</td>\n      <td>2.295227</td>\n      <td>-0.438918</td>\n      <td>-0.495902</td>\n      <td>-0.288921</td>\n      <td>1.557795</td>\n    </tr>\n    <tr>\n      <th>9538</th>\n      <td>-0.176748</td>\n      <td>-0.789903</td>\n      <td>1.252203</td>\n      <td>0.619641</td>\n      <td>1.020106</td>\n      <td>0.647395</td>\n      <td>1.927633</td>\n      <td>0.718957</td>\n      <td>5.079149</td>\n      <td>-0.215399</td>\n      <td>-0.434664</td>\n      <td>-0.209743</td>\n      <td>-0.198030</td>\n      <td>-0.302957</td>\n      <td>-0.435687</td>\n      <td>-0.438918</td>\n      <td>-0.495902</td>\n      <td>-0.288921</td>\n      <td>1.557795</td>\n    </tr>\n    <tr>\n      <th>9539</th>\n      <td>-0.176748</td>\n      <td>-0.298386</td>\n      <td>-0.474599</td>\n      <td>-0.700746</td>\n      <td>0.313571</td>\n      <td>1.272875</td>\n      <td>1.927633</td>\n      <td>0.303855</td>\n      <td>-0.196883</td>\n      <td>-0.215399</td>\n      <td>-0.434664</td>\n      <td>4.767740</td>\n      <td>-0.198030</td>\n      <td>-0.302957</td>\n      <td>-0.435687</td>\n      <td>-0.438918</td>\n      <td>-0.495902</td>\n      <td>-0.288921</td>\n      <td>1.557795</td>\n    </tr>\n  </tbody>\n</table>\n<p>9540 rows × 19 columns</p>\n</div>",
       "datasetInfos": [],
       "metadata": {},
       "removedWidgets": [],
       "textData": null,
       "type": "htmlSandbox"
      }
     },
     "output_type": "display_data"
    }
   ],
   "source": [
    "X_features = df.drop('left', axis=1)\n",
    "y_target = df[['left']]\n",
    "\n",
    "sc = StandardScaler()\n",
    "X_features_scaled = sc.fit_transform(X_features)\n",
    "X_features_scaled\n",
    "\n",
    "df_scaled = pd.DataFrame(sc.fit_transform(df), index=df.index, columns=df.columns)\n",
    "df_scaled"
   ]
  },
  {
   "cell_type": "code",
   "execution_count": 0,
   "metadata": {
    "application/vnd.databricks.v1+cell": {
     "inputWidgets": {},
     "nuid": "8e29ad37-4151-480c-b7f2-fae916248469",
     "showTitle": false,
     "title": ""
    }
   },
   "outputs": [
    {
     "data": {
      "text/html": [
       "<style scoped>\n",
       "  .ansiout {\n",
       "    display: block;\n",
       "    unicode-bidi: embed;\n",
       "    white-space: pre-wrap;\n",
       "    word-wrap: break-word;\n",
       "    word-break: break-all;\n",
       "    font-family: \"Source Code Pro\", \"Menlo\", monospace;;\n",
       "    font-size: 13px;\n",
       "    color: #555;\n",
       "    margin-left: 4px;\n",
       "    line-height: 19px;\n",
       "  }\n",
       "</style>\n",
       "<div class=\"ansiout\"></div>"
      ]
     },
     "metadata": {
      "application/vnd.databricks.v1+output": {
       "addedWidgets": {},
       "arguments": {},
       "data": "<div class=\"ansiout\"></div>",
       "datasetInfos": [],
       "metadata": {},
       "removedWidgets": [],
       "type": "html"
      }
     },
     "output_type": "display_data"
    }
   ],
   "source": [
    "X_train, X_test, y_train, y_test = train_test_split(X_features_scaled, y_target, test_size=0.15, random_state=32)"
   ]
  },
  {
   "cell_type": "markdown",
   "metadata": {
    "application/vnd.databricks.v1+cell": {
     "inputWidgets": {},
     "nuid": "6739a707-b808-41ab-8c87-30e03c4b5c0e",
     "showTitle": false,
     "title": ""
    }
   },
   "source": [
    "### 3. Modelling and feature selection."
   ]
  },
  {
   "cell_type": "markdown",
   "metadata": {
    "application/vnd.databricks.v1+cell": {
     "inputWidgets": {},
     "nuid": "3bd134e4-7804-49d4-bb10-88f77e7c451a",
     "showTitle": false,
     "title": ""
    }
   },
   "source": [
    "Distance based methods such as KNN,  Decision trees and their ensemble, Random Forest are better at handing mixed data. Tree-based models are good at capturing non-linear relationships between the categorical features and the target, and they tend to handle feature collinearity better.\n",
    "I will be using two methods for feature selection described here, <https://scikit-learn.org/stable/modules/feature_selection.html>\n",
    "    - Univariate feature selection with the mutual information(M()) classification function,\n",
    "    - Tree-based feature importances with the SelectFromModel meta-transformer\n",
    "  \n",
    "MI measures the degree of relatedness between data sets, or in other words, it  quantifies the extent to which a feature (e.g. the review score) determines the employee's departure."
   ]
  },
  {
   "cell_type": "code",
   "execution_count": 0,
   "metadata": {
    "application/vnd.databricks.v1+cell": {
     "inputWidgets": {},
     "nuid": "63d7c656-5595-4ab1-af69-0adaca56d75a",
     "showTitle": false,
     "title": ""
    }
   },
   "outputs": [
    {
     "data": {
      "text/html": [
       "<style scoped>\n",
       "  .ansiout {\n",
       "    display: block;\n",
       "    unicode-bidi: embed;\n",
       "    white-space: pre-wrap;\n",
       "    word-wrap: break-word;\n",
       "    word-break: break-all;\n",
       "    font-family: \"Source Code Pro\", \"Menlo\", monospace;;\n",
       "    font-size: 13px;\n",
       "    color: #555;\n",
       "    margin-left: 4px;\n",
       "    line-height: 19px;\n",
       "  }\n",
       "</style>\n",
       "<div class=\"ansiout\">/local_disk0/.ephemeral_nfs/envs/pythonEnv-1d35843b-1760-4636-a182-01fc9b25d67b/lib/python3.8/site-packages/sklearn/utils/validation.py:993: DataConversionWarning: A column-vector y was passed when a 1d array was expected. Please change the shape of y to (n_samples, ), for example using ravel().\n",
       "  y = column_or_1d(y, warn=True)\n",
       "Out[16]: SelectKBest(k=5, score_func=&lt;function mutual_info_classif at 0x7fcc09aa7040&gt;)</div>"
      ]
     },
     "metadata": {
      "application/vnd.databricks.v1+output": {
       "addedWidgets": {},
       "arguments": {},
       "data": "<div class=\"ansiout\">/local_disk0/.ephemeral_nfs/envs/pythonEnv-1d35843b-1760-4636-a182-01fc9b25d67b/lib/python3.8/site-packages/sklearn/utils/validation.py:993: DataConversionWarning: A column-vector y was passed when a 1d array was expected. Please change the shape of y to (n_samples, ), for example using ravel().\n  y = column_or_1d(y, warn=True)\nOut[16]: SelectKBest(k=5, score_func=&lt;function mutual_info_classif at 0x7fcc09aa7040&gt;)</div>",
       "datasetInfos": [],
       "metadata": {},
       "removedWidgets": [],
       "type": "html"
      }
     },
     "output_type": "display_data"
    }
   ],
   "source": [
    "from sklearn.feature_selection import SelectKBest, mutual_info_classif\n",
    "\n",
    "fs = SelectKBest(score_func=mutual_info_classif, k=5).fit(X_features, y_target)\n",
    "fs"
   ]
  },
  {
   "cell_type": "code",
   "execution_count": 0,
   "metadata": {
    "application/vnd.databricks.v1+cell": {
     "inputWidgets": {},
     "nuid": "9daf7886-9c5b-449a-a03f-a67a3eb10da5",
     "showTitle": false,
     "title": ""
    }
   },
   "outputs": [
    {
     "data": {
      "text/html": [
       "<style scoped>\n",
       "  .ansiout {\n",
       "    display: block;\n",
       "    unicode-bidi: embed;\n",
       "    white-space: pre-wrap;\n",
       "    word-wrap: break-word;\n",
       "    word-break: break-all;\n",
       "    font-family: \"Source Code Pro\", \"Menlo\", monospace;;\n",
       "    font-size: 13px;\n",
       "    color: #555;\n",
       "    margin-left: 4px;\n",
       "    line-height: 19px;\n",
       "  }\n",
       "</style>\n",
       "<div class=\"ansiout\"></div>"
      ]
     },
     "metadata": {
      "application/vnd.databricks.v1+output": {
       "addedWidgets": {},
       "arguments": {},
       "data": "<div class=\"ansiout\"></div>",
       "datasetInfos": [],
       "metadata": {},
       "removedWidgets": [],
       "type": "html"
      }
     },
     "output_type": "display_data"
    }
   ],
   "source": [
    "#projects and tenure can be ordinarily encoded. Num_cols include continious  data while cat_cols include categorical/binomial.\n",
    "\n",
    "num_cols = ['review','satisfaction', 'avg_hrs_month', 'tenure', 'projects']\n",
    "cat_cols = ['salary','department','bonus','promoted','left']"
   ]
  },
  {
   "cell_type": "code",
   "execution_count": 0,
   "metadata": {
    "application/vnd.databricks.v1+cell": {
     "inputWidgets": {},
     "nuid": "bc66cb05-3838-4f3d-849e-fd9e122a13d0",
     "showTitle": false,
     "title": ""
    }
   },
   "outputs": [
    {
     "data": {
      "text/html": [
       "<style scoped>\n",
       "  .ansiout {\n",
       "    display: block;\n",
       "    unicode-bidi: embed;\n",
       "    white-space: pre-wrap;\n",
       "    word-wrap: break-word;\n",
       "    word-break: break-all;\n",
       "    font-family: \"Source Code Pro\", \"Menlo\", monospace;;\n",
       "    font-size: 13px;\n",
       "    color: #555;\n",
       "    margin-left: 4px;\n",
       "    line-height: 19px;\n",
       "  }\n",
       "</style>\n",
       "<div class=\"ansiout\">[0.01167608 0.06208892 0.00195912 0.00861827 0.03405772 0.00082961\n",
       " 0.         0.05998497 0.00280281 0.         0.         0.\n",
       " 0.00098446 0.         0.         0.0015879  0.00695947 0.00328638]\n",
       "</div>"
      ]
     },
     "metadata": {
      "application/vnd.databricks.v1+output": {
       "addedWidgets": {},
       "arguments": {},
       "data": "<div class=\"ansiout\">[0.01167608 0.06208892 0.00195912 0.00861827 0.03405772 0.00082961\n 0.         0.05998497 0.00280281 0.         0.         0.\n 0.00098446 0.         0.         0.0015879  0.00695947 0.00328638]\n</div>",
       "datasetInfos": [],
       "metadata": {},
       "removedWidgets": [],
       "type": "html"
      }
     },
     "output_type": "display_data"
    }
   ],
   "source": [
    "print(fs.scores_)"
   ]
  },
  {
   "cell_type": "code",
   "execution_count": 0,
   "metadata": {
    "application/vnd.databricks.v1+cell": {
     "inputWidgets": {},
     "nuid": "6f823b85-3598-4ad6-93ad-5f1da5d5dfc8",
     "showTitle": false,
     "title": ""
    }
   },
   "outputs": [
    {
     "data": {
      "text/html": [
       "<style scoped>\n",
       "  .ansiout {\n",
       "    display: block;\n",
       "    unicode-bidi: embed;\n",
       "    white-space: pre-wrap;\n",
       "    word-wrap: break-word;\n",
       "    word-break: break-all;\n",
       "    font-family: \"Source Code Pro\", \"Menlo\", monospace;;\n",
       "    font-size: 13px;\n",
       "    color: #555;\n",
       "    margin-left: 4px;\n",
       "    line-height: 19px;\n",
       "  }\n",
       "</style>\n",
       "<div class=\"ansiout\"></div>"
      ]
     },
     "metadata": {
      "application/vnd.databricks.v1+output": {
       "addedWidgets": {},
       "arguments": {},
       "data": "<div class=\"ansiout\"></div>",
       "datasetInfos": [],
       "metadata": {},
       "removedWidgets": [],
       "type": "html"
      }
     },
     "output_type": "display_data"
    }
   ],
   "source": [
    "f_importance = fs.scores_"
   ]
  },
  {
   "cell_type": "code",
   "execution_count": 0,
   "metadata": {
    "application/vnd.databricks.v1+cell": {
     "inputWidgets": {},
     "nuid": "80312f32-ddae-45ff-ae97-9224177ec09e",
     "showTitle": false,
     "title": ""
    }
   },
   "outputs": [
    {
     "data": {
      "text/html": [
       "<style scoped>\n",
       "  .ansiout {\n",
       "    display: block;\n",
       "    unicode-bidi: embed;\n",
       "    white-space: pre-wrap;\n",
       "    word-wrap: break-word;\n",
       "    word-break: break-all;\n",
       "    font-family: \"Source Code Pro\", \"Menlo\", monospace;;\n",
       "    font-size: 13px;\n",
       "    color: #555;\n",
       "    margin-left: 4px;\n",
       "    line-height: 19px;\n",
       "  }\n",
       "</style>\n",
       "<div class=\"ansiout\">Out[20]: array([14, 13,  6, 11,  9, 10,  5, 12, 15,  2,  8, 17, 16,  3,  0,  4,  7,\n",
       "        1])</div>"
      ]
     },
     "metadata": {
      "application/vnd.databricks.v1+output": {
       "addedWidgets": {},
       "arguments": {},
       "data": "<div class=\"ansiout\">Out[20]: array([14, 13,  6, 11,  9, 10,  5, 12, 15,  2,  8, 17, 16,  3,  0,  4,  7,\n        1])</div>",
       "datasetInfos": [],
       "metadata": {},
       "removedWidgets": [],
       "type": "html"
      }
     },
     "output_type": "display_data"
    }
   ],
   "source": [
    "idx = np.argsort(f_importance)\n",
    "idx"
   ]
  },
  {
   "cell_type": "code",
   "execution_count": 0,
   "metadata": {
    "application/vnd.databricks.v1+cell": {
     "inputWidgets": {},
     "nuid": "8b7470a6-4bff-4ba4-b43f-d1bc651856f9",
     "showTitle": false,
     "title": ""
    }
   },
   "outputs": [
    {
     "data": {
      "text/html": [
       "<style scoped>\n",
       "  .ansiout {\n",
       "    display: block;\n",
       "    unicode-bidi: embed;\n",
       "    white-space: pre-wrap;\n",
       "    word-wrap: break-word;\n",
       "    word-break: break-all;\n",
       "    font-family: \"Source Code Pro\", \"Menlo\", monospace;;\n",
       "    font-size: 13px;\n",
       "    color: #555;\n",
       "    margin-left: 4px;\n",
       "    line-height: 19px;\n",
       "  }\n",
       "</style>\n",
       "<div class=\"ansiout\">Out[21]: array([&#39;operations&#39;, &#39;marketing&#39;, &#39;bonus&#39;, &#39;finance&#39;, &#39;admin&#39;,\n",
       "       &#39;engineering&#39;, &#39;satisfaction&#39;, &#39;logistics&#39;, &#39;retail&#39;, &#39;projects&#39;,\n",
       "       &#39;IT&#39;, &#39;support&#39;, &#39;sales&#39;, &#39;salary&#39;, &#39;promoted&#39;, &#39;tenure&#39;,\n",
       "       &#39;avg_hrs_month&#39;, &#39;review&#39;], dtype=&#39;&lt;U13&#39;)</div>"
      ]
     },
     "metadata": {
      "application/vnd.databricks.v1+output": {
       "addedWidgets": {},
       "arguments": {},
       "data": "<div class=\"ansiout\">Out[21]: array([&#39;operations&#39;, &#39;marketing&#39;, &#39;bonus&#39;, &#39;finance&#39;, &#39;admin&#39;,\n       &#39;engineering&#39;, &#39;satisfaction&#39;, &#39;logistics&#39;, &#39;retail&#39;, &#39;projects&#39;,\n       &#39;IT&#39;, &#39;support&#39;, &#39;sales&#39;, &#39;salary&#39;, &#39;promoted&#39;, &#39;tenure&#39;,\n       &#39;avg_hrs_month&#39;, &#39;review&#39;], dtype=&#39;&lt;U13&#39;)</div>",
       "datasetInfos": [],
       "metadata": {},
       "removedWidgets": [],
       "type": "html"
      }
     },
     "output_type": "display_data"
    }
   ],
   "source": [
    "cols = X_features.columns.values.tolist()\n",
    "\n",
    "arr_f = np.array(cols)[idx]\n",
    "arr_f"
   ]
  },
  {
   "cell_type": "code",
   "execution_count": 0,
   "metadata": {
    "application/vnd.databricks.v1+cell": {
     "inputWidgets": {},
     "nuid": "9e8f2b81-5184-42f6-bead-c2c3b0a1c895",
     "showTitle": false,
     "title": ""
    }
   },
   "outputs": [
    {
     "data": {
      "image/png": "[encoded data removed]"
     },
     "metadata": {
      "application/vnd.databricks.v1+output": {
       "addedWidgets": {},
       "arguments": {},
       "data": "data:image/png;base64,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",
       "datasetInfos": [],
       "metadata": {
        "imageDimensions": {
         "height": 277,
         "width": 432
        }
       },
       "removedWidgets": [],
       "type": "image"
      },
      "image/png": {
       "height": 277,
       "width": 432
      }
     },
     "output_type": "display_data"
    }
   ],
   "source": [
    "plt.barh(arr_f, f_importance[idx])\n",
    "plt.suptitle('Features ranked by mutual infomation values', fontsize=14)\n",
    "plt.show()"
   ]
  },
  {
   "cell_type": "markdown",
   "metadata": {
    "application/vnd.databricks.v1+cell": {
     "inputWidgets": {},
     "nuid": "35053027-823f-43e3-b907-4dd943bb5881",
     "showTitle": false,
     "title": ""
    }
   },
   "source": [
    "#####From the above bar chart, Review, Average hours per month and tenure are the three top features influencing  employee departure."
   ]
  },
  {
   "cell_type": "markdown",
   "metadata": {
    "application/vnd.databricks.v1+cell": {
     "inputWidgets": {},
     "nuid": "60ed2c7d-41e5-4b2b-9bb7-242a9ccf6be3",
     "showTitle": false,
     "title": ""
    }
   },
   "source": [
    "I will use two tree-based models, Random ForestClassifier() and GradientBoostingClassifier() for feature selection. \n",
    "\n",
    "I will try to optimize my models for the F1 metric, which takes an account both precision and recall for the cases of employee departures. The recall metric focuses on  what percentage of all cases of employee departures  the model has predicted correctly  while precision measures what percentage of all predicted employee departures are true employee departures.\n",
    "In the below analysis, the number of the correct predictions for employee departures (aka true positives), is shown in the bottom right corner of the confusion matrix.\n",
    "by using the RandomForest and AdaBoost classifiers"
   ]
  },
  {
   "cell_type": "code",
   "execution_count": 0,
   "metadata": {
    "application/vnd.databricks.v1+cell": {
     "inputWidgets": {},
     "nuid": "607e3225-d642-4cf4-b12b-289f48c138ac",
     "showTitle": false,
     "title": ""
    }
   },
   "outputs": [
    {
     "data": {
      "text/html": [
       "<style scoped>\n",
       "  .ansiout {\n",
       "    display: block;\n",
       "    unicode-bidi: embed;\n",
       "    white-space: pre-wrap;\n",
       "    word-wrap: break-word;\n",
       "    word-break: break-all;\n",
       "    font-family: \"Source Code Pro\", \"Menlo\", monospace;;\n",
       "    font-size: 13px;\n",
       "    color: #555;\n",
       "    margin-left: 4px;\n",
       "    line-height: 19px;\n",
       "  }\n",
       "</style>\n",
       "<div class=\"ansiout\"></div>"
      ]
     },
     "metadata": {
      "application/vnd.databricks.v1+output": {
       "addedWidgets": {},
       "arguments": {},
       "data": "<div class=\"ansiout\"></div>",
       "datasetInfos": [],
       "metadata": {},
       "removedWidgets": [],
       "type": "html"
      }
     },
     "output_type": "display_data"
    }
   ],
   "source": [
    "X = df[['promoted', 'review', 'projects', 'salary', 'tenure', 'satisfaction',\n",
    "       'bonus', 'avg_hrs_month']]\n",
    "                          \n",
    "y = df['left']"
   ]
  },
  {
   "cell_type": "markdown",
   "metadata": {
    "application/vnd.databricks.v1+cell": {
     "inputWidgets": {},
     "nuid": "5a2b6319-906b-487c-8923-e7d9312e81fd",
     "showTitle": false,
     "title": ""
    }
   },
   "source": [
    "###### After experimenting with different under- and over-sampling techniques to balance my dataset, I will employ the oversampling strategy to the minority class to be the same size as the majority class. It achieves the highest F1_score =0.93 for the employee departures in the dataset."
   ]
  },
  {
   "cell_type": "code",
   "execution_count": 0,
   "metadata": {
    "application/vnd.databricks.v1+cell": {
     "inputWidgets": {},
     "nuid": "165d8c50-41c2-49af-bd75-cacc8b80add8",
     "showTitle": false,
     "title": ""
    }
   },
   "outputs": [
    {
     "data": {
      "text/html": [
       "<style scoped>\n",
       "  .ansiout {\n",
       "    display: block;\n",
       "    unicode-bidi: embed;\n",
       "    white-space: pre-wrap;\n",
       "    word-wrap: break-word;\n",
       "    word-break: break-all;\n",
       "    font-family: \"Source Code Pro\", \"Menlo\", monospace;;\n",
       "    font-size: 13px;\n",
       "    color: #555;\n",
       "    margin-left: 4px;\n",
       "    line-height: 19px;\n",
       "  }\n",
       "</style>\n",
       "<div class=\"ansiout\">0.0    6756\n",
       "1.0    6756\n",
       "Name: left, dtype: int64\n",
       "</div>"
      ]
     },
     "metadata": {
      "application/vnd.databricks.v1+output": {
       "addedWidgets": {},
       "arguments": {},
       "data": "<div class=\"ansiout\">0.0    6756\n1.0    6756\nName: left, dtype: int64\n</div>",
       "datasetInfos": [],
       "metadata": {},
       "removedWidgets": [],
       "type": "html"
      }
     },
     "output_type": "display_data"
    }
   ],
   "source": [
    "from imblearn.over_sampling import RandomOverSampler\n",
    "oversample_1 = RandomOverSampler(sampling_strategy='minority')\n",
    "\n",
    "X_over, y_over = oversample_1.fit_resample(X, y)\n",
    "print(y_over.value_counts())"
   ]
  },
  {
   "cell_type": "code",
   "execution_count": 0,
   "metadata": {
    "application/vnd.databricks.v1+cell": {
     "inputWidgets": {},
     "nuid": "a5c71dae-f527-4f49-9f26-2440b0c90104",
     "showTitle": false,
     "title": ""
    }
   },
   "outputs": [
    {
     "data": {
      "text/html": [
       "<style scoped>\n",
       "  .ansiout {\n",
       "    display: block;\n",
       "    unicode-bidi: embed;\n",
       "    white-space: pre-wrap;\n",
       "    word-wrap: break-word;\n",
       "    word-break: break-all;\n",
       "    font-family: \"Source Code Pro\", \"Menlo\", monospace;;\n",
       "    font-size: 13px;\n",
       "    color: #555;\n",
       "    margin-left: 4px;\n",
       "    line-height: 19px;\n",
       "  }\n",
       "</style>\n",
       "<div class=\"ansiout\">[[1549  171]\n",
       " [  87 1571]]\n",
       "/local_disk0/.ephemeral_nfs/envs/pythonEnv-1d35843b-1760-4636-a182-01fc9b25d67b/lib/python3.8/site-packages/sklearn/utils/deprecation.py:87: FutureWarning: Function plot_confusion_matrix is deprecated; Function `plot_confusion_matrix` is deprecated in 1.0 and will be removed in 1.2. Use one of the class methods: ConfusionMatrixDisplay.from_predictions or ConfusionMatrixDisplay.from_estimator.\n",
       "  warnings.warn(msg, category=FutureWarning)\n",
       "</div>"
      ]
     },
     "metadata": {
      "application/vnd.databricks.v1+output": {
       "addedWidgets": {},
       "arguments": {},
       "data": "<div class=\"ansiout\">[[1549  171]\n [  87 1571]]\n/local_disk0/.ephemeral_nfs/envs/pythonEnv-1d35843b-1760-4636-a182-01fc9b25d67b/lib/python3.8/site-packages/sklearn/utils/deprecation.py:87: FutureWarning: Function plot_confusion_matrix is deprecated; Function `plot_confusion_matrix` is deprecated in 1.0 and will be removed in 1.2. Use one of the class methods: ConfusionMatrixDisplay.from_predictions or ConfusionMatrixDisplay.from_estimator.\n  warnings.warn(msg, category=FutureWarning)\n</div>",
       "datasetInfos": [],
       "metadata": {},
       "removedWidgets": [],
       "type": "html"
      }
     },
     "output_type": "display_data"
    },
    {
     "data": {
      "image/png": "[encoded data removed]"
     },
     "metadata": {
      "application/vnd.databricks.v1+output": {
       "addedWidgets": {},
       "arguments": {},
       "data": "data:image/png;base64,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",
       "datasetInfos": [],
       "metadata": {
        "imageDimensions": {
         "height": 262,
         "width": 328
        }
       },
       "removedWidgets": [],
       "type": "image"
      },
      "image/png": {
       "height": 262,
       "width": 328
      }
     },
     "output_type": "display_data"
    }
   ],
   "source": [
    "X_train, X_test, y_train, y_test = train_test_split(X_over, y_over)\n",
    "\n",
    "rf = RandomForestClassifier(random_state=8)\n",
    "\n",
    "rf1 =rf.fit(X_train, y_train)\n",
    "\n",
    "pred1 = rf1.predict(X_test)\n",
    "print(confusion_matrix(y_test, rf.predict(X_test)))\n",
    "\n",
    "plot_confusion_matrix(rf, X_test, y_test)  \n",
    "plt.show()"
   ]
  },
  {
   "cell_type": "code",
   "execution_count": 0,
   "metadata": {
    "application/vnd.databricks.v1+cell": {
     "inputWidgets": {},
     "nuid": "71288b6a-9fb7-4276-85c9-4ec21f5158e3",
     "showTitle": false,
     "title": ""
    }
   },
   "outputs": [
    {
     "data": {
      "text/html": [
       "<style scoped>\n",
       "  .ansiout {\n",
       "    display: block;\n",
       "    unicode-bidi: embed;\n",
       "    white-space: pre-wrap;\n",
       "    word-wrap: break-word;\n",
       "    word-break: break-all;\n",
       "    font-family: \"Source Code Pro\", \"Menlo\", monospace;;\n",
       "    font-size: 13px;\n",
       "    color: #555;\n",
       "    margin-left: 4px;\n",
       "    line-height: 19px;\n",
       "  }\n",
       "</style>\n",
       "<div class=\"ansiout\">              precision    recall  f1-score   support\n",
       "\n",
       "         0.0       0.95      0.90      0.92      1720\n",
       "         1.0       0.90      0.95      0.92      1658\n",
       "\n",
       "    accuracy                           0.92      3378\n",
       "   macro avg       0.92      0.92      0.92      3378\n",
       "weighted avg       0.92      0.92      0.92      3378\n",
       "\n",
       "</div>"
      ]
     },
     "metadata": {
      "application/vnd.databricks.v1+output": {
       "addedWidgets": {},
       "arguments": {},
       "data": "<div class=\"ansiout\">              precision    recall  f1-score   support\n\n         0.0       0.95      0.90      0.92      1720\n         1.0       0.90      0.95      0.92      1658\n\n    accuracy                           0.92      3378\n   macro avg       0.92      0.92      0.92      3378\nweighted avg       0.92      0.92      0.92      3378\n\n</div>",
       "datasetInfos": [],
       "metadata": {},
       "removedWidgets": [],
       "type": "html"
      }
     },
     "output_type": "display_data"
    }
   ],
   "source": [
    "print(classification_report(y_test, pred1))  #0.91, 0.97"
   ]
  },
  {
   "cell_type": "code",
   "execution_count": 0,
   "metadata": {
    "application/vnd.databricks.v1+cell": {
     "inputWidgets": {},
     "nuid": "8e51929f-77e5-4f6b-b9b3-42884ed70997",
     "showTitle": false,
     "title": ""
    }
   },
   "outputs": [
    {
     "data": {
      "text/html": [
       "<style scoped>\n",
       "  .ansiout {\n",
       "    display: block;\n",
       "    unicode-bidi: embed;\n",
       "    white-space: pre-wrap;\n",
       "    word-wrap: break-word;\n",
       "    word-break: break-all;\n",
       "    font-family: \"Source Code Pro\", \"Menlo\", monospace;;\n",
       "    font-size: 13px;\n",
       "    color: #555;\n",
       "    margin-left: 4px;\n",
       "    line-height: 19px;\n",
       "  }\n",
       "</style>\n",
       "<div class=\"ansiout\"></div>"
      ]
     },
     "metadata": {
      "application/vnd.databricks.v1+output": {
       "addedWidgets": {},
       "arguments": {},
       "data": "<div class=\"ansiout\"></div>",
       "datasetInfos": [],
       "metadata": {},
       "removedWidgets": [],
       "type": "html"
      }
     },
     "output_type": "display_data"
    }
   ],
   "source": [
    "#%pip install imbalanced-learn"
   ]
  },
  {
   "cell_type": "markdown",
   "metadata": {
    "application/vnd.databricks.v1+cell": {
     "inputWidgets": {},
     "nuid": "efd33222-c477-4e1e-9b4c-5b7aaef7c941",
     "showTitle": false,
     "title": ""
    }
   },
   "source": [
    "### Random forest classification"
   ]
  },
  {
   "cell_type": "code",
   "execution_count": 0,
   "metadata": {
    "application/vnd.databricks.v1+cell": {
     "inputWidgets": {},
     "nuid": "2dfa837d-ba7e-4ab5-8911-349064d91744",
     "showTitle": false,
     "title": ""
    }
   },
   "outputs": [
    {
     "data": {
      "text/html": [
       "<style scoped>\n",
       "  .ansiout {\n",
       "    display: block;\n",
       "    unicode-bidi: embed;\n",
       "    white-space: pre-wrap;\n",
       "    word-wrap: break-word;\n",
       "    word-break: break-all;\n",
       "    font-family: \"Source Code Pro\", \"Menlo\", monospace;;\n",
       "    font-size: 13px;\n",
       "    color: #555;\n",
       "    margin-left: 4px;\n",
       "    line-height: 19px;\n",
       "  }\n",
       "</style>\n",
       "<div class=\"ansiout\">Out[28]: </div>"
      ]
     },
     "metadata": {
      "application/vnd.databricks.v1+output": {
       "addedWidgets": {},
       "arguments": {},
       "data": "<div class=\"ansiout\">Out[28]: </div>",
       "datasetInfos": [],
       "metadata": {},
       "removedWidgets": [],
       "type": "html"
      }
     },
     "output_type": "display_data"
    },
    {
     "data": {
      "text/html": [
       "<div>\n",
       "<style scoped>\n",
       "    .dataframe tbody tr th:only-of-type {\n",
       "        vertical-align: middle;\n",
       "    }\n",
       "\n",
       "    .dataframe tbody tr th {\n",
       "        vertical-align: top;\n",
       "    }\n",
       "\n",
       "    .dataframe thead th {\n",
       "        text-align: right;\n",
       "    }\n",
       "</style>\n",
       "<table border=\"1\" class=\"dataframe\">\n",
       "  <thead>\n",
       "    <tr style=\"text-align: right;\">\n",
       "      <th></th>\n",
       "      <th>promoted</th>\n",
       "      <th>review</th>\n",
       "      <th>projects</th>\n",
       "      <th>salary</th>\n",
       "      <th>tenure</th>\n",
       "      <th>satisfaction</th>\n",
       "      <th>bonus</th>\n",
       "      <th>avg_hrs_month</th>\n",
       "      <th>left</th>\n",
       "    </tr>\n",
       "  </thead>\n",
       "  <tbody>\n",
       "    <tr>\n",
       "      <th>0</th>\n",
       "      <td>0</td>\n",
       "      <td>0.577569</td>\n",
       "      <td>3</td>\n",
       "      <td>1.0</td>\n",
       "      <td>5.0</td>\n",
       "      <td>0.626759</td>\n",
       "      <td>0</td>\n",
       "      <td>180.866070</td>\n",
       "      <td>0.0</td>\n",
       "    </tr>\n",
       "    <tr>\n",
       "      <th>1</th>\n",
       "      <td>0</td>\n",
       "      <td>0.751900</td>\n",
       "      <td>3</td>\n",
       "      <td>2.0</td>\n",
       "      <td>6.0</td>\n",
       "      <td>0.443679</td>\n",
       "      <td>0</td>\n",
       "      <td>182.708149</td>\n",
       "      <td>0.0</td>\n",
       "    </tr>\n",
       "    <tr>\n",
       "      <th>2</th>\n",
       "      <td>0</td>\n",
       "      <td>0.722548</td>\n",
       "      <td>3</td>\n",
       "      <td>2.0</td>\n",
       "      <td>6.0</td>\n",
       "      <td>0.446823</td>\n",
       "      <td>0</td>\n",
       "      <td>184.416084</td>\n",
       "      <td>0.0</td>\n",
       "    </tr>\n",
       "    <tr>\n",
       "      <th>3</th>\n",
       "      <td>0</td>\n",
       "      <td>0.675158</td>\n",
       "      <td>4</td>\n",
       "      <td>0.0</td>\n",
       "      <td>8.0</td>\n",
       "      <td>0.440139</td>\n",
       "      <td>0</td>\n",
       "      <td>188.707545</td>\n",
       "      <td>0.0</td>\n",
       "    </tr>\n",
       "    <tr>\n",
       "      <th>4</th>\n",
       "      <td>0</td>\n",
       "      <td>0.676203</td>\n",
       "      <td>3</td>\n",
       "      <td>0.0</td>\n",
       "      <td>5.0</td>\n",
       "      <td>0.577607</td>\n",
       "      <td>1</td>\n",
       "      <td>179.821083</td>\n",
       "      <td>0.0</td>\n",
       "    </tr>\n",
       "    <tr>\n",
       "      <th>...</th>\n",
       "      <td>...</td>\n",
       "      <td>...</td>\n",
       "      <td>...</td>\n",
       "      <td>...</td>\n",
       "      <td>...</td>\n",
       "      <td>...</td>\n",
       "      <td>...</td>\n",
       "      <td>...</td>\n",
       "      <td>...</td>\n",
       "    </tr>\n",
       "    <tr>\n",
       "      <th>13507</th>\n",
       "      <td>0</td>\n",
       "      <td>0.782811</td>\n",
       "      <td>3</td>\n",
       "      <td>2.0</td>\n",
       "      <td>5.0</td>\n",
       "      <td>0.333750</td>\n",
       "      <td>0</td>\n",
       "      <td>179.965798</td>\n",
       "      <td>1.0</td>\n",
       "    </tr>\n",
       "    <tr>\n",
       "      <th>13508</th>\n",
       "      <td>0</td>\n",
       "      <td>0.778969</td>\n",
       "      <td>3</td>\n",
       "      <td>2.0</td>\n",
       "      <td>6.0</td>\n",
       "      <td>0.263912</td>\n",
       "      <td>0</td>\n",
       "      <td>181.645272</td>\n",
       "      <td>1.0</td>\n",
       "    </tr>\n",
       "    <tr>\n",
       "      <th>13509</th>\n",
       "      <td>0</td>\n",
       "      <td>0.805303</td>\n",
       "      <td>3</td>\n",
       "      <td>2.0</td>\n",
       "      <td>4.0</td>\n",
       "      <td>0.382484</td>\n",
       "      <td>0</td>\n",
       "      <td>177.717740</td>\n",
       "      <td>1.0</td>\n",
       "    </tr>\n",
       "    <tr>\n",
       "      <th>13510</th>\n",
       "      <td>0</td>\n",
       "      <td>0.551859</td>\n",
       "      <td>3</td>\n",
       "      <td>2.0</td>\n",
       "      <td>9.0</td>\n",
       "      <td>0.462174</td>\n",
       "      <td>0</td>\n",
       "      <td>192.167298</td>\n",
       "      <td>1.0</td>\n",
       "    </tr>\n",
       "    <tr>\n",
       "      <th>13511</th>\n",
       "      <td>0</td>\n",
       "      <td>0.718763</td>\n",
       "      <td>4</td>\n",
       "      <td>2.0</td>\n",
       "      <td>7.0</td>\n",
       "      <td>0.757215</td>\n",
       "      <td>0</td>\n",
       "      <td>187.190158</td>\n",
       "      <td>1.0</td>\n",
       "    </tr>\n",
       "  </tbody>\n",
       "</table>\n",
       "<p>13512 rows × 9 columns</p>\n",
       "</div>"
      ]
     },
     "metadata": {
      "application/vnd.databricks.v1+output": {
       "addedWidgets": {},
       "arguments": {},
       "data": "<div>\n<style scoped>\n    .dataframe tbody tr th:only-of-type {\n        vertical-align: middle;\n    }\n\n    .dataframe tbody tr th {\n        vertical-align: top;\n    }\n\n    .dataframe thead th {\n        text-align: right;\n    }\n</style>\n<table border=\"1\" class=\"dataframe\">\n  <thead>\n    <tr style=\"text-align: right;\">\n      <th></th>\n      <th>promoted</th>\n      <th>review</th>\n      <th>projects</th>\n      <th>salary</th>\n      <th>tenure</th>\n      <th>satisfaction</th>\n      <th>bonus</th>\n      <th>avg_hrs_month</th>\n      <th>left</th>\n    </tr>\n  </thead>\n  <tbody>\n    <tr>\n      <th>0</th>\n      <td>0</td>\n      <td>0.577569</td>\n      <td>3</td>\n      <td>1.0</td>\n      <td>5.0</td>\n      <td>0.626759</td>\n      <td>0</td>\n      <td>180.866070</td>\n      <td>0.0</td>\n    </tr>\n    <tr>\n      <th>1</th>\n      <td>0</td>\n      <td>0.751900</td>\n      <td>3</td>\n      <td>2.0</td>\n      <td>6.0</td>\n      <td>0.443679</td>\n      <td>0</td>\n      <td>182.708149</td>\n      <td>0.0</td>\n    </tr>\n    <tr>\n      <th>2</th>\n      <td>0</td>\n      <td>0.722548</td>\n      <td>3</td>\n      <td>2.0</td>\n      <td>6.0</td>\n      <td>0.446823</td>\n      <td>0</td>\n      <td>184.416084</td>\n      <td>0.0</td>\n    </tr>\n    <tr>\n      <th>3</th>\n      <td>0</td>\n      <td>0.675158</td>\n      <td>4</td>\n      <td>0.0</td>\n      <td>8.0</td>\n      <td>0.440139</td>\n      <td>0</td>\n      <td>188.707545</td>\n      <td>0.0</td>\n    </tr>\n    <tr>\n      <th>4</th>\n      <td>0</td>\n      <td>0.676203</td>\n      <td>3</td>\n      <td>0.0</td>\n      <td>5.0</td>\n      <td>0.577607</td>\n      <td>1</td>\n      <td>179.821083</td>\n      <td>0.0</td>\n    </tr>\n    <tr>\n      <th>...</th>\n      <td>...</td>\n      <td>...</td>\n      <td>...</td>\n      <td>...</td>\n      <td>...</td>\n      <td>...</td>\n      <td>...</td>\n      <td>...</td>\n      <td>...</td>\n    </tr>\n    <tr>\n      <th>13507</th>\n      <td>0</td>\n      <td>0.782811</td>\n      <td>3</td>\n      <td>2.0</td>\n      <td>5.0</td>\n      <td>0.333750</td>\n      <td>0</td>\n      <td>179.965798</td>\n      <td>1.0</td>\n    </tr>\n    <tr>\n      <th>13508</th>\n      <td>0</td>\n      <td>0.778969</td>\n      <td>3</td>\n      <td>2.0</td>\n      <td>6.0</td>\n      <td>0.263912</td>\n      <td>0</td>\n      <td>181.645272</td>\n      <td>1.0</td>\n    </tr>\n    <tr>\n      <th>13509</th>\n      <td>0</td>\n      <td>0.805303</td>\n      <td>3</td>\n      <td>2.0</td>\n      <td>4.0</td>\n      <td>0.382484</td>\n      <td>0</td>\n      <td>177.717740</td>\n      <td>1.0</td>\n    </tr>\n    <tr>\n      <th>13510</th>\n      <td>0</td>\n      <td>0.551859</td>\n      <td>3</td>\n      <td>2.0</td>\n      <td>9.0</td>\n      <td>0.462174</td>\n      <td>0</td>\n      <td>192.167298</td>\n      <td>1.0</td>\n    </tr>\n    <tr>\n      <th>13511</th>\n      <td>0</td>\n      <td>0.718763</td>\n      <td>4</td>\n      <td>2.0</td>\n      <td>7.0</td>\n      <td>0.757215</td>\n      <td>0</td>\n      <td>187.190158</td>\n      <td>1.0</td>\n    </tr>\n  </tbody>\n</table>\n<p>13512 rows × 9 columns</p>\n</div>",
       "datasetInfos": [],
       "metadata": {},
       "removedWidgets": [],
       "textData": null,
       "type": "htmlSandbox"
      }
     },
     "output_type": "display_data"
    }
   ],
   "source": [
    "# Generate the validation and test subsets using the balanced data.\n",
    "over_df = X_over.copy()\n",
    "over_df.insert(8,\"left\", y_over)\n",
    "over_df"
   ]
  },
  {
   "cell_type": "code",
   "execution_count": 0,
   "metadata": {
    "application/vnd.databricks.v1+cell": {
     "inputWidgets": {},
     "nuid": "f48066d7-cfd2-4353-9e2b-8fc2ef91fa8e",
     "showTitle": false,
     "title": ""
    }
   },
   "outputs": [
    {
     "data": {
      "text/html": [
       "<style scoped>\n",
       "  .ansiout {\n",
       "    display: block;\n",
       "    unicode-bidi: embed;\n",
       "    white-space: pre-wrap;\n",
       "    word-wrap: break-word;\n",
       "    word-break: break-all;\n",
       "    font-family: \"Source Code Pro\", \"Menlo\", monospace;;\n",
       "    font-size: 13px;\n",
       "    color: #555;\n",
       "    margin-left: 4px;\n",
       "    line-height: 19px;\n",
       "  }\n",
       "</style>\n",
       "<div class=\"ansiout\"></div>"
      ]
     },
     "metadata": {
      "application/vnd.databricks.v1+output": {
       "addedWidgets": {},
       "arguments": {},
       "data": "<div class=\"ansiout\"></div>",
       "datasetInfos": [],
       "metadata": {},
       "removedWidgets": [],
       "type": "html"
      }
     },
     "output_type": "display_data"
    }
   ],
   "source": [
    "cross_val_df, test_df = train_test_split(over_df, train_size=0.80, test_size=0.20, random_state=32)"
   ]
  },
  {
   "cell_type": "code",
   "execution_count": 0,
   "metadata": {
    "application/vnd.databricks.v1+cell": {
     "inputWidgets": {},
     "nuid": "fb82eeec-ccce-44ca-9818-4a2319a6f4a0",
     "showTitle": false,
     "title": ""
    }
   },
   "outputs": [
    {
     "data": {
      "text/html": [
       "<style scoped>\n",
       "  .ansiout {\n",
       "    display: block;\n",
       "    unicode-bidi: embed;\n",
       "    white-space: pre-wrap;\n",
       "    word-wrap: break-word;\n",
       "    word-break: break-all;\n",
       "    font-family: \"Source Code Pro\", \"Menlo\", monospace;;\n",
       "    font-size: 13px;\n",
       "    color: #555;\n",
       "    margin-left: 4px;\n",
       "    line-height: 19px;\n",
       "  }\n",
       "</style>\n",
       "<div class=\"ansiout\"></div>"
      ]
     },
     "metadata": {
      "application/vnd.databricks.v1+output": {
       "addedWidgets": {},
       "arguments": {},
       "data": "<div class=\"ansiout\"></div>",
       "datasetInfos": [],
       "metadata": {},
       "removedWidgets": [],
       "type": "html"
      }
     },
     "output_type": "display_data"
    }
   ],
   "source": [
    "rfc = RandomForestClassifier(random_state=32)\n"
   ]
  },
  {
   "cell_type": "code",
   "execution_count": 0,
   "metadata": {
    "application/vnd.databricks.v1+cell": {
     "inputWidgets": {},
     "nuid": "c0edbf2a-23a2-48ef-808b-6ea9de97b6c4",
     "showTitle": false,
     "title": ""
    }
   },
   "outputs": [
    {
     "data": {
      "text/html": [
       "<style scoped>\n",
       "  .ansiout {\n",
       "    display: block;\n",
       "    unicode-bidi: embed;\n",
       "    white-space: pre-wrap;\n",
       "    word-wrap: break-word;\n",
       "    word-break: break-all;\n",
       "    font-family: \"Source Code Pro\", \"Menlo\", monospace;;\n",
       "    font-size: 13px;\n",
       "    color: #555;\n",
       "    margin-left: 4px;\n",
       "    line-height: 19px;\n",
       "  }\n",
       "</style>\n",
       "<div class=\"ansiout\"></div>"
      ]
     },
     "metadata": {
      "application/vnd.databricks.v1+output": {
       "addedWidgets": {},
       "arguments": {},
       "data": "<div class=\"ansiout\"></div>",
       "datasetInfos": [],
       "metadata": {},
       "removedWidgets": [],
       "type": "html"
      }
     },
     "output_type": "display_data"
    }
   ],
   "source": [
    "parameter_grid = {\n",
    "  'max_depth':[30, 40, 50, 70,120], \n",
    "  'n_estimators':[ 70, 80, 100, 120, 130, 150]\n",
    "}"
   ]
  },
  {
   "cell_type": "code",
   "execution_count": 0,
   "metadata": {
    "application/vnd.databricks.v1+cell": {
     "inputWidgets": {},
     "nuid": "c4bb3313-c544-4403-ac3c-113e433c61f5",
     "showTitle": false,
     "title": ""
    }
   },
   "outputs": [
    {
     "data": {
      "text/html": [
       "<style scoped>\n",
       "  .ansiout {\n",
       "    display: block;\n",
       "    unicode-bidi: embed;\n",
       "    white-space: pre-wrap;\n",
       "    word-wrap: break-word;\n",
       "    word-break: break-all;\n",
       "    font-family: \"Source Code Pro\", \"Menlo\", monospace;;\n",
       "    font-size: 13px;\n",
       "    color: #555;\n",
       "    margin-left: 4px;\n",
       "    line-height: 19px;\n",
       "  }\n",
       "</style>\n",
       "<div class=\"ansiout\"></div>"
      ]
     },
     "metadata": {
      "application/vnd.databricks.v1+output": {
       "addedWidgets": {},
       "arguments": {},
       "data": "<div class=\"ansiout\"></div>",
       "datasetInfos": [],
       "metadata": {},
       "removedWidgets": [],
       "type": "html"
      }
     },
     "output_type": "display_data"
    }
   ],
   "source": [
    "grid_search1 = GridSearchCV(estimator=rfc, cv=5, param_grid=parameter_grid, scoring='f1').fit(cross_val_df.drop(\"left\", axis=1), cross_val_df[\"left\"])"
   ]
  },
  {
   "cell_type": "code",
   "execution_count": 0,
   "metadata": {
    "application/vnd.databricks.v1+cell": {
     "inputWidgets": {},
     "nuid": "450ec596-faaa-4816-878a-1bf77db957e2",
     "showTitle": false,
     "title": ""
    }
   },
   "outputs": [
    {
     "data": {
      "text/html": [
       "<style scoped>\n",
       "  .ansiout {\n",
       "    display: block;\n",
       "    unicode-bidi: embed;\n",
       "    white-space: pre-wrap;\n",
       "    word-wrap: break-word;\n",
       "    word-break: break-all;\n",
       "    font-family: \"Source Code Pro\", \"Menlo\", monospace;;\n",
       "    font-size: 13px;\n",
       "    color: #555;\n",
       "    margin-left: 4px;\n",
       "    line-height: 19px;\n",
       "  }\n",
       "</style>\n",
       "<div class=\"ansiout\">Out[46]: {&#39;max_depth&#39;: 30, &#39;n_estimators&#39;: 150}</div>"
      ]
     },
     "metadata": {
      "application/vnd.databricks.v1+output": {
       "addedWidgets": {},
       "arguments": {},
       "data": "<div class=\"ansiout\">Out[46]: {&#39;max_depth&#39;: 30, &#39;n_estimators&#39;: 150}</div>",
       "datasetInfos": [],
       "metadata": {},
       "removedWidgets": [],
       "type": "html"
      }
     },
     "output_type": "display_data"
    }
   ],
   "source": [
    "grid_search1.best_params_"
   ]
  },
  {
   "cell_type": "code",
   "execution_count": 0,
   "metadata": {
    "application/vnd.databricks.v1+cell": {
     "inputWidgets": {},
     "nuid": "abc41b52-4455-4b96-9a04-0793f4f038d6",
     "showTitle": false,
     "title": ""
    }
   },
   "outputs": [
    {
     "data": {
      "text/html": [
       "<style scoped>\n",
       "  .ansiout {\n",
       "    display: block;\n",
       "    unicode-bidi: embed;\n",
       "    white-space: pre-wrap;\n",
       "    word-wrap: break-word;\n",
       "    word-break: break-all;\n",
       "    font-family: \"Source Code Pro\", \"Menlo\", monospace;;\n",
       "    font-size: 13px;\n",
       "    color: #555;\n",
       "    margin-left: 4px;\n",
       "    line-height: 19px;\n",
       "  }\n",
       "</style>\n",
       "<div class=\"ansiout\">Out[47]: 0.9230242480322852</div>"
      ]
     },
     "metadata": {
      "application/vnd.databricks.v1+output": {
       "addedWidgets": {},
       "arguments": {},
       "data": "<div class=\"ansiout\">Out[47]: 0.9230242480322852</div>",
       "datasetInfos": [],
       "metadata": {},
       "removedWidgets": [],
       "type": "html"
      }
     },
     "output_type": "display_data"
    }
   ],
   "source": [
    "grid_search1.best_score_"
   ]
  },
  {
   "cell_type": "code",
   "execution_count": 0,
   "metadata": {
    "application/vnd.databricks.v1+cell": {
     "inputWidgets": {},
     "nuid": "c7fc2bee-1b3e-43c2-a85b-fc9279a3e721",
     "showTitle": false,
     "title": ""
    }
   },
   "outputs": [
    {
     "data": {
      "text/html": [
       "<style scoped>\n",
       "  .ansiout {\n",
       "    display: block;\n",
       "    unicode-bidi: embed;\n",
       "    white-space: pre-wrap;\n",
       "    word-wrap: break-word;\n",
       "    word-break: break-all;\n",
       "    font-family: \"Source Code Pro\", \"Menlo\", monospace;;\n",
       "    font-size: 13px;\n",
       "    color: #555;\n",
       "    margin-left: 4px;\n",
       "    line-height: 19px;\n",
       "  }\n",
       "</style>\n",
       "<div class=\"ansiout\">Out[48]: 0.9269521410579344</div>"
      ]
     },
     "metadata": {
      "application/vnd.databricks.v1+output": {
       "addedWidgets": {},
       "arguments": {},
       "data": "<div class=\"ansiout\">Out[48]: 0.9269521410579344</div>",
       "datasetInfos": [],
       "metadata": {},
       "removedWidgets": [],
       "type": "html"
      }
     },
     "output_type": "display_data"
    }
   ],
   "source": [
    "f1_score(\n",
    "  test_df[\"left\"], \n",
    "  grid_search1.predict(test_df.drop(\"left\", axis=1))\n",
    ")"
   ]
  },
  {
   "cell_type": "code",
   "execution_count": 0,
   "metadata": {
    "application/vnd.databricks.v1+cell": {
     "inputWidgets": {},
     "nuid": "31db5b27-cb21-43b2-bb53-143fbd530511",
     "showTitle": false,
     "title": ""
    }
   },
   "outputs": [
    {
     "data": {
      "text/html": [
       "<style scoped>\n",
       "  .ansiout {\n",
       "    display: block;\n",
       "    unicode-bidi: embed;\n",
       "    white-space: pre-wrap;\n",
       "    word-wrap: break-word;\n",
       "    word-break: break-all;\n",
       "    font-family: \"Source Code Pro\", \"Menlo\", monospace;;\n",
       "    font-size: 13px;\n",
       "    color: #555;\n",
       "    margin-left: 4px;\n",
       "    line-height: 19px;\n",
       "  }\n",
       "</style>\n",
       "<div class=\"ansiout\"></div>"
      ]
     },
     "metadata": {
      "application/vnd.databricks.v1+output": {
       "addedWidgets": {},
       "arguments": {},
       "data": "<div class=\"ansiout\"></div>",
       "datasetInfos": [],
       "metadata": {},
       "removedWidgets": [],
       "type": "html"
      }
     },
     "output_type": "display_data"
    }
   ],
   "source": [
    "rfc = RandomForestClassifier( n_estimators = 150, max_depth=30, random_state = 32).fit(cross_val_df.drop(\"left\", axis=1), cross_val_df[\"left\"])"
   ]
  },
  {
   "cell_type": "code",
   "execution_count": 0,
   "metadata": {
    "application/vnd.databricks.v1+cell": {
     "inputWidgets": {},
     "nuid": "6c8fd5c6-afe8-419c-aab7-b9a7aef8b386",
     "showTitle": false,
     "title": ""
    }
   },
   "outputs": [
    {
     "data": {
      "text/html": [
       "<style scoped>\n",
       "  .ansiout {\n",
       "    display: block;\n",
       "    unicode-bidi: embed;\n",
       "    white-space: pre-wrap;\n",
       "    word-wrap: break-word;\n",
       "    word-break: break-all;\n",
       "    font-family: \"Source Code Pro\", \"Menlo\", monospace;;\n",
       "    font-size: 13px;\n",
       "    color: #555;\n",
       "    margin-left: 4px;\n",
       "    line-height: 19px;\n",
       "  }\n",
       "</style>\n",
       "<div class=\"ansiout\">Out[36]: array([0.00377239, 0.28362082, 0.01985426, 0.01521137, 0.09097722,\n",
       "       0.27821364, 0.00938414, 0.29896615])</div>"
      ]
     },
     "metadata": {
      "application/vnd.databricks.v1+output": {
       "addedWidgets": {},
       "arguments": {},
       "data": "<div class=\"ansiout\">Out[36]: array([0.00377239, 0.28362082, 0.01985426, 0.01521137, 0.09097722,\n       0.27821364, 0.00938414, 0.29896615])</div>",
       "datasetInfos": [],
       "metadata": {},
       "removedWidgets": [],
       "type": "html"
      }
     },
     "output_type": "display_data"
    }
   ],
   "source": [
    "rfc.feature_importances_"
   ]
  },
  {
   "cell_type": "code",
   "execution_count": 0,
   "metadata": {
    "application/vnd.databricks.v1+cell": {
     "inputWidgets": {},
     "nuid": "aeba6d42-76d3-424d-a0f0-f9bb3817a76b",
     "showTitle": false,
     "title": ""
    }
   },
   "outputs": [
    {
     "data": {
      "text/html": [
       "<style scoped>\n",
       "  .ansiout {\n",
       "    display: block;\n",
       "    unicode-bidi: embed;\n",
       "    white-space: pre-wrap;\n",
       "    word-wrap: break-word;\n",
       "    word-break: break-all;\n",
       "    font-family: \"Source Code Pro\", \"Menlo\", monospace;;\n",
       "    font-size: 13px;\n",
       "    color: #555;\n",
       "    margin-left: 4px;\n",
       "    line-height: 19px;\n",
       "  }\n",
       "</style>\n",
       "<div class=\"ansiout\"></div>"
      ]
     },
     "metadata": {
      "application/vnd.databricks.v1+output": {
       "addedWidgets": {},
       "arguments": {},
       "data": "<div class=\"ansiout\"></div>",
       "datasetInfos": [],
       "metadata": {},
       "removedWidgets": [],
       "type": "html"
      }
     },
     "output_type": "display_data"
    }
   ],
   "source": [
    "lst = cross_val_df.drop(\"left\", axis=1).columns.values.tolist()\n",
    "feature_names = [f\"{i}\" for i in lst]\n",
    "\n",
    "std = np.std([tree.feature_importances_ for tree in rfc.estimators_], axis=0)\n",
    "\n",
    "importances = rfc.feature_importances_\n",
    "forest_importances = pd.Series(importances, index=feature_names)"
   ]
  },
  {
   "cell_type": "code",
   "execution_count": 0,
   "metadata": {
    "application/vnd.databricks.v1+cell": {
     "inputWidgets": {},
     "nuid": "d4532fc0-f417-4a7a-8392-832759165c6d",
     "showTitle": false,
     "title": ""
    }
   },
   "outputs": [
    {
     "data": {
      "image/png": "[encoded data removed]"
     },
     "metadata": {
      "application/vnd.databricks.v1+output": {
       "addedWidgets": {},
       "arguments": {},
       "data": "data:image/png;base64,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",
       "datasetInfos": [],
       "metadata": {
        "imageDimensions": {
         "height": 280,
         "width": 424
        }
       },
       "removedWidgets": [],
       "type": "image"
      },
      "image/png": {
       "height": 280,
       "width": 424
      }
     },
     "output_type": "display_data"
    }
   ],
   "source": [
    "fig, ax = plt.subplots()\n",
    "forest_importances.sort_values(ascending=False).plot.bar(yerr = -np.sort(-std), ax=ax)\n",
    "ax.set_title(\"Feature importances using MDI: Random Forest\")\n",
    "ax.set_ylabel(\"Mean decrease in impurity\")\n",
    "fig.tight_layout()"
   ]
  },
  {
   "cell_type": "markdown",
   "metadata": {
    "application/vnd.databricks.v1+cell": {
     "inputWidgets": {},
     "nuid": "bac774e4-1adc-420c-b951-b50462baefb1",
     "showTitle": false,
     "title": ""
    }
   },
   "source": [
    "#####The three most important features are average hours per month, review and satisfaction. We should note that Tenure and  average hours can be interchangeable."
   ]
  },
  {
   "cell_type": "markdown",
   "metadata": {
    "application/vnd.databricks.v1+cell": {
     "inputWidgets": {},
     "nuid": "92901f9b-5b8b-459e-a5d5-cbaf05a2a437",
     "showTitle": false,
     "title": ""
    }
   },
   "source": [
    "###GradientBoostingClassifier()"
   ]
  },
  {
   "cell_type": "code",
   "execution_count": 0,
   "metadata": {
    "application/vnd.databricks.v1+cell": {
     "inputWidgets": {},
     "nuid": "e04033ac-834a-4df4-aa6d-f1bd8719870b",
     "showTitle": false,
     "title": ""
    }
   },
   "outputs": [
    {
     "data": {
      "text/html": [
       "<style scoped>\n",
       "  .ansiout {\n",
       "    display: block;\n",
       "    unicode-bidi: embed;\n",
       "    white-space: pre-wrap;\n",
       "    word-wrap: break-word;\n",
       "    word-break: break-all;\n",
       "    font-family: \"Source Code Pro\", \"Menlo\", monospace;;\n",
       "    font-size: 13px;\n",
       "    color: #555;\n",
       "    margin-left: 4px;\n",
       "    line-height: 19px;\n",
       "  }\n",
       "</style>\n",
       "<div class=\"ansiout\"></div>"
      ]
     },
     "metadata": {
      "application/vnd.databricks.v1+output": {
       "addedWidgets": {},
       "arguments": {},
       "data": "<div class=\"ansiout\"></div>",
       "datasetInfos": [],
       "metadata": {},
       "removedWidgets": [],
       "type": "html"
      }
     },
     "output_type": "display_data"
    }
   ],
   "source": [
    "grad_boost = GradientBoostingClassifier()"
   ]
  },
  {
   "cell_type": "code",
   "execution_count": 0,
   "metadata": {
    "application/vnd.databricks.v1+cell": {
     "inputWidgets": {},
     "nuid": "4708ae26-4539-450f-8f38-34fa29901278",
     "showTitle": false,
     "title": ""
    }
   },
   "outputs": [
    {
     "data": {
      "text/html": [
       "<style scoped>\n",
       "  .ansiout {\n",
       "    display: block;\n",
       "    unicode-bidi: embed;\n",
       "    white-space: pre-wrap;\n",
       "    word-wrap: break-word;\n",
       "    word-break: break-all;\n",
       "    font-family: \"Source Code Pro\", \"Menlo\", monospace;;\n",
       "    font-size: 13px;\n",
       "    color: #555;\n",
       "    margin-left: 4px;\n",
       "    line-height: 19px;\n",
       "  }\n",
       "</style>"
      ]
     },
     "metadata": {
      "application/vnd.databricks.v1+output": {
       "arguments": {},
       "data": "",
       "errorSummary": "Command skipped",
       "errorTraceType": "html",
       "metadata": {},
       "type": "ipynbError"
      }
     },
     "output_type": "display_data"
    }
   ],
   "source": [
    "parameter_grid = {   \n",
    "    'max_depth':[8,10,12],\n",
    "    'n_estimators':[150, 180, 200],\n",
    "    'learning_rate':[0.01, 0.9, 1, 1.1]\n",
    "}"
   ]
  },
  {
   "cell_type": "code",
   "execution_count": 0,
   "metadata": {
    "application/vnd.databricks.v1+cell": {
     "inputWidgets": {},
     "nuid": "de2a3bf7-00bf-447a-a6c6-3b1f576c0ff5",
     "showTitle": false,
     "title": ""
    }
   },
   "outputs": [
    {
     "data": {
      "text/html": [
       "<style scoped>\n",
       "  .ansiout {\n",
       "    display: block;\n",
       "    unicode-bidi: embed;\n",
       "    white-space: pre-wrap;\n",
       "    word-wrap: break-word;\n",
       "    word-break: break-all;\n",
       "    font-family: \"Source Code Pro\", \"Menlo\", monospace;;\n",
       "    font-size: 13px;\n",
       "    color: #555;\n",
       "    margin-left: 4px;\n",
       "    line-height: 19px;\n",
       "  }\n",
       "</style>"
      ]
     },
     "metadata": {
      "application/vnd.databricks.v1+output": {
       "arguments": {},
       "data": "",
       "errorSummary": "Command skipped",
       "errorTraceType": "html",
       "metadata": {},
       "type": "ipynbError"
      }
     },
     "output_type": "display_data"
    }
   ],
   "source": [
    "#grid_search2 = GridSearchCV(estimator = grad_boost,  cv = 5, param_grid = parameter_grid, scoring=\"f1\").fit(cross_val_df.drop(\"left\", axis=1), cross_val_df[\"left\"])\n"
   ]
  },
  {
   "cell_type": "code",
   "execution_count": 0,
   "metadata": {
    "application/vnd.databricks.v1+cell": {
     "inputWidgets": {},
     "nuid": "0ff6bb1a-5da1-4275-986f-ee36a7a55658",
     "showTitle": false,
     "title": ""
    }
   },
   "outputs": [
    {
     "data": {
      "text/html": [
       "<style scoped>\n",
       "  .ansiout {\n",
       "    display: block;\n",
       "    unicode-bidi: embed;\n",
       "    white-space: pre-wrap;\n",
       "    word-wrap: break-word;\n",
       "    word-break: break-all;\n",
       "    font-family: \"Source Code Pro\", \"Menlo\", monospace;;\n",
       "    font-size: 13px;\n",
       "    color: #555;\n",
       "    margin-left: 4px;\n",
       "    line-height: 19px;\n",
       "  }\n",
       "</style>"
      ]
     },
     "metadata": {
      "application/vnd.databricks.v1+output": {
       "arguments": {},
       "data": "",
       "errorSummary": "Command skipped",
       "errorTraceType": "html",
       "metadata": {},
       "type": "ipynbError"
      }
     },
     "output_type": "display_data"
    }
   ],
   "source": [
    "grid_search2.best_params_"
   ]
  },
  {
   "cell_type": "code",
   "execution_count": 0,
   "metadata": {
    "application/vnd.databricks.v1+cell": {
     "inputWidgets": {},
     "nuid": "1e46f10a-198c-4ccd-b205-407faa384821",
     "showTitle": false,
     "title": ""
    }
   },
   "outputs": [
    {
     "data": {
      "text/html": [
       "<style scoped>\n",
       "  .ansiout {\n",
       "    display: block;\n",
       "    unicode-bidi: embed;\n",
       "    white-space: pre-wrap;\n",
       "    word-wrap: break-word;\n",
       "    word-break: break-all;\n",
       "    font-family: \"Source Code Pro\", \"Menlo\", monospace;;\n",
       "    font-size: 13px;\n",
       "    color: #555;\n",
       "    margin-left: 4px;\n",
       "    line-height: 19px;\n",
       "  }\n",
       "</style>"
      ]
     },
     "metadata": {
      "application/vnd.databricks.v1+output": {
       "arguments": {},
       "data": "",
       "errorSummary": "Command skipped",
       "errorTraceType": "html",
       "metadata": {},
       "type": "ipynbError"
      }
     },
     "output_type": "display_data"
    }
   ],
   "source": [
    "f1_score(\n",
    "  test_df[\"left\"], \n",
    "  grid_search2.predict(test_df.drop(\"left\", axis=1))\n",
    ")"
   ]
  },
  {
   "cell_type": "code",
   "execution_count": 0,
   "metadata": {
    "application/vnd.databricks.v1+cell": {
     "inputWidgets": {},
     "nuid": "8898e354-f272-4fa8-b83b-156cee741550",
     "showTitle": false,
     "title": ""
    }
   },
   "outputs": [
    {
     "data": {
      "text/html": [
       "<style scoped>\n",
       "  .ansiout {\n",
       "    display: block;\n",
       "    unicode-bidi: embed;\n",
       "    white-space: pre-wrap;\n",
       "    word-wrap: break-word;\n",
       "    word-break: break-all;\n",
       "    font-family: \"Source Code Pro\", \"Menlo\", monospace;;\n",
       "    font-size: 13px;\n",
       "    color: #555;\n",
       "    margin-left: 4px;\n",
       "    line-height: 19px;\n",
       "  }\n",
       "</style>\n",
       "<div class=\"ansiout\"></div>"
      ]
     },
     "metadata": {
      "application/vnd.databricks.v1+output": {
       "addedWidgets": {},
       "arguments": {},
       "data": "<div class=\"ansiout\"></div>",
       "datasetInfos": [],
       "metadata": {},
       "removedWidgets": [],
       "type": "html"
      }
     },
     "output_type": "display_data"
    }
   ],
   "source": [
    "gbc = GradientBoostingClassifier(max_depth= 12, n_estimators = 200, learning_rate= 0.9, random_state = 32).fit(cross_val_df.drop(\"left\", axis=1), cross_val_df[\"left\"])"
   ]
  },
  {
   "cell_type": "code",
   "execution_count": 0,
   "metadata": {
    "application/vnd.databricks.v1+cell": {
     "inputWidgets": {},
     "nuid": "9fe08094-99c9-444f-b2cd-7e056c59c427",
     "showTitle": false,
     "title": ""
    }
   },
   "outputs": [
    {
     "data": {
      "text/html": [
       "<style scoped>\n",
       "  .ansiout {\n",
       "    display: block;\n",
       "    unicode-bidi: embed;\n",
       "    white-space: pre-wrap;\n",
       "    word-wrap: break-word;\n",
       "    word-break: break-all;\n",
       "    font-family: \"Source Code Pro\", \"Menlo\", monospace;;\n",
       "    font-size: 13px;\n",
       "    color: #555;\n",
       "    margin-left: 4px;\n",
       "    line-height: 19px;\n",
       "  }\n",
       "</style>\n",
       "<div class=\"ansiout\">Out[41]: array([0.00206299, 0.28754386, 0.01419448, 0.01326376, 0.00372885,\n",
       "       0.30894775, 0.00755705, 0.36270125])</div>"
      ]
     },
     "metadata": {
      "application/vnd.databricks.v1+output": {
       "addedWidgets": {},
       "arguments": {},
       "data": "<div class=\"ansiout\">Out[41]: array([0.00206299, 0.28754386, 0.01419448, 0.01326376, 0.00372885,\n       0.30894775, 0.00755705, 0.36270125])</div>",
       "datasetInfos": [],
       "metadata": {},
       "removedWidgets": [],
       "type": "html"
      }
     },
     "output_type": "display_data"
    }
   ],
   "source": [
    "gbc.feature_importances_"
   ]
  },
  {
   "cell_type": "code",
   "execution_count": 0,
   "metadata": {
    "application/vnd.databricks.v1+cell": {
     "inputWidgets": {},
     "nuid": "5876a4d9-195b-4b31-87bb-8b54e847af06",
     "showTitle": false,
     "title": ""
    }
   },
   "outputs": [
    {
     "data": {
      "text/html": [
       "<style scoped>\n",
       "  .ansiout {\n",
       "    display: block;\n",
       "    unicode-bidi: embed;\n",
       "    white-space: pre-wrap;\n",
       "    word-wrap: break-word;\n",
       "    word-break: break-all;\n",
       "    font-family: \"Source Code Pro\", \"Menlo\", monospace;;\n",
       "    font-size: 13px;\n",
       "    color: #555;\n",
       "    margin-left: 4px;\n",
       "    line-height: 19px;\n",
       "  }\n",
       "</style>\n",
       "<div class=\"ansiout\"></div>"
      ]
     },
     "metadata": {
      "application/vnd.databricks.v1+output": {
       "addedWidgets": {},
       "arguments": {},
       "data": "<div class=\"ansiout\"></div>",
       "datasetInfos": [],
       "metadata": {},
       "removedWidgets": [],
       "type": "html"
      }
     },
     "output_type": "display_data"
    }
   ],
   "source": [
    "importances = gbc.feature_importances_\n",
    "forest_importances = pd.Series(importances, index=feature_names)"
   ]
  },
  {
   "cell_type": "code",
   "execution_count": 0,
   "metadata": {
    "application/vnd.databricks.v1+cell": {
     "inputWidgets": {},
     "nuid": "7b62759b-0fc3-4e84-a1aa-287dd29b22bb",
     "showTitle": false,
     "title": ""
    }
   },
   "outputs": [
    {
     "data": {
      "image/png": "[encoded data removed]"
     },
     "metadata": {
      "application/vnd.databricks.v1+output": {
       "addedWidgets": {},
       "arguments": {},
       "data": "data:image/png;base64,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",
       "datasetInfos": [],
       "metadata": {
        "imageDimensions": {
         "height": 280,
         "width": 424
        }
       },
       "removedWidgets": [],
       "type": "image"
      },
      "image/png": {
       "height": 280,
       "width": 424
      }
     },
     "output_type": "display_data"
    }
   ],
   "source": [
    "fig, ax = plt.subplots()\n",
    "forest_importances.sort_values(ascending=False).plot.bar( ax=ax)\n",
    "ax.set_title(\"Feature importances using MDI: GradientBoosting\")\n",
    "ax.set_ylabel(\"Mean decrease in impurity\")\n",
    "fig.tight_layout()"
   ]
  },
  {
   "cell_type": "markdown",
   "metadata": {
    "application/vnd.databricks.v1+cell": {
     "inputWidgets": {},
     "nuid": "3c61b87e-0d2c-4b41-9a30-414c0c30d693",
     "showTitle": false,
     "title": ""
    }
   },
   "source": [
    "#####The top three most important features are review, average hours per month and satisfaction."
   ]
  },
  {
   "cell_type": "markdown",
   "metadata": {
    "application/vnd.databricks.v1+cell": {
     "inputWidgets": {},
     "nuid": "22d21e97-6869-4831-8386-963b6db80de7",
     "showTitle": false,
     "title": ""
    }
   },
   "source": [
    "###  4. Recommendations to reduce the employee turnover."
   ]
  },
  {
   "cell_type": "markdown",
   "metadata": {
    "application/vnd.databricks.v1+cell": {
     "inputWidgets": {},
     "nuid": "3e429f19-8401-44df-a4ce-fa1eeb1cef28",
     "showTitle": false,
     "title": ""
    }
   },
   "source": [
    "#####Using several modelling methods, we noted that reviews, average hours per month, tenure and job satisfaction are the most important variables to influence employee departure. While an employee's longer average hours and the duration of stay with the company are associated more with employee retainment, an employee's high review scores are a strong indicator of employee departure. Although this may seem  counterintuitive at first, one of the aspects of a performance review is that an employee's targets get increased putting more pressure on an employee to meet their goals. Indeed,  we can observe that employee satisfaction is negatively correlated with performance reviews, and employee turnover is the highest within the sales and retail departments. \n",
    "\n",
    "#####The management need to pay closer attention to the four departments with the highest employee turnover (sales, retail, engineering and operations). If the data for the satisfaction scores is derived exclusively from exit surveys, it can be a leaked variable and not useful for the current analysis. However, if not, looking for more ways to boost employee satisfaction is recommended as this is beneficial for employee retainment."
   ]
  },
  {
   "cell_type": "code",
   "execution_count": 0,
   "metadata": {
    "application/vnd.databricks.v1+cell": {
     "inputWidgets": {},
     "nuid": "f19d2943-9e41-4c46-8fa1-00e789a1b548",
     "showTitle": false,
     "title": ""
    }
   },
   "outputs": [],
   "source": []
  }
 ],
 "metadata": {
  "application/vnd.databricks.v1+notebook": {
   "dashboards": [],
   "language": "python",
   "notebookMetadata": {
    "pythonIndentUnit": 4
   },
   "notebookName": "Feature_selection_for_Employees_Retention_task",
   "notebookOrigID": 3913936371461903,
   "widgets": {}
  },
  "kernelspec": {
   "display_name": "Python 3",
   "language": "python",
   "name": "python3"
  },
  "language_info": {
   "codemirror_mode": {
    "name": "ipython",
    "version": 3
   },
   "file_extension": ".py",
   "mimetype": "text/x-python",
   "name": "python",
   "nbconvert_exporter": "python",
   "pygments_lexer": "ipython3",
   "version": "3.8.8"
  }
 },
 "nbformat": 4,
 "nbformat_minor": 1
}
