{
 "cells": [
  {
   "cell_type": "code",
   "execution_count": null,
   "metadata": {},
   "outputs": [],
   "source": [
    "import pandas as pd\n",
    "import numpy as np\n",
    "\n",
    "# scrape all the tables from the web\n",
    "all_df_lists = []\n",
    "for year in range(2014, 2020):\n",
    "    url='http://www.svpl.org.uk/index.php/{}-league-tables?year={}-league-tables'.format(year, year)\n",
    "    all_df_lists.append(pd.read_html(url))"
   ]
  },
  {
   "cell_type": "code",
   "execution_count": null,
   "metadata": {},
   "outputs": [],
   "source": [
    "all_df_lists"
   ]
  },
  {
   "cell_type": "code",
   "execution_count": null,
   "metadata": {},
   "outputs": [],
   "source": [
    "## not all tables have all desired columns, so fill with NaN\n",
    "# also add columns for Year and table number within year\n",
    "\n",
    "desired_columns = ['Year', 'TblNbr', 'Rank', 'Teams', 'Played', 'Points', 'GD', 'PD']\n",
    "for year, df_list in zip(range(2014, 2020), all_df_lists):\n",
    "    for i, df in enumerate(df_list):\n",
    "        df['Year'] = year\n",
    "        df['TblNbr'] = i\n",
    "        for col in desired_columns:\n",
    "            if not col in df.columns:\n",
    "                df[col] = np.nan\n",
    "                print(\"added column {} to table {} of year {}\".format(col, i, year))\n",
    "desired_columns"
   ]
  },
  {
   "cell_type": "code",
   "execution_count": null,
   "metadata": {},
   "outputs": [],
   "source": [
    "df_list"
   ]
  },
  {
   "cell_type": "code",
   "execution_count": null,
   "metadata": {},
   "outputs": [],
   "source": [
    "# combine the tables, keep only the desired columns\n",
    "df_combined = pd.concat([df[desired_columns] for df_list in all_df_lists for df in df_list], ignore_index=True)\n",
    "df_combined"
   ]
  },
  {
   "cell_type": "code",
   "execution_count": null,
   "metadata": {},
   "outputs": [],
   "source": [
    "#teams=['Kinver Con Club','Nomads','Top Pub','Plough','Alveley Royals','Footloose',\"Gaters 'A'\",'Alveley Oaks']\n",
    "final=df_combined[(df_combined.values == 'Alveley Oaks')|(df_combined.values == 'Kinver Con Club')|(df_combined.values == 'Nomads')|(df_combined.values == 'Kinver Con Club')|(df_combined.values == 'Top Pub')|(df_combined.values == 'Plough')|(df_combined.values == 'Alveley Royals')|(df_combined.values == 'Footloose')|(df_combined.values == \"Gaters 'A'\")|(df_combined.values == 'Alveley Oaks')]\n",
    "#df[(df.values  == \"banana\")|(df.values  == \"apple\" ) ]\n",
    "final=final[['Year','Teams','Points']]\n",
    "merged=final.pivot_table(index='Year', columns='Teams',values='Points').reset_index().rename_axis(None, axis=1)\n",
    "merged.Year = pd.to_datetime(merged['Year'], format='%Y')\n",
    "merged.set_index(['Year'],inplace=True)\n",
    "merged"
   ]
  },
  {
   "cell_type": "code",
   "execution_count": null,
   "metadata": {},
   "outputs": [],
   "source": [
    "import matplotlib.pyplot as plt\n",
    "import matplotlib.transforms as mtrans\n",
    "from matplotlib.ticker import FixedLocator, FormatStrFormatter\n",
    "import matplotlib.dates as mdates\n",
    "%matplotlib notebook\n",
    "plt.style.use('seaborn-poster')\n",
    "\n",
    "fig,ax = plt.subplots(figsize=(9,6), facecolor='w', edgecolor='blue')\n",
    "\n",
    "my_colors=['orangered','seagreen', 'goldenrod', 'springgreen', 'sienna']\n",
    "\n",
    "ax.set_ylim(-0.7, 31)  \n",
    "\n",
    "# set every year\n",
    "years = mdates.YearLocator()   \n",
    "years_fmt = mdates.DateFormatter('%Y')\n",
    "\n",
    "# format the ticks\n",
    "ax.xaxis.set_major_locator(years)\n",
    "ax.xaxis.set_major_formatter(years_fmt)\n",
    "\n",
    "\n",
    "ax.spines['top'].set_visible(False)\n",
    "ax.spines['bottom'].set_visible(False)\n",
    "ax.spines['right'].set_visible(False)\n",
    "ax.spines['left'].set_visible(False)\n",
    "\n",
    "\n",
    "#title\n",
    "\n",
    "fig.text(0.24, 0.95, \"S\", ha=\"center\", va=\"bottom\", size=21,color=\"blue\")\n",
    "fig.text(0.27, 0.95, \"V\", ha=\"center\", va=\"bottom\", size=21,color=\"red\")\n",
    "fig.text(0.30, 0.95, \"P\", ha=\"center\", va=\"bottom\", size=21,color=\"gold\")\n",
    "fig.text(0.33, 0.95, \"L\", ha=\"center\", va=\"bottom\", size=21,color=\"darkgreen\")\n",
    "fig.text(0.50, 0.95, \"Clubs  performance\", ha=\"center\", va=\"bottom\", size=17,color=\"black\")\n",
    "fig.text(0.73, 0.95,\" 2014-2019\", ha=\"center\", va=\"bottom\", size=17,color=\"black\")\n",
    "\n",
    "x_axis = ax.axes.get_xaxis()\n",
    "x_label = x_axis.get_label()\n",
    "x_label.set_visible(False)\n",
    "ax.set_ylabel('Points won', color='darkblue',  fontdict={'fontsize': 14, 'fontweight': 'medium'})\n",
    "\n",
    "\n",
    "\n",
    "ax.tick_params(axis='y', which='major', labelsize=12, bottom=False, top=False, labelbottom=False,\n",
    "               left=False, right=False, labelright=False)\n",
    "ax.tick_params(axis='x', which='major', labelcolor='black', width=3,color='black', labelsize=14, bottom=True, top=False, labelbottom=True, labelrotation=90,\n",
    "               left=False, right=False, labelright=False)\n",
    "\n",
    "ax=merged.plot(y=['Kinver Con Club', 'Nomads', 'Plough', \"Gaters 'A'\", 'Alveley Oaks'],marker='o',figsize=(9,6),legend=None, color=my_colors, ax=ax)\n",
    "\n",
    "selectcols=merged[['Kinver Con Club', 'Nomads', 'Plough', \"Gaters 'A'\", 'Alveley Oaks']]\n",
    "\n",
    "for line, name in zip(ax.lines, selectcols.columns):\n",
    "\n",
    "    y = line.get_ydata()[-1]\n",
    "    ax.annotate(name, xy=(0.998,y), xytext=(6,0), color=line.get_color(), \n",
    "                xycoords = ax.get_yaxis_transform(), textcoords=\"offset points\",\n",
    "                size=16, va=\"center\")\n",
    "\n",
    "merged.plot(y='Footloose', marker='o', figsize=(9,6), legend=None, color= 'steelblue', ax=ax, alpha=1,\n",
    "                    transform=mtrans.offset_copy(ax.transData, fig=fig, x=0.0, y=4, units='points'))   \n",
    "\n",
    "y = 12\n",
    "ax.annotate('Footloose', xy=(0.998,y), xytext=(6,0), color='steelblue', \n",
    "                xycoords = ax.get_yaxis_transform(), textcoords=\"offset points\",\n",
    "                size=16, va=\"center\")\n",
    "\n",
    "merged.plot(y=['Top Pub'], marker='o', figsize=(9,6), legend=None, color= 'darkred', ax=ax, alpha=1,\n",
    "                    transform=mtrans.offset_copy(ax.transData, fig=fig, x=0.0, y=3*(1), units='points'))      \n",
    "y = 22\n",
    "ax.annotate('Top Pub', xy=(0.998,y), xytext=(6,0), color='darkred', \n",
    "                xycoords = ax.get_yaxis_transform(), textcoords=\"offset points\",\n",
    "                size=16, va=\"center\")\n",
    "\n",
    "y = 16\n",
    "merged.plot(y='Alveley Royals', marker='o', figsize=(9,6), legend=None, color= 'darkviolet', ax=ax, alpha=1,\n",
    "                    transform=mtrans.offset_copy(ax.transData, fig=fig, x=0.0, y=-1.8, units='points'))  \n",
    "ax.annotate('Alveley Royals', xy=(0.998,y), xytext=(6,0), color='darkviolet', \n",
    "                xycoords = ax.get_yaxis_transform(), textcoords=\"offset points\",\n",
    "                size=16, va=\"center\")\n",
    "\n",
    "\n",
    "# Adjusting the size of the plot to fit the team labels\n",
    "\n",
    "fig.subplots_adjust(left=.075, right=.72, bottom=0.15, top=.90)\n",
    "\n",
    "# Horizontal grid lines\n",
    "ax.yaxis.set_major_formatter(plt.FuncFormatter('{:.0f}'.format))\n",
    "ax.grid(True, 'major', 'y', ls='--', lw=.6, c='darkgray', alpha=.5)\n",
    "\n",
    "plt.savefig('SVPLclubsperformancebest.pdf')\n",
    "plt.show()\n"
   ]
  },
  {
   "cell_type": "code",
   "execution_count": null,
   "metadata": {},
   "outputs": [],
   "source": []
  },
  {
   "cell_type": "code",
   "execution_count": null,
   "metadata": {},
   "outputs": [],
   "source": []
  }
 ],
 "metadata": {
  "kernelspec": {
   "display_name": "Python 3",
   "language": "python",
   "name": "python3"
  },
  "language_info": {
   "codemirror_mode": {
    "name": "ipython",
    "version": 3
   },
   "file_extension": ".py",
   "mimetype": "text/x-python",
   "name": "python",
   "nbconvert_exporter": "python",
   "pygments_lexer": "ipython3",
   "version": "3.8.3"
  }
 },
 "nbformat": 4,
 "nbformat_minor": 2
}
