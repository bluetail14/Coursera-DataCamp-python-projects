{
 "cells": [
  {
   "cell_type": "markdown",
   "metadata": {
    "application/vnd.databricks.v1+cell": {
     "inputWidgets": {},
     "nuid": "fa50dafe-7d13-48ec-a314-a21184d50b1e",
     "showTitle": false,
     "title": ""
    }
   },
   "source": [
    "# Can you help reduce employee turnover?\n",
    "\n",
    "## 📖 Background\n",
    "You work for the human resource department of a large corporation. The Board is worried about the relatively high turnover, and your team must look into ways to reduce the number of employees leaving the company.\n",
    "\n",
    "The team needs to understand better the situation, which employees are more likely to leave, and why. Once it is clear what variables impact employee churn, you can present your findings along with your ideas on how to attack the problem."
   ]
  },
  {
   "cell_type": "markdown",
   "metadata": {
    "application/vnd.databricks.v1+cell": {
     "inputWidgets": {},
     "nuid": "288c664a-0384-4fdb-9227-59d34f4eab9c",
     "showTitle": false,
     "title": ""
    }
   },
   "source": [
    "## 💾 The data\n",
    "The department has assembled data on almost 10,000 employees. The team used information from exit interviews, performance reviews, and employee records.\n",
    "\n",
    "- \"department\" - the department the employee belongs to.\n",
    "- \"promoted\" - 1 if the employee was promoted in the previous 24 months, 0 otherwise.\n",
    "- \"review\" - the composite score the employee received in their last evaluation.\n",
    "- \"projects\" - how many projects the employee is involved in.\n",
    "- \"salary\" - for confidentiality reasons, salary comes in three tiers: low, medium, high.\n",
    "- \"tenure\" - how many years the employee has been at the company.\n",
    "- \"satisfaction\" - a measure of employee satisfaction from surveys.\n",
    "- \"avg_hrs_month\" - the average hours the employee worked in a month.\n",
    "- \"left\" - \"yes\" if the employee ended up leaving, \"no\" otherwise."
   ]
  },
  {
   "cell_type": "markdown",
   "metadata": {
    "application/vnd.databricks.v1+cell": {
     "inputWidgets": {},
     "nuid": "35e70506-9cbc-4f14-915f-1ad17cca0ee9",
     "showTitle": false,
     "title": ""
    }
   },
   "source": [
    "## Create a report that covers the following:\n",
    "\n",
    "1. Which department has the highest employee turnover? Which one has the lowest?\n",
    "2. Investigate which variables seem to be better predictors of employee departure.\n",
    "3. What recommendations would you make regarding ways to reduce employee turnover?"
   ]
  },
  {
   "cell_type": "markdown",
   "metadata": {
    "application/vnd.databricks.v1+cell": {
     "inputWidgets": {},
     "nuid": "e6c65d08-c297-4d63-9d38-f77f79dfb1b0",
     "showTitle": false,
     "title": ""
    }
   },
   "source": [
    "## Report content:\n",
    "\n",
    "-\n",
    "1. Preliminary remarks and data exploration.\n",
    "2. Feature design and exploration.\n",
    "3. Modelling and feature selection.\n",
    "4. Recommendations to reduce employee turnover."
   ]
  },
  {
   "cell_type": "code",
   "execution_count": 1,
   "metadata": {
    "application/vnd.databricks.v1+cell": {
     "inputWidgets": {},
     "nuid": "90995f2f-84d6-442b-8076-3ea759a902b7",
     "showTitle": false,
     "title": ""
    }
   },
   "outputs": [],
   "source": [
    "import pandas as pd\n",
    "import numpy as np\n",
    "from sklearn.preprocessing import OrdinalEncoder, OneHotEncoder, StandardScaler\n",
    "from sklearn.model_selection import train_test_split\n",
    "import seaborn as sns\n",
    "import matplotlib.pyplot as plt\n",
    "\n",
    "from sklearn.metrics import confusion_matrix\n",
    "from sklearn.model_selection import train_test_split\n",
    "from sklearn.tree import DecisionTreeClassifier\n",
    "from sklearn.ensemble import RandomForestClassifier, AdaBoostClassifier, GradientBoostingClassifier\n",
    "from sklearn.metrics import plot_confusion_matrix, classification_report\n",
    "from sklearn.model_selection import GridSearchCV\n",
    "from sklearn.feature_selection import SelectFromModel\n",
    "from sklearn.metrics import f1_score, roc_curve\n",
    "\n",
    "from imblearn import under_sampling, over_sampling"
   ]
  },
  {
   "cell_type": "markdown",
   "metadata": {
    "application/vnd.databricks.v1+cell": {
     "inputWidgets": {},
     "nuid": "521732f2-2eda-45e8-9cbe-72972e33fc2a",
     "showTitle": false,
     "title": ""
    }
   },
   "source": [
    "### 1. Preliminary remarks and data exploration.\n",
    "\n",
    "Prior to technical analysis, tt is a good idea to gain the 'domain knowledge' e.g. by speaking the HR deparment about what they consider to be the main causes of employee departures. This could aid in selecting important  features."
   ]
  },
  {
   "cell_type": "code",
   "execution_count": 2,
   "metadata": {
    "application/vnd.databricks.v1+cell": {
     "inputWidgets": {},
     "nuid": "f227ece0-3b12-49b1-ad0f-4bcd587803c4",
     "showTitle": false,
     "title": ""
    }
   },
   "outputs": [
    {
     "data": {
      "text/html": [
       "<div>\n",
       "<style scoped>\n",
       "    .dataframe tbody tr th:only-of-type {\n",
       "        vertical-align: middle;\n",
       "    }\n",
       "\n",
       "    .dataframe tbody tr th {\n",
       "        vertical-align: top;\n",
       "    }\n",
       "\n",
       "    .dataframe thead th {\n",
       "        text-align: right;\n",
       "    }\n",
       "</style>\n",
       "<table border=\"1\" class=\"dataframe\">\n",
       "  <thead>\n",
       "    <tr style=\"text-align: right;\">\n",
       "      <th></th>\n",
       "      <th>department</th>\n",
       "      <th>promoted</th>\n",
       "      <th>review</th>\n",
       "      <th>projects</th>\n",
       "      <th>salary</th>\n",
       "      <th>tenure</th>\n",
       "      <th>satisfaction</th>\n",
       "      <th>bonus</th>\n",
       "      <th>avg_hrs_month</th>\n",
       "      <th>left</th>\n",
       "    </tr>\n",
       "  </thead>\n",
       "  <tbody>\n",
       "    <tr>\n",
       "      <th>0</th>\n",
       "      <td>operations</td>\n",
       "      <td>0</td>\n",
       "      <td>0.577569</td>\n",
       "      <td>3</td>\n",
       "      <td>low</td>\n",
       "      <td>5.0</td>\n",
       "      <td>0.626759</td>\n",
       "      <td>0</td>\n",
       "      <td>180.866070</td>\n",
       "      <td>no</td>\n",
       "    </tr>\n",
       "    <tr>\n",
       "      <th>1</th>\n",
       "      <td>operations</td>\n",
       "      <td>0</td>\n",
       "      <td>0.751900</td>\n",
       "      <td>3</td>\n",
       "      <td>medium</td>\n",
       "      <td>6.0</td>\n",
       "      <td>0.443679</td>\n",
       "      <td>0</td>\n",
       "      <td>182.708149</td>\n",
       "      <td>no</td>\n",
       "    </tr>\n",
       "    <tr>\n",
       "      <th>2</th>\n",
       "      <td>support</td>\n",
       "      <td>0</td>\n",
       "      <td>0.722548</td>\n",
       "      <td>3</td>\n",
       "      <td>medium</td>\n",
       "      <td>6.0</td>\n",
       "      <td>0.446823</td>\n",
       "      <td>0</td>\n",
       "      <td>184.416084</td>\n",
       "      <td>no</td>\n",
       "    </tr>\n",
       "    <tr>\n",
       "      <th>3</th>\n",
       "      <td>logistics</td>\n",
       "      <td>0</td>\n",
       "      <td>0.675158</td>\n",
       "      <td>4</td>\n",
       "      <td>high</td>\n",
       "      <td>8.0</td>\n",
       "      <td>0.440139</td>\n",
       "      <td>0</td>\n",
       "      <td>188.707545</td>\n",
       "      <td>no</td>\n",
       "    </tr>\n",
       "    <tr>\n",
       "      <th>4</th>\n",
       "      <td>sales</td>\n",
       "      <td>0</td>\n",
       "      <td>0.676203</td>\n",
       "      <td>3</td>\n",
       "      <td>high</td>\n",
       "      <td>5.0</td>\n",
       "      <td>0.577607</td>\n",
       "      <td>1</td>\n",
       "      <td>179.821083</td>\n",
       "      <td>no</td>\n",
       "    </tr>\n",
       "  </tbody>\n",
       "</table>\n",
       "</div>"
      ],
      "text/plain": [
       "   department  promoted    review  projects  salary  tenure  satisfaction  \\\n",
       "0  operations         0  0.577569         3     low     5.0      0.626759   \n",
       "1  operations         0  0.751900         3  medium     6.0      0.443679   \n",
       "2     support         0  0.722548         3  medium     6.0      0.446823   \n",
       "3   logistics         0  0.675158         4    high     8.0      0.440139   \n",
       "4       sales         0  0.676203         3    high     5.0      0.577607   \n",
       "\n",
       "   bonus  avg_hrs_month left  \n",
       "0      0     180.866070   no  \n",
       "1      0     182.708149   no  \n",
       "2      0     184.416084   no  \n",
       "3      0     188.707545   no  \n",
       "4      1     179.821083   no  "
      ]
     },
     "execution_count": 2,
     "metadata": {},
     "output_type": "execute_result"
    }
   ],
   "source": [
    "# convert the table to a dataframe\n",
    "df = pd.read_csv(\"employee_churn_data.csv\")\n",
    "df.head()"
   ]
  },
  {
   "cell_type": "code",
   "execution_count": 3,
   "metadata": {
    "application/vnd.databricks.v1+cell": {
     "inputWidgets": {},
     "nuid": "42abda8b-d7fa-4420-9443-85e9b669fdd7",
     "showTitle": false,
     "title": ""
    }
   },
   "outputs": [
    {
     "data": {
      "text/html": [
       "<div>\n",
       "<style scoped>\n",
       "    .dataframe tbody tr th:only-of-type {\n",
       "        vertical-align: middle;\n",
       "    }\n",
       "\n",
       "    .dataframe tbody tr th {\n",
       "        vertical-align: top;\n",
       "    }\n",
       "\n",
       "    .dataframe thead th {\n",
       "        text-align: right;\n",
       "    }\n",
       "</style>\n",
       "<table border=\"1\" class=\"dataframe\">\n",
       "  <thead>\n",
       "    <tr style=\"text-align: right;\">\n",
       "      <th></th>\n",
       "      <th>Variable</th>\n",
       "      <th>Number of unique values</th>\n",
       "      <th>Number of nulls</th>\n",
       "      <th>Values</th>\n",
       "    </tr>\n",
       "  </thead>\n",
       "  <tbody>\n",
       "    <tr>\n",
       "      <th>0</th>\n",
       "      <td>department</td>\n",
       "      <td>10</td>\n",
       "      <td>0</td>\n",
       "      <td>[operations, support, logistics, sales, IT, ad...</td>\n",
       "    </tr>\n",
       "    <tr>\n",
       "      <th>1</th>\n",
       "      <td>promoted</td>\n",
       "      <td>2</td>\n",
       "      <td>0</td>\n",
       "      <td>[0, 1]</td>\n",
       "    </tr>\n",
       "    <tr>\n",
       "      <th>2</th>\n",
       "      <td>review</td>\n",
       "      <td>9540</td>\n",
       "      <td>0</td>\n",
       "      <td>[0.5775686596355698, 0.7518996607137884, 0.722...</td>\n",
       "    </tr>\n",
       "    <tr>\n",
       "      <th>3</th>\n",
       "      <td>projects</td>\n",
       "      <td>4</td>\n",
       "      <td>0</td>\n",
       "      <td>[3, 4, 2, 5]</td>\n",
       "    </tr>\n",
       "    <tr>\n",
       "      <th>4</th>\n",
       "      <td>salary</td>\n",
       "      <td>3</td>\n",
       "      <td>0</td>\n",
       "      <td>[low, medium, high]</td>\n",
       "    </tr>\n",
       "    <tr>\n",
       "      <th>5</th>\n",
       "      <td>tenure</td>\n",
       "      <td>11</td>\n",
       "      <td>0</td>\n",
       "      <td>[5.0, 6.0, 8.0, 7.0, 4.0, 3.0, 2.0, 9.0, 10.0,...</td>\n",
       "    </tr>\n",
       "    <tr>\n",
       "      <th>6</th>\n",
       "      <td>satisfaction</td>\n",
       "      <td>9540</td>\n",
       "      <td>0</td>\n",
       "      <td>[0.6267589740293295, 0.4436789547574034, 0.446...</td>\n",
       "    </tr>\n",
       "    <tr>\n",
       "      <th>7</th>\n",
       "      <td>bonus</td>\n",
       "      <td>2</td>\n",
       "      <td>0</td>\n",
       "      <td>[0, 1]</td>\n",
       "    </tr>\n",
       "    <tr>\n",
       "      <th>8</th>\n",
       "      <td>avg_hrs_month</td>\n",
       "      <td>9540</td>\n",
       "      <td>0</td>\n",
       "      <td>[180.8660696668475, 182.7081489616225, 184.416...</td>\n",
       "    </tr>\n",
       "    <tr>\n",
       "      <th>9</th>\n",
       "      <td>left</td>\n",
       "      <td>2</td>\n",
       "      <td>0</td>\n",
       "      <td>[no, yes]</td>\n",
       "    </tr>\n",
       "  </tbody>\n",
       "</table>\n",
       "</div>"
      ],
      "text/plain": [
       "        Variable Number of unique values Number of nulls  \\\n",
       "0     department                      10               0   \n",
       "1       promoted                       2               0   \n",
       "2         review                    9540               0   \n",
       "3       projects                       4               0   \n",
       "4         salary                       3               0   \n",
       "5         tenure                      11               0   \n",
       "6   satisfaction                    9540               0   \n",
       "7          bonus                       2               0   \n",
       "8  avg_hrs_month                    9540               0   \n",
       "9           left                       2               0   \n",
       "\n",
       "                                              Values  \n",
       "0  [operations, support, logistics, sales, IT, ad...  \n",
       "1                                             [0, 1]  \n",
       "2  [0.5775686596355698, 0.7518996607137884, 0.722...  \n",
       "3                                       [3, 4, 2, 5]  \n",
       "4                                [low, medium, high]  \n",
       "5  [5.0, 6.0, 8.0, 7.0, 4.0, 3.0, 2.0, 9.0, 10.0,...  \n",
       "6  [0.6267589740293295, 0.4436789547574034, 0.446...  \n",
       "7                                             [0, 1]  \n",
       "8  [180.8660696668475, 182.7081489616225, 184.416...  \n",
       "9                                          [no, yes]  "
      ]
     },
     "execution_count": 3,
     "metadata": {},
     "output_type": "execute_result"
    }
   ],
   "source": [
    "# Understand your variables\n",
    "variables = pd.DataFrame(columns=['Variable','Number of unique values','Number of nulls','Values'])\n",
    "\n",
    "for i, var in enumerate(df.columns):\n",
    "    variables.loc[i] = [var, df[var].nunique(),df[var].isnull().sum(), df[var].unique().tolist()]\n",
    "variables"
   ]
  },
  {
   "cell_type": "code",
   "execution_count": null,
   "metadata": {
    "application/vnd.databricks.v1+cell": {
     "inputWidgets": {},
     "nuid": "beedf2e5-9747-4b2f-a969-18ea676023e5",
     "showTitle": false,
     "title": ""
    }
   },
   "outputs": [],
   "source": [
    "#display(spark.sql(\"SELECT * FROM adsda.employee_churn_data\").summary())\n",
    "df.describe(include='all')"
   ]
  },
  {
   "cell_type": "markdown",
   "metadata": {},
   "source": [
    "### It is an inbalanced dataset with 30% of yes and 70% of no."
   ]
  },
  {
   "cell_type": "code",
   "execution_count": 4,
   "metadata": {},
   "outputs": [
    {
     "data": {
      "text/plain": [
       "no     6756\n",
       "yes    2784\n",
       "Name: left, dtype: int64"
      ]
     },
     "execution_count": 4,
     "metadata": {},
     "output_type": "execute_result"
    }
   ],
   "source": [
    "df['left'].value_counts() "
   ]
  },
  {
   "cell_type": "code",
   "execution_count": 5,
   "metadata": {
    "application/vnd.databricks.v1+cell": {
     "inputWidgets": {},
     "nuid": "263dc326-cfab-4fd9-8aeb-10a54576dcac",
     "showTitle": false,
     "title": ""
    }
   },
   "outputs": [
    {
     "data": {
      "image/png": "[encoded data removed]",
      "text/plain": [
       "<Figure size 432x288 with 1 Axes>"
      ]
     },
     "metadata": {},
     "output_type": "display_data"
    }
   ],
   "source": [
    "mylabels =df['left'].value_counts() \n",
    "plt.pie(df['left'].value_counts(), labels = ['no', 'yes'])\n",
    "plt.show() "
   ]
  },
  {
   "cell_type": "code",
   "execution_count": 6,
   "metadata": {
    "application/vnd.databricks.v1+cell": {
     "inputWidgets": {},
     "nuid": "1e048cb7-b65c-44be-9f6b-abf4c5445eae",
     "showTitle": false,
     "title": ""
    }
   },
   "outputs": [
    {
     "data": {
      "image/png": "[encoded data removed]",
      "text/plain": [
       "<Figure size 360x360 with 1 Axes>"
      ]
     },
     "metadata": {},
     "output_type": "display_data"
    }
   ],
   "source": [
    "sns.set_style('white')\n",
    "filter = df['left'] == 'yes'\n",
    "g = sns.catplot(data=df[filter], kind='count', y='department', palette='magma_r',\n",
    "            order=df[filter]['department'].value_counts(ascending=True).index)\n",
    "g.fig.suptitle('Employee departures by department')\n",
    "g.fig.subplots_adjust(top=0.9)\n",
    "\n",
    "#abs_values = df[filter]['department'].value_counts(ascending=True)\n",
    "#g.bar_label(container=g.containers[0], labels=abs_values)\n",
    "for ax in g.axes.flat:\n",
    "    ax.bar_label(ax.containers[0], fontsize=12)\n",
    "    ax.margins(x=0.1)\n",
    "    \n",
    "plt.tight_layout()\n",
    "plt.show()"
   ]
  },
  {
   "cell_type": "markdown",
   "metadata": {
    "application/vnd.databricks.v1+cell": {
     "inputWidgets": {},
     "nuid": "df5953ae-5efe-46db-80c2-7e4b1b32c2fa",
     "showTitle": false,
     "title": ""
    }
   },
   "source": [
    "### As we can see from the bar chart, the highest employee turnover is at the sales department followed by retail, engineering and operations. On the other end of the scale are finance, IT, logistics and admin with the lowest employee turnover."
   ]
  },
  {
   "cell_type": "markdown",
   "metadata": {
    "application/vnd.databricks.v1+cell": {
     "inputWidgets": {},
     "nuid": "d8e6448d-d2e9-4297-86f9-4af38a8e58c2",
     "showTitle": false,
     "title": ""
    }
   },
   "source": [
    "### 2. Feature design and exploration."
   ]
  },
  {
   "cell_type": "markdown",
   "metadata": {
    "application/vnd.databricks.v1+cell": {
     "inputWidgets": {},
     "nuid": "e9e0d1ce-20be-495f-9848-07ddb4de5aa7",
     "showTitle": false,
     "title": ""
    }
   },
   "source": [
    "The dataset has mixed data with both numerical and categorical values. Some of the features, bonus and promoted, are binomial, while department and salary are ordinal. There are no missing vales and requires scaling (the larger values for average hours per month). The scatterplots show that two pairs of features, average hours per month and tenure, and review and satisfaction, are strongly correlated with each other. The numeric variables  are normally distributioned"
   ]
  },
  {
   "cell_type": "code",
   "execution_count": 7,
   "metadata": {
    "application/vnd.databricks.v1+cell": {
     "inputWidgets": {},
     "nuid": "1d18d6f3-3ddc-4817-9fda-a00d4ae581dc",
     "showTitle": false,
     "title": ""
    }
   },
   "outputs": [],
   "source": [
    "cat_cols = ['department','promoted','salary','bonus', 'left']\n",
    "df[cat_cols] = df[cat_cols].astype('category')"
   ]
  },
  {
   "cell_type": "code",
   "execution_count": 33,
   "metadata": {},
   "outputs": [
    {
     "data": {
      "text/html": [
       "<div>\n",
       "<style scoped>\n",
       "    .dataframe tbody tr th:only-of-type {\n",
       "        vertical-align: middle;\n",
       "    }\n",
       "\n",
       "    .dataframe tbody tr th {\n",
       "        vertical-align: top;\n",
       "    }\n",
       "\n",
       "    .dataframe thead th {\n",
       "        text-align: right;\n",
       "    }\n",
       "</style>\n",
       "<table border=\"1\" class=\"dataframe\">\n",
       "  <thead>\n",
       "    <tr style=\"text-align: right;\">\n",
       "      <th></th>\n",
       "      <th>promoted</th>\n",
       "      <th>review</th>\n",
       "      <th>projects</th>\n",
       "      <th>salary</th>\n",
       "      <th>tenure</th>\n",
       "      <th>satisfaction</th>\n",
       "      <th>bonus</th>\n",
       "      <th>avg_hrs_month</th>\n",
       "      <th>left</th>\n",
       "      <th>IT</th>\n",
       "      <th>admin</th>\n",
       "      <th>engineering</th>\n",
       "      <th>finance</th>\n",
       "      <th>logistics</th>\n",
       "      <th>marketing</th>\n",
       "      <th>operations</th>\n",
       "      <th>retail</th>\n",
       "      <th>sales</th>\n",
       "      <th>support</th>\n",
       "    </tr>\n",
       "  </thead>\n",
       "  <tbody>\n",
       "    <tr>\n",
       "      <th>0</th>\n",
       "      <td>0</td>\n",
       "      <td>0.577569</td>\n",
       "      <td>3</td>\n",
       "      <td>1.0</td>\n",
       "      <td>5.0</td>\n",
       "      <td>0.626759</td>\n",
       "      <td>0</td>\n",
       "      <td>180.866070</td>\n",
       "      <td>0.0</td>\n",
       "      <td>0.0</td>\n",
       "      <td>0.0</td>\n",
       "      <td>0.0</td>\n",
       "      <td>0.0</td>\n",
       "      <td>0.0</td>\n",
       "      <td>0.0</td>\n",
       "      <td>1.0</td>\n",
       "      <td>0.0</td>\n",
       "      <td>0.0</td>\n",
       "      <td>0.0</td>\n",
       "    </tr>\n",
       "    <tr>\n",
       "      <th>1</th>\n",
       "      <td>0</td>\n",
       "      <td>0.751900</td>\n",
       "      <td>3</td>\n",
       "      <td>2.0</td>\n",
       "      <td>6.0</td>\n",
       "      <td>0.443679</td>\n",
       "      <td>0</td>\n",
       "      <td>182.708149</td>\n",
       "      <td>0.0</td>\n",
       "      <td>0.0</td>\n",
       "      <td>0.0</td>\n",
       "      <td>0.0</td>\n",
       "      <td>0.0</td>\n",
       "      <td>0.0</td>\n",
       "      <td>0.0</td>\n",
       "      <td>1.0</td>\n",
       "      <td>0.0</td>\n",
       "      <td>0.0</td>\n",
       "      <td>0.0</td>\n",
       "    </tr>\n",
       "    <tr>\n",
       "      <th>2</th>\n",
       "      <td>0</td>\n",
       "      <td>0.722548</td>\n",
       "      <td>3</td>\n",
       "      <td>2.0</td>\n",
       "      <td>6.0</td>\n",
       "      <td>0.446823</td>\n",
       "      <td>0</td>\n",
       "      <td>184.416084</td>\n",
       "      <td>0.0</td>\n",
       "      <td>0.0</td>\n",
       "      <td>0.0</td>\n",
       "      <td>0.0</td>\n",
       "      <td>0.0</td>\n",
       "      <td>0.0</td>\n",
       "      <td>0.0</td>\n",
       "      <td>0.0</td>\n",
       "      <td>0.0</td>\n",
       "      <td>0.0</td>\n",
       "      <td>1.0</td>\n",
       "    </tr>\n",
       "    <tr>\n",
       "      <th>3</th>\n",
       "      <td>0</td>\n",
       "      <td>0.675158</td>\n",
       "      <td>4</td>\n",
       "      <td>3.0</td>\n",
       "      <td>8.0</td>\n",
       "      <td>0.440139</td>\n",
       "      <td>0</td>\n",
       "      <td>188.707545</td>\n",
       "      <td>0.0</td>\n",
       "      <td>0.0</td>\n",
       "      <td>0.0</td>\n",
       "      <td>0.0</td>\n",
       "      <td>0.0</td>\n",
       "      <td>1.0</td>\n",
       "      <td>0.0</td>\n",
       "      <td>0.0</td>\n",
       "      <td>0.0</td>\n",
       "      <td>0.0</td>\n",
       "      <td>0.0</td>\n",
       "    </tr>\n",
       "    <tr>\n",
       "      <th>4</th>\n",
       "      <td>0</td>\n",
       "      <td>0.676203</td>\n",
       "      <td>3</td>\n",
       "      <td>3.0</td>\n",
       "      <td>5.0</td>\n",
       "      <td>0.577607</td>\n",
       "      <td>1</td>\n",
       "      <td>179.821083</td>\n",
       "      <td>0.0</td>\n",
       "      <td>0.0</td>\n",
       "      <td>0.0</td>\n",
       "      <td>0.0</td>\n",
       "      <td>0.0</td>\n",
       "      <td>0.0</td>\n",
       "      <td>0.0</td>\n",
       "      <td>0.0</td>\n",
       "      <td>0.0</td>\n",
       "      <td>1.0</td>\n",
       "      <td>0.0</td>\n",
       "    </tr>\n",
       "  </tbody>\n",
       "</table>\n",
       "</div>"
      ],
      "text/plain": [
       "  promoted    review  projects  salary  tenure  satisfaction bonus  \\\n",
       "0        0  0.577569         3     1.0     5.0      0.626759     0   \n",
       "1        0  0.751900         3     2.0     6.0      0.443679     0   \n",
       "2        0  0.722548         3     2.0     6.0      0.446823     0   \n",
       "3        0  0.675158         4     3.0     8.0      0.440139     0   \n",
       "4        0  0.676203         3     3.0     5.0      0.577607     1   \n",
       "\n",
       "   avg_hrs_month  left   IT  admin  engineering  finance  logistics  \\\n",
       "0     180.866070   0.0  0.0    0.0          0.0      0.0        0.0   \n",
       "1     182.708149   0.0  0.0    0.0          0.0      0.0        0.0   \n",
       "2     184.416084   0.0  0.0    0.0          0.0      0.0        0.0   \n",
       "3     188.707545   0.0  0.0    0.0          0.0      0.0        1.0   \n",
       "4     179.821083   0.0  0.0    0.0          0.0      0.0        0.0   \n",
       "\n",
       "   marketing  operations  retail  sales  support  \n",
       "0        0.0         1.0     0.0    0.0      0.0  \n",
       "1        0.0         1.0     0.0    0.0      0.0  \n",
       "2        0.0         0.0     0.0    0.0      1.0  \n",
       "3        0.0         0.0     0.0    0.0      0.0  \n",
       "4        0.0         0.0     0.0    1.0      0.0  "
      ]
     },
     "execution_count": 33,
     "metadata": {},
     "output_type": "execute_result"
    }
   ],
   "source": [
    "# Ordinal encode of salary and left \n",
    "oe = OrdinalEncoder()\n",
    "\n",
    "df[[\"salary\",\"left\"]] = oe.fit_transform(df[[\"salary\", \"left\"]])\n",
    "df[\"salary\"] = df[\"salary\"].replace(0,3)\n",
    "df.head()"
   ]
  },
  {
   "cell_type": "code",
   "execution_count": null,
   "metadata": {},
   "outputs": [],
   "source": [
    "# One-hot dummy encoding of the categorical features  \n",
    "#df = pd.get_dummies(df, columns=['department'])\n",
    "#df.columns"
   ]
  },
  {
   "cell_type": "code",
   "execution_count": null,
   "metadata": {},
   "outputs": [],
   "source": [
    "df.dtypes"
   ]
  },
  {
   "cell_type": "code",
   "execution_count": null,
   "metadata": {},
   "outputs": [],
   "source": [
    "#ohe = OneHotEncoder()\n",
    "\n",
    "#df[ohe.get_feature_names_out(['department']).tolist()] = ohe.fit_transform(df.iloc[:, :1].values).toarray()\n",
    "#df.drop('department', axis=1, inplace=True)\n",
    "\n",
    "#df.columns = df.columns.str.replace('department_','')\n",
    "#df1 = df.loc[:,df.columns!='left']\n",
    "#df2 = df.loc[:,df.columns=='left']\n",
    "#df = pd.concat([df1, df2], 1)\n",
    "#df.head()\n"
   ]
  },
  {
   "cell_type": "code",
   "execution_count": 9,
   "metadata": {},
   "outputs": [
    {
     "data": {
      "text/html": [
       "<div>\n",
       "<style scoped>\n",
       "    .dataframe tbody tr th:only-of-type {\n",
       "        vertical-align: middle;\n",
       "    }\n",
       "\n",
       "    .dataframe tbody tr th {\n",
       "        vertical-align: top;\n",
       "    }\n",
       "\n",
       "    .dataframe thead th {\n",
       "        text-align: right;\n",
       "    }\n",
       "</style>\n",
       "<table border=\"1\" class=\"dataframe\">\n",
       "  <thead>\n",
       "    <tr style=\"text-align: right;\">\n",
       "      <th></th>\n",
       "      <th>promoted</th>\n",
       "      <th>review</th>\n",
       "      <th>projects</th>\n",
       "      <th>salary</th>\n",
       "      <th>tenure</th>\n",
       "      <th>satisfaction</th>\n",
       "      <th>bonus</th>\n",
       "      <th>avg_hrs_month</th>\n",
       "      <th>left</th>\n",
       "      <th>IT</th>\n",
       "      <th>admin</th>\n",
       "      <th>engineering</th>\n",
       "      <th>finance</th>\n",
       "      <th>logistics</th>\n",
       "      <th>marketing</th>\n",
       "      <th>operations</th>\n",
       "      <th>retail</th>\n",
       "      <th>sales</th>\n",
       "      <th>support</th>\n",
       "    </tr>\n",
       "  </thead>\n",
       "  <tbody>\n",
       "    <tr>\n",
       "      <th>0</th>\n",
       "      <td>0</td>\n",
       "      <td>0.577569</td>\n",
       "      <td>3</td>\n",
       "      <td>1.0</td>\n",
       "      <td>5.0</td>\n",
       "      <td>0.626759</td>\n",
       "      <td>0</td>\n",
       "      <td>180.866070</td>\n",
       "      <td>0.0</td>\n",
       "      <td>0.0</td>\n",
       "      <td>0.0</td>\n",
       "      <td>0.0</td>\n",
       "      <td>0.0</td>\n",
       "      <td>0.0</td>\n",
       "      <td>0.0</td>\n",
       "      <td>1.0</td>\n",
       "      <td>0.0</td>\n",
       "      <td>0.0</td>\n",
       "      <td>0.0</td>\n",
       "    </tr>\n",
       "    <tr>\n",
       "      <th>1</th>\n",
       "      <td>0</td>\n",
       "      <td>0.751900</td>\n",
       "      <td>3</td>\n",
       "      <td>2.0</td>\n",
       "      <td>6.0</td>\n",
       "      <td>0.443679</td>\n",
       "      <td>0</td>\n",
       "      <td>182.708149</td>\n",
       "      <td>0.0</td>\n",
       "      <td>0.0</td>\n",
       "      <td>0.0</td>\n",
       "      <td>0.0</td>\n",
       "      <td>0.0</td>\n",
       "      <td>0.0</td>\n",
       "      <td>0.0</td>\n",
       "      <td>1.0</td>\n",
       "      <td>0.0</td>\n",
       "      <td>0.0</td>\n",
       "      <td>0.0</td>\n",
       "    </tr>\n",
       "    <tr>\n",
       "      <th>2</th>\n",
       "      <td>0</td>\n",
       "      <td>0.722548</td>\n",
       "      <td>3</td>\n",
       "      <td>2.0</td>\n",
       "      <td>6.0</td>\n",
       "      <td>0.446823</td>\n",
       "      <td>0</td>\n",
       "      <td>184.416084</td>\n",
       "      <td>0.0</td>\n",
       "      <td>0.0</td>\n",
       "      <td>0.0</td>\n",
       "      <td>0.0</td>\n",
       "      <td>0.0</td>\n",
       "      <td>0.0</td>\n",
       "      <td>0.0</td>\n",
       "      <td>0.0</td>\n",
       "      <td>0.0</td>\n",
       "      <td>0.0</td>\n",
       "      <td>1.0</td>\n",
       "    </tr>\n",
       "    <tr>\n",
       "      <th>3</th>\n",
       "      <td>0</td>\n",
       "      <td>0.675158</td>\n",
       "      <td>4</td>\n",
       "      <td>0.0</td>\n",
       "      <td>8.0</td>\n",
       "      <td>0.440139</td>\n",
       "      <td>0</td>\n",
       "      <td>188.707545</td>\n",
       "      <td>0.0</td>\n",
       "      <td>0.0</td>\n",
       "      <td>0.0</td>\n",
       "      <td>0.0</td>\n",
       "      <td>0.0</td>\n",
       "      <td>1.0</td>\n",
       "      <td>0.0</td>\n",
       "      <td>0.0</td>\n",
       "      <td>0.0</td>\n",
       "      <td>0.0</td>\n",
       "      <td>0.0</td>\n",
       "    </tr>\n",
       "    <tr>\n",
       "      <th>4</th>\n",
       "      <td>0</td>\n",
       "      <td>0.676203</td>\n",
       "      <td>3</td>\n",
       "      <td>0.0</td>\n",
       "      <td>5.0</td>\n",
       "      <td>0.577607</td>\n",
       "      <td>1</td>\n",
       "      <td>179.821083</td>\n",
       "      <td>0.0</td>\n",
       "      <td>0.0</td>\n",
       "      <td>0.0</td>\n",
       "      <td>0.0</td>\n",
       "      <td>0.0</td>\n",
       "      <td>0.0</td>\n",
       "      <td>0.0</td>\n",
       "      <td>0.0</td>\n",
       "      <td>0.0</td>\n",
       "      <td>1.0</td>\n",
       "      <td>0.0</td>\n",
       "    </tr>\n",
       "    <tr>\n",
       "      <th>...</th>\n",
       "      <td>...</td>\n",
       "      <td>...</td>\n",
       "      <td>...</td>\n",
       "      <td>...</td>\n",
       "      <td>...</td>\n",
       "      <td>...</td>\n",
       "      <td>...</td>\n",
       "      <td>...</td>\n",
       "      <td>...</td>\n",
       "      <td>...</td>\n",
       "      <td>...</td>\n",
       "      <td>...</td>\n",
       "      <td>...</td>\n",
       "      <td>...</td>\n",
       "      <td>...</td>\n",
       "      <td>...</td>\n",
       "      <td>...</td>\n",
       "      <td>...</td>\n",
       "      <td>...</td>\n",
       "    </tr>\n",
       "    <tr>\n",
       "      <th>9535</th>\n",
       "      <td>0</td>\n",
       "      <td>0.610988</td>\n",
       "      <td>4</td>\n",
       "      <td>2.0</td>\n",
       "      <td>8.0</td>\n",
       "      <td>0.543641</td>\n",
       "      <td>0</td>\n",
       "      <td>188.155738</td>\n",
       "      <td>1.0</td>\n",
       "      <td>0.0</td>\n",
       "      <td>0.0</td>\n",
       "      <td>0.0</td>\n",
       "      <td>0.0</td>\n",
       "      <td>0.0</td>\n",
       "      <td>0.0</td>\n",
       "      <td>1.0</td>\n",
       "      <td>0.0</td>\n",
       "      <td>0.0</td>\n",
       "      <td>0.0</td>\n",
       "    </tr>\n",
       "    <tr>\n",
       "      <th>9536</th>\n",
       "      <td>0</td>\n",
       "      <td>0.746887</td>\n",
       "      <td>3</td>\n",
       "      <td>2.0</td>\n",
       "      <td>8.0</td>\n",
       "      <td>0.549048</td>\n",
       "      <td>0</td>\n",
       "      <td>188.176164</td>\n",
       "      <td>1.0</td>\n",
       "      <td>0.0</td>\n",
       "      <td>0.0</td>\n",
       "      <td>0.0</td>\n",
       "      <td>0.0</td>\n",
       "      <td>1.0</td>\n",
       "      <td>0.0</td>\n",
       "      <td>0.0</td>\n",
       "      <td>0.0</td>\n",
       "      <td>0.0</td>\n",
       "      <td>0.0</td>\n",
       "    </tr>\n",
       "    <tr>\n",
       "      <th>9537</th>\n",
       "      <td>0</td>\n",
       "      <td>0.557980</td>\n",
       "      <td>3</td>\n",
       "      <td>1.0</td>\n",
       "      <td>7.0</td>\n",
       "      <td>0.705425</td>\n",
       "      <td>0</td>\n",
       "      <td>186.531008</td>\n",
       "      <td>1.0</td>\n",
       "      <td>0.0</td>\n",
       "      <td>0.0</td>\n",
       "      <td>0.0</td>\n",
       "      <td>0.0</td>\n",
       "      <td>0.0</td>\n",
       "      <td>0.0</td>\n",
       "      <td>1.0</td>\n",
       "      <td>0.0</td>\n",
       "      <td>0.0</td>\n",
       "      <td>0.0</td>\n",
       "    </tr>\n",
       "    <tr>\n",
       "      <th>9538</th>\n",
       "      <td>0</td>\n",
       "      <td>0.584446</td>\n",
       "      <td>4</td>\n",
       "      <td>2.0</td>\n",
       "      <td>8.0</td>\n",
       "      <td>0.607287</td>\n",
       "      <td>1</td>\n",
       "      <td>187.641370</td>\n",
       "      <td>1.0</td>\n",
       "      <td>1.0</td>\n",
       "      <td>0.0</td>\n",
       "      <td>0.0</td>\n",
       "      <td>0.0</td>\n",
       "      <td>0.0</td>\n",
       "      <td>0.0</td>\n",
       "      <td>0.0</td>\n",
       "      <td>0.0</td>\n",
       "      <td>0.0</td>\n",
       "      <td>0.0</td>\n",
       "    </tr>\n",
       "    <tr>\n",
       "      <th>9539</th>\n",
       "      <td>0</td>\n",
       "      <td>0.626373</td>\n",
       "      <td>3</td>\n",
       "      <td>1.0</td>\n",
       "      <td>7.0</td>\n",
       "      <td>0.706455</td>\n",
       "      <td>1</td>\n",
       "      <td>185.920934</td>\n",
       "      <td>1.0</td>\n",
       "      <td>0.0</td>\n",
       "      <td>0.0</td>\n",
       "      <td>0.0</td>\n",
       "      <td>1.0</td>\n",
       "      <td>0.0</td>\n",
       "      <td>0.0</td>\n",
       "      <td>0.0</td>\n",
       "      <td>0.0</td>\n",
       "      <td>0.0</td>\n",
       "      <td>0.0</td>\n",
       "    </tr>\n",
       "  </tbody>\n",
       "</table>\n",
       "<p>9540 rows × 19 columns</p>\n",
       "</div>"
      ],
      "text/plain": [
       "     promoted    review  projects  salary  tenure  satisfaction bonus  \\\n",
       "0           0  0.577569         3     1.0     5.0      0.626759     0   \n",
       "1           0  0.751900         3     2.0     6.0      0.443679     0   \n",
       "2           0  0.722548         3     2.0     6.0      0.446823     0   \n",
       "3           0  0.675158         4     0.0     8.0      0.440139     0   \n",
       "4           0  0.676203         3     0.0     5.0      0.577607     1   \n",
       "...       ...       ...       ...     ...     ...           ...   ...   \n",
       "9535        0  0.610988         4     2.0     8.0      0.543641     0   \n",
       "9536        0  0.746887         3     2.0     8.0      0.549048     0   \n",
       "9537        0  0.557980         3     1.0     7.0      0.705425     0   \n",
       "9538        0  0.584446         4     2.0     8.0      0.607287     1   \n",
       "9539        0  0.626373         3     1.0     7.0      0.706455     1   \n",
       "\n",
       "      avg_hrs_month  left   IT  admin  engineering  finance  logistics  \\\n",
       "0        180.866070   0.0  0.0    0.0          0.0      0.0        0.0   \n",
       "1        182.708149   0.0  0.0    0.0          0.0      0.0        0.0   \n",
       "2        184.416084   0.0  0.0    0.0          0.0      0.0        0.0   \n",
       "3        188.707545   0.0  0.0    0.0          0.0      0.0        1.0   \n",
       "4        179.821083   0.0  0.0    0.0          0.0      0.0        0.0   \n",
       "...             ...   ...  ...    ...          ...      ...        ...   \n",
       "9535     188.155738   1.0  0.0    0.0          0.0      0.0        0.0   \n",
       "9536     188.176164   1.0  0.0    0.0          0.0      0.0        1.0   \n",
       "9537     186.531008   1.0  0.0    0.0          0.0      0.0        0.0   \n",
       "9538     187.641370   1.0  1.0    0.0          0.0      0.0        0.0   \n",
       "9539     185.920934   1.0  0.0    0.0          0.0      1.0        0.0   \n",
       "\n",
       "      marketing  operations  retail  sales  support  \n",
       "0           0.0         1.0     0.0    0.0      0.0  \n",
       "1           0.0         1.0     0.0    0.0      0.0  \n",
       "2           0.0         0.0     0.0    0.0      1.0  \n",
       "3           0.0         0.0     0.0    0.0      0.0  \n",
       "4           0.0         0.0     0.0    1.0      0.0  \n",
       "...         ...         ...     ...    ...      ...  \n",
       "9535        0.0         1.0     0.0    0.0      0.0  \n",
       "9536        0.0         0.0     0.0    0.0      0.0  \n",
       "9537        0.0         1.0     0.0    0.0      0.0  \n",
       "9538        0.0         0.0     0.0    0.0      0.0  \n",
       "9539        0.0         0.0     0.0    0.0      0.0  \n",
       "\n",
       "[9540 rows x 19 columns]"
      ]
     },
     "execution_count": 9,
     "metadata": {},
     "output_type": "execute_result"
    }
   ],
   "source": [
    "ohe = OneHotEncoder()\n",
    "\n",
    "df[ohe.get_feature_names_out(['department']).tolist()] = ohe.fit_transform(df.iloc[:, :1].values).toarray()\n",
    "list_of_names = ohe.get_feature_names_out(['department']).tolist()\n",
    "df[[s.replace(\"department_\", \"\") for s in list_of_names]] = ohe.transform(df.iloc[:, :1].values).toarray()\n",
    "\n",
    "df = df.loc[:,~df.columns.str.contains('department')].copy() \n",
    "df"
   ]
  },
  {
   "cell_type": "code",
   "execution_count": 10,
   "metadata": {
    "application/vnd.databricks.v1+cell": {
     "inputWidgets": {},
     "nuid": "b509a8c2-1cfa-4d7a-aec2-957817f49449",
     "showTitle": false,
     "title": ""
    }
   },
   "outputs": [
    {
     "data": {
      "text/html": [
       "<div>\n",
       "<style scoped>\n",
       "    .dataframe tbody tr th:only-of-type {\n",
       "        vertical-align: middle;\n",
       "    }\n",
       "\n",
       "    .dataframe tbody tr th {\n",
       "        vertical-align: top;\n",
       "    }\n",
       "\n",
       "    .dataframe thead th {\n",
       "        text-align: right;\n",
       "    }\n",
       "</style>\n",
       "<table border=\"1\" class=\"dataframe\">\n",
       "  <thead>\n",
       "    <tr style=\"text-align: right;\">\n",
       "      <th></th>\n",
       "      <th>review</th>\n",
       "      <th>satisfaction</th>\n",
       "      <th>avg_hrs_month</th>\n",
       "      <th>tenure</th>\n",
       "      <th>projects</th>\n",
       "      <th>salary</th>\n",
       "      <th>left</th>\n",
       "    </tr>\n",
       "  </thead>\n",
       "  <tbody>\n",
       "    <tr>\n",
       "      <th>0</th>\n",
       "      <td>-0.870524</td>\n",
       "      <td>0.770211</td>\n",
       "      <td>-0.915767</td>\n",
       "      <td>-1.099499</td>\n",
       "      <td>-0.474599</td>\n",
       "      <td>-0.700746</td>\n",
       "      <td>-0.641933</td>\n",
       "    </tr>\n",
       "    <tr>\n",
       "      <th>1</th>\n",
       "      <td>1.173161</td>\n",
       "      <td>-0.384527</td>\n",
       "      <td>-0.471316</td>\n",
       "      <td>-0.392964</td>\n",
       "      <td>-0.474599</td>\n",
       "      <td>0.619641</td>\n",
       "      <td>-0.641933</td>\n",
       "    </tr>\n",
       "    <tr>\n",
       "      <th>2</th>\n",
       "      <td>0.829076</td>\n",
       "      <td>-0.364695</td>\n",
       "      <td>-0.059230</td>\n",
       "      <td>-0.392964</td>\n",
       "      <td>-0.474599</td>\n",
       "      <td>0.619641</td>\n",
       "      <td>-0.641933</td>\n",
       "    </tr>\n",
       "    <tr>\n",
       "      <th>3</th>\n",
       "      <td>0.273521</td>\n",
       "      <td>-0.406856</td>\n",
       "      <td>0.976200</td>\n",
       "      <td>1.020106</td>\n",
       "      <td>1.252203</td>\n",
       "      <td>-2.021133</td>\n",
       "      <td>-0.641933</td>\n",
       "    </tr>\n",
       "    <tr>\n",
       "      <th>4</th>\n",
       "      <td>0.285770</td>\n",
       "      <td>0.460198</td>\n",
       "      <td>-1.167898</td>\n",
       "      <td>-1.099499</td>\n",
       "      <td>-0.474599</td>\n",
       "      <td>-2.021133</td>\n",
       "      <td>-0.641933</td>\n",
       "    </tr>\n",
       "    <tr>\n",
       "      <th>...</th>\n",
       "      <td>...</td>\n",
       "      <td>...</td>\n",
       "      <td>...</td>\n",
       "      <td>...</td>\n",
       "      <td>...</td>\n",
       "      <td>...</td>\n",
       "      <td>...</td>\n",
       "    </tr>\n",
       "    <tr>\n",
       "      <th>9535</th>\n",
       "      <td>-0.478744</td>\n",
       "      <td>0.245959</td>\n",
       "      <td>0.843062</td>\n",
       "      <td>1.020106</td>\n",
       "      <td>1.252203</td>\n",
       "      <td>0.619641</td>\n",
       "      <td>1.557795</td>\n",
       "    </tr>\n",
       "    <tr>\n",
       "      <th>9536</th>\n",
       "      <td>1.114402</td>\n",
       "      <td>0.280068</td>\n",
       "      <td>0.847991</td>\n",
       "      <td>1.020106</td>\n",
       "      <td>-0.474599</td>\n",
       "      <td>0.619641</td>\n",
       "      <td>1.557795</td>\n",
       "    </tr>\n",
       "    <tr>\n",
       "      <th>9537</th>\n",
       "      <td>-1.100166</td>\n",
       "      <td>1.266378</td>\n",
       "      <td>0.451052</td>\n",
       "      <td>0.313571</td>\n",
       "      <td>-0.474599</td>\n",
       "      <td>-0.700746</td>\n",
       "      <td>1.557795</td>\n",
       "    </tr>\n",
       "    <tr>\n",
       "      <th>9538</th>\n",
       "      <td>-0.789903</td>\n",
       "      <td>0.647395</td>\n",
       "      <td>0.718957</td>\n",
       "      <td>1.020106</td>\n",
       "      <td>1.252203</td>\n",
       "      <td>0.619641</td>\n",
       "      <td>1.557795</td>\n",
       "    </tr>\n",
       "    <tr>\n",
       "      <th>9539</th>\n",
       "      <td>-0.298386</td>\n",
       "      <td>1.272875</td>\n",
       "      <td>0.303855</td>\n",
       "      <td>0.313571</td>\n",
       "      <td>-0.474599</td>\n",
       "      <td>-0.700746</td>\n",
       "      <td>1.557795</td>\n",
       "    </tr>\n",
       "  </tbody>\n",
       "</table>\n",
       "<p>9540 rows × 7 columns</p>\n",
       "</div>"
      ],
      "text/plain": [
       "        review  satisfaction  avg_hrs_month    tenure  projects    salary  \\\n",
       "0    -0.870524      0.770211      -0.915767 -1.099499 -0.474599 -0.700746   \n",
       "1     1.173161     -0.384527      -0.471316 -0.392964 -0.474599  0.619641   \n",
       "2     0.829076     -0.364695      -0.059230 -0.392964 -0.474599  0.619641   \n",
       "3     0.273521     -0.406856       0.976200  1.020106  1.252203 -2.021133   \n",
       "4     0.285770      0.460198      -1.167898 -1.099499 -0.474599 -2.021133   \n",
       "...        ...           ...            ...       ...       ...       ...   \n",
       "9535 -0.478744      0.245959       0.843062  1.020106  1.252203  0.619641   \n",
       "9536  1.114402      0.280068       0.847991  1.020106 -0.474599  0.619641   \n",
       "9537 -1.100166      1.266378       0.451052  0.313571 -0.474599 -0.700746   \n",
       "9538 -0.789903      0.647395       0.718957  1.020106  1.252203  0.619641   \n",
       "9539 -0.298386      1.272875       0.303855  0.313571 -0.474599 -0.700746   \n",
       "\n",
       "          left  \n",
       "0    -0.641933  \n",
       "1    -0.641933  \n",
       "2    -0.641933  \n",
       "3    -0.641933  \n",
       "4    -0.641933  \n",
       "...        ...  \n",
       "9535  1.557795  \n",
       "9536  1.557795  \n",
       "9537  1.557795  \n",
       "9538  1.557795  \n",
       "9539  1.557795  \n",
       "\n",
       "[9540 rows x 7 columns]"
      ]
     },
     "execution_count": 10,
     "metadata": {},
     "output_type": "execute_result"
    }
   ],
   "source": [
    "# select the continious and ordinal columns for Spearmens' \n",
    "spearmans_cols = ['review','satisfaction', 'avg_hrs_month', 'tenure', 'projects','salary', 'left']\n",
    "df_sp = df[spearmans_cols]\n",
    "df_sp\n",
    "\n",
    "sc = StandardScaler()\n",
    "df_scaled = pd.DataFrame(sc.fit_transform(df_sp), index=df_sp.index, columns=df_sp.columns)\n",
    "df_scaled"
   ]
  },
  {
   "cell_type": "markdown",
   "metadata": {
    "application/vnd.databricks.v1+cell": {
     "inputWidgets": {},
     "nuid": "b116de8e-62ba-45a8-b87d-79ded6ee758f",
     "showTitle": false,
     "title": ""
    }
   },
   "source": [
    "Lets investigate the relationships between the features."
   ]
  },
  {
   "cell_type": "code",
   "execution_count": 11,
   "metadata": {
    "application/vnd.databricks.v1+cell": {
     "inputWidgets": {},
     "nuid": "fa778f4b-e179-4fbf-b77f-abcd976d3a5c",
     "showTitle": false,
     "title": ""
    }
   },
   "outputs": [
    {
     "data": {
      "image/png": "[encoded data removed]",
      "text/plain": [
       "<Figure size 864x432 with 2 Axes>"
      ]
     },
     "metadata": {},
     "output_type": "display_data"
    }
   ],
   "source": [
    "corrmat = df_scaled.corr(method ='spearman')\n",
    "top_corr_features = corrmat.index\n",
    "plt.figure(figsize=(12,6))\n",
    "#plot heat map\n",
    "g=sns.heatmap(df_scaled[top_corr_features].corr(),annot=True,cmap=\"RdYlGn\")"
   ]
  },
  {
   "cell_type": "markdown",
   "metadata": {
    "application/vnd.databricks.v1+cell": {
     "inputWidgets": {},
     "nuid": "6c235983-7666-40e9-9f65-15425d50119f",
     "showTitle": false,
     "title": ""
    }
   },
   "source": [
    "Spearman's correlation is good for ordinal data. The correlation matrix shows that satisfaction from the job and the number of projects an employee's involved indicate a negative relationship with employee departure, i.e. a satisfied employee busy with many projects is more likely to stay. However, high review scores seem to significantly contribute to the number of depatures with the corr coef = 0.3. Meanwhile, satisfaction is negatively correlated with performance reviews, suggesting that higher scores in reviews area associated with lower levels of satisfaction. Average hours of work per month are almost perfectly postively correlated, suggesting that they're interchangble as features."
   ]
  },
  {
   "cell_type": "code",
   "execution_count": 12,
   "metadata": {
    "application/vnd.databricks.v1+cell": {
     "inputWidgets": {},
     "nuid": "d17334d8-ee2e-48eb-a551-47bde9d313f3",
     "showTitle": false,
     "title": ""
    }
   },
   "outputs": [],
   "source": [
    "X_features = df.drop('left', axis=1)\n",
    "y_target = df[['left']]\n"
   ]
  },
  {
   "cell_type": "markdown",
   "metadata": {
    "application/vnd.databricks.v1+cell": {
     "inputWidgets": {},
     "nuid": "6739a707-b808-41ab-8c87-30e03c4b5c0e",
     "showTitle": false,
     "title": ""
    }
   },
   "source": [
    "### 3. Modelling and feature selection."
   ]
  },
  {
   "cell_type": "markdown",
   "metadata": {
    "application/vnd.databricks.v1+cell": {
     "inputWidgets": {},
     "nuid": "3bd134e4-7804-49d4-bb10-88f77e7c451a",
     "showTitle": false,
     "title": ""
    }
   },
   "source": [
    "Distance based methods such as KNN,  Decision trees and their ensemble, Random Forest are better at handing mixed data. Tree-based models are good at capturing non-linear relationships between the categorical features and the target, and they tend to handle feature collinearity better.\n",
    "I will be using two methods for feature selection described here, <https://scikit-learn.org/stable/modules/feature_selection.html>\n",
    "    - Univariate feature selection with the mutual information(M()) classification function,\n",
    "    - Tree-based feature importances with the SelectFromModel meta-transformer\n",
    "  \n",
    "MI measures the degree of relatedness between data sets, or in other words, it  quantifies the extent to which a feature (e.g. the review score) determines the employee's departure."
   ]
  },
  {
   "cell_type": "code",
   "execution_count": 13,
   "metadata": {
    "application/vnd.databricks.v1+cell": {
     "inputWidgets": {},
     "nuid": "63d7c656-5595-4ab1-af69-0adaca56d75a",
     "showTitle": false,
     "title": ""
    }
   },
   "outputs": [
    {
     "name": "stderr",
     "output_type": "stream",
     "text": [
      "C:\\Users\\maria\\.conda\\envs\\tf-gpu\\lib\\site-packages\\sklearn\\utils\\validation.py:985: DataConversionWarning: A column-vector y was passed when a 1d array was expected. Please change the shape of y to (n_samples, ), for example using ravel().\n",
      "  y = column_or_1d(y, warn=True)\n"
     ]
    },
    {
     "data": {
      "text/plain": [
       "SelectKBest(k=5,\n",
       "            score_func=<function mutual_info_classif at 0x00000163F0E4BCA0>)"
      ]
     },
     "execution_count": 13,
     "metadata": {},
     "output_type": "execute_result"
    }
   ],
   "source": [
    "from sklearn.feature_selection import SelectKBest, mutual_info_classif\n",
    "\n",
    "fs = SelectKBest(score_func=mutual_info_classif, k=5).fit(X_features, y_target)\n",
    "fs"
   ]
  },
  {
   "cell_type": "code",
   "execution_count": 14,
   "metadata": {
    "application/vnd.databricks.v1+cell": {
     "inputWidgets": {},
     "nuid": "9daf7886-9c5b-449a-a03f-a67a3eb10da5",
     "showTitle": false,
     "title": ""
    }
   },
   "outputs": [],
   "source": [
    "#projects and tenure can be ordinarily encoded. Num_cols include continious  data while cat_cols include categorical/binomial.\n",
    "\n",
    "num_cols = ['review','satisfaction', 'avg_hrs_month', 'tenure', 'projects']\n",
    "cat_cols = ['salary','department','bonus','promoted','left']"
   ]
  },
  {
   "cell_type": "code",
   "execution_count": 15,
   "metadata": {
    "application/vnd.databricks.v1+cell": {
     "inputWidgets": {},
     "nuid": "bc66cb05-3838-4f3d-849e-fd9e122a13d0",
     "showTitle": false,
     "title": ""
    }
   },
   "outputs": [
    {
     "name": "stdout",
     "output_type": "stream",
     "text": [
      "[0.         0.06208892 0.         0.         0.04061085 0.00082961\n",
      " 0.         0.05998497 0.         0.         0.00586263 0.00344325\n",
      " 0.00179269 0.00088664 0.00608092 0.00314061 0.00469527 0.        ]\n"
     ]
    }
   ],
   "source": [
    "print(fs.scores_)"
   ]
  },
  {
   "cell_type": "code",
   "execution_count": 16,
   "metadata": {
    "application/vnd.databricks.v1+cell": {
     "inputWidgets": {},
     "nuid": "6f823b85-3598-4ad6-93ad-5f1da5d5dfc8",
     "showTitle": false,
     "title": ""
    }
   },
   "outputs": [],
   "source": [
    "f_importance = fs.scores_"
   ]
  },
  {
   "cell_type": "code",
   "execution_count": 17,
   "metadata": {
    "application/vnd.databricks.v1+cell": {
     "inputWidgets": {},
     "nuid": "80312f32-ddae-45ff-ae97-9224177ec09e",
     "showTitle": false,
     "title": ""
    }
   },
   "outputs": [
    {
     "data": {
      "text/plain": [
       "array([ 0,  9,  6,  8,  2,  3, 17,  5, 13, 12, 15, 11, 16, 10, 14,  4,  7,\n",
       "        1], dtype=int64)"
      ]
     },
     "execution_count": 17,
     "metadata": {},
     "output_type": "execute_result"
    }
   ],
   "source": [
    "idx = np.argsort(f_importance)\n",
    "idx"
   ]
  },
  {
   "cell_type": "code",
   "execution_count": 18,
   "metadata": {
    "application/vnd.databricks.v1+cell": {
     "inputWidgets": {},
     "nuid": "8b7470a6-4bff-4ba4-b43f-d1bc651856f9",
     "showTitle": false,
     "title": ""
    }
   },
   "outputs": [
    {
     "data": {
      "text/plain": [
       "array(['promoted', 'admin', 'bonus', 'IT', 'projects', 'salary',\n",
       "       'support', 'satisfaction', 'marketing', 'logistics', 'retail',\n",
       "       'finance', 'sales', 'engineering', 'operations', 'tenure',\n",
       "       'avg_hrs_month', 'review'], dtype='<U13')"
      ]
     },
     "execution_count": 18,
     "metadata": {},
     "output_type": "execute_result"
    }
   ],
   "source": [
    "cols = X_features.columns.values.tolist()\n",
    "\n",
    "arr_f = np.array(cols)[idx]\n",
    "arr_f"
   ]
  },
  {
   "cell_type": "code",
   "execution_count": 19,
   "metadata": {
    "application/vnd.databricks.v1+cell": {
     "inputWidgets": {},
     "nuid": "9e8f2b81-5184-42f6-bead-c2c3b0a1c895",
     "showTitle": false,
     "title": ""
    }
   },
   "outputs": [
    {
     "data": {
      "image/png": "[encoded data removed]",
      "text/plain": [
       "<Figure size 432x288 with 1 Axes>"
      ]
     },
     "metadata": {},
     "output_type": "display_data"
    }
   ],
   "source": [
    "plt.barh(arr_f, f_importance[idx])\n",
    "plt.suptitle('Features ranked by mutual infomation values', fontsize=14)\n",
    "plt.show()"
   ]
  },
  {
   "cell_type": "markdown",
   "metadata": {
    "application/vnd.databricks.v1+cell": {
     "inputWidgets": {},
     "nuid": "35053027-823f-43e3-b907-4dd943bb5881",
     "showTitle": false,
     "title": ""
    }
   },
   "source": [
    "#### From the above bar chart, Review, Average hours per month and tenure are the three top features influencing  employee departure."
   ]
  },
  {
   "cell_type": "markdown",
   "metadata": {
    "application/vnd.databricks.v1+cell": {
     "inputWidgets": {},
     "nuid": "60ed2c7d-41e5-4b2b-9bb7-242a9ccf6be3",
     "showTitle": false,
     "title": ""
    }
   },
   "source": [
    "I will use two tree-based models, Random ForestClassifier() and GradientBoostingClassifier() for feature selection. \n",
    "\n",
    "I will try to optimize my models for the F1 metric, which takes an account both precision and recall for the cases of employee departures. The recall metric focuses on  what percentage of all cases of employee departures  the model has predicted correctly  while precision measures what percentage of all predicted employee departures are true employee departures.\n",
    "In the below analysis, the number of the correct predictions for employee departures (aka true positives), is shown in the bottom right corner of the confusion matrix.\n",
    "by using the RandomForest and AdaBoost classifiers"
   ]
  },
  {
   "cell_type": "code",
   "execution_count": 20,
   "metadata": {
    "application/vnd.databricks.v1+cell": {
     "inputWidgets": {},
     "nuid": "607e3225-d642-4cf4-b12b-289f48c138ac",
     "showTitle": false,
     "title": ""
    }
   },
   "outputs": [],
   "source": [
    "X = df[['promoted', 'review', 'projects', 'salary', 'tenure', 'satisfaction',\n",
    "       'bonus', 'avg_hrs_month']]\n",
    "                          \n",
    "y = df['left']"
   ]
  },
  {
   "cell_type": "markdown",
   "metadata": {
    "application/vnd.databricks.v1+cell": {
     "inputWidgets": {},
     "nuid": "5a2b6319-906b-487c-8923-e7d9312e81fd",
     "showTitle": false,
     "title": ""
    }
   },
   "source": [
    "I am going to attempt to improve predictions by balancing the two classes in the dataset using undersampling. With oversampling, the minority class will be the same size as the majority class, achieving the highest F1_score =0.93 for the employee departures in the dataset."
   ]
  },
  {
   "cell_type": "code",
   "execution_count": 21,
   "metadata": {
    "application/vnd.databricks.v1+cell": {
     "inputWidgets": {},
     "nuid": "165d8c50-41c2-49af-bd75-cacc8b80add8",
     "showTitle": false,
     "title": ""
    }
   },
   "outputs": [
    {
     "name": "stdout",
     "output_type": "stream",
     "text": [
      "0.0    6756\n",
      "1.0    6756\n",
      "Name: left, dtype: int64\n"
     ]
    }
   ],
   "source": [
    "from imblearn.over_sampling import RandomOverSampler\n",
    "oversample_1 = RandomOverSampler(sampling_strategy='minority')\n",
    "\n",
    "X_over, y_over = oversample_1.fit_resample(X, y)\n",
    "print(y_over.value_counts())"
   ]
  },
  {
   "cell_type": "code",
   "execution_count": 22,
   "metadata": {
    "application/vnd.databricks.v1+cell": {
     "inputWidgets": {},
     "nuid": "a5c71dae-f527-4f49-9f26-2440b0c90104",
     "showTitle": false,
     "title": ""
    }
   },
   "outputs": [
    {
     "name": "stdout",
     "output_type": "stream",
     "text": [
      "[[1509  202]\n",
      " [  54 1613]]\n"
     ]
    },
    {
     "name": "stderr",
     "output_type": "stream",
     "text": [
      "C:\\Users\\maria\\.conda\\envs\\tf-gpu\\lib\\site-packages\\sklearn\\utils\\deprecation.py:87: FutureWarning: Function plot_confusion_matrix is deprecated; Function `plot_confusion_matrix` is deprecated in 1.0 and will be removed in 1.2. Use one of the class methods: ConfusionMatrixDisplay.from_predictions or ConfusionMatrixDisplay.from_estimator.\n",
      "  warnings.warn(msg, category=FutureWarning)\n"
     ]
    },
    {
     "data": {
      "image/png": "[encoded data removed]",
      "text/plain": [
       "<Figure size 432x288 with 2 Axes>"
      ]
     },
     "metadata": {},
     "output_type": "display_data"
    }
   ],
   "source": [
    "X_train, X_test, y_train, y_test = train_test_split(X_over, y_over)\n",
    "\n",
    "rf = RandomForestClassifier(random_state=8)\n",
    "\n",
    "rf1 =rf.fit(X_train, y_train)\n",
    "\n",
    "pred1 = rf1.predict(X_test)\n",
    "print(confusion_matrix(y_test, rf.predict(X_test)))\n",
    "\n",
    "plot_confusion_matrix(rf, X_test, y_test)  \n",
    "plt.show()\n"
   ]
  },
  {
   "cell_type": "code",
   "execution_count": 23,
   "metadata": {
    "application/vnd.databricks.v1+cell": {
     "inputWidgets": {},
     "nuid": "71288b6a-9fb7-4276-85c9-4ec21f5158e3",
     "showTitle": false,
     "title": ""
    }
   },
   "outputs": [
    {
     "name": "stdout",
     "output_type": "stream",
     "text": [
      "              precision    recall  f1-score   support\n",
      "\n",
      "         0.0       0.97      0.88      0.92      1711\n",
      "         1.0       0.89      0.97      0.93      1667\n",
      "\n",
      "    accuracy                           0.92      3378\n",
      "   macro avg       0.93      0.92      0.92      3378\n",
      "weighted avg       0.93      0.92      0.92      3378\n",
      "\n"
     ]
    }
   ],
   "source": [
    "print(classification_report(y_test, pred1))  #0.91, 0.97"
   ]
  },
  {
   "cell_type": "code",
   "execution_count": 24,
   "metadata": {
    "application/vnd.databricks.v1+cell": {
     "inputWidgets": {},
     "nuid": "8e51929f-77e5-4f6b-b9b3-42884ed70997",
     "showTitle": false,
     "title": ""
    }
   },
   "outputs": [
    {
     "data": {
      "text/plain": [
       "0.9242155121373594"
      ]
     },
     "execution_count": 24,
     "metadata": {},
     "output_type": "execute_result"
    }
   ],
   "source": [
    "rf1.score(X_test, y_test)\n"
   ]
  },
  {
   "cell_type": "markdown",
   "metadata": {
    "application/vnd.databricks.v1+cell": {
     "inputWidgets": {},
     "nuid": "efd33222-c477-4e1e-9b4c-5b7aaef7c941",
     "showTitle": false,
     "title": ""
    }
   },
   "source": [
    "### Random forest classification"
   ]
  },
  {
   "cell_type": "code",
   "execution_count": 25,
   "metadata": {
    "application/vnd.databricks.v1+cell": {
     "inputWidgets": {},
     "nuid": "2dfa837d-ba7e-4ab5-8911-349064d91744",
     "showTitle": false,
     "title": ""
    }
   },
   "outputs": [
    {
     "data": {
      "text/html": [
       "<div>\n",
       "<style scoped>\n",
       "    .dataframe tbody tr th:only-of-type {\n",
       "        vertical-align: middle;\n",
       "    }\n",
       "\n",
       "    .dataframe tbody tr th {\n",
       "        vertical-align: top;\n",
       "    }\n",
       "\n",
       "    .dataframe thead th {\n",
       "        text-align: right;\n",
       "    }\n",
       "</style>\n",
       "<table border=\"1\" class=\"dataframe\">\n",
       "  <thead>\n",
       "    <tr style=\"text-align: right;\">\n",
       "      <th></th>\n",
       "      <th>promoted</th>\n",
       "      <th>review</th>\n",
       "      <th>projects</th>\n",
       "      <th>salary</th>\n",
       "      <th>tenure</th>\n",
       "      <th>satisfaction</th>\n",
       "      <th>bonus</th>\n",
       "      <th>avg_hrs_month</th>\n",
       "      <th>left</th>\n",
       "    </tr>\n",
       "  </thead>\n",
       "  <tbody>\n",
       "    <tr>\n",
       "      <th>0</th>\n",
       "      <td>0</td>\n",
       "      <td>0.577569</td>\n",
       "      <td>3</td>\n",
       "      <td>1.0</td>\n",
       "      <td>5.0</td>\n",
       "      <td>0.626759</td>\n",
       "      <td>0</td>\n",
       "      <td>180.866070</td>\n",
       "      <td>0.0</td>\n",
       "    </tr>\n",
       "    <tr>\n",
       "      <th>1</th>\n",
       "      <td>0</td>\n",
       "      <td>0.751900</td>\n",
       "      <td>3</td>\n",
       "      <td>2.0</td>\n",
       "      <td>6.0</td>\n",
       "      <td>0.443679</td>\n",
       "      <td>0</td>\n",
       "      <td>182.708149</td>\n",
       "      <td>0.0</td>\n",
       "    </tr>\n",
       "    <tr>\n",
       "      <th>2</th>\n",
       "      <td>0</td>\n",
       "      <td>0.722548</td>\n",
       "      <td>3</td>\n",
       "      <td>2.0</td>\n",
       "      <td>6.0</td>\n",
       "      <td>0.446823</td>\n",
       "      <td>0</td>\n",
       "      <td>184.416084</td>\n",
       "      <td>0.0</td>\n",
       "    </tr>\n",
       "    <tr>\n",
       "      <th>3</th>\n",
       "      <td>0</td>\n",
       "      <td>0.675158</td>\n",
       "      <td>4</td>\n",
       "      <td>0.0</td>\n",
       "      <td>8.0</td>\n",
       "      <td>0.440139</td>\n",
       "      <td>0</td>\n",
       "      <td>188.707545</td>\n",
       "      <td>0.0</td>\n",
       "    </tr>\n",
       "    <tr>\n",
       "      <th>4</th>\n",
       "      <td>0</td>\n",
       "      <td>0.676203</td>\n",
       "      <td>3</td>\n",
       "      <td>0.0</td>\n",
       "      <td>5.0</td>\n",
       "      <td>0.577607</td>\n",
       "      <td>1</td>\n",
       "      <td>179.821083</td>\n",
       "      <td>0.0</td>\n",
       "    </tr>\n",
       "  </tbody>\n",
       "</table>\n",
       "</div>"
      ],
      "text/plain": [
       "  promoted    review  projects  salary  tenure  satisfaction bonus  \\\n",
       "0        0  0.577569         3     1.0     5.0      0.626759     0   \n",
       "1        0  0.751900         3     2.0     6.0      0.443679     0   \n",
       "2        0  0.722548         3     2.0     6.0      0.446823     0   \n",
       "3        0  0.675158         4     0.0     8.0      0.440139     0   \n",
       "4        0  0.676203         3     0.0     5.0      0.577607     1   \n",
       "\n",
       "   avg_hrs_month  left  \n",
       "0     180.866070   0.0  \n",
       "1     182.708149   0.0  \n",
       "2     184.416084   0.0  \n",
       "3     188.707545   0.0  \n",
       "4     179.821083   0.0  "
      ]
     },
     "execution_count": 25,
     "metadata": {},
     "output_type": "execute_result"
    }
   ],
   "source": [
    "# Generate the validation and test subsets using the balanced data.\n",
    "over_df = pd.merge(X_over, y_over, left_index=True, right_index=True)\n",
    "over_df.head()"
   ]
  },
  {
   "cell_type": "code",
   "execution_count": 26,
   "metadata": {
    "application/vnd.databricks.v1+cell": {
     "inputWidgets": {},
     "nuid": "f48066d7-cfd2-4353-9e2b-8fc2ef91fa8e",
     "showTitle": false,
     "title": ""
    }
   },
   "outputs": [],
   "source": [
    "cross_val_df, test_df = train_test_split(over_df, train_size=0.80, test_size=0.20, random_state=32)"
   ]
  },
  {
   "cell_type": "code",
   "execution_count": 27,
   "metadata": {
    "application/vnd.databricks.v1+cell": {
     "inputWidgets": {},
     "nuid": "fb82eeec-ccce-44ca-9818-4a2319a6f4a0",
     "showTitle": false,
     "title": ""
    }
   },
   "outputs": [],
   "source": [
    "rfc = RandomForestClassifier(random_state=32)\n"
   ]
  },
  {
   "cell_type": "code",
   "execution_count": 28,
   "metadata": {
    "application/vnd.databricks.v1+cell": {
     "inputWidgets": {},
     "nuid": "c0edbf2a-23a2-48ef-808b-6ea9de97b6c4",
     "showTitle": false,
     "title": ""
    }
   },
   "outputs": [],
   "source": [
    "parameter_grid = {\n",
    "  'max_depth':[30, 40, 50, 70], \n",
    "  'n_estimators':[ 80, 100, 120, 130, 150]\n",
    "}"
   ]
  },
  {
   "cell_type": "code",
   "execution_count": 29,
   "metadata": {
    "application/vnd.databricks.v1+cell": {
     "inputWidgets": {},
     "nuid": "c4bb3313-c544-4403-ac3c-113e433c61f5",
     "showTitle": false,
     "title": ""
    }
   },
   "outputs": [],
   "source": [
    "grid_search1 = GridSearchCV(estimator=rfc, cv=6, param_grid=parameter_grid, scoring='f1').fit(cross_val_df.drop(\"left\", axis=1), cross_val_df[\"left\"])"
   ]
  },
  {
   "cell_type": "code",
   "execution_count": 30,
   "metadata": {
    "application/vnd.databricks.v1+cell": {
     "inputWidgets": {},
     "nuid": "450ec596-faaa-4816-878a-1bf77db957e2",
     "showTitle": false,
     "title": ""
    }
   },
   "outputs": [
    {
     "data": {
      "text/plain": [
       "{'max_depth': 30, 'n_estimators': 150}"
      ]
     },
     "execution_count": 30,
     "metadata": {},
     "output_type": "execute_result"
    }
   ],
   "source": [
    "grid_search1.best_params_"
   ]
  },
  {
   "cell_type": "code",
   "execution_count": 31,
   "metadata": {
    "application/vnd.databricks.v1+cell": {
     "inputWidgets": {},
     "nuid": "abc41b52-4455-4b96-9a04-0793f4f038d6",
     "showTitle": false,
     "title": ""
    }
   },
   "outputs": [
    {
     "data": {
      "text/plain": [
       "0.9249958793033751"
      ]
     },
     "execution_count": 31,
     "metadata": {},
     "output_type": "execute_result"
    }
   ],
   "source": [
    "grid_search1.best_score_\n",
    "#0.9238377345893882"
   ]
  },
  {
   "cell_type": "code",
   "execution_count": 32,
   "metadata": {
    "application/vnd.databricks.v1+cell": {
     "inputWidgets": {},
     "nuid": "c7fc2bee-1b3e-43c2-a85b-fc9279a3e721",
     "showTitle": false,
     "title": ""
    }
   },
   "outputs": [
    {
     "data": {
      "text/plain": [
       "0.9341917024320459"
      ]
     },
     "execution_count": 32,
     "metadata": {},
     "output_type": "execute_result"
    }
   ],
   "source": [
    "f1_score(\n",
    "  test_df[\"left\"], \n",
    "  grid_search1.predict(test_df.drop(\"left\", axis=1))\n",
    ")\n",
    "\n",
    "#0.9300499643112063"
   ]
  },
  {
   "cell_type": "code",
   "execution_count": null,
   "metadata": {
    "application/vnd.databricks.v1+cell": {
     "inputWidgets": {},
     "nuid": "31db5b27-cb21-43b2-bb53-143fbd530511",
     "showTitle": false,
     "title": ""
    }
   },
   "outputs": [],
   "source": [
    "rfc = RandomForestClassifier( n_estimators = 150, max_depth=40, random_state = 32).fit(cross_val_df.drop(\"left\", axis=1), cross_val_df[\"left\"])"
   ]
  },
  {
   "cell_type": "code",
   "execution_count": null,
   "metadata": {},
   "outputs": [],
   "source": [
    "rfc.score(test_df.drop(\"left\", axis=1), test_df[\"left\"])"
   ]
  },
  {
   "cell_type": "code",
   "execution_count": null,
   "metadata": {
    "application/vnd.databricks.v1+cell": {
     "inputWidgets": {},
     "nuid": "6c8fd5c6-afe8-419c-aab7-b9a7aef8b386",
     "showTitle": false,
     "title": ""
    }
   },
   "outputs": [],
   "source": [
    "rfc.feature_importances_"
   ]
  },
  {
   "cell_type": "code",
   "execution_count": null,
   "metadata": {
    "application/vnd.databricks.v1+cell": {
     "inputWidgets": {},
     "nuid": "aeba6d42-76d3-424d-a0f0-f9bb3817a76b",
     "showTitle": false,
     "title": ""
    }
   },
   "outputs": [],
   "source": [
    "lst = cross_val_df.drop(\"left\", axis=1).columns.values.tolist()\n",
    "feature_names = [f\"{i}\" for i in lst]\n",
    "\n",
    "std = np.std([tree.feature_importances_ for tree in rfc.estimators_], axis=0)\n",
    "\n",
    "importances = rfc.feature_importances_\n",
    "forest_importances = pd.Series(importances, index=feature_names)"
   ]
  },
  {
   "cell_type": "code",
   "execution_count": null,
   "metadata": {
    "application/vnd.databricks.v1+cell": {
     "inputWidgets": {},
     "nuid": "d4532fc0-f417-4a7a-8392-832759165c6d",
     "showTitle": false,
     "title": ""
    }
   },
   "outputs": [],
   "source": [
    "fig, ax = plt.subplots()\n",
    "forest_importances.sort_values(ascending=False).plot.bar(yerr = -np.sort(-std), ax=ax)\n",
    "ax.set_title(\"Feature importances using MDI: Random Forest\")\n",
    "ax.set_ylabel(\"Mean decrease in impurity\")\n",
    "fig.tight_layout()"
   ]
  },
  {
   "cell_type": "code",
   "execution_count": null,
   "metadata": {},
   "outputs": [],
   "source": [
    "#plot_confusion_matrix(rfc,test_df.drop(\"left\", axis=1), test_df[\"left\"])  \n",
    "#plt.show()  # 132 = False positive, 58= False negative, 1303 -true positive#"
   ]
  },
  {
   "cell_type": "markdown",
   "metadata": {
    "application/vnd.databricks.v1+cell": {
     "inputWidgets": {},
     "nuid": "bac774e4-1adc-420c-b951-b50462baefb1",
     "showTitle": false,
     "title": ""
    }
   },
   "source": [
    "#### The three most important features are average hours per month, review and satisfaction. We should note that Tenure and  average hours can be interchangeable."
   ]
  },
  {
   "cell_type": "code",
   "execution_count": null,
   "metadata": {},
   "outputs": [],
   "source": []
  },
  {
   "cell_type": "markdown",
   "metadata": {},
   "source": [
    "### AdaBoostClassifier()"
   ]
  },
  {
   "cell_type": "code",
   "execution_count": null,
   "metadata": {},
   "outputs": [],
   "source": [
    "#Initialize a tree (Decision Tree with max depth = 2)\n",
    "\n",
    "dt = DecisionTreeClassifier(max_depth=2, random_state = 32)\n",
    "\n",
    "#Initialize an AdaBoost classifier with the tree as the base estimator\n",
    "\n",
    "ada_boost = AdaBoostClassifier(base_estimator = dt, algorithm=\"SAMME.R\", random_state=32)\n",
    "\n",
    "\n",
    "parameter_grid = {   \n",
    "    'base_estimator__max_depth':[6,8,10,12,14],\n",
    "    'n_estimators':[ 160, 180, 200],\n",
    "    'learning_rate':[0.9, 1, 1.1]\n",
    "}\n",
    "\n",
    "grid_search3 = GridSearchCV(estimator = ada_boost,  cv = 5, param_grid = parameter_grid, scoring=\"f1\").fit(cross_val_df.drop(\"left\", axis=1), cross_val_df[\"left\"])\n",
    "\n",
    "grid_search3.best_params_\n",
    "#Out: {'base_estimator__max_depth': 14, 'learning_rate': 1, 'n_estimators': 200}\n",
    "\n"
   ]
  },
  {
   "cell_type": "code",
   "execution_count": null,
   "metadata": {},
   "outputs": [],
   "source": [
    "# train and fit the model\n",
    "\n",
    "abc = AdaBoostClassifier(base_estimator = DecisionTreeClassifier(max_depth=14), n_estimators = 180, learning_rate= 0.9, random_state = 32)\n",
    "abc.fit(cross_val_df.drop(\"left\", axis=1), cross_val_df[\"left\"])\n",
    "\n"
   ]
  },
  {
   "cell_type": "code",
   "execution_count": null,
   "metadata": {},
   "outputs": [],
   "source": [
    "abc.feature_importances_"
   ]
  },
  {
   "cell_type": "markdown",
   "metadata": {
    "application/vnd.databricks.v1+cell": {
     "inputWidgets": {},
     "nuid": "3c61b87e-0d2c-4b41-9a30-414c0c30d693",
     "showTitle": false,
     "title": ""
    }
   },
   "source": []
  },
  {
   "cell_type": "code",
   "execution_count": null,
   "metadata": {
    "application/vnd.databricks.v1+cell": {
     "inputWidgets": {},
     "nuid": "f19d2943-9e41-4c46-8fa1-00e789a1b548",
     "showTitle": false,
     "title": ""
    }
   },
   "outputs": [],
   "source": []
  }
 ],
 "metadata": {
  "application/vnd.databricks.v1+notebook": {
   "dashboards": [],
   "language": "python",
   "notebookMetadata": {
    "pythonIndentUnit": 4
   },
   "notebookName": "Feature_selection_for_Employees_Retention_task",
   "notebookOrigID": 3913936371461903,
   "widgets": {}
  },
  "kernelspec": {
   "display_name": "Python 3",
   "language": "python",
   "name": "python3"
  },
  "language_info": {
   "codemirror_mode": {
    "name": "ipython",
    "version": 3
   },
   "file_extension": ".py",
   "mimetype": "text/x-python",
   "name": "python",
   "nbconvert_exporter": "python",
   "pygments_lexer": "ipython3",
   "version": "3.8.8"
  }
 },
 "nbformat": 4,
 "nbformat_minor": 1
}
